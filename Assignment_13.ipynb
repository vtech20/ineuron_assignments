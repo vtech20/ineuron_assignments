{
 "cells": [
  {
   "cell_type": "markdown",
   "metadata": {},
   "source": [
    "**1. What advantages do Excel spreadsheets have over CSV spreadsheets?**"
   ]
  },
  {
   "cell_type": "markdown",
   "metadata": {},
   "source": [
    "When compared to the CSV file format, Excel is superior; hence, CSV consumes fewer file s. Excel is not only a tool for a financial analyst to undertake a detailed analysis of data and figures, but it is also a gauge of a store of information. An analyst can use excel to create profit and loss statements, perform ratio analysis, summarise large amounts of data, and perform functions and formulae; it is more than just a database. When we compare Excel to CSV, we see that CSV is simply a plain text format of a data set that does not allow the user to perform any deep-dive analysis or apply functions to it. When a user imports data, they should be able to see what they're doing."
   ]
  },
  {
   "cell_type": "markdown",
   "metadata": {},
   "source": [
    "**2.What do you pass to csv.reader() and csv.writer() to create reader and writer objects?**"
   ]
  },
  {
   "cell_type": "markdown",
   "metadata": {},
   "source": [
    "We have to pass the file as a parameter to reader() and writer() methods to create reader and writer objects"
   ]
  },
  {
   "cell_type": "markdown",
   "metadata": {},
   "source": [
    "**3. What modes do File objects for reader and writer objects need to be opened in?**"
   ]
  },
  {
   "cell_type": "markdown",
   "metadata": {},
   "source": [
    "'r' - To read a file <br> \n",
    "'w' - Creates a new file for writing. If the file does not exist, it is created, and if it does, it is truncated.<br>\n",
    "‘x’ - Create an exclusive file by opening a file. The operation fails if the file already exists.<br>\n",
    "‘a’ - To append to the end of a file without truncating it. If the file does not exist, it is created.<br>\n",
    "‘t’ - Open the file in text mode.<br>\n",
    "'b' - Switch to binary mode.<br>\n",
    "‘+’ - Open a file that needs to be updated (reading and writing)"
   ]
  },
  {
   "cell_type": "markdown",
   "metadata": {},
   "source": [
    "**4. What method takes a list argument and writes it to a CSV file?**"
   ]
  },
  {
   "cell_type": "markdown",
   "metadata": {},
   "source": [
    "writerows() - This function accepts a list of iterables as an input and writes each item in the file as a comma separated line."
   ]
  },
  {
   "cell_type": "markdown",
   "metadata": {},
   "source": [
    "**5. What do the keyword arguments delimiter and line terminator do?**"
   ]
  },
  {
   "cell_type": "markdown",
   "metadata": {},
   "source": [
    "* delimiter is use to change the delimiter in a file. The default delimiter in CSV is comma.\n",
    "* line terminator is use to change the special end character at the end of each row"
   ]
  },
  {
   "cell_type": "markdown",
   "metadata": {},
   "source": [
    "**6. What function takes a string of JSON data and returns a Python data structure?**"
   ]
  },
  {
   "cell_type": "markdown",
   "metadata": {},
   "source": [
    "loads() will takes the string of JSON data and returns python data structure"
   ]
  },
  {
   "cell_type": "markdown",
   "metadata": {},
   "source": [
    "**7. What function takes a Python data structure and returns a string of JSON data?**"
   ]
  },
  {
   "cell_type": "markdown",
   "metadata": {},
   "source": [
    "dumps() converts the given Python data structure(ex:dict) into its valid JSON object"
   ]
  },
  {
   "cell_type": "code",
   "execution_count": null,
   "metadata": {},
   "outputs": [],
   "source": []
  }
 ],
 "metadata": {
  "language_info": {
   "name": "python"
  },
  "orig_nbformat": 4
 },
 "nbformat": 4,
 "nbformat_minor": 2
}
