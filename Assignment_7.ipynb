{
 "cells": [
  {
   "cell_type": "markdown",
   "metadata": {},
   "source": [
    "**1. What is the name of the feature responsible for generating Regex objects?**"
   ]
  },
  {
   "cell_type": "markdown",
   "metadata": {},
   "source": [
    "Compile function under the package **\"re\"** responsible for generating Regex Objects. Compile function can be called using re.compile(). This compile function will compiles a regular expression pattern into a regular expression object."
   ]
  },
  {
   "cell_type": "markdown",
   "metadata": {},
   "source": [
    "**2. Why do raw strings often appear in Regex objects?**"
   ]
  },
  {
   "cell_type": "markdown",
   "metadata": {},
   "source": [
    "Python Raw string treats backslash as string literal so that if raw string appears in Regex object it will not make backslash escape out."
   ]
  },
  {
   "cell_type": "markdown",
   "metadata": {},
   "source": [
    "**3. What is the return value of the search() method?**"
   ]
  },
  {
   "cell_type": "markdown",
   "metadata": {},
   "source": [
    "the regex search method will return the match object. It takes 2 parameters and returns the match object if it matches otherwise None"
   ]
  },
  {
   "cell_type": "markdown",
   "metadata": {},
   "source": [
    "**4. From a Match item, how do you get the actual strings that match the pattern?**"
   ]
  },
  {
   "cell_type": "markdown",
   "metadata": {},
   "source": [
    "Once the match item has been identified, using group() method we can extract the matched strings"
   ]
  },
  {
   "cell_type": "markdown",
   "metadata": {},
   "source": [
    "** 5. In the regex which created from the r&#39;(\\d\\d\\d)-(\\d\\d\\d-\\d\\d\\d\\d)&#39;, what does group zero cover?\n",
    "Group 2? Group 1?**"
   ]
  },
  {
   "cell_type": "markdown",
   "metadata": {},
   "source": [
    "* Group 0 is the entire match\n",
    "* Group 1 is the one which picks up the first parenthesis\n",
    "* Group 2 is the one which picks up the 2nd parenthesis"
   ]
  },
  {
   "cell_type": "markdown",
   "metadata": {},
   "source": [
    "**6. In standard expression syntax, parentheses and intervals have distinct meanings. How can you tell\n",
    "a regex that you want it to fit real parentheses and periods?**"
   ]
  },
  {
   "cell_type": "code",
   "execution_count": 1,
   "metadata": {},
   "outputs": [],
   "source": [
    "#Periods and parentheses can be escaped with a backslash: \\., \\(, and \\)."
   ]
  },
  {
   "cell_type": "markdown",
   "metadata": {},
   "source": [
    "**7. The findall() method returns a string list or a list of string tuples. What causes it to return one of\n",
    "the two options?**"
   ]
  },
  {
   "cell_type": "markdown",
   "metadata": {},
   "source": [
    "* If regex is having no groups, then it will return the String\n",
    "* If the Regex is having groups, then it will return list of tuples."
   ]
  },
  {
   "cell_type": "markdown",
   "metadata": {},
   "source": [
    "**8. In standard expressions, what does the | character mean?**"
   ]
  },
  {
   "cell_type": "code",
   "execution_count": 2,
   "metadata": {},
   "outputs": [],
   "source": [
    "#The character | means that it will consider either or between groups"
   ]
  },
  {
   "cell_type": "markdown",
   "metadata": {},
   "source": [
    "**9. In regular expressions, what does the character stand for?**"
   ]
  },
  {
   "cell_type": "markdown",
   "metadata": {},
   "source": [
    "The character set is the explicit list of characters that may match in a search"
   ]
  },
  {
   "cell_type": "markdown",
   "metadata": {},
   "source": [
    "**10.In regular expressions, what is the difference between the + and * characters?**"
   ]
  },
  {
   "cell_type": "code",
   "execution_count": 3,
   "metadata": {},
   "outputs": [
    {
     "name": "stdout",
     "output_type": "stream",
     "text": [
      "['hello']\n"
     ]
    }
   ],
   "source": [
    "\"\"\"- * represents Kleen's star or quantifier that can match 0 or more items with the given expression.\n",
    "- + is also a quantifier that can match atleast 1 or more items with the given expression\"\"\"\n",
    "\n",
    "#Example1 - Star Quantifier\n",
    "\n",
    "import re\n",
    "txt = \"hello earth\"\n",
    "x = re.findall(\"he.*o\", txt)\n",
    "print(x)\n"
   ]
  },
  {
   "cell_type": "code",
   "execution_count": 4,
   "metadata": {},
   "outputs": [
    {
     "name": "stdout",
     "output_type": "stream",
     "text": [
      "['hello']\n"
     ]
    }
   ],
   "source": [
    "import re\n",
    "txt = \"hello earth help us live\"\n",
    "x = re.findall(\"he.+o\", txt)\n",
    "print(x)\n"
   ]
  },
  {
   "cell_type": "markdown",
   "metadata": {},
   "source": [
    "**11. What is the difference between {4} and {4,5} in regular expression?**"
   ]
  },
  {
   "cell_type": "code",
   "execution_count": 5,
   "metadata": {},
   "outputs": [],
   "source": [
    "#{4} - Exactly 4 instances of the group\n",
    "#(4,5) - Matches between 4 and 5 instances of the group"
   ]
  },
  {
   "cell_type": "markdown",
   "metadata": {},
   "source": [
    "**12. What do you mean by the \\d, \\w, and \\s shorthand character classes signify in regular\n",
    "expressions?**"
   ]
  },
  {
   "cell_type": "code",
   "execution_count": 6,
   "metadata": {},
   "outputs": [],
   "source": [
    "#These are short hand character classes which matches as below:\n",
    "#\\d = Single Digit\n",
    "#\\w = Single word\n",
    "#\\s = space character"
   ]
  },
  {
   "cell_type": "markdown",
   "metadata": {},
   "source": [
    "**13. What do means by \\D, \\W, and \\S shorthand character classes signify in regular expressions?**"
   ]
  },
  {
   "cell_type": "code",
   "execution_count": 7,
   "metadata": {},
   "outputs": [],
   "source": [
    "#These are short hand character classes which matches as below:\n",
    "#\\D = Not a Digit\n",
    "#\\W = Not a word\n",
    "#\\S = Not a space character"
   ]
  },
  {
   "cell_type": "markdown",
   "metadata": {},
   "source": [
    "**14. What is the difference between .*? and .*?**"
   ]
  },
  {
   "cell_type": "code",
   "execution_count": 8,
   "metadata": {},
   "outputs": [],
   "source": [
    "#these are greedy and non greedy quantifiers.\n",
    "#.* - Greedy it will match all the way to the end, and then backtrack until it can match the specific character\n",
    "#.*? - Non Greedy will match nothing, but then will try to match extra characters until it matches specific character"
   ]
  },
  {
   "cell_type": "code",
   "execution_count": 9,
   "metadata": {},
   "outputs": [
    {
     "name": "stdout",
     "output_type": "stream",
     "text": [
      "['hello earth help us to save o']\n"
     ]
    }
   ],
   "source": [
    "#Greedy\n",
    "import re\n",
    "txt = \"hello earth help us to save our lives\"\n",
    "x = re.findall(\"he.*o\", txt)\n",
    "print(x)"
   ]
  },
  {
   "cell_type": "code",
   "execution_count": 10,
   "metadata": {},
   "outputs": [
    {
     "name": "stdout",
     "output_type": "stream",
     "text": [
      "['hello', 'help us to']\n"
     ]
    }
   ],
   "source": [
    "#Non Greedy\n",
    "import re\n",
    "txt = \"hello earth help us to save our lives\"\n",
    "x = re.findall(\"he.*?o\", txt)\n",
    "print(x)"
   ]
  },
  {
   "cell_type": "markdown",
   "metadata": {},
   "source": [
    "**15. What is the syntax for matching both numbers and lowercase letters with a character class?**"
   ]
  },
  {
   "cell_type": "code",
   "execution_count": 11,
   "metadata": {},
   "outputs": [],
   "source": [
    "#There are 2 ways to do that\n",
    "#1.\n",
    "#[0-9a-z]\n",
    "#2.\n",
    "#[a-z0-9]"
   ]
  },
  {
   "cell_type": "markdown",
   "metadata": {},
   "source": [
    "**16. What is the procedure for making a normal expression in regax case insensitive?**"
   ]
  },
  {
   "cell_type": "markdown",
   "metadata": {},
   "source": [
    "re.IGNORECASE: This flag allows the Regular Expression to match the given string regardless of case, so expressions like [A-Z] will match lowercase characters as well."
   ]
  },
  {
   "cell_type": "markdown",
   "metadata": {},
   "source": [
    "**17. What does the . character normally match? What does it match if re.DOTALL is passed as 2nd\n",
    "argument in re.compile()?**"
   ]
  },
  {
   "cell_type": "markdown",
   "metadata": {},
   "source": [
    ". character matches any character except newline character. If the second input to re. compile() is re. DOTALL, the dot will also match newline characters."
   ]
  },
  {
   "cell_type": "markdown",
   "metadata": {},
   "source": [
    "**18. If numReg = re.compile(r&#39;\\d+&#39;), what will numRegex.sub(&#39;X&#39;, &#39;11 drummers, 10 pipers, five rings, 4\n",
    "hen&#39;) return?**"
   ]
  },
  {
   "cell_type": "markdown",
   "metadata": {},
   "source": [
    "'X drummers, X pipers, five rings, X hen'"
   ]
  },
  {
   "cell_type": "markdown",
   "metadata": {},
   "source": [
    "**19. What does passing re.VERBOSE as the 2nd argument to re.compile() allow to do?**"
   ]
  },
  {
   "cell_type": "markdown",
   "metadata": {},
   "source": [
    "You can add whitespace and comments to the string supplied to re.compile with the re.VERBOSE option ()."
   ]
  },
  {
   "cell_type": "markdown",
   "metadata": {},
   "source": [
    "**20. How would you write a regex that match a number with comma for every three digits? It must\n",
    "match the given following:**\n",
    "\n",
    "&#39;42&#39;\n",
    "\n",
    "&#39;1,234&#39;\n",
    "\n",
    "&#39;6,368,745&#39;\n",
    "\n",
    "but not the following:\n",
    "\n",
    "&#39;12,34,567&#39; (which has only two digits between the commas)\n",
    "\n",
    "&#39;1234&#39; (which lacks commas)"
   ]
  },
  {
   "cell_type": "code",
   "execution_count": 12,
   "metadata": {},
   "outputs": [
    {
     "name": "stdout",
     "output_type": "stream",
     "text": [
      "['42']\n",
      "['1,234']\n",
      "['6,368,745']\n",
      "[]\n",
      "[]\n"
     ]
    }
   ],
   "source": [
    "import re\n",
    "ptrn = re.compile(r'^\\d{1,3}(?:,\\d{3})*$')\n",
    "str1 = '42'\n",
    "str2 = '1,234'\n",
    "str3 = '6,368,745'\n",
    "str4 = '12,34,567'\n",
    "str5 = '1234'\n",
    "print(re.findall(ptrn,str1))\n",
    "print(re.findall(ptrn,str2))\n",
    "print(re.findall(ptrn,str3))\n",
    "print(re.findall(ptrn,str4))\n",
    "print(re.findall(ptrn,str5))"
   ]
  },
  {
   "cell_type": "markdown",
   "metadata": {},
   "source": [
    "**21. How would you write a regex that matches the full name of someone whose last name is\n",
    "Watanabe? You can assume that the first name that comes before it will always be one word that\n",
    "begins with a capital letter. The regex must match the following:**\n",
    "\n",
    "&#39;Haruto Watanabe&#39;\n",
    "\n",
    "&#39;Alice Watanabe&#39;\n",
    "\n",
    "&#39;RoboCop Watanabe&#39;\n",
    "\n",
    "but not the following:\n",
    "\n",
    "&#39;haruto Watanabe&#39; (where the first name is not capitalized)\n",
    "\n",
    "&#39;Mr. Watanabe&#39; (where the preceding word has a nonletter character)\n",
    "\n",
    "&#39;Watanabe&#39; (which has no first name)\n",
    "&#39;Haruto watanabe&#39; (where Watanabe is not capitalized)"
   ]
  },
  {
   "cell_type": "code",
   "execution_count": 13,
   "metadata": {},
   "outputs": [
    {
     "name": "stdout",
     "output_type": "stream",
     "text": [
      "['Haruto Watanabe']\n",
      "['Alice Watanabe']\n",
      "['Cop Watanabe']\n",
      "[]\n",
      "[]\n",
      "[]\n"
     ]
    }
   ],
   "source": [
    "import re\n",
    "ptrn1 = re.compile(r'[A-Z][a-z]*\\sWatanabe')\n",
    "name1 = 'Haruto Watanabe'\n",
    "name2 = 'Alice Watanabe'\n",
    "name3 = 'RoboCop Watanabe'\n",
    "name4 = 'haruto Watanabe'\n",
    "name5 = 'Mr. Watanabe'\n",
    "name6 = 'Watanabe'\n",
    "print(re.findall(ptrn1,name1))\n",
    "print(re.findall(ptrn1,name2))\n",
    "print(re.findall(ptrn1,name3))\n",
    "print(re.findall(ptrn1,name4))\n",
    "print(re.findall(ptrn1,name5))\n",
    "print(re.findall(ptrn1,name6))"
   ]
  },
  {
   "cell_type": "markdown",
   "metadata": {},
   "source": [
    "**22. How would you write a regex that matches a sentence where the first word is either Alice, Bob,\n",
    "or Carol; the second word is either eats, pets, or throws; the third word is apples, cats, or baseballs;\n",
    "and the sentence ends with a period? This regex should be case-insensitive. It must match the\n",
    "following:**\n",
    "\n",
    "&#39;Alice eats apples.&#39;\n",
    "\n",
    "&#39;Bob pets cats.&#39;\n",
    "\n",
    "&#39;Carol throws baseballs.&#39;\n",
    "\n",
    "&#39;Alice throws Apples.&#39;\n",
    "\n",
    "&#39;BOB EATS CATS.&#39;\n",
    "\n",
    "but not the following:\n",
    "\n",
    "&#39;RoboCop eats apples.&#39;\n",
    "\n",
    "&#39;ALICE THROWS FOOTBALLS.&#39;\n",
    "\n",
    "&#39;Carol eats 7 cats.&#39;"
   ]
  },
  {
   "cell_type": "code",
   "execution_count": 14,
   "metadata": {},
   "outputs": [
    {
     "name": "stdout",
     "output_type": "stream",
     "text": [
      "[('Alice', 'eats', 'apples')]\n",
      "[('Bob', 'pets', 'cats')]\n",
      "[('Carol', 'throws', 'baseballs')]\n",
      "[('Alice', 'throws', 'Apples')]\n",
      "[('BOB', 'EATS', 'CATS')]\n",
      "[]\n",
      "[]\n",
      "[]\n"
     ]
    }
   ],
   "source": [
    "import re\n",
    "ptrn1 = re.compile(r'(Alice|Bob|Carol)\\s(eats|pets|throws)\\s(apples|cats|baseballs)\\.', re.IGNORECASE)\n",
    "string1 = 'Alice eats apples.'\n",
    "string2 = 'Bob pets cats.'\n",
    "string3 = 'Carol throws baseballs.'\n",
    "string4 = 'Alice throws Apples.'\n",
    "string5 = 'BOB EATS CATS.'\n",
    "string6 = 'RoboCop eats apples.'\n",
    "string7 = 'ALICE THROWS FOOTBALLS.'\n",
    "string8 = 'Carol eats 7 cats.'\n",
    "print(re.findall(ptrn1,string1))\n",
    "print(re.findall(ptrn1,string2))\n",
    "print(re.findall(ptrn1,string3))\n",
    "print(re.findall(ptrn1,string4))\n",
    "print(re.findall(ptrn1,string5))\n",
    "print(re.findall(ptrn1,string6))\n",
    "print(re.findall(ptrn1,string7))\n",
    "print(re.findall(ptrn1,string8))"
   ]
  },
  {
   "cell_type": "code",
   "execution_count": null,
   "metadata": {},
   "outputs": [],
   "source": []
  }
 ],
 "metadata": {
  "kernelspec": {
   "display_name": "Python 3",
   "language": "python",
   "name": "python3"
  },
  "language_info": {
   "codemirror_mode": {
    "name": "ipython",
    "version": 3
   },
   "file_extension": ".py",
   "mimetype": "text/x-python",
   "name": "python",
   "nbconvert_exporter": "python",
   "pygments_lexer": "ipython3",
   "version": "3.6.4"
  }
 },
 "nbformat": 4,
 "nbformat_minor": 2
}
