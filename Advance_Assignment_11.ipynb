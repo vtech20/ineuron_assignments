{
 "cells": [
  {
   "cell_type": "markdown",
   "id": "7cf3c0c0",
   "metadata": {},
   "source": [
    "**Q1. What is the concept of a metaclass?**"
   ]
  },
  {
   "cell_type": "markdown",
   "id": "69672e59",
   "metadata": {},
   "source": [
    "A metaclass in Python is a class of a class that defines how a class behaves. A class is itself an instance of a metaclass. A class in Python defines how the instance of the class will behave. In order to understand metaclasses well, one needs to have prior experience working with Python classes."
   ]
  },
  {
   "cell_type": "markdown",
   "id": "30289caa",
   "metadata": {},
   "source": [
    "**Q2. What is the best way to declare a class&#39;s metaclass?**"
   ]
  },
  {
   "cell_type": "markdown",
   "id": "fc2040ca",
   "metadata": {},
   "source": [
    "In Python, we can customize the class creation process by passing the metaclass keyword in the class definition. This can also be done by inheriting a class that has already passed in this keyword."
   ]
  },
  {
   "cell_type": "code",
   "execution_count": 1,
   "id": "8f091c38",
   "metadata": {},
   "outputs": [],
   "source": [
    "class MyMeta(type):\n",
    "    pass\n",
    "\n",
    "class MyClass(metaclass=MyMeta):\n",
    "    pass\n",
    "\n",
    "class MySubclass(MyClass):\n",
    "    pass"
   ]
  },
  {
   "cell_type": "code",
   "execution_count": 2,
   "id": "677af5f6",
   "metadata": {},
   "outputs": [
    {
     "name": "stdout",
     "output_type": "stream",
     "text": [
      "<class 'type'>\n",
      "<class '__main__.MyMeta'>\n",
      "<class '__main__.MyMeta'>\n"
     ]
    }
   ],
   "source": [
    "print(type(MyMeta))\n",
    "print(type(MyClass))\n",
    "print(type(MySubclass))"
   ]
  },
  {
   "cell_type": "markdown",
   "id": "2d103ed3",
   "metadata": {},
   "source": [
    "**Q3. How do class decorators overlap with metaclasses for handling classes?**"
   ]
  },
  {
   "cell_type": "markdown",
   "id": "f3b3a52f",
   "metadata": {},
   "source": [
    "Decorators essentially automate the prior example's manual name rebinding here. Just like with metaclasses, because the decorator returns the original class, instances are made from it, not from a wrapper object"
   ]
  },
  {
   "cell_type": "markdown",
   "id": "40e06de6",
   "metadata": {},
   "source": [
    "**Q4. How do class decorators overlap with metaclasses for handling instances?**"
   ]
  },
  {
   "cell_type": "markdown",
   "id": "46c4e4e4",
   "metadata": {},
   "source": [
    "the choice between metaclasses and decorators is somewhat arbitrary. Decorators can be used to manage both instances and classes, and they intersect with metaclasses in the second of these roles. Moreover, although decorators can manage both instances and classes, the converse is not as direct—metaclasses are designed to manage classes, and applying them to managing instances is less straightforward."
   ]
  },
  {
   "cell_type": "code",
   "execution_count": null,
   "id": "b89dc099",
   "metadata": {},
   "outputs": [],
   "source": []
  }
 ],
 "metadata": {
  "kernelspec": {
   "display_name": "Python 3 (ipykernel)",
   "language": "python",
   "name": "python3"
  },
  "language_info": {
   "codemirror_mode": {
    "name": "ipython",
    "version": 3
   },
   "file_extension": ".py",
   "mimetype": "text/x-python",
   "name": "python",
   "nbconvert_exporter": "python",
   "pygments_lexer": "ipython3",
   "version": "3.9.12"
  }
 },
 "nbformat": 4,
 "nbformat_minor": 5
}
