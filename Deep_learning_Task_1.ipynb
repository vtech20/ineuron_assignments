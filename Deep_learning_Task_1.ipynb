{
  "nbformat": 4,
  "nbformat_minor": 0,
  "metadata": {
    "colab": {
      "provenance": [],
      "gpuType": "T4"
    },
    "kernelspec": {
      "name": "python3",
      "display_name": "Python 3"
    },
    "language_info": {
      "name": "python"
    },
    "accelerator": "GPU",
    "gpuClass": "standard"
  },
  "cells": [
    {
      "cell_type": "code",
      "execution_count": 1,
      "metadata": {
        "id": "S5Qj5MrygK7z"
      },
      "outputs": [],
      "source": [
        "#Import libraries\n",
        "\n",
        "import tensorflow as tf\n",
        "from tensorflow.keras.datasets import mnist\n",
        "from tensorflow.keras.models import Sequential\n",
        "from tensorflow.keras.layers import Conv2D, MaxPooling2D, Flatten, Dense, Dropout\n",
        "from tensorflow.keras.optimizers import Adam\n",
        "from tensorflow.keras.utils import to_categorical\n",
        "from tensorflow.keras.callbacks import ModelCheckpoint"
      ]
    },
    {
      "cell_type": "code",
      "source": [
        "# Load the MNIST dataset\n",
        "(x_train, y_train), (x_test, y_test) = mnist.load_data()"
      ],
      "metadata": {
        "colab": {
          "base_uri": "https://localhost:8080/"
        },
        "id": "q5x-cJaigWwN",
        "outputId": "459abc02-94bb-4c61-dd45-24f37a16a76e"
      },
      "execution_count": 2,
      "outputs": [
        {
          "output_type": "stream",
          "name": "stdout",
          "text": [
            "Downloading data from https://storage.googleapis.com/tensorflow/tf-keras-datasets/mnist.npz\n",
            "11490434/11490434 [==============================] - 1s 0us/step\n"
          ]
        }
      ]
    },
    {
      "cell_type": "code",
      "source": [
        "# Preprocess the data\n",
        "x_train = x_train.reshape(-1, 28, 28, 1) / 255.0\n",
        "x_test = x_test.reshape(-1, 28, 28, 1) / 255.0\n",
        "y_train = to_categorical(y_train, num_classes=10)\n",
        "y_test = to_categorical(y_test, num_classes=10)"
      ],
      "metadata": {
        "id": "CiK_YUNS1gMk"
      },
      "execution_count": 3,
      "outputs": []
    },
    {
      "cell_type": "code",
      "source": [
        "# Common hyperparameters\n",
        "batch_size = 128\n",
        "epochs = 10"
      ],
      "metadata": {
        "id": "LkO6w7cC1kah"
      },
      "execution_count": 4,
      "outputs": []
    },
    {
      "cell_type": "code",
      "source": [
        "# LeNet-5 architecture\n",
        "model_lenet5 = Sequential()\n",
        "model_lenet5.add(Conv2D(6, kernel_size=(5, 5), activation='relu', input_shape=(28, 28, 1)))\n",
        "model_lenet5.add(MaxPooling2D(pool_size=(2, 2)))\n",
        "model_lenet5.add(Conv2D(16, kernel_size=(5, 5), activation='relu'))\n",
        "model_lenet5.add(MaxPooling2D(pool_size=(2, 2)))\n",
        "model_lenet5.add(Flatten())\n",
        "model_lenet5.add(Dense(120, activation='relu'))\n",
        "model_lenet5.add(Dense(84, activation='relu'))\n",
        "model_lenet5.add(Dense(10, activation='softmax'))\n",
        "model_lenet5.compile(optimizer=Adam(), loss='categorical_crossentropy', metrics=['accuracy'])\n",
        "model_lenet5.summary()"
      ],
      "metadata": {
        "colab": {
          "base_uri": "https://localhost:8080/"
        },
        "id": "PIrNQs-11nvb",
        "outputId": "ac6e4712-29c1-45ce-ec0a-6f2548814c9d"
      },
      "execution_count": 5,
      "outputs": [
        {
          "output_type": "stream",
          "name": "stdout",
          "text": [
            "Model: \"sequential\"\n",
            "_________________________________________________________________\n",
            " Layer (type)                Output Shape              Param #   \n",
            "=================================================================\n",
            " conv2d (Conv2D)             (None, 24, 24, 6)         156       \n",
            "                                                                 \n",
            " max_pooling2d (MaxPooling2D  (None, 12, 12, 6)        0         \n",
            " )                                                               \n",
            "                                                                 \n",
            " conv2d_1 (Conv2D)           (None, 8, 8, 16)          2416      \n",
            "                                                                 \n",
            " max_pooling2d_1 (MaxPooling  (None, 4, 4, 16)         0         \n",
            " 2D)                                                             \n",
            "                                                                 \n",
            " flatten (Flatten)           (None, 256)               0         \n",
            "                                                                 \n",
            " dense (Dense)               (None, 120)               30840     \n",
            "                                                                 \n",
            " dense_1 (Dense)             (None, 84)                10164     \n",
            "                                                                 \n",
            " dense_2 (Dense)             (None, 10)                850       \n",
            "                                                                 \n",
            "=================================================================\n",
            "Total params: 44,426\n",
            "Trainable params: 44,426\n",
            "Non-trainable params: 0\n",
            "_________________________________________________________________\n"
          ]
        }
      ]
    },
    {
      "cell_type": "code",
      "source": [
        "# Train the LeNet-5 model\n",
        "model_lenet5.fit(x_train, y_train, batch_size=batch_size, epochs=epochs, validation_data=(x_test, y_test))"
      ],
      "metadata": {
        "colab": {
          "base_uri": "https://localhost:8080/"
        },
        "id": "TlXtitAM1qCf",
        "outputId": "6dc03666-7019-4bed-ca9f-654b9c051875"
      },
      "execution_count": 6,
      "outputs": [
        {
          "output_type": "stream",
          "name": "stdout",
          "text": [
            "Epoch 1/10\n",
            "469/469 [==============================] - 15s 6ms/step - loss: 0.3328 - accuracy: 0.9018 - val_loss: 0.0909 - val_accuracy: 0.9722\n",
            "Epoch 2/10\n",
            "469/469 [==============================] - 3s 6ms/step - loss: 0.0810 - accuracy: 0.9758 - val_loss: 0.0748 - val_accuracy: 0.9763\n",
            "Epoch 3/10\n",
            "469/469 [==============================] - 3s 6ms/step - loss: 0.0568 - accuracy: 0.9824 - val_loss: 0.0431 - val_accuracy: 0.9850\n",
            "Epoch 4/10\n",
            "469/469 [==============================] - 2s 5ms/step - loss: 0.0442 - accuracy: 0.9861 - val_loss: 0.0403 - val_accuracy: 0.9878\n",
            "Epoch 5/10\n",
            "469/469 [==============================] - 2s 5ms/step - loss: 0.0355 - accuracy: 0.9886 - val_loss: 0.0374 - val_accuracy: 0.9872\n",
            "Epoch 6/10\n",
            "469/469 [==============================] - 2s 5ms/step - loss: 0.0321 - accuracy: 0.9902 - val_loss: 0.0340 - val_accuracy: 0.9891\n",
            "Epoch 7/10\n",
            "469/469 [==============================] - 3s 6ms/step - loss: 0.0267 - accuracy: 0.9913 - val_loss: 0.0316 - val_accuracy: 0.9894\n",
            "Epoch 8/10\n",
            "469/469 [==============================] - 2s 5ms/step - loss: 0.0232 - accuracy: 0.9925 - val_loss: 0.0318 - val_accuracy: 0.9891\n",
            "Epoch 9/10\n",
            "469/469 [==============================] - 2s 5ms/step - loss: 0.0201 - accuracy: 0.9936 - val_loss: 0.0323 - val_accuracy: 0.9896\n",
            "Epoch 10/10\n",
            "469/469 [==============================] - 2s 5ms/step - loss: 0.0167 - accuracy: 0.9947 - val_loss: 0.0386 - val_accuracy: 0.9890\n"
          ]
        },
        {
          "output_type": "execute_result",
          "data": {
            "text/plain": [
              "<keras.callbacks.History at 0x7f15b3c05780>"
            ]
          },
          "metadata": {},
          "execution_count": 6
        }
      ]
    },
    {
      "cell_type": "code",
      "source": [
        "# AlexNet architecture\n",
        "model_alexnet = Sequential()\n",
        "model_alexnet.add(Conv2D(16, kernel_size=(3, 3), strides=(1, 1), activation='relu', input_shape=(28, 28, 1)))\n",
        "model_alexnet.add(MaxPooling2D(pool_size=(2, 2), strides=(2, 2)))\n",
        "model_alexnet.add(Conv2D(32, kernel_size=(3, 3), strides=(1, 1), activation='relu'))\n",
        "model_alexnet.add(MaxPooling2D(pool_size=(2, 2), strides=(2, 2)))\n",
        "#model_alexnet.add(Conv2D(64, kernel_size=(3, 3), strides=(1, 1), activation='relu'))\n",
        "#model_alexnet.add(MaxPooling2D(pool_size=(2, 2), strides=(2, 2)))\n",
        "model_alexnet.add(Flatten())\n",
        "model_alexnet.add(Dense(128, activation='relu'))\n",
        "model_alexnet.add(Dense(64, activation='relu'))\n",
        "model_alexnet.add(Dense(10, activation='softmax'))\n",
        "model_alexnet.compile(optimizer=Adam(), loss='categorical_crossentropy', metrics=['accuracy'])\n",
        "model_alexnet.summary()"
      ],
      "metadata": {
        "colab": {
          "base_uri": "https://localhost:8080/"
        },
        "id": "HyrneAy210VS",
        "outputId": "5dac3f12-9017-4682-b5af-0998c01c0a7e"
      },
      "execution_count": 10,
      "outputs": [
        {
          "output_type": "stream",
          "name": "stdout",
          "text": [
            "Model: \"sequential_4\"\n",
            "_________________________________________________________________\n",
            " Layer (type)                Output Shape              Param #   \n",
            "=================================================================\n",
            " conv2d_9 (Conv2D)           (None, 26, 26, 16)        160       \n",
            "                                                                 \n",
            " max_pooling2d_8 (MaxPooling  (None, 13, 13, 16)       0         \n",
            " 2D)                                                             \n",
            "                                                                 \n",
            " conv2d_10 (Conv2D)          (None, 11, 11, 32)        4640      \n",
            "                                                                 \n",
            " max_pooling2d_9 (MaxPooling  (None, 5, 5, 32)         0         \n",
            " 2D)                                                             \n",
            "                                                                 \n",
            " flatten_3 (Flatten)         (None, 800)               0         \n",
            "                                                                 \n",
            " dense_9 (Dense)             (None, 128)               102528    \n",
            "                                                                 \n",
            " dense_10 (Dense)            (None, 64)                8256      \n",
            "                                                                 \n",
            " dense_11 (Dense)            (None, 10)                650       \n",
            "                                                                 \n",
            "=================================================================\n",
            "Total params: 116,234\n",
            "Trainable params: 116,234\n",
            "Non-trainable params: 0\n",
            "_________________________________________________________________\n"
          ]
        }
      ]
    },
    {
      "cell_type": "code",
      "source": [
        "# Train the AlexNet model\n",
        "model_alexnet.fit(x_train, y_train, batch_size=batch_size, epochs=epochs, validation_data=(x_test, y_test))"
      ],
      "metadata": {
        "colab": {
          "base_uri": "https://localhost:8080/"
        },
        "id": "9i04xwRN2xPW",
        "outputId": "c45d25f0-cb87-4d2c-a549-bb2181810e40"
      },
      "execution_count": 11,
      "outputs": [
        {
          "output_type": "stream",
          "name": "stdout",
          "text": [
            "Epoch 1/10\n",
            "469/469 [==============================] - 6s 6ms/step - loss: 0.2647 - accuracy: 0.9211 - val_loss: 0.0856 - val_accuracy: 0.9746\n",
            "Epoch 2/10\n",
            "469/469 [==============================] - 2s 5ms/step - loss: 0.0699 - accuracy: 0.9783 - val_loss: 0.0526 - val_accuracy: 0.9836\n",
            "Epoch 3/10\n",
            "469/469 [==============================] - 2s 5ms/step - loss: 0.0489 - accuracy: 0.9847 - val_loss: 0.0384 - val_accuracy: 0.9866\n",
            "Epoch 4/10\n",
            "469/469 [==============================] - 2s 5ms/step - loss: 0.0373 - accuracy: 0.9882 - val_loss: 0.0391 - val_accuracy: 0.9865\n",
            "Epoch 5/10\n",
            "469/469 [==============================] - 3s 6ms/step - loss: 0.0307 - accuracy: 0.9904 - val_loss: 0.0343 - val_accuracy: 0.9884\n",
            "Epoch 6/10\n",
            "469/469 [==============================] - 3s 5ms/step - loss: 0.0244 - accuracy: 0.9923 - val_loss: 0.0364 - val_accuracy: 0.9878\n",
            "Epoch 7/10\n",
            "469/469 [==============================] - 2s 5ms/step - loss: 0.0207 - accuracy: 0.9933 - val_loss: 0.0425 - val_accuracy: 0.9852\n",
            "Epoch 8/10\n",
            "469/469 [==============================] - 2s 5ms/step - loss: 0.0179 - accuracy: 0.9943 - val_loss: 0.0284 - val_accuracy: 0.9898\n",
            "Epoch 9/10\n",
            "469/469 [==============================] - 2s 5ms/step - loss: 0.0148 - accuracy: 0.9952 - val_loss: 0.0324 - val_accuracy: 0.9903\n",
            "Epoch 10/10\n",
            "469/469 [==============================] - 3s 7ms/step - loss: 0.0118 - accuracy: 0.9960 - val_loss: 0.0306 - val_accuracy: 0.9900\n"
          ]
        },
        {
          "output_type": "execute_result",
          "data": {
            "text/plain": [
              "<keras.callbacks.History at 0x7f15100f67d0>"
            ]
          },
          "metadata": {},
          "execution_count": 11
        }
      ]
    },
    {
      "cell_type": "code",
      "source": [
        "# VGGNet architecture\n",
        "model_vggnet = Sequential()\n",
        "model_vggnet.add(Conv2D(8, kernel_size=(3, 3), strides=(1, 1), padding='same', activation='relu', input_shape=(28, 28, 1)))\n",
        "model_vggnet.add(Conv2D(8, kernel_size=(3, 3), strides=(1, 1), padding='same', activation='relu'))\n",
        "model_vggnet.add(MaxPooling2D(pool_size=(2, 2), strides=(2, 2)))\n",
        "model_vggnet.add(Conv2D(16, kernel_size=(3, 3), strides=(1, 1), padding='same', activation='relu'))\n",
        "model_vggnet.add(Conv2D(16, kernel_size=(3, 3), strides=(1, 1), padding='same', activation='relu'))\n",
        "model_vggnet.add(MaxPooling2D(pool_size=(2, 2), strides=(2, 2)))\n",
        "model_vggnet.add(Conv2D(32, kernel_size=(3, 3), strides=(1, 1), padding='same', activation='relu'))\n",
        "model_vggnet.add(Conv2D(16, kernel_size=(3, 3), strides=(1, 1), padding='same', activation='relu'))\n",
        "model_vggnet.add(Conv2D(32, kernel_size=(3, 3), strides=(1, 1), padding='same', activation='relu'))\n",
        "model_vggnet.add(MaxPooling2D(pool_size=(2, 2), strides=(2, 2)))\n",
        "model_vggnet.add(Flatten())\n",
        "model_vggnet.add(Dense(128, activation='relu'))\n",
        "model_vggnet.add(Dense(64, activation='relu'))\n",
        "model_vggnet.add(Dense(10, activation='softmax'))\n",
        "model_vggnet.compile(optimizer=Adam(), loss='categorical_crossentropy', metrics=['accuracy'])\n",
        "model_vggnet.summary()"
      ],
      "metadata": {
        "colab": {
          "base_uri": "https://localhost:8080/"
        },
        "id": "XqKNsTNA4h0i",
        "outputId": "800d1af7-e9f0-442c-e60b-1d59f4fdd283"
      },
      "execution_count": 15,
      "outputs": [
        {
          "output_type": "stream",
          "name": "stdout",
          "text": [
            "Model: \"sequential_8\"\n",
            "_________________________________________________________________\n",
            " Layer (type)                Output Shape              Param #   \n",
            "=================================================================\n",
            " conv2d_32 (Conv2D)          (None, 28, 28, 8)         80        \n",
            "                                                                 \n",
            " conv2d_33 (Conv2D)          (None, 28, 28, 8)         584       \n",
            "                                                                 \n",
            " max_pooling2d_19 (MaxPoolin  (None, 14, 14, 8)        0         \n",
            " g2D)                                                            \n",
            "                                                                 \n",
            " conv2d_34 (Conv2D)          (None, 14, 14, 16)        1168      \n",
            "                                                                 \n",
            " conv2d_35 (Conv2D)          (None, 14, 14, 16)        2320      \n",
            "                                                                 \n",
            " max_pooling2d_20 (MaxPoolin  (None, 7, 7, 16)         0         \n",
            " g2D)                                                            \n",
            "                                                                 \n",
            " conv2d_36 (Conv2D)          (None, 7, 7, 32)          4640      \n",
            "                                                                 \n",
            " conv2d_37 (Conv2D)          (None, 7, 7, 16)          4624      \n",
            "                                                                 \n",
            " conv2d_38 (Conv2D)          (None, 7, 7, 32)          4640      \n",
            "                                                                 \n",
            " max_pooling2d_21 (MaxPoolin  (None, 3, 3, 32)         0         \n",
            " g2D)                                                            \n",
            "                                                                 \n",
            " flatten_7 (Flatten)         (None, 288)               0         \n",
            "                                                                 \n",
            " dense_21 (Dense)            (None, 128)               36992     \n",
            "                                                                 \n",
            " dense_22 (Dense)            (None, 64)                8256      \n",
            "                                                                 \n",
            " dense_23 (Dense)            (None, 10)                650       \n",
            "                                                                 \n",
            "=================================================================\n",
            "Total params: 63,954\n",
            "Trainable params: 63,954\n",
            "Non-trainable params: 0\n",
            "_________________________________________________________________\n"
          ]
        }
      ]
    },
    {
      "cell_type": "code",
      "source": [
        "model_vggnet.fit(x_train, y_train, batch_size=batch_size, epochs=epochs, validation_data=(x_test, y_test))"
      ],
      "metadata": {
        "colab": {
          "base_uri": "https://localhost:8080/"
        },
        "id": "ulDqICAc6Hmp",
        "outputId": "d7c295f4-0cff-4dd9-fb1e-743ea8dff28f"
      },
      "execution_count": 16,
      "outputs": [
        {
          "output_type": "stream",
          "name": "stdout",
          "text": [
            "Epoch 1/10\n",
            "469/469 [==============================] - 8s 8ms/step - loss: 0.3474 - accuracy: 0.8850 - val_loss: 0.0908 - val_accuracy: 0.9708\n",
            "Epoch 2/10\n",
            "469/469 [==============================] - 3s 7ms/step - loss: 0.0805 - accuracy: 0.9750 - val_loss: 0.0587 - val_accuracy: 0.9802\n",
            "Epoch 3/10\n",
            "469/469 [==============================] - 4s 8ms/step - loss: 0.0563 - accuracy: 0.9830 - val_loss: 0.0453 - val_accuracy: 0.9855\n",
            "Epoch 4/10\n",
            "469/469 [==============================] - 4s 8ms/step - loss: 0.0450 - accuracy: 0.9862 - val_loss: 0.0427 - val_accuracy: 0.9862\n",
            "Epoch 5/10\n",
            "469/469 [==============================] - 3s 7ms/step - loss: 0.0374 - accuracy: 0.9884 - val_loss: 0.0356 - val_accuracy: 0.9889\n",
            "Epoch 6/10\n",
            "469/469 [==============================] - 3s 7ms/step - loss: 0.0314 - accuracy: 0.9906 - val_loss: 0.0359 - val_accuracy: 0.9880\n",
            "Epoch 7/10\n",
            "469/469 [==============================] - 4s 8ms/step - loss: 0.0272 - accuracy: 0.9914 - val_loss: 0.0358 - val_accuracy: 0.9887\n",
            "Epoch 8/10\n",
            "469/469 [==============================] - 3s 7ms/step - loss: 0.0255 - accuracy: 0.9922 - val_loss: 0.0313 - val_accuracy: 0.9905\n",
            "Epoch 9/10\n",
            "469/469 [==============================] - 3s 7ms/step - loss: 0.0221 - accuracy: 0.9932 - val_loss: 0.0336 - val_accuracy: 0.9888\n",
            "Epoch 10/10\n",
            "469/469 [==============================] - 3s 7ms/step - loss: 0.0199 - accuracy: 0.9940 - val_loss: 0.0241 - val_accuracy: 0.9929\n"
          ]
        },
        {
          "output_type": "execute_result",
          "data": {
            "text/plain": [
              "<keras.callbacks.History at 0x7f150803d3c0>"
            ]
          },
          "metadata": {},
          "execution_count": 16
        }
      ]
    },
    {
      "cell_type": "code",
      "source": [],
      "metadata": {
        "id": "kLHidRj27RPH"
      },
      "execution_count": null,
      "outputs": []
    }
  ]
}