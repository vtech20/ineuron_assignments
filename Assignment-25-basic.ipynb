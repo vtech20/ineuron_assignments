{
 "cells": [
  {
   "cell_type": "markdown",
   "metadata": {},
   "source": [
    "**1) What is the difference between enclosing a list comprehension in square brackets and\n",
    "parentheses?**"
   ]
  },
  {
   "cell_type": "markdown",
   "metadata": {},
   "source": [
    "List comprehensions are enclosed in square brackets and Generator expressions are enclosed in parentheses. The loop variable will no longer leak out since in Python 3, a list comprehension is indeed the syntactic sugar for a generator expression supplied to list() as you anticipated. As a high speed, memory-efficient generalisation of list comprehensions and generators, this PEP provides generator expressions."
   ]
  },
  {
   "cell_type": "markdown",
   "metadata": {},
   "source": [
    "**2) What is the relationship between generators and iterators?**"
   ]
  },
  {
   "cell_type": "markdown",
   "metadata": {},
   "source": [
    "The list comprehension will create the entire list in memory first while the generator expression will create the items on the fly, so you are able to use it for very large (and also infinite!) sequences."
   ]
  },
  {
   "cell_type": "markdown",
   "metadata": {},
   "source": [
    "**3) What are the signs that a function is a generator function?**"
   ]
  },
  {
   "cell_type": "markdown",
   "metadata": {},
   "source": [
    "'return' keyword not included in the generator function\n",
    "'yield' statement is used rather than a return statement\n",
    "'iterator object' function which does not return a single value, instead, it returns an iterator object with a sequence of values."
   ]
  },
  {
   "cell_type": "markdown",
   "metadata": {},
   "source": [
    "**4) What is the purpose of a yield statement?**"
   ]
  },
  {
   "cell_type": "markdown",
   "metadata": {},
   "source": [
    "yield sends the first value of the iterator stream to the calling environment.\n",
    "\n",
    "yield returns a value and pauses the execution while maintaining the internal states"
   ]
  },
  {
   "cell_type": "markdown",
   "metadata": {},
   "source": [
    "**5) What is the relationship between map calls and list comprehensions? Make a comparison and\n",
    "contrast between the two.**"
   ]
  },
  {
   "cell_type": "markdown",
   "metadata": {},
   "source": [
    "Features like map and Python list comprehension have some differences in how they operate but also some parallels. The parameters we use affect how well they operate. Compared to maps, list comprehension is more condensed and simpler to understand. Because map only produces a map object and not a list of results, list comprehension is used when a list of results is needed."
   ]
  },
  {
   "cell_type": "code",
   "execution_count": null,
   "metadata": {},
   "outputs": [],
   "source": []
  }
 ],
 "metadata": {
  "language_info": {
   "name": "python"
  },
  "orig_nbformat": 4
 },
 "nbformat": 4,
 "nbformat_minor": 2
}
