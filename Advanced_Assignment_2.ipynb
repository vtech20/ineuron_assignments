{
  "nbformat": 4,
  "nbformat_minor": 0,
  "metadata": {
    "colab": {
      "name": "Advanced_Assignment_2.ipynb",
      "provenance": [],
      "collapsed_sections": []
    },
    "kernelspec": {
      "name": "python3",
      "display_name": "Python 3"
    },
    "language_info": {
      "name": "python"
    }
  },
  "cells": [
    {
      "cell_type": "markdown",
      "source": [
        "**Q1. What is the relationship between classes and modules?**"
      ],
      "metadata": {
        "id": "gxar1CEx1XIk"
      }
    },
    {
      "cell_type": "markdown",
      "source": [
        "Classes are blueprints that allow you to create instances with attributes and bound functionality. Classes support inheritance, Encapsulation techniques.\n",
        "\n",
        "A module in python is simply a way to organize the code, and it contains either python classes or just functions. If you need those classes or functions in your project, you just import them"
      ],
      "metadata": {
        "id": "6KlKN0UR1lTy"
      }
    },
    {
      "cell_type": "markdown",
      "source": [
        "**Q2. How do you make instances and classes?**"
      ],
      "metadata": {
        "id": "kef9t7Vn2Ba6"
      }
    },
    {
      "cell_type": "markdown",
      "source": [
        "To create instances of a class, you call the class using class name and pass in whatever arguments its \\_\\_init_\\_ method accepts."
      ],
      "metadata": {
        "id": "GAJcvF7I2FVC"
      }
    },
    {
      "cell_type": "markdown",
      "source": [
        "**Q3. Where and how should be class attributes created?**"
      ],
      "metadata": {
        "id": "wMxe5NU82r3B"
      }
    },
    {
      "cell_type": "markdown",
      "source": [
        "Class attributes belong to the class itself they will be shared by all the instances. Such attributes are defined in the class body parts usually at the top"
      ],
      "metadata": {
        "id": "pF0UrHQY2rtZ"
      }
    },
    {
      "cell_type": "markdown",
      "source": [
        "**Q4. Where and how are instance attributes created?**"
      ],
      "metadata": {
        "id": "VPBtL1g724Lp"
      }
    },
    {
      "cell_type": "markdown",
      "source": [
        "An instance attribute is a Python variable belonging to one, and only one, object. This variable is only accessible in the scope of this object and it is defined inside the constructor function, \\_\\_init_\\_(self,..) of the class"
      ],
      "metadata": {
        "id": "ypIfuc7823_x"
      }
    },
    {
      "cell_type": "markdown",
      "source": [
        "**Q5. What does the term &quot;self&quot; in a Python class mean?**"
      ],
      "metadata": {
        "id": "GwbI7q703G8i"
      }
    },
    {
      "cell_type": "markdown",
      "source": [
        "self represents the instance of the class. By using the “self” we can access the attributes and methods of the class in python. It binds the attributes with the given arguments."
      ],
      "metadata": {
        "id": "gZ7OkSa93Hyp"
      }
    },
    {
      "cell_type": "markdown",
      "source": [
        "**Q6. How does a Python class handle operator overloading?**"
      ],
      "metadata": {
        "id": "wXaI1yW43gHR"
      }
    },
    {
      "cell_type": "markdown",
      "source": [
        "To perform operator overloading, Python provides some special function or magic function that is automatically invoked when it is associated with that particular operator. For example, when we use + operator, the magic method \\_\\_add_\\_ is automatically invoked in which the operation for + operator is defined."
      ],
      "metadata": {
        "id": "91Pi0sTU3gAe"
      }
    },
    {
      "cell_type": "markdown",
      "source": [
        "**Q7. When do you consider allowing operator overloading of your classes?**"
      ],
      "metadata": {
        "id": "TnbRG3Rs3ziu"
      }
    },
    {
      "cell_type": "markdown",
      "source": [
        "Consider that we have two objects which are a physical representation of a class (user-defined data type) and we have to add two objects with binary '+' operator it throws an error, because compiler don't know how to add two objects. so we have to use operator overloading"
      ],
      "metadata": {
        "id": "z5pzWFK332Ss"
      }
    },
    {
      "cell_type": "markdown",
      "source": [
        "**Q8. What is the most popular form of operator overloading?**"
      ],
      "metadata": {
        "id": "ehlnPENj4Jr0"
      }
    },
    {
      "cell_type": "markdown",
      "source": [
        "A very popular and convenient example is the Addition (+) operator. "
      ],
      "metadata": {
        "id": "1b9ypCLe4Jj0"
      }
    },
    {
      "cell_type": "markdown",
      "source": [
        "**Q9. What are the two most important concepts to grasp in order to comprehend Python OOP code?**"
      ],
      "metadata": {
        "id": "LlXyx3Kj4YYr"
      }
    },
    {
      "cell_type": "markdown",
      "source": [
        "inheritance and polymorphism are key ingredients for designing robust, flexible, and easy-to-maintain software"
      ],
      "metadata": {
        "id": "nBuDtAUS4YWV"
      }
    },
    {
      "cell_type": "code",
      "execution_count": null,
      "metadata": {
        "id": "GQLpDo6T0Ifh"
      },
      "outputs": [],
      "source": [
        ""
      ]
    }
  ]
}