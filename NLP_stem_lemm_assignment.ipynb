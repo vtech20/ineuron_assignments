{
  "nbformat": 4,
  "nbformat_minor": 0,
  "metadata": {
    "colab": {
      "name": "NLP_stem_lemm_assignment.ipynb",
      "provenance": [],
      "collapsed_sections": []
    },
    "kernelspec": {
      "name": "python3",
      "display_name": "Python 3"
    },
    "language_info": {
      "name": "python"
    }
  },
  "cells": [
    {
      "cell_type": "markdown",
      "source": [
        "## Importing Necessary libraries"
      ],
      "metadata": {
        "id": "Q1S9p71O6D6K"
      }
    },
    {
      "cell_type": "code",
      "execution_count": 34,
      "metadata": {
        "id": "u5JpmZA91uf0"
      },
      "outputs": [],
      "source": [
        "import pandas as pd\n",
        "import numpy as np\n",
        "import nltk\n",
        "from nltk.corpus import stopwords\n",
        "from nltk.stem import PorterStemmer, WordNetLemmatizer\n",
        "from sklearn.feature_extraction.text import CountVectorizer, TfidfTransformer, TfidfVectorizer\n",
        "import re\n",
        "import pickle\n",
        "from sklearn.model_selection import train_test_split"
      ]
    },
    {
      "cell_type": "markdown",
      "source": [
        "## Read the data"
      ],
      "metadata": {
        "id": "MW3KWfpV6Kd6"
      }
    },
    {
      "cell_type": "code",
      "source": [
        "df = pd.read_csv('IMDB Dataset.csv')"
      ],
      "metadata": {
        "id": "wnrGMfn-6Cbf"
      },
      "execution_count": 2,
      "outputs": []
    },
    {
      "cell_type": "code",
      "source": [
        "df"
      ],
      "metadata": {
        "colab": {
          "base_uri": "https://localhost:8080/",
          "height": 424
        },
        "id": "3AN-dKgP6VLb",
        "outputId": "e0d18e9d-0309-4709-d8b7-987f030dec86"
      },
      "execution_count": 3,
      "outputs": [
        {
          "output_type": "execute_result",
          "data": {
            "text/plain": [
              "                                                  review sentiment\n",
              "0      One of the other reviewers has mentioned that ...  positive\n",
              "1      A wonderful little production. <br /><br />The...  positive\n",
              "2      I thought this was a wonderful way to spend ti...  positive\n",
              "3      Basically there's a family where a little boy ...  negative\n",
              "4      Petter Mattei's \"Love in the Time of Money\" is...  positive\n",
              "...                                                  ...       ...\n",
              "49995  I thought this movie did a down right good job...  positive\n",
              "49996  Bad plot, bad dialogue, bad acting, idiotic di...  negative\n",
              "49997  I am a Catholic taught in parochial elementary...  negative\n",
              "49998  I'm going to have to disagree with the previou...  negative\n",
              "49999  No one expects the Star Trek movies to be high...  negative\n",
              "\n",
              "[50000 rows x 2 columns]"
            ],
            "text/html": [
              "\n",
              "  <div id=\"df-ff98847f-5f2b-4344-8992-623aff959445\">\n",
              "    <div class=\"colab-df-container\">\n",
              "      <div>\n",
              "<style scoped>\n",
              "    .dataframe tbody tr th:only-of-type {\n",
              "        vertical-align: middle;\n",
              "    }\n",
              "\n",
              "    .dataframe tbody tr th {\n",
              "        vertical-align: top;\n",
              "    }\n",
              "\n",
              "    .dataframe thead th {\n",
              "        text-align: right;\n",
              "    }\n",
              "</style>\n",
              "<table border=\"1\" class=\"dataframe\">\n",
              "  <thead>\n",
              "    <tr style=\"text-align: right;\">\n",
              "      <th></th>\n",
              "      <th>review</th>\n",
              "      <th>sentiment</th>\n",
              "    </tr>\n",
              "  </thead>\n",
              "  <tbody>\n",
              "    <tr>\n",
              "      <th>0</th>\n",
              "      <td>One of the other reviewers has mentioned that ...</td>\n",
              "      <td>positive</td>\n",
              "    </tr>\n",
              "    <tr>\n",
              "      <th>1</th>\n",
              "      <td>A wonderful little production. &lt;br /&gt;&lt;br /&gt;The...</td>\n",
              "      <td>positive</td>\n",
              "    </tr>\n",
              "    <tr>\n",
              "      <th>2</th>\n",
              "      <td>I thought this was a wonderful way to spend ti...</td>\n",
              "      <td>positive</td>\n",
              "    </tr>\n",
              "    <tr>\n",
              "      <th>3</th>\n",
              "      <td>Basically there's a family where a little boy ...</td>\n",
              "      <td>negative</td>\n",
              "    </tr>\n",
              "    <tr>\n",
              "      <th>4</th>\n",
              "      <td>Petter Mattei's \"Love in the Time of Money\" is...</td>\n",
              "      <td>positive</td>\n",
              "    </tr>\n",
              "    <tr>\n",
              "      <th>...</th>\n",
              "      <td>...</td>\n",
              "      <td>...</td>\n",
              "    </tr>\n",
              "    <tr>\n",
              "      <th>49995</th>\n",
              "      <td>I thought this movie did a down right good job...</td>\n",
              "      <td>positive</td>\n",
              "    </tr>\n",
              "    <tr>\n",
              "      <th>49996</th>\n",
              "      <td>Bad plot, bad dialogue, bad acting, idiotic di...</td>\n",
              "      <td>negative</td>\n",
              "    </tr>\n",
              "    <tr>\n",
              "      <th>49997</th>\n",
              "      <td>I am a Catholic taught in parochial elementary...</td>\n",
              "      <td>negative</td>\n",
              "    </tr>\n",
              "    <tr>\n",
              "      <th>49998</th>\n",
              "      <td>I'm going to have to disagree with the previou...</td>\n",
              "      <td>negative</td>\n",
              "    </tr>\n",
              "    <tr>\n",
              "      <th>49999</th>\n",
              "      <td>No one expects the Star Trek movies to be high...</td>\n",
              "      <td>negative</td>\n",
              "    </tr>\n",
              "  </tbody>\n",
              "</table>\n",
              "<p>50000 rows × 2 columns</p>\n",
              "</div>\n",
              "      <button class=\"colab-df-convert\" onclick=\"convertToInteractive('df-ff98847f-5f2b-4344-8992-623aff959445')\"\n",
              "              title=\"Convert this dataframe to an interactive table.\"\n",
              "              style=\"display:none;\">\n",
              "        \n",
              "  <svg xmlns=\"http://www.w3.org/2000/svg\" height=\"24px\"viewBox=\"0 0 24 24\"\n",
              "       width=\"24px\">\n",
              "    <path d=\"M0 0h24v24H0V0z\" fill=\"none\"/>\n",
              "    <path d=\"M18.56 5.44l.94 2.06.94-2.06 2.06-.94-2.06-.94-.94-2.06-.94 2.06-2.06.94zm-11 1L8.5 8.5l.94-2.06 2.06-.94-2.06-.94L8.5 2.5l-.94 2.06-2.06.94zm10 10l.94 2.06.94-2.06 2.06-.94-2.06-.94-.94-2.06-.94 2.06-2.06.94z\"/><path d=\"M17.41 7.96l-1.37-1.37c-.4-.4-.92-.59-1.43-.59-.52 0-1.04.2-1.43.59L10.3 9.45l-7.72 7.72c-.78.78-.78 2.05 0 2.83L4 21.41c.39.39.9.59 1.41.59.51 0 1.02-.2 1.41-.59l7.78-7.78 2.81-2.81c.8-.78.8-2.07 0-2.86zM5.41 20L4 18.59l7.72-7.72 1.47 1.35L5.41 20z\"/>\n",
              "  </svg>\n",
              "      </button>\n",
              "      \n",
              "  <style>\n",
              "    .colab-df-container {\n",
              "      display:flex;\n",
              "      flex-wrap:wrap;\n",
              "      gap: 12px;\n",
              "    }\n",
              "\n",
              "    .colab-df-convert {\n",
              "      background-color: #E8F0FE;\n",
              "      border: none;\n",
              "      border-radius: 50%;\n",
              "      cursor: pointer;\n",
              "      display: none;\n",
              "      fill: #1967D2;\n",
              "      height: 32px;\n",
              "      padding: 0 0 0 0;\n",
              "      width: 32px;\n",
              "    }\n",
              "\n",
              "    .colab-df-convert:hover {\n",
              "      background-color: #E2EBFA;\n",
              "      box-shadow: 0px 1px 2px rgba(60, 64, 67, 0.3), 0px 1px 3px 1px rgba(60, 64, 67, 0.15);\n",
              "      fill: #174EA6;\n",
              "    }\n",
              "\n",
              "    [theme=dark] .colab-df-convert {\n",
              "      background-color: #3B4455;\n",
              "      fill: #D2E3FC;\n",
              "    }\n",
              "\n",
              "    [theme=dark] .colab-df-convert:hover {\n",
              "      background-color: #434B5C;\n",
              "      box-shadow: 0px 1px 3px 1px rgba(0, 0, 0, 0.15);\n",
              "      filter: drop-shadow(0px 1px 2px rgba(0, 0, 0, 0.3));\n",
              "      fill: #FFFFFF;\n",
              "    }\n",
              "  </style>\n",
              "\n",
              "      <script>\n",
              "        const buttonEl =\n",
              "          document.querySelector('#df-ff98847f-5f2b-4344-8992-623aff959445 button.colab-df-convert');\n",
              "        buttonEl.style.display =\n",
              "          google.colab.kernel.accessAllowed ? 'block' : 'none';\n",
              "\n",
              "        async function convertToInteractive(key) {\n",
              "          const element = document.querySelector('#df-ff98847f-5f2b-4344-8992-623aff959445');\n",
              "          const dataTable =\n",
              "            await google.colab.kernel.invokeFunction('convertToInteractive',\n",
              "                                                     [key], {});\n",
              "          if (!dataTable) return;\n",
              "\n",
              "          const docLinkHtml = 'Like what you see? Visit the ' +\n",
              "            '<a target=\"_blank\" href=https://colab.research.google.com/notebooks/data_table.ipynb>data table notebook</a>'\n",
              "            + ' to learn more about interactive tables.';\n",
              "          element.innerHTML = '';\n",
              "          dataTable['output_type'] = 'display_data';\n",
              "          await google.colab.output.renderOutput(dataTable, element);\n",
              "          const docLink = document.createElement('div');\n",
              "          docLink.innerHTML = docLinkHtml;\n",
              "          element.appendChild(docLink);\n",
              "        }\n",
              "      </script>\n",
              "    </div>\n",
              "  </div>\n",
              "  "
            ]
          },
          "metadata": {},
          "execution_count": 3
        }
      ]
    },
    {
      "cell_type": "markdown",
      "source": [
        "## Preprocessing - NLP"
      ],
      "metadata": {
        "id": "9S_GVS0U6d7_"
      }
    },
    {
      "cell_type": "code",
      "source": [
        "df.isnull().sum()"
      ],
      "metadata": {
        "colab": {
          "base_uri": "https://localhost:8080/"
        },
        "id": "_8HrLd0s6YW4",
        "outputId": "22e20806-a3e7-4692-d4e5-83d15a1d1188"
      },
      "execution_count": 4,
      "outputs": [
        {
          "output_type": "execute_result",
          "data": {
            "text/plain": [
              "review       0\n",
              "sentiment    0\n",
              "dtype: int64"
            ]
          },
          "metadata": {},
          "execution_count": 4
        }
      ]
    },
    {
      "cell_type": "markdown",
      "source": [
        "There are no null values"
      ],
      "metadata": {
        "id": "PpyHer-G6u4w"
      }
    },
    {
      "cell_type": "markdown",
      "source": [
        "Checking the target class balance"
      ],
      "metadata": {
        "id": "fsao6ISS6zf2"
      }
    },
    {
      "cell_type": "code",
      "source": [
        "df.sentiment.value_counts()"
      ],
      "metadata": {
        "colab": {
          "base_uri": "https://localhost:8080/"
        },
        "id": "l94kEjQo6yr5",
        "outputId": "fd4b8902-9b16-4425-83b3-d72a57213d8b"
      },
      "execution_count": 5,
      "outputs": [
        {
          "output_type": "execute_result",
          "data": {
            "text/plain": [
              "positive    25000\n",
              "negative    25000\n",
              "Name: sentiment, dtype: int64"
            ]
          },
          "metadata": {},
          "execution_count": 5
        }
      ]
    },
    {
      "cell_type": "code",
      "source": [
        "df.sentiment.value_counts().plot.bar()"
      ],
      "metadata": {
        "colab": {
          "base_uri": "https://localhost:8080/",
          "height": 316
        },
        "id": "F5VSxMAW6s5s",
        "outputId": "6461196d-d6fc-43de-bb0f-db4fe37d5da5"
      },
      "execution_count": 6,
      "outputs": [
        {
          "output_type": "execute_result",
          "data": {
            "text/plain": [
              "<matplotlib.axes._subplots.AxesSubplot at 0x7f91d2275c50>"
            ]
          },
          "metadata": {},
          "execution_count": 6
        },
        {
          "output_type": "display_data",
          "data": {
            "text/plain": [
              "<Figure size 432x288 with 1 Axes>"
            ],
            "image/png": "[encoded data removed]"
          },
          "metadata": {
            "needs_background": "light"
          }
        }
      ]
    },
    {
      "cell_type": "markdown",
      "source": [
        "Target class is balanced"
      ],
      "metadata": {
        "id": "ZfXFDcUA8oMK"
      }
    },
    {
      "cell_type": "markdown",
      "source": [
        "Download the stopwords"
      ],
      "metadata": {
        "id": "cZgRtCmf8wfP"
      }
    },
    {
      "cell_type": "code",
      "source": [
        "nltk.download('stopwords')"
      ],
      "metadata": {
        "colab": {
          "base_uri": "https://localhost:8080/"
        },
        "id": "xLMXxrZq8lAR",
        "outputId": "b8c93e39-4ddc-4ca2-ac6d-4b7f78530fed"
      },
      "execution_count": 7,
      "outputs": [
        {
          "output_type": "stream",
          "name": "stderr",
          "text": [
            "[nltk_data] Downloading package stopwords to /root/nltk_data...\n",
            "[nltk_data]   Unzipping corpora/stopwords.zip.\n"
          ]
        },
        {
          "output_type": "execute_result",
          "data": {
            "text/plain": [
              "True"
            ]
          },
          "metadata": {},
          "execution_count": 7
        }
      ]
    },
    {
      "cell_type": "markdown",
      "source": [
        "### Creating Custom Stop words"
      ],
      "metadata": {
        "id": "t1lCNQkMEWyQ"
      }
    },
    {
      "cell_type": "code",
      "source": [
        "english_nltk_stopwords = stopwords.words('english')"
      ],
      "metadata": {
        "id": "TZD9Ot3h83gw"
      },
      "execution_count": 8,
      "outputs": []
    },
    {
      "cell_type": "code",
      "source": [
        "english_nltk_stopwords[0:25]"
      ],
      "metadata": {
        "colab": {
          "base_uri": "https://localhost:8080/"
        },
        "id": "mhmg36jU-m_j",
        "outputId": "06635452-a0af-4143-fd6d-8da93328a7b2"
      },
      "execution_count": 38,
      "outputs": [
        {
          "output_type": "execute_result",
          "data": {
            "text/plain": [
              "['i',\n",
              " 'me',\n",
              " 'my',\n",
              " 'myself',\n",
              " 'we',\n",
              " 'our',\n",
              " 'ours',\n",
              " 'ourselves',\n",
              " 'you',\n",
              " \"you're\",\n",
              " \"you've\",\n",
              " \"you'll\",\n",
              " \"you'd\",\n",
              " 'your',\n",
              " 'yours',\n",
              " 'yourself',\n",
              " 'yourselves',\n",
              " 'he',\n",
              " 'him',\n",
              " 'his',\n",
              " 'himself',\n",
              " 'she',\n",
              " \"she's\",\n",
              " 'her',\n",
              " 'hers']"
            ]
          },
          "metadata": {},
          "execution_count": 38
        }
      ]
    },
    {
      "cell_type": "code",
      "source": [
        "words_to_skip = [\"mightn't\",\"needn't\",\"needn't\",\n",
        "                 \"haven't\",\"hadn't\",\"didn't\",\n",
        "                 \"doesn't\",\"hasn't\",\"isn't\",\"mustn't\",\n",
        "                 \"aren't\",\"couldn't\",\"don't\",\"no\",\"not\",\"nor\",\n",
        "                 \"shouldn't\",\"wasn't\",\"weren't\",\"wouldn't\"]"
      ],
      "metadata": {
        "id": "ZscDLBV8-oms"
      },
      "execution_count": 13,
      "outputs": []
    },
    {
      "cell_type": "code",
      "source": [
        "custom_stop_words = [words for words in english_nltk_stopwords if words not in words_to_skip]"
      ],
      "metadata": {
        "id": "b4Ba4SgMChjm"
      },
      "execution_count": 14,
      "outputs": []
    },
    {
      "cell_type": "code",
      "source": [
        "custom_stop_words [0:15]"
      ],
      "metadata": {
        "colab": {
          "base_uri": "https://localhost:8080/"
        },
        "id": "gath6hfqC6er",
        "outputId": "cada221f-adb8-4895-9d79-01842b6f7f2e"
      },
      "execution_count": 37,
      "outputs": [
        {
          "output_type": "execute_result",
          "data": {
            "text/plain": [
              "['i',\n",
              " 'me',\n",
              " 'my',\n",
              " 'myself',\n",
              " 'we',\n",
              " 'our',\n",
              " 'ours',\n",
              " 'ourselves',\n",
              " 'you',\n",
              " \"you're\",\n",
              " \"you've\",\n",
              " \"you'll\",\n",
              " \"you'd\",\n",
              " 'your',\n",
              " 'yours']"
            ]
          },
          "metadata": {},
          "execution_count": 37
        }
      ]
    },
    {
      "cell_type": "markdown",
      "source": [
        "### Applying stemming after cleaning the text"
      ],
      "metadata": {
        "id": "BxM2eTexEbJe"
      }
    },
    {
      "cell_type": "code",
      "source": [
        "stemmer = PorterStemmer()\n",
        "\n",
        "def remove_SW_Stem(text):\n",
        "    text=[stemmer.stem(words) for words in text.split(\" \") if words not in custom_stop_words]\n",
        "    return \" \".join(text)\n",
        "\n",
        "remove_html_tags = re.compile(r'<[^>]+>')\n",
        "special_chars = re.compile('[^-9a-z#+_]')\n",
        "add_space = re.compile('[/(){}\\[\\]\\\\@;]')\n",
        "\n",
        "                             \n",
        "def clean_text_stemmer(text):\n",
        "    text = text.lower()\n",
        "    text = remove_html_tags.sub(\" \",text)\n",
        "    text = add_space.sub(\" \",text)\n",
        "    text = special_chars.sub(\" \",text)\n",
        "    text = remove_SW_Stem(text)\n",
        "    return text"
      ],
      "metadata": {
        "id": "ubxxUy8qC79G"
      },
      "execution_count": 27,
      "outputs": []
    },
    {
      "cell_type": "code",
      "source": [
        "df['cleaned_stemming'] = df['review'].apply(lambda text:clean_text_stemmer(text))"
      ],
      "metadata": {
        "id": "9pqk7EA5FEqJ"
      },
      "execution_count": 28,
      "outputs": []
    },
    {
      "cell_type": "code",
      "source": [
        "df['cleaned_stemming'].head()"
      ],
      "metadata": {
        "colab": {
          "base_uri": "https://localhost:8080/"
        },
        "id": "RC7zmM6eFUv0",
        "outputId": "4ce12481-4ea0-4d1b-b8e5-e1331c95ff64"
      },
      "execution_count": 29,
      "outputs": [
        {
          "output_type": "execute_result",
          "data": {
            "text/plain": [
              "0    one review mention watch   oz episod hook  rig...\n",
              "1    wonder littl product    film techniqu unassumi...\n",
              "2    thought wonder way spend time hot summer weeke...\n",
              "3    basic famili littl boy  jake  think zombi clos...\n",
              "4    petter mattei  love time money  visual stun fi...\n",
              "Name: cleaned_stemming, dtype: object"
            ]
          },
          "metadata": {},
          "execution_count": 29
        }
      ]
    },
    {
      "cell_type": "markdown",
      "source": [
        "### Applying lemmatization after cleaning the text"
      ],
      "metadata": {
        "id": "llTANBDvGreO"
      }
    },
    {
      "cell_type": "code",
      "source": [
        "lemet = WordNetLemmatizer()\n",
        "\n",
        "def remove_SW_Lemm(text):\n",
        "  text = [lemet.lemmatize(words) for words in text.split(\" \") if words not in custom_stop_words]\n",
        "  return \" \".join(text)\n",
        "\n",
        "remove_html_tags = re.compile(r'<[^>]+>')\n",
        "special_chars = re.compile('[^-9a-z#+_]')\n",
        "add_space = re.compile('[/(){}\\[\\]\\\\@;]')\n",
        "                             \n",
        "def clean_text_lemmati(text):\n",
        "    text = text.lower()\n",
        "    text = remove_html_tags.sub(\" \",text)\n",
        "    text = add_space.sub(\" \",text)\n",
        "    text = special_chars.sub(\" \",text)\n",
        "    text = remove_SW_Lemm(text)\n",
        "    return text"
      ],
      "metadata": {
        "id": "kAxmeLUzEyfJ"
      },
      "execution_count": 30,
      "outputs": []
    },
    {
      "cell_type": "code",
      "source": [
        "df['cleaned_lemmatize'] = df['review'].apply(lambda text:clean_text_lemmati(text))"
      ],
      "metadata": {
        "id": "Kuflp3qiGqWm"
      },
      "execution_count": 31,
      "outputs": []
    },
    {
      "cell_type": "code",
      "source": [
        "nltk.download('wordnet')"
      ],
      "metadata": {
        "colab": {
          "base_uri": "https://localhost:8080/"
        },
        "id": "whR6e2krHBLE",
        "outputId": "02164544-f739-4d37-9645-090fb5d44eeb"
      },
      "execution_count": 22,
      "outputs": [
        {
          "output_type": "stream",
          "name": "stderr",
          "text": [
            "[nltk_data] Downloading package wordnet to /root/nltk_data...\n"
          ]
        },
        {
          "output_type": "execute_result",
          "data": {
            "text/plain": [
              "True"
            ]
          },
          "metadata": {},
          "execution_count": 22
        }
      ]
    },
    {
      "cell_type": "code",
      "source": [
        "nltk.download('omw-1.4')"
      ],
      "metadata": {
        "colab": {
          "base_uri": "https://localhost:8080/"
        },
        "id": "-v8zu77pHE7F",
        "outputId": "6c69d6d6-24da-4c39-d35d-5cf2450cc662"
      },
      "execution_count": 24,
      "outputs": [
        {
          "output_type": "stream",
          "name": "stderr",
          "text": [
            "[nltk_data] Downloading package omw-1.4 to /root/nltk_data...\n"
          ]
        },
        {
          "output_type": "execute_result",
          "data": {
            "text/plain": [
              "True"
            ]
          },
          "metadata": {},
          "execution_count": 24
        }
      ]
    },
    {
      "cell_type": "code",
      "source": [
        "df['cleaned_lemmatize'].head()"
      ],
      "metadata": {
        "colab": {
          "base_uri": "https://localhost:8080/"
        },
        "id": "C_MZEhChHJl6",
        "outputId": "c6c88801-de76-4a89-c394-69d8b6e422b2"
      },
      "execution_count": 32,
      "outputs": [
        {
          "output_type": "execute_result",
          "data": {
            "text/plain": [
              "0    one reviewer mentioned watching   oz episode h...\n",
              "1    wonderful little production    filming techniq...\n",
              "2    thought wonderful way spend time hot summer we...\n",
              "3    basically family little boy  jake  think zombi...\n",
              "4    petter mattei  love time money  visually stunn...\n",
              "Name: cleaned_lemmatize, dtype: object"
            ]
          },
          "metadata": {},
          "execution_count": 32
        }
      ]
    },
    {
      "cell_type": "markdown",
      "source": [
        ""
      ],
      "metadata": {
        "id": "m7UlE-sBNjcK"
      }
    },
    {
      "cell_type": "code",
      "source": [
        "X_train, X_test, y_train, y_test = train_test_split(df['cleaned_lemmatize'], df['sentiment'], random_state=42, stratify=df['sentiment'], test_size=0.2)"
      ],
      "metadata": {
        "id": "RZiAK-68NkEb"
      },
      "execution_count": 39,
      "outputs": []
    },
    {
      "cell_type": "markdown",
      "source": [
        "### Apply Countvectorizer with one gram"
      ],
      "metadata": {
        "id": "ZOd8wTlkMzAp"
      }
    },
    {
      "cell_type": "code",
      "source": [
        "count_vect = CountVectorizer(analyzer='word', token_pattern=r'\\w{1,}')\n",
        "count_vect.fit(df['cleaned_lemmatize'])\n",
        "with open(r\"preproc_count_vect.pkl\", \"wb\") as output_file:\n",
        "  pickle.dump(count_vect, output_file)"
      ],
      "metadata": {
        "id": "viOx2CaAHi4T"
      },
      "execution_count": 42,
      "outputs": []
    },
    {
      "cell_type": "code",
      "source": [
        "# transform the training and validation data \n",
        "xtrain_count =  count_vect.transform(X_train)\n",
        "xtest_count =  count_vect.transform(X_test)"
      ],
      "metadata": {
        "id": "oUyx5hBYOdPZ"
      },
      "execution_count": 43,
      "outputs": []
    },
    {
      "cell_type": "code",
      "source": [
        "xtrain_count"
      ],
      "metadata": {
        "colab": {
          "base_uri": "https://localhost:8080/"
        },
        "id": "dOUesybEPjtu",
        "outputId": "b57e641a-866a-4c0d-c5f4-c9b58cb83c04"
      },
      "execution_count": 44,
      "outputs": [
        {
          "output_type": "execute_result",
          "data": {
            "text/plain": [
              "<40000x91692 sparse matrix of type '<class 'numpy.int64'>'\n",
              "\twith 3871397 stored elements in Compressed Sparse Row format>"
            ]
          },
          "metadata": {},
          "execution_count": 44
        }
      ]
    },
    {
      "cell_type": "markdown",
      "source": [
        "### Apply Countvectorizer with n gram"
      ],
      "metadata": {
        "id": "tWw8-rbFQJu6"
      }
    },
    {
      "cell_type": "code",
      "source": [
        "count_vect_ngram = CountVectorizer(ngram_range=(1,2))\n",
        "count_vect_ngram.fit(df['cleaned_lemmatize'])\n",
        "with open(r\"preproc_count_vect_ngram.pkl\", \"wb\") as output_file:\n",
        "  pickle.dump(count_vect_ngram, output_file)"
      ],
      "metadata": {
        "id": "bwzxBagBPoct"
      },
      "execution_count": 45,
      "outputs": []
    },
    {
      "cell_type": "code",
      "source": [
        "xtrain_count_ngram =  count_vect_ngram.transform(X_train)\n",
        "xtest_count_ngram =  count_vect_ngram.transform(X_test)"
      ],
      "metadata": {
        "id": "CyrdW5GtQSdG"
      },
      "execution_count": 46,
      "outputs": []
    },
    {
      "cell_type": "markdown",
      "source": [
        "### Apply TFIDF"
      ],
      "metadata": {
        "id": "L-w8psSjQ0-g"
      }
    },
    {
      "cell_type": "code",
      "source": [
        "# word level tf-idf\n",
        "tfidf_vect = TfidfVectorizer(analyzer='word', token_pattern=r'\\w{1,}', max_features=5000)\n",
        "tfidf_vect.fit(df['cleaned_lemmatize'])\n",
        "with open(r\"preproc_tfidf_vect.pkl\", \"wb\") as output_file:\n",
        "  pickle.dump(tfidf_vect, output_file)\n",
        "\n",
        "xtrain_tfidf =  tfidf_vect.transform(X_train)\n",
        "xtest_tfidf =  tfidf_vect.transform(X_test)\n",
        "print(\"word level tf-idf done\")\n"
      ],
      "metadata": {
        "colab": {
          "base_uri": "https://localhost:8080/"
        },
        "id": "oxBU58HEQlj0",
        "outputId": "61921f73-e1d0-4063-e013-c9aac755563c"
      },
      "execution_count": 48,
      "outputs": [
        {
          "output_type": "stream",
          "name": "stdout",
          "text": [
            "word level tf-idf done\n"
          ]
        }
      ]
    },
    {
      "cell_type": "code",
      "source": [
        "# ngram level tf-idf \n",
        "tfidf_vect_ngram = TfidfVectorizer(analyzer='word', token_pattern=r'\\w{1,}', ngram_range=(2,3), max_features=5000)\n",
        "tfidf_vect_ngram.fit(df['cleaned_lemmatize'])\n",
        "with open(r\"preproc_tfidf_vect_ngram.pkl\", \"wb\") as output_file:\n",
        "  pickle.dump(tfidf_vect_ngram, output_file)\n",
        "\n",
        "xtrain_tfidf_ngram =  tfidf_vect_ngram.transform(X_train)\n",
        "xtest_tfidf_ngram =  tfidf_vect_ngram.transform(X_test)\n",
        "print(\"ngram level tf-idf done\")\n"
      ],
      "metadata": {
        "colab": {
          "base_uri": "https://localhost:8080/"
        },
        "id": "axnqFHl9ROXX",
        "outputId": "4ff892c5-29ac-449a-e0cf-541a2ef80de9"
      },
      "execution_count": 49,
      "outputs": [
        {
          "output_type": "stream",
          "name": "stdout",
          "text": [
            "ngram level tf-idf done\n"
          ]
        }
      ]
    },
    {
      "cell_type": "code",
      "source": [
        "# characters level tf-idf\n",
        "tfidf_vect_ngram_chars = TfidfVectorizer(analyzer='char',  ngram_range=(2,3), max_features=5000) \n",
        "tfidf_vect_ngram_chars.fit(df['cleaned_lemmatize'])\n",
        "with open(r\"preproc_tfidf_vect_ngram_chars.pkl\", \"wb\") as output_file:\n",
        "  pickle.dump(tfidf_vect_ngram_chars, output_file)\n",
        "\n",
        "xtrain_tfidf_ngram_chars =  tfidf_vect_ngram_chars.transform(X_train) \n",
        "xtest_tfidf_ngram_chars =  tfidf_vect_ngram_chars.transform(X_test) \n",
        "print(\"characters level tf-idf done\")"
      ],
      "metadata": {
        "colab": {
          "base_uri": "https://localhost:8080/"
        },
        "id": "LbG4dxsBRoyj",
        "outputId": "737759f7-45ab-46ec-8f88-d29eaecb34e4"
      },
      "execution_count": 50,
      "outputs": [
        {
          "output_type": "stream",
          "name": "stdout",
          "text": [
            "characters level tf-idf done\n"
          ]
        }
      ]
    },
    {
      "cell_type": "code",
      "source": [
        ""
      ],
      "metadata": {
        "id": "qkAOyaEFR9MT"
      },
      "execution_count": null,
      "outputs": []
    }
  ]
}