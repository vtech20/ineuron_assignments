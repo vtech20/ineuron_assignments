{
 "cells": [
  {
   "cell_type": "markdown",
   "id": "7f04e6ce",
   "metadata": {},
   "source": [
    "**Q-19. Write an SQL query to determine the 5th highest salary without using TOP or limit\n",
    "method.**"
   ]
  },
  {
   "cell_type": "markdown",
   "id": "9baa3aa3",
   "metadata": {},
   "source": [
    "SELECT * FROM(\n",
    "SELECT emp_name, salary, ROW_NUMBER() \n",
    "over(ORDER BY salary DESC) AS ranking FROM employee) AS k\n",
    "WHERE ranking=5;"
   ]
  },
  {
   "cell_type": "markdown",
   "id": "32ce376f",
   "metadata": {},
   "source": [
    "**Q-20. Write an SQL query to fetch the list of employees with the same salary.**"
   ]
  },
  {
   "cell_type": "markdown",
   "id": "48177c7d",
   "metadata": {},
   "source": [
    "SELECT emp_name, salary From\n",
    " (\n",
    " SELECT emp_name, salary, Count(*) Over (Partition by salary) as SalaryCnt\n",
    " FROM employee\n",
    " ) S1\n",
    "WHERE SalaryCnt>1\n",
    "ORDER By salary Desc"
   ]
  },
  {
   "cell_type": "code",
   "execution_count": null,
   "id": "6eac7176",
   "metadata": {},
   "outputs": [],
   "source": []
  }
 ],
 "metadata": {
  "kernelspec": {
   "display_name": "Python 3 (ipykernel)",
   "language": "python",
   "name": "python3"
  },
  "language_info": {
   "codemirror_mode": {
    "name": "ipython",
    "version": 3
   },
   "file_extension": ".py",
   "mimetype": "text/x-python",
   "name": "python",
   "nbconvert_exporter": "python",
   "pygments_lexer": "ipython3",
   "version": "3.9.12"
  }
 },
 "nbformat": 4,
 "nbformat_minor": 5
}
