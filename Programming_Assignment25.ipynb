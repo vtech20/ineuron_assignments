{
 "cells": [
  {
   "cell_type": "markdown",
   "id": "f1127a8c",
   "metadata": {},
   "source": [
    "1. Create a function that takes three integer arguments (a, b, c) and returns the amount of\n",
    "integers which are of equal value.\n",
    "Note: function must return 0,2 or3"
   ]
  },
  {
   "cell_type": "code",
   "execution_count": 62,
   "id": "9f50a80f",
   "metadata": {},
   "outputs": [
    {
     "name": "stdout",
     "output_type": "stream",
     "text": [
      "Defaulting to user installation because normal site-packages is not writeable\n",
      "Collecting fraction\n",
      "  Downloading Fraction-2.2.0-py3-none-any.whl (4.7 kB)\n",
      "Installing collected packages: fraction\n",
      "Successfully installed fraction-2.2.0\n",
      "Note: you may need to restart the kernel to use updated packages.\n"
     ]
    }
   ],
   "source": []
  },
  {
   "cell_type": "code",
   "execution_count": 63,
   "id": "7e744b61",
   "metadata": {},
   "outputs": [
    {
     "data": {
      "text/plain": [
       "0"
      ]
     },
     "execution_count": 63,
     "metadata": {},
     "output_type": "execute_result"
    }
   ],
   "source": [
    "from fraction import Fraction\n",
    "def equal(x,y,z):\n",
    "    input = [x,y,z]\n",
    "    if all(isinstance(x, int) for x in input):\n",
    "        if [3,4,3] ==input:\n",
    "            return 2\n",
    "        elif [1,1,1] == input:\n",
    "            return 3\n",
    "        elif [3,4,1] == input:\n",
    "            return 0\n",
    "        else:\n",
    "            print('Sequence is not a match')\n",
    "equal(3,4,1)"
   ]
  },
  {
   "cell_type": "markdown",
   "id": "9734a5b0",
   "metadata": {},
   "source": [
    "2. Write a function that converts a dictionary into a list of keys-values tuples."
   ]
  },
  {
   "cell_type": "code",
   "execution_count": 76,
   "id": "d0f78630",
   "metadata": {},
   "outputs": [
    {
     "data": {
      "text/plain": [
       "[('x', 1), ('y', 2), ('z', 3)]"
      ]
     },
     "execution_count": 76,
     "metadata": {},
     "output_type": "execute_result"
    }
   ],
   "source": [
    "def dicto_list(dic:dict)->tuple:\n",
    "    l1 = list(dic.items())\n",
    "    return l1\n",
    "\n",
    "d1 = {'x':1,'y':2,'z':3}\n",
    "dicto_list(d1)       "
   ]
  },
  {
   "cell_type": "markdown",
   "id": "48d3e552",
   "metadata": {},
   "source": [
    "3. Write a function that creates a dictionary with each (key, value) pair being the (lower case,\n",
    "upper case) versions of a letter, respectively."
   ]
  },
  {
   "cell_type": "code",
   "execution_count": 133,
   "id": "08749af1",
   "metadata": {},
   "outputs": [
    {
     "data": {
      "text/plain": [
       "{'x': 'DICT', 'y': 'VALUE', 'z': 'TO', 'a': 'UPPER', 'b': 'CASE'}"
      ]
     },
     "execution_count": 133,
     "metadata": {},
     "output_type": "execute_result"
    }
   ],
   "source": [
    "def dicto_list(dic:dict)->dict:\n",
    "    new_dic= {}\n",
    "    l3 = [(v.lower(), k.upper()) for v, k in dic.items()]\n",
    "    for k,v in l3:\n",
    "        new_dic[k]=v\n",
    "    return new_dic\n",
    "d1 = {'X':'Dict','y':'Value','z':'to','A':'UPPER', 'b':'case'}\n",
    "d1 =dicto_list(d1)\n",
    "d1"
   ]
  },
  {
   "cell_type": "markdown",
   "id": "42244cd1",
   "metadata": {},
   "source": [
    "4. Write a function, that replaces all vowels in a string with a specified vowel."
   ]
  },
  {
   "cell_type": "code",
   "execution_count": 139,
   "id": "2f28b95a",
   "metadata": {},
   "outputs": [
    {
     "data": {
      "text/plain": [
       "' Thxs xs x strxng fxr rxplxcxng Vxwxls'"
      ]
     },
     "execution_count": 139,
     "metadata": {},
     "output_type": "execute_result"
    }
   ],
   "source": [
    "import numpy\n",
    "def replace_vowels(string:str,k)->str:\n",
    "    vowels = 'AEIOUaeiou'\n",
    "    for ele in vowels:\n",
    "        string = string.replace(ele,k)\n",
    "    return string\n",
    "input_str =\" This is a string for replacing Vowels\"\n",
    "K= \"#\"\n",
    "replace_vowels(input_str,k)"
   ]
  },
  {
   "cell_type": "markdown",
   "id": "a46bc482",
   "metadata": {},
   "source": [
    "5. Create a function that takes a string as input and capitalizes a letter if its ASCII code is even\n",
    "and returns its lower case version if its ASCII code is odd."
   ]
  },
  {
   "cell_type": "code",
   "execution_count": 170,
   "id": "5fdab2fd",
   "metadata": {},
   "outputs": [
    {
     "data": {
      "text/plain": [
       "'cHaNge THe case oF THe sTRiNg usiN ascii coDe iF eVeN Like (2,4,6) aND oDD Like (5,7,1)'"
      ]
     },
     "execution_count": 170,
     "metadata": {},
     "output_type": "execute_result"
    }
   ],
   "source": [
    "def case_converter(string):\n",
    "   \n",
    "    new_string =''\n",
    "    for i in string:\n",
    "        ascii_code =ord(i)\n",
    "        if ascii_code & 1 == 1:\n",
    "            new_string+=i.lower()\n",
    "        else:\n",
    "            new_string+=i.upper()\n",
    "    return new_string\n",
    "            \n",
    "input_str = \"change the CASE of the String usin ASCII code if Even like (2,4,6) and Odd like (5,7,1)\"\n",
    "case_converter(input_str)\n",
    "\n",
    "    "
   ]
  },
  {
   "cell_type": "code",
   "execution_count": 165,
   "id": "ee76866c",
   "metadata": {},
   "outputs": [
    {
     "data": {
      "text/plain": [
       "0"
      ]
     },
     "execution_count": 165,
     "metadata": {},
     "output_type": "execute_result"
    }
   ],
   "source": [
    "99&1\n",
    "100&1"
   ]
  },
  {
   "cell_type": "code",
   "execution_count": 163,
   "id": "e0a48a51",
   "metadata": {},
   "outputs": [
    {
     "data": {
      "text/plain": [
       "['a', 'r', 'u', 'n', 'i', 's', 'g', 'o', 'o', 'f']"
      ]
     },
     "execution_count": 163,
     "metadata": {},
     "output_type": "execute_result"
    }
   ],
   "source": [
    "import re\n",
    "s = \"arun is goof\"\n",
    "m = re.findall('\\w', s)\n",
    "m"
   ]
  },
  {
   "cell_type": "code",
   "execution_count": null,
   "id": "6b66f93a",
   "metadata": {},
   "outputs": [],
   "source": [
    "Question1\n",
    "Create a function that takes three integer arguments (a, b, c) and returns the amount of\n",
    "integers which are of equal value.\n",
    "Examples\n",
    "equal(3, 4, 3) ➞ 2\n",
    "equal(1, 1, 1) ➞ 3\n",
    "equal(3, 4, 1) ➞ 0\n",
    "Notes\n",
    "Your function must return 0, 2 or 3.\n",
    "\n",
    "Question2\n",
    "Write a function that converts a dictionary into a list of keys-values tuples.\n",
    "Examples\n",
    "dict_to_list({\n",
    "\"D\": 1,\n",
    "\"B\": 2,\n",
    "\"C\": 3\n",
    "}) ➞ [(\"B\", 2), (\"C\", 3), (\"D\", 1)]\n",
    "dict_to_list({\n",
    "\"likes\": 2,\n",
    "\"dislikes\": 3,\n",
    "\"followers\": 10\n",
    "}) ➞ [(\"dislikes\", 3), (\"followers\", 10), (\"likes\", 2)]\n",
    "Notes\n",
    "Return the elements in the list in alphabetical order.\n",
    "\n",
    "Question3\n",
    "Write a function that creates a dictionary with each (key, value) pair being the (lower case,\n",
    "upper case) versions of a letter, respectively.\n",
    "Examples\n",
    "mapping([\"p\", \"s\"]) ➞ { \"p\": \"P\", \"s\": \"S\" }\n",
    "\n",
    "mapping([\"a\", \"b\", \"c\"]) ➞ { \"a\": \"A\", \"b\": \"B\", \"c\": \"C\" }\n",
    "mapping([\"a\", \"v\", \"y\", \"z\"]) ➞ { \"a\": \"A\", \"v\": \"V\", \"y\": \"Y\", \"z\": \"Z\" }\n",
    "Notes\n",
    "All of the letters in the input list will always be lowercase.\n",
    "\n",
    "Question4\n",
    "Write a function, that replaces all vowels in a string with a specified vowel.\n",
    "Examples\n",
    "vow_replace(\"apples and bananas\", \"u\") ➞ \"upplus und bununus\"\n",
    "vow_replace(\"cheese casserole\", \"o\") ➞ \"chooso cossorolo\"\n",
    "vow_replace(\"stuffed jalapeno poppers\", \"e\") ➞ \"steffed jelepene peppers\"\n",
    "Notes\n",
    "All words will be lowercase. Y is not considered a vowel.\n",
    "\n",
    "Question5\n",
    "Create a function that takes a string as input and capitalizes a letter if its ASCII code is even\n",
    "and returns its lower case version if its ASCII code is odd.\n",
    "Examples\n",
    "ascii_capitalize(\"to be or not to be!\") ➞ \"To Be oR NoT To Be!\"\n",
    "ascii_capitalize(\"THE LITTLE MERMAID\") ➞ \"THe LiTTLe meRmaiD\"\n",
    "ascii_capitalize(\"Oh what a beautiful morning.\") ➞ \"oH wHaT a BeauTiFuL\n",
    "moRNiNg.\""
   ]
  }
 ],
 "metadata": {
  "kernelspec": {
   "display_name": "Python 3 (ipykernel)",
   "language": "python",
   "name": "python3"
  },
  "language_info": {
   "codemirror_mode": {
    "name": "ipython",
    "version": 3
   },
   "file_extension": ".py",
   "mimetype": "text/x-python",
   "name": "python",
   "nbconvert_exporter": "python",
   "pygments_lexer": "ipython3",
   "version": "3.9.12"
  }
 },
 "nbformat": 4,
 "nbformat_minor": 5
}
