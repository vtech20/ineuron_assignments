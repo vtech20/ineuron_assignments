{
 "cells": [
  {
   "cell_type": "markdown",
   "id": "e6cc24af",
   "metadata": {},
   "source": [
    "**Question1. Write a function that stutters a word as if someone is struggling to read it. The\n",
    "first two letters are repeated twice with an ellipsis ... and space after each, and then the\n",
    "word is pronounced with a question mark ?.**\n",
    "\n",
    "Examples\n",
    "\n",
    "stutter(&quot;incredible&quot;) ➞ &quot;in... in... incredible?&quot;\n",
    "\n",
    "stutter(&quot;enthusiastic&quot;) ➞ &quot;en... en... enthusiastic?&quot;\n",
    "\n",
    "stutter(&quot;outstanding&quot;) ➞ &quot;ou... ou... outstanding?&quot;\n",
    "\n",
    "Hint :- Assume all input is in lower case and at least two characters long."
   ]
  },
  {
   "cell_type": "code",
   "execution_count": 1,
   "id": "02b44b3f",
   "metadata": {},
   "outputs": [],
   "source": [
    "def stutter(str1):\n",
    "    print((str1[0:2]+\"...\")*2+str1)"
   ]
  },
  {
   "cell_type": "code",
   "execution_count": 2,
   "id": "74a032d6",
   "metadata": {},
   "outputs": [
    {
     "name": "stdout",
     "output_type": "stream",
     "text": [
      "in...in...incredible\n"
     ]
    }
   ],
   "source": [
    "stutter(\"incredible\")"
   ]
  },
  {
   "cell_type": "markdown",
   "id": "6b511b47",
   "metadata": {},
   "source": [
    "**Question 2.Create a function that takes an angle in radians and returns the corresponding\n",
    "angle in degrees rounded to one decimal place.**\n",
    "\n",
    "Examples\n",
    "\n",
    "radians_to_degrees(1) ➞ 57.3\n",
    "\n",
    "radians_to_degrees(20) ➞ 1145.9\n",
    "\n",
    "radians_to_degrees(50) ➞ 2864.8"
   ]
  },
  {
   "cell_type": "code",
   "execution_count": 3,
   "id": "ec09ff0d",
   "metadata": {},
   "outputs": [
    {
     "name": "stdout",
     "output_type": "stream",
     "text": [
      "Radian to degrees --> 5730.0\n"
     ]
    }
   ],
   "source": [
    "def angle(radians):\n",
    "    radians_to_degrees = round(radians*57.3,1)\n",
    "    print(f'Radian to degrees --> {radians_to_degrees }')  \n",
    "angle(100)  "
   ]
  },
  {
   "cell_type": "markdown",
   "id": "e186258b",
   "metadata": {},
   "source": [
    "**Question 3. In this challenge, establish if a given integer num is a Curzon number. If 1 plus\n",
    "2 elevated to num is exactly divisible by 1 plus 2 multiplied by num, then num is a Curzon\n",
    "number.\n",
    "Given a non-negative integer num, implement a function that returns True if num is a Curzon\n",
    "number, or False otherwise.**"
   ]
  },
  {
   "cell_type": "markdown",
   "id": "64bc3d89",
   "metadata": {},
   "source": [
    "Examples\n",
    "is_curzon(5) ➞ True\n",
    "# 2 ** 5 + 1 = 33\n",
    "# 2 * 5 + 1 = 11\n",
    "# 33 is a multiple of 11\n",
    "is_curzon(10) ➞ False\n",
    "# 2 ** 10 + 1 = 1025\n",
    "# 2 * 10 + 1 = 21\n",
    "# 1025 is not a multiple of 21\n",
    "is_curzon(14) ➞ True\n",
    "# 2 ** 14 + 1 = 16385\n",
    "# 2 * 14 + 1 = 29\n",
    "# 16385 is a multiple of 29"
   ]
  },
  {
   "cell_type": "code",
   "execution_count": 4,
   "id": "b141858a",
   "metadata": {},
   "outputs": [
    {
     "name": "stdout",
     "output_type": "stream",
     "text": [
      "Power Term, Product Term : (33, 11)\n",
      "Yes\n",
      "Power Term, Product Term : (1025, 21)\n",
      "No\n"
     ]
    }
   ],
   "source": [
    "def checkIfCurzonNumber(N):\n",
    " \n",
    "    # Find 2^N + 1\n",
    "    powerTerm = pow(2, N) + 1\n",
    "    \n",
    "    # Find 2*N + 1\n",
    "    productTerm = 2 * N + 1\n",
    "    print(f'Power Term, Product Term : {powerTerm,productTerm}')\n",
    "    # Check for divisibility\n",
    "    if (powerTerm % productTerm == 0):\n",
    "        print(\"Yes\")\n",
    "    else:\n",
    "        print(\"No\")\n",
    " \n",
    "N = 5\n",
    "checkIfCurzonNumber(N)\n",
    " \n",
    "N = 10\n",
    "checkIfCurzonNumber(N)\n",
    " "
   ]
  },
  {
   "cell_type": "markdown",
   "id": "1c221fa8",
   "metadata": {},
   "source": [
    "**Question 4.Given the side length x find the area of a hexagon.**"
   ]
  },
  {
   "cell_type": "code",
   "execution_count": 11,
   "id": "339fcaa9",
   "metadata": {},
   "outputs": [
    {
     "name": "stdout",
     "output_type": "stream",
     "text": [
      "area is 2.60\n"
     ]
    }
   ],
   "source": [
    "import math\n",
    "def area_of_hexagon(s):\n",
    "    area = (3*math.sqrt(3)*s**2)/2\n",
    "    print('area is %.2f' %area)\n",
    "\n",
    "area_of_hexagon(1)"
   ]
  },
  {
   "cell_type": "code",
   "execution_count": 12,
   "id": "00fbadcd",
   "metadata": {},
   "outputs": [
    {
     "name": "stdout",
     "output_type": "stream",
     "text": [
      "area is 10.39\n"
     ]
    }
   ],
   "source": [
    "area_of_hexagon(2)"
   ]
  },
  {
   "cell_type": "markdown",
   "id": "a05e4005",
   "metadata": {},
   "source": [
    "**Question 5.Create a function that returns a base-2 (binary) representation of a base-10\n",
    "(decimal) string number. To convert is simple: ((2) means base-2 and (10) means base-10)\n",
    "010101001(2) = 1 + 8 + 32 + 128.**"
   ]
  },
  {
   "cell_type": "code",
   "execution_count": 17,
   "id": "5aa96edc",
   "metadata": {},
   "outputs": [],
   "source": [
    "def binary(decimal):\n",
    "    result = \"\"\n",
    "    if decimal == 0:\n",
    "        result = \"0\"\n",
    "    while decimal > 0:\n",
    "        result += str(decimal%2)\n",
    "        decimal = decimal//2\n",
    "    return result[::-1]"
   ]
  },
  {
   "cell_type": "code",
   "execution_count": 18,
   "id": "142f108d",
   "metadata": {},
   "outputs": [
    {
     "data": {
      "text/plain": [
       "'1'"
      ]
     },
     "execution_count": 18,
     "metadata": {},
     "output_type": "execute_result"
    }
   ],
   "source": [
    "binary(1)"
   ]
  },
  {
   "cell_type": "code",
   "execution_count": 19,
   "id": "aaf043a1",
   "metadata": {},
   "outputs": [
    {
     "data": {
      "text/plain": [
       "'1010'"
      ]
     },
     "execution_count": 19,
     "metadata": {},
     "output_type": "execute_result"
    }
   ],
   "source": [
    "binary(10)"
   ]
  },
  {
   "cell_type": "code",
   "execution_count": null,
   "id": "dae17dac",
   "metadata": {},
   "outputs": [],
   "source": []
  }
 ],
 "metadata": {
  "kernelspec": {
   "display_name": "Python 3 (ipykernel)",
   "language": "python",
   "name": "python3"
  },
  "language_info": {
   "codemirror_mode": {
    "name": "ipython",
    "version": 3
   },
   "file_extension": ".py",
   "mimetype": "text/x-python",
   "name": "python",
   "nbconvert_exporter": "python",
   "pygments_lexer": "ipython3",
   "version": "3.9.12"
  }
 },
 "nbformat": 4,
 "nbformat_minor": 5
}
