{
 "cells": [
  {
   "cell_type": "markdown",
   "id": "c5ea921d",
   "metadata": {},
   "source": [
    "**1. What are the key tasks involved in getting ready to work with machine learning modeling?**"
   ]
  },
  {
   "cell_type": "markdown",
   "id": "5ccbb86c",
   "metadata": {},
   "source": [
    "The various steps involved in getting ready to work with machine learning modelling.\n",
    "\n",
    "- Collecting Data\n",
    "- Preparing the Data\n",
    "- Choosing a Model\n",
    "- Training the Model\n",
    "- Evaluating the Model\n",
    "- Parameter Tuning\n",
    "- Making Predictions"
   ]
  },
  {
   "cell_type": "markdown",
   "id": "59a1ace4",
   "metadata": {},
   "source": [
    "**2. What are the different forms of data used in machine learning? Give a specific example for each of them.**"
   ]
  },
  {
   "cell_type": "markdown",
   "id": "4b2ec15c",
   "metadata": {},
   "source": [
    "Data can be any unprocessed fact, value, text, sound, or picture.\n",
    "\n",
    "It can be Qualitative (Nominal,Ordinal) or Quantitative (Discrete, Continuous)"
   ]
  },
  {
   "cell_type": "markdown",
   "id": "5ed3f1b0",
   "metadata": {},
   "source": [
    "Examples:\n",
    "\n",
    "Nominal: Name of a person, Name of a school<br>\n",
    "Ordinal: Education, Designation or Grade Level<br>\n",
    "Discrete: Number of passengers in a train, Number of students in a class<br>\n",
    "Continuous: Weight of the people in elevators, Petrol price"
   ]
  },
  {
   "cell_type": "markdown",
   "id": "72b41267",
   "metadata": {},
   "source": [
    "**3. Distinguish:**\n",
    "\n",
    "- Numeric vs. categorical attributes\n",
    "\n",
    "- Feature selection vs. dimensionality reduction"
   ]
  },
  {
   "cell_type": "markdown",
   "id": "627e9216",
   "metadata": {},
   "source": [
    "Categorical data is a type of data that is used to group information with similar characteristics while <br>Numerical data is a type of data that expresses information in the form of numbers. "
   ]
  },
  {
   "cell_type": "markdown",
   "id": "a1cae5c4",
   "metadata": {},
   "source": [
    "Categorical data is also called qualitative data while numerical data is also called quantitative data. This is because categorical data is used to qualify information before classifying them according to their similarities."
   ]
  },
  {
   "cell_type": "markdown",
   "id": "803c277b",
   "metadata": {},
   "source": [
    "Categorical data is divided into two types, namely; nominal and ordinal data while numerical data is categorised into discrete and continuous data. "
   ]
  },
  {
   "cell_type": "markdown",
   "id": "88a51866",
   "metadata": {},
   "source": [
    "Categorical data can be collected through different methods, which may differ from categorical data types. For instance, nominal data is mostly collected using open-ended questions while ordinal data is mostly collected using multiple-choice questions.\n",
    "Numerical data, on the other hand, is mostly collected through multiple-choice questions. We observe that it is mostly collected using open-ended questions whenever there is a need for calculation.\n"
   ]
  },
  {
   "cell_type": "markdown",
   "id": "73bfe064",
   "metadata": {},
   "source": [
    "- Feature selection vs. dimensionality reduction:"
   ]
  },
  {
   "cell_type": "markdown",
   "id": "c84ce69b",
   "metadata": {},
   "source": [
    "Feature selection yields a subset of features from the original set of features, which are best representatives of the data. It is an exhaustive search.\n",
    "\n",
    "-In text data, features might be size of characters or some global features of the text. Feature selection will keep only certain features of those.\n",
    "\n",
    "-Feature selection is done in the context of an optimization problem.\n",
    "\n",
    "Dimension Reduction\n",
    "\n",
    "Dimensionality reduction is generic and only depends on the data and not on what you plan to do with it.\n",
    "\n",
    "Assuming a classification problem you select the features that will help you classify your data better, while a dimensionality reduction algorithm is unaware of this and just projects the data into a lower dimensionality space. \n",
    "\n",
    "That in turn can work quite well or not for your classification algorithm.\n"
   ]
  },
  {
   "cell_type": "markdown",
   "id": "8b6c0e51",
   "metadata": {},
   "source": [
    "**4. Make quick notes on any two of the following:**"
   ]
  },
  {
   "cell_type": "markdown",
   "id": "5e61b085",
   "metadata": {},
   "source": [
    "1. The histogram\n",
    "\n",
    "2. Use a scatter plot\n",
    "\n",
    "3. PCA (Personal Computer Aid)"
   ]
  },
  {
   "cell_type": "markdown",
   "id": "7e35288f",
   "metadata": {},
   "source": [
    "**Histogram**:\n",
    "\n",
    "A histogram is a graphical representation of data points organized into user-specified ranges. Similar in appearance to a bar graph, the histogram condenses a data series into an easily interpreted visual by taking many data points and grouping them into logical ranges or bins."
   ]
  },
  {
   "cell_type": "markdown",
   "id": "9881d0f8",
   "metadata": {},
   "source": [
    "**Use a scatter plot**:\n",
    "\n",
    "Scatter plots are used in either of the following situations.<br>\n",
    "●\tWhen we have paired numerical data<br>\n",
    "●\tWhen there are multiple values of the dependent variable for a unique value of an independent variable<br>\n",
    "●\tIn determining the relationship between variables in some scenarios, such as identifying potential root causes of problems, checking whether two products that appear to be related both occur with the exact cause and so on.\n"
   ]
  },
  {
   "cell_type": "markdown",
   "id": "14e4572e",
   "metadata": {},
   "source": [
    "**PCA (Principal Component Analysis)**"
   ]
  },
  {
   "cell_type": "markdown",
   "id": "e866b43b",
   "metadata": {},
   "source": [
    "Principal component analysis (PCA) is a popular technique for analyzing large datasets containing a high number of dimensions/features per observation, increasing the interpretability of data while preserving the maximum amount of information, and enabling the visualization of multidimensional data."
   ]
  },
  {
   "cell_type": "markdown",
   "id": "3279c8ff",
   "metadata": {},
   "source": [
    "**5. Why is it necessary to investigate data? Is there a discrepancy in how qualitative and quantitative\n",
    "data are explored?**"
   ]
  },
  {
   "cell_type": "markdown",
   "id": "a924bd55",
   "metadata": {},
   "source": [
    "Data investigation is a process to understand the nature of data. Investigators can make sense of a real-world issue through data and make evidence-based claims and inferences to propose solutions to a problem. \n",
    "\n",
    "Quantitative data is fixed and universal. Qualitative data is subjective and unique. Quantitative research methods are measuring and counting. A qualitative approach is subjective, too. It focuses on describing an action, rather than measuring it.\n",
    "\n",
    "Quantitative data is expressed in numbers that can be counted or measured, whereas qualitative data is descriptive and conceptual.Qualitative research does not simply help to collect data. It gives a chance to understand the trends and meanings of natural actions. It’s flexible and iterative.\n"
   ]
  },
  {
   "cell_type": "markdown",
   "id": "5737dc26",
   "metadata": {},
   "source": [
    "**6. What are the various histogram shapes? What exactly are ‘bins&#39;?**"
   ]
  },
  {
   "cell_type": "markdown",
   "id": "86b9476b",
   "metadata": {},
   "source": [
    "The different types of a histogram are: \n",
    "\n",
    "Bell-shaped, Skewed,Random, Uniform histogram, Symmetric histogram, Bimodal histogram.\n",
    "\n",
    "Bins: bins represent ranges of data \n",
    "\n",
    "histogram displays numerical data by grouping data into \"bins\" of equal width. Each bin is plotted as a bar whose height corresponds to how many data points are in that bin. Bins are also sometimes called \"intervals\", \"classes\", or \"buckets\".\n",
    "\n",
    "The bins are usually specified as consecutive, non-overlapping intervals of a variable. The bins (intervals) must be adjacent and are often (but not required to be) of equal size.If the bins are of equal size, a bar is drawn over the bin with height proportional to the frequency—the number of cases in each bin. A histogram may also be normalized to display \"relative\" frequencies showing the proportion of cases that fall into each of several categories, with the sum of the heights equaling 1.\n"
   ]
  },
  {
   "cell_type": "markdown",
   "id": "7907f1e3",
   "metadata": {},
   "source": [
    "**7. How do we deal with data outliers?**"
   ]
  },
  {
   "cell_type": "markdown",
   "id": "1b1e3b8e",
   "metadata": {},
   "source": [
    "Below are some of the methods of treating the outliers\n",
    "\n",
    "- Trimming/removing the outlier\n",
    "- Quantile based flooring and capping\n",
    "- Mean/Median imputation"
   ]
  },
  {
   "cell_type": "markdown",
   "id": "5cd41613",
   "metadata": {},
   "source": [
    "**8. What are the various central inclination measures? Why does mean vary too much from median in\n",
    "certain data sets?**"
   ]
  },
  {
   "cell_type": "markdown",
   "id": "209091cd",
   "metadata": {},
   "source": [
    "Mean, Median and Mode are central inclination measures.\n",
    "\n",
    "The Median is the middle score for a set of data that has been arranged in order of magnitude.\n",
    "\n",
    "The Mean equal to sum of all the values in the dataset divided by the number of values in the data.\n",
    "\n",
    "Mean is susceptible to influence of outliers. These values are unusual compared to the rest of the data set by being especially small or large in numerical value. \n",
    "\n",
    "The mean is being skewed by two large or small data points values.\n"
   ]
  },
  {
   "cell_type": "markdown",
   "id": "9ad1c14a",
   "metadata": {},
   "source": [
    "**9. Describe how a scatter plot can be used to investigate bivariate relationships. Is it possible to find outliers using a scatter plot?**"
   ]
  },
  {
   "cell_type": "markdown",
   "id": "33e07aa5",
   "metadata": {},
   "source": [
    "A bivariate plot graphs the relationship between two variables that have been measured on a single sample of subjects. Such a plot permits you to see at a glance the degree and pattern of relation between the two variables. On a bivariate plot, the abscissa (X-axis) represents the potential scores of the predictor variable and the ordinate (Y-axis) represents the potential scores of the predicted or outcome variable. Each point on the plot shows the X and Y scores for a single subject. This is what we mean by \"bivariate\" plot -- each point represents two variables. A bivariate plot of two scores (self-esteem and Interpersonal Avoidance) from our class dataset is shown below. The red line on the graph shows a perfect linear relationship between the two variables."
   ]
  },
  {
   "cell_type": "markdown",
   "id": "4bff5ffc",
   "metadata": {},
   "source": [
    "As can be seen, the points on this graph do not follow a perfect straight line. The distance of the points to the line is called \"scatter\". A large amount of scatter around the line indicates a weak relationship. Little scatter represents a strong relationship. If all points fall directly on a straight line, we have a perfect linear relationship between our two variables."
   ]
  },
  {
   "cell_type": "markdown",
   "id": "6395e4f0",
   "metadata": {},
   "source": [
    "We also look at the graph to determine the direction of the linear relationship. A line that begins in the upper left corner of the plot and ends in the lower right corner (like the relationship shown above) is called a negative relationship. In a negative linear relationship, high scores on the X variable predict low scores on the Y variable. In the example above, high levels of self-esteem are associated with low levels of interpersonal avoidance. A line that begins in the lower left corner of the plot and ends in the upper right corner is called a positive relationship.\n",
    "\n",
    "If there is a regression line on a scatter plot, you can identify outliers. An outlier for a scatter plot is the point or points that are farthest from the regression line. There is at least one outlier on a scatter plot in most cases, and there is usually only one outlier. Note that outliers for a scatter plot are very different from outliers for a boxplot. "
   ]
  },
  {
   "cell_type": "markdown",
   "id": "ebb41b25",
   "metadata": {},
   "source": [
    "**10. Describe how cross-tabs can be used to figure out how two variables are related.**"
   ]
  },
  {
   "cell_type": "markdown",
   "id": "c0f40514",
   "metadata": {},
   "source": [
    "By showing how correlations change from one group of variables to another, cross tabulation allows for the identification of patterns, trends, and probabilities within data sets. When it comes to analyzing survey response data, cross tabulation reports depict the relationship between two or more survey questions.\n",
    "\n",
    "A cross-tabulation (or just crosstab) is a table that looks at the distribution of two variables simultaneously.\n",
    "A cross tabulation groups variables to understand the correlation between different variables.\n",
    "Use crosstab contingency tables with chi-square analysis for categorical data.  The test helps you determine if two discrete variables are associated.\n"
   ]
  },
  {
   "cell_type": "code",
   "execution_count": null,
   "id": "0e2f2463",
   "metadata": {},
   "outputs": [],
   "source": []
  }
 ],
 "metadata": {
  "kernelspec": {
   "display_name": "Python 3 (ipykernel)",
   "language": "python",
   "name": "python3"
  },
  "language_info": {
   "codemirror_mode": {
    "name": "ipython",
    "version": 3
   },
   "file_extension": ".py",
   "mimetype": "text/x-python",
   "name": "python",
   "nbconvert_exporter": "python",
   "pygments_lexer": "ipython3",
   "version": "3.9.12"
  }
 },
 "nbformat": 4,
 "nbformat_minor": 5
}
