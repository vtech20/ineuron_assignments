{
 "cells": [
  {
   "cell_type": "markdown",
   "metadata": {},
   "source": [
    "**1.Explain the term machine learning, and how does it work? Explain two machine learning\n",
    "applications in the business world. What are some of the ethical concerns that machine learning\n",
    "applications could raise?**"
   ]
  },
  {
   "cell_type": "markdown",
   "metadata": {},
   "source": [
    "Artificial intelligence (AI) in the form of machine learning instructs computers to think like people do by learning from and improving upon prior experiences. It uses little to no human intervention and operates by examining data and recognising patterns.\n",
    "\n",
    "Applications come in several forms in the business world:\n",
    "\n",
    "\n",
    "* Real-time chatbot agents.\n",
    "* Customer recommendation engines.\n",
    "* Fraud detection.\n",
    "\n",
    "Additionally, there are a few ethical issues that ML applications could bring up: Three main ethical issues that AI raises for society are privacy and surveillance, bias and discrimination, and possibly the most profound and challenging philosophical topic of our time"
   ]
  },
  {
   "cell_type": "markdown",
   "metadata": {},
   "source": [
    "**2. Describe the process of human learning ?**"
   ]
  },
  {
   "cell_type": "markdown",
   "metadata": {},
   "source": [
    "* under the direction of professionals\n",
    "* with the indirect support of professionals\n",
    "* Self-education\n",
    "\n",
    "**Under the supervision of experts:** By training the technology in real-time, SME can speed up the learning process through human-guided machine learning. For instance, a person can be requested to weigh in and provide comments if the machine learning model comes across any data that it is unsure about. The model then incorporates what it has learned from this input to produce a future prediction that is more accurate.\n",
    "\n",
    "**With the assistance of experts in an indirect manner** Well You may imagine a teacher supervising the learning process as the algorithm learns from the training dataset. The algorithm iteratively produces predictions on the training data and is corrected by the teacher because we are aware of the right answers. When the algorithm reaches an acceptable level of Operant Conditioning performance, learning ceases.\n",
    "\n",
    "**Self-education:** The capacity to spot patterns, gather knowledge from facts, and gradually improve one's intelligence (can be AI or programmatically based).\n",
    "\n",
    "Machine learning is the ability of artificial intelligence (AI) systems to automatically learn from experience and get better over time without being explicitly programmed via Hebbian Learning."
   ]
  },
  {
   "cell_type": "markdown",
   "metadata": {},
   "source": [
    "**3. Provide a few examples of various types of machine learning.**"
   ]
  },
  {
   "cell_type": "markdown",
   "metadata": {},
   "source": [
    "Text classification problems are an example of supervised learning. Predicting the class label of a given piece of text is the objective of this group of challenges. Predicting the tone of a text, such as a tweet or a product review, is a topic in text classification that is highly popular. Segmentation of images, medical conclusion\n",
    "\n",
    "Examples of unsupervised learning include the detection of fraud, malware, anomalies, clustering analysis, and human entry errors. carrying out precise basket analysis, etc.\n",
    "\n",
    "Applications in self-driving automobiles and industrial automation are examples of Reinforcement Learning in action. Learning-based robots are utilised to carry out a variety of tasks."
   ]
  },
  {
   "cell_type": "markdown",
   "metadata": {},
   "source": [
    "**4. Examine the various forms of machine learning ?**"
   ]
  },
  {
   "cell_type": "markdown",
   "metadata": {},
   "source": [
    "* Supervised Learning\n",
    "* Unsupervised Learning\n",
    "* Reinforcement Learning."
   ]
  },
  {
   "cell_type": "markdown",
   "metadata": {},
   "source": [
    "**5. Can you explain what a well-posed learning problem is? Explain the main characteristics that must\n",
    "be present to identify a learning problem properly.**"
   ]
  },
  {
   "cell_type": "markdown",
   "metadata": {},
   "source": [
    "A computer programme is said to learn from Experience E when given a task T and a performance measure P, according to the official definition of a well-posed learning problem. It upgrades with experience E if it performs on T with a performance measure P.\n",
    "\n",
    "\n",
    "The three crucial elements of a well-posed learning issue are, in order,\n",
    "\n",
    "Measure of Task, Performance & Experience\n",
    "\n"
   ]
  },
  {
   "cell_type": "markdown",
   "metadata": {},
   "source": [
    "**6. Is machine learning capable of solving all problems? Give a detailed explanation of your answer.**"
   ]
  },
  {
   "cell_type": "markdown",
   "metadata": {},
   "source": [
    "It's crucial to realise that not every issue can be solved by machine learning. Given how valuable machine learning is, it can be challenging to realise that it isn't always the best way to solve an issue.\n",
    "\n",
    "The ethical implications of placing greater faith in data and algorithms than in our own judgement are complex. Since we use these algorithms in the first place, it is clear that we gain from them. These algorithms enable us to automate procedures by making defensible decisions based on the information at hand. However, doing so occasionally entails automating a person's job, which has moral implications.\n",
    "\n",
    "Problem with Determinism: Machine learning is stochastic rather than deterministic. Since there are no physical limitations, a neural network cannot comprehend Newton's second rule or the fact that density cannot be negative.\n",
    "\n",
    "Lack of Data: Before producing effective results, many machine learning algorithms need a lot of data."
   ]
  },
  {
   "cell_type": "markdown",
   "metadata": {},
   "source": [
    "**7. What are the various methods and technologies for solving machine learning problems? Any two\n",
    "of them should be defined in detail.**"
   ]
  },
  {
   "cell_type": "markdown",
   "metadata": {},
   "source": [
    "Scikit Learn, Pytorch, Tensorflow, Keras, and Python are among the several technologies used in machine learning problems.\n",
    "\n",
    "* Scikit Learn: The most effective and reliable Python library for machine learning is Scikit-learn (Sklearn). Through a consistent Python interface, it offers a variety of effective methods for statistical modelling and machine learning, including classification, regression, clustering, and dimensionality reduction.\n",
    "\n",
    "* Tensorflow is an open source artificial intelligence toolkit that builds models using data flow graphs. It enables the development of multilayered, large-scale neural networks. Classification, perception, understanding, discovery, prediction, and creation are the key uses of TensorFlow."
   ]
  },
  {
   "cell_type": "markdown",
   "metadata": {},
   "source": [
    "**8. Can you explain the various forms of supervised learning? Explain each one with an example\n",
    "application.**"
   ]
  },
  {
   "cell_type": "markdown",
   "metadata": {},
   "source": [
    "The various forms of supervised learning are explained in detail below:\n",
    "\n",
    "Regression: In regression, a single output value is produced using training data.For example, regression can help predict the price of a house based on its locality, size, etc.\n",
    "\n",
    "Classification: It involves grouping the data into classes.eg. If you are thinking of extending credit to a person, you can use classification to determine whether or not a person would be a loan defaulter.\n",
    "\n",
    "Naive Bayesian Model: The Bayesian model of classification is used for large finite datasets. It is a method of assigning class labels using a direct acyclic graph.\n",
    "\n",
    "Decision Trees: A decision tree is a flowchart-like model that contains conditional control statements, comprising decisions and their probable consequences. The output relates to the labelling of unforeseen data."
   ]
  },
  {
   "cell_type": "markdown",
   "metadata": {},
   "source": [
    "**9. What is the difference between supervised and unsupervised learning? With a sample application\n",
    "in each region, explain the differences.**"
   ]
  },
  {
   "cell_type": "markdown",
   "metadata": {},
   "source": [
    "Using labelled data, supervised learning algorithms are taught. \n",
    "\n",
    "Unlabeled data is used to train algorithms for unsupervised learning.\n",
    "\n",
    "A supervised learning model uses direct feedback to determine whether or not it is predicting the correct output.\n",
    "\n",
    "A model of unsupervised learning does not incorporate feedback.\n",
    "\n",
    "A model of supervised learning predicts the outputs.\n",
    "\n",
    "Unsupervised learning models uncover data's concealed patterns.\n",
    "\n",
    "In supervised learning, the model receives input data in addition to output.\n",
    "\n",
    "In unsupervised learning, the model receives only input data.\n",
    "\n",
    "The objective of supervised learning is to develop the model's capacity to predict output in the presence of new data.\n",
    "\n",
    "Unsupervised learning aims to extract hidden patterns and insightful information from an unknown dataset."
   ]
  },
  {
   "cell_type": "markdown",
   "metadata": {},
   "source": [
    "**10. Describe the machine learning process in depth.**"
   ]
  },
  {
   "cell_type": "markdown",
   "metadata": {},
   "source": [
    "The initial phase in the machine learning process is to gather data from various sources, which is then fine-tuned. This data will then be fed into ML algorithms depending on the issue statement, such as prediction, classification, and other models that are accessible in the ML field.\n",
    "\n",
    "As shown in the flow diagram below, we can divide the ML process into five parts.\n",
    "\n",
    "Data Gathering and Data Manipulation\n",
    "Model Development, Model Assessment, and Model Deployment"
   ]
  },
  {
   "cell_type": "markdown",
   "metadata": {},
   "source": [
    "**a. Make brief notes on any two of the following:**"
   ]
  },
  {
   "cell_type": "markdown",
   "metadata": {},
   "source": [
    "**Deep learning applications in healthcare :**\n",
    "Deep learning plays a crucial role in discovering medication combinations. Disruptive technologies like AI, machine learning, and deep learning supported the development of vaccines and medications during the epidemic. Deep learning has the potential to simplify, accelerate, and reduce the complexity of the difficult work of drug discovery. Deep learning algorithms can generate a molecule with the desired qualities and anticipate pharmacological properties and drug-target interactions. Genomic, clinical, and population data may be processed by deep learning algorithms with ease, and numerous toolkits can be utilised to find patterns in the data. Researchers can now define protein structures more quickly by molecular modelling and predictive analytics using machine learning and deep learning."
   ]
  },
  {
   "cell_type": "markdown",
   "metadata": {},
   "source": [
    "**Linear regression (simple):**\n",
    "To determine the association between two quantitative variables, simple linear regression is performed. Simple linear regression can be used to determine:\n",
    "\n",
    "How strongly two variables are correlated with one another (e.g., the relationship between rainfall and soil erosion).\n",
    "the dependent variable's value at a particular value of the independent variable (e.g., the amount of soil erosion at a certain level of rainfall).\n",
    "By a line to the observed data, regression models describe the relationship between variables. While logistic and nonlinear regression models employ a curved line, linear regression methods do not. You can estimate a dependent variable's change as an independent variable or set of independent variables changes using regression."
   ]
  },
  {
   "cell_type": "markdown",
   "metadata": {},
   "source": [
    "**11. Make a comparison between:-**\n",
    "\n",
    "1. Generalization and abstraction\n",
    "\n",
    "2. Learning that is guided and unsupervised\n",
    "\n",
    "3. Regression and classification"
   ]
  },
  {
   "cell_type": "markdown",
   "metadata": {},
   "source": [
    "Generalization and abstraction: Abstracting a thing involves taking away its specifics. The creation of general concepts from particular cases by abstracting common attributes is generalisation. One way to think about a concrete item is as a \"subset\" of a more generic object.\n",
    "\n",
    "Unsupervised learning is directed learning; supervised learning is training machines to use well-labeled and categorised data. On the other side, unsupervised learning is a technique that teaches computers to use unlabeled, unclassified data.\n",
    "\n",
    "Classification models are employed in situations where the output variable may be divided into categories, such as Yes or No or Pass or Fail. The categorization of the data is predicted using classification models. Examples from the real world include the detection of spam, sentiment analysis, exam scoring prediction, etc.\n",
    "\n",
    "Regression Models - Regression models are applied to issues when the output variable is a real value, such as a specific sum, money, wage, weight, or pressure, for instance. On the basis of earlier data observations, it is most frequently used to forecast numerical values. Regression techniques that are more often used include ridge regression, logistic regression, polynomial regression, and linear regression."
   ]
  },
  {
   "cell_type": "code",
   "execution_count": null,
   "metadata": {},
   "outputs": [],
   "source": []
  }
 ],
 "metadata": {
  "kernelspec": {
   "display_name": "Python 3.9.12 ('base')",
   "language": "python",
   "name": "python3"
  },
  "language_info": {
   "name": "python",
   "version": "3.9.12"
  },
  "orig_nbformat": 4,
  "vscode": {
   "interpreter": {
    "hash": "e8ba3a1bb44c1a4f8b5f1b27f8dd88437a8e80b3c7cf8d69673cfa7e2c2a7bac"
   }
  }
 },
 "nbformat": 4,
 "nbformat_minor": 2
}
