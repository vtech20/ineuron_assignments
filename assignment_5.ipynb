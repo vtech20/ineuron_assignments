{
  "nbformat": 4,
  "nbformat_minor": 0,
  "metadata": {
    "colab": {
      "name": "assignment-5.ipynb",
      "provenance": [],
      "collapsed_sections": []
    },
    "kernelspec": {
      "name": "python3",
      "display_name": "Python 3"
    },
    "language_info": {
      "name": "python"
    }
  },
  "cells": [
    {
      "cell_type": "markdown",
      "source": [
        "**1. What does an empty dictionary&#39;s code look like?**"
      ],
      "metadata": {
        "id": "8OWud3vUV3Gr"
      }
    },
    {
      "cell_type": "code",
      "execution_count": 1,
      "metadata": {
        "id": "DY1ROJc0VvUC"
      },
      "outputs": [],
      "source": [
        "d = {}"
      ]
    },
    {
      "cell_type": "code",
      "source": [
        "print(type(d))"
      ],
      "metadata": {
        "colab": {
          "base_uri": "https://localhost:8080/"
        },
        "id": "G8TW-N4fWAGo",
        "outputId": "1c934d7d-7522-4899-9e96-6bb2079f275e"
      },
      "execution_count": 2,
      "outputs": [
        {
          "output_type": "stream",
          "name": "stdout",
          "text": [
            "<class 'dict'>\n"
          ]
        }
      ]
    },
    {
      "cell_type": "markdown",
      "source": [
        "**2. What is the value of a dictionary value with the key &#39;foo&#39; and the value 42?**"
      ],
      "metadata": {
        "id": "T5krWJYDWFF0"
      }
    },
    {
      "cell_type": "markdown",
      "source": [
        "42"
      ],
      "metadata": {
        "id": "oyazet3zWN2r"
      }
    },
    {
      "cell_type": "markdown",
      "source": [
        "**3. What is the most significant distinction between a dictionary and a list?**"
      ],
      "metadata": {
        "id": "iuMFXRwsWQOZ"
      }
    },
    {
      "cell_type": "markdown",
      "source": [
        "List is a collection of index value pairs. Whereas dictionary is a collection of key value pairs.\n",
        "\n",
        "The indicies of list starts with 0 whereas dictionary keys are of anything\n",
        "\n",
        "Element in list can be accessed via index. Element in dictionary can be accessed via keys"
      ],
      "metadata": {
        "id": "HHCsWCSzWhix"
      }
    },
    {
      "cell_type": "markdown",
      "source": [
        "**4. What happens if you try to access spam[&#39;foo&#39;] if spam is {&#39;bar&#39;: 100}?**"
      ],
      "metadata": {
        "id": "_wAYdJxFXSBV"
      }
    },
    {
      "cell_type": "markdown",
      "source": [
        "key error will be thrown"
      ],
      "metadata": {
        "id": "BEoihxXvXW7p"
      }
    },
    {
      "cell_type": "code",
      "source": [
        "spam = {'bar':100}\n",
        "spam['foo']"
      ],
      "metadata": {
        "colab": {
          "base_uri": "https://localhost:8080/",
          "height": 183
        },
        "id": "JbLMkC-pWD8w",
        "outputId": "569649b1-d489-4c35-beef-fabbae071deb"
      },
      "execution_count": 3,
      "outputs": [
        {
          "output_type": "error",
          "ename": "KeyError",
          "evalue": "ignored",
          "traceback": [
            "\u001b[0;31m---------------------------------------------------------------------------\u001b[0m",
            "\u001b[0;31mKeyError\u001b[0m                                  Traceback (most recent call last)",
            "\u001b[0;32m<ipython-input-3-cea1cd791e68>\u001b[0m in \u001b[0;36m<module>\u001b[0;34m()\u001b[0m\n\u001b[1;32m      1\u001b[0m \u001b[0mspam\u001b[0m \u001b[0;34m=\u001b[0m \u001b[0;34m{\u001b[0m\u001b[0;34m'bar'\u001b[0m\u001b[0;34m:\u001b[0m\u001b[0;36m100\u001b[0m\u001b[0;34m}\u001b[0m\u001b[0;34m\u001b[0m\u001b[0;34m\u001b[0m\u001b[0m\n\u001b[0;32m----> 2\u001b[0;31m \u001b[0mspam\u001b[0m\u001b[0;34m[\u001b[0m\u001b[0;34m'foo'\u001b[0m\u001b[0;34m]\u001b[0m\u001b[0;34m\u001b[0m\u001b[0;34m\u001b[0m\u001b[0m\n\u001b[0m",
            "\u001b[0;31mKeyError\u001b[0m: 'foo'"
          ]
        }
      ]
    },
    {
      "cell_type": "markdown",
      "source": [
        "**5. If a dictionary is stored in spam, what is the difference between the expressions &#39;cat&#39; in spam and\n",
        "&#39;cat&#39; in spam.keys()?**"
      ],
      "metadata": {
        "id": "yKFQN1WwXlMh"
      }
    },
    {
      "cell_type": "markdown",
      "source": [
        "Both will be same. IT will search in the keys of the dictionary"
      ],
      "metadata": {
        "id": "8T-mg9hyYaLC"
      }
    },
    {
      "cell_type": "code",
      "source": [
        "spam = {'c':'kitten', 'dog' : 'puppy', 'b' : 'cat'}\n",
        "\n",
        "if 'cat' in spam:\n",
        "  print('yes')\n",
        "\n",
        "if 'cat' in spam.keys():\n",
        "  print('yes')"
      ],
      "metadata": {
        "id": "12-nFNSEXep_"
      },
      "execution_count": 8,
      "outputs": []
    },
    {
      "cell_type": "markdown",
      "source": [
        "**6. If a dictionary is stored in spam, what is the difference between the expressions &#39;cat&#39; in spam and\n",
        "&#39;cat&#39; in spam.values()?**"
      ],
      "metadata": {
        "id": "9xFI8n7_Yo5i"
      }
    },
    {
      "cell_type": "markdown",
      "source": [
        "'cat' in spam check the value cat in keys of the dictionary\n",
        "\n",
        "'cat' in spam.values() will check the value cat in the values of the dictionary"
      ],
      "metadata": {
        "id": "jbOqZ-ARYx5h"
      }
    },
    {
      "cell_type": "markdown",
      "source": [
        "**7. What is a shortcut for the following code?\n",
        "if &#39;color&#39; not in spam:\n",
        "spam[&#39;color&#39;] = &#39;black&#39;**"
      ],
      "metadata": {
        "id": "CRvTj4ekaxA8"
      }
    },
    {
      "cell_type": "code",
      "source": [
        "spam.setdefault('color', 'black')"
      ],
      "metadata": {
        "colab": {
          "base_uri": "https://localhost:8080/",
          "height": 35
        },
        "id": "raTHeAR_YIfY",
        "outputId": "ec7f5695-b2c3-4a1b-9bf5-f54d143d98fa"
      },
      "execution_count": 9,
      "outputs": [
        {
          "output_type": "execute_result",
          "data": {
            "text/plain": [
              "'black'"
            ],
            "application/vnd.google.colaboratory.intrinsic+json": {
              "type": "string"
            }
          },
          "metadata": {},
          "execution_count": 9
        }
      ]
    },
    {
      "cell_type": "markdown",
      "source": [
        "**8. How do you &quot;pretty print&quot; dictionary values using which module and function?**"
      ],
      "metadata": {
        "id": "FJAOEhGHa_Bq"
      }
    },
    {
      "cell_type": "markdown",
      "source": [
        "Pprint( ) and pformat( )"
      ],
      "metadata": {
        "id": "ZsLrH7ePbCva"
      }
    },
    {
      "cell_type": "code",
      "source": [
        ""
      ],
      "metadata": {
        "id": "dF9lAweAa3X0"
      },
      "execution_count": null,
      "outputs": []
    }
  ]
}