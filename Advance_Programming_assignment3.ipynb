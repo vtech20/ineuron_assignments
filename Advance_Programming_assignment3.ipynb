{
 "cells": [
  {
   "cell_type": "markdown",
   "id": "0248d156",
   "metadata": {},
   "source": [
    "1. Create a function to perform basic arithmetic operations that includes\n",
    "addition, subtraction, multiplication and division on a string number (e.g. &quot;12 +\n",
    "24&quot; or &quot;23 - 21&quot; or &quot;12 // 12&quot; or &quot;12 * 21&quot;).\n",
    "\n",
    "Here, we have 1 followed by a space, operator followed by another space\n",
    "and 2. For the challenge, we are going to have only two numbers between 1\n",
    "valid operator. The return value should be a number.\n",
    "\n",
    "eval() is not allowed. \n",
    "\n",
    "In case of division, whenever the second number equals\n",
    "&quot;0&quot; return -1.\n",
    "For example:\n",
    "&quot;15 // 0&quot; ➞ -1\n",
    "\n",
    "Examples\n",
    "\n",
    "arithmetic_operation(&quot;12 + 12&quot;) ➞ 24 // 12 + 12 = 24\n",
    "\n",
    "arithmetic_operation(&quot;12 - 12&quot;) ➞ 24 // 12 - 12 = 0\n",
    "\n",
    "arithmetic_operation(&quot;12 * 12&quot;) ➞ 144 // 12 * 12 = 144\n",
    "\n",
    "arithmetic_operation(&quot;12 // 0&quot;) ➞ -1 // 12 / 0 = -1"
   ]
  },
  {
   "cell_type": "code",
   "execution_count": 1,
   "id": "71abe43a",
   "metadata": {},
   "outputs": [
    {
     "data": {
      "text/plain": [
       "-1"
      ]
     },
     "execution_count": 1,
     "metadata": {},
     "output_type": "execute_result"
    }
   ],
   "source": [
    "def arithmatic_operation(s):\n",
    "    lst = s.split()\n",
    "    res =0\n",
    "    if '+' in lst:\n",
    "        res = int(lst[0])+int(lst[2])\n",
    "    if '-' in lst:\n",
    "        res = int(lst[0])-int(lst[2])\n",
    "    if '//' in lst:\n",
    "        if lst[2]=='0':\n",
    "            return -1\n",
    "        else:\n",
    "            res = int(lst[0])//int(lst[2])\n",
    "    if '*' in lst:\n",
    "        res = int(lst[0])*int(lst[2])\n",
    "    \n",
    "    return res\n",
    "s =  \"12 + 24\"\n",
    "s1 = \"23 - 21\"\n",
    "s2 =  \"12 // 12\" \n",
    "s3 =  \"12 * 21\"\n",
    "s4 = \"12 // 0\"\n",
    "arithmatic_operation(s4)"
   ]
  },
  {
   "cell_type": "code",
   "execution_count": 2,
   "id": "a718d489",
   "metadata": {},
   "outputs": [
    {
     "data": {
      "text/plain": [
       "36"
      ]
     },
     "execution_count": 2,
     "metadata": {},
     "output_type": "execute_result"
    }
   ],
   "source": [
    "arithmatic_operation(s)"
   ]
  },
  {
   "cell_type": "markdown",
   "id": "59e9a35c",
   "metadata": {},
   "source": [
    "2. Write a function that takes the coordinates of three points in the form of a 2d array and returns the perimeter of the triangle. The given points are the vertices of a triangle on a two-dimensional plane.\n",
    "\n",
    "Examples\n",
    "\n",
    "perimeter( [ [15, 7], [5, 22], [11, 1] ] ) ➞ 47.08\n",
    "\n",
    "perimeter( [ [0, 0], [0, 1], [1, 0] ] ) ➞ 3.42\n",
    "\n",
    "perimeter( [ [-10, -10], [10, 10 ], [-10, 10] ] ) ➞ 68.28"
   ]
  },
  {
   "cell_type": "code",
   "execution_count": 3,
   "id": "3d9b824e",
   "metadata": {},
   "outputs": [
    {
     "data": {
      "text/plain": [
       "3.414213562373095"
      ]
     },
     "execution_count": 3,
     "metadata": {},
     "output_type": "execute_result"
    }
   ],
   "source": [
    "import numpy as np\n",
    "def perimeter(m):\n",
    "    a,b,c = [0,0,0]\n",
    "    x1,y1 = m[0][0], m[0][1]\n",
    "    x2,y2 = m[1][0], m[1][1]\n",
    "    x3,y3 = m[2][0], m[2][1]\n",
    "    p = np.sqrt((x1-x2)**2 + (y1-y2)**2) + np.sqrt((x2-x3)**2 + (y2-y3)**2) + np.sqrt((x3-x1)**2 + (y3-y1)**2)  \n",
    "    return p\n",
    "perimeter( [ [15, 7], [5, 22], [11, 1] ] ) \n",
    "perimeter( [ [0, 0], [0, 1], [1, 0] ] ) "
   ]
  },
  {
   "cell_type": "markdown",
   "id": "a33e67cc",
   "metadata": {},
   "source": [
    "3. A city skyline can be represented as a 2-D list with 1s representing buildings. In the example below, the height of the tallest building is 4 (second-most right column).\n",
    "\n",
    "[[0, 0, 0, 0, 0, 0],\n",
    "[0, 0, 0, 0, 1, 0],\n",
    "[0, 0, 1, 0, 1, 0],\n",
    "[0, 1, 1, 1, 1, 0],\n",
    "\n",
    "[1, 1, 1, 1, 1, 1]]\n",
    "\n",
    "Create a function that takes a skyline (2-D list of 0&#39;s and 1&#39;s) and returns the height of the tallest skyscraper."
   ]
  },
  {
   "cell_type": "code",
   "execution_count": 4,
   "id": "86fc4374",
   "metadata": {},
   "outputs": [],
   "source": [
    "def tallest_skyscraper(a):\n",
    "    a = np.array(a)\n",
    "    temp = 0\n",
    "    for i in range(a.shape[1]):\n",
    "        if temp < np.count_nonzero(a[:,i]==1):\n",
    "            temp = np.count_nonzero(a[:,i]==1)\n",
    "           \n",
    "    return temp\n",
    "\n",
    "a= [[0, 0, 0, 0, 0, 0],\n",
    "    [0, 0, 0, 0, 1, 0],\n",
    "    [0, 0, 1, 0, 1, 0],\n",
    "    [0, 1, 1, 1, 1, 0],\n",
    "    [1, 1, 1, 1, 1, 1]]\n",
    "b= [\n",
    "[0, 0, 0, 0],\n",
    "[0, 1, 0, 0],\n",
    "[0, 1, 1, 0],\n",
    "[1, 1, 1, 1]\n",
    "]"
   ]
  },
  {
   "cell_type": "code",
   "execution_count": 5,
   "id": "7fd7909a",
   "metadata": {},
   "outputs": [
    {
     "data": {
      "text/plain": [
       "4"
      ]
     },
     "execution_count": 5,
     "metadata": {},
     "output_type": "execute_result"
    }
   ],
   "source": [
    "tallest_skyscraper(a)"
   ]
  },
  {
   "cell_type": "markdown",
   "id": "50e0a7a3",
   "metadata": {},
   "source": [
    "4. A financial institution provides professional services to banks and claims charges from the customers based on the number of man-days provided. Internally, it has set a scheme to motivate and reward staff to meet and exceed targeted billable utilization and revenues by paying a bonus for each day claimed from customers in excess of a threshold target. This quarterly scheme is calculated with a threshold target of 32 days per quarter, and the incentive payment for each billable day in excess of such threshold target is shown as follows:\n",
    "\n",
    "Days Bonus\n",
    "\n",
    "0 to 32 days Zero\n",
    "\n",
    "33 to 40 days SGD$325 per billable day\n",
    "\n",
    "41 to 48 days SGD$550 per billable day\n",
    "\n",
    "Greater than 48 days SGD$600 per billable day\n",
    "\n",
    "Please note that incentive payment is calculated progressively. As an example, if an employee reached total billable days of 45 in a quarter, his/her incentive payment is computed as follows:\n",
    "\n",
    "32*0 + 8*325 + 5*550 = 5350\n",
    "\n",
    "Write a function to read the billable days of an employee and return the bonus he/she has obtained in that quarter.\n",
    "\n",
    "Examples\n",
    "\n",
    "bonus(15) ➞ 0\n",
    "\n",
    "bonus(37) ➞ 1625\n",
    "\n",
    "bonus(50) ➞ 8200"
   ]
  },
  {
   "cell_type": "code",
   "execution_count": 6,
   "id": "2e3328ca",
   "metadata": {},
   "outputs": [],
   "source": [
    "def bonus(d):\n",
    "    if d<=32:\n",
    "        return 0\n",
    "    if d>=33 and d<=40:\n",
    "        return (d-32)*325\n",
    "    if d>=41 and d<=48:\n",
    "        return (40-32)*325+(d-40)*550\n",
    "    if d>48:\n",
    "        return (40-32)*325+(48-40)*550+(d-48)*600\n"
   ]
  },
  {
   "cell_type": "code",
   "execution_count": 7,
   "id": "8435719f",
   "metadata": {},
   "outputs": [
    {
     "data": {
      "text/plain": [
       "0"
      ]
     },
     "execution_count": 7,
     "metadata": {},
     "output_type": "execute_result"
    }
   ],
   "source": [
    "bonus(15)"
   ]
  },
  {
   "cell_type": "code",
   "execution_count": 8,
   "id": "ee8d5f9c",
   "metadata": {},
   "outputs": [
    {
     "data": {
      "text/plain": [
       "1625"
      ]
     },
     "execution_count": 8,
     "metadata": {},
     "output_type": "execute_result"
    }
   ],
   "source": [
    "bonus(37)"
   ]
  },
  {
   "cell_type": "code",
   "execution_count": 9,
   "id": "aba84750",
   "metadata": {},
   "outputs": [
    {
     "data": {
      "text/plain": [
       "8200"
      ]
     },
     "execution_count": 9,
     "metadata": {},
     "output_type": "execute_result"
    }
   ],
   "source": [
    "bonus(50)"
   ]
  },
  {
   "cell_type": "markdown",
   "id": "da06ddf7",
   "metadata": {},
   "source": [
    "5. A number is said to be Disarium if the sum of its digits raised to their respective positions is the number itself. Create a function that determines whether a number is a Disarium or not.\n",
    "\n",
    "Examples\n",
    "\n",
    "is_disarium(75) ➞ False\n",
    "\n",
    "# 7^1 + 5^2 = 7 + 25 = 32\n",
    "\n",
    "is_disarium(135) ➞ True\n",
    "\n",
    "# 1^1 + 3^2 + 5^3 = 1 + 9 + 125 = 135\n",
    "\n",
    "is_disarium(544) ➞ False\n",
    "\n",
    "is_disarium(518) ➞ True\n",
    "\n",
    "is_disarium(466) ➞ False\n",
    "\n",
    "is_disarium(8) ➞ True"
   ]
  },
  {
   "cell_type": "code",
   "execution_count": 10,
   "id": "bdee3421",
   "metadata": {},
   "outputs": [],
   "source": [
    "def calculateLength(n):\n",
    "    length= 0\n",
    "  \n",
    "    while(n!=0):\n",
    "        length=length+1\n",
    "        n//=10\n",
    "    return length\n",
    "\n",
    "def checkdis(n):\n",
    "    length =calculateLength(n)\n",
    "    num =n\n",
    "    sum_=0\n",
    "    \n",
    "    while (n>0):\n",
    "        rem = n%10\n",
    "        sum_ = sum_+int(rem**length)\n",
    "        n = n//10\n",
    "        length = length-1\n",
    "        \n",
    "    if sum_ == num:\n",
    "        print(f'{num} is a disarium number')\n",
    "    else:\n",
    "        print(f'{num} is not a disarium number')\n",
    "        "
   ]
  },
  {
   "cell_type": "code",
   "execution_count": 11,
   "id": "91ffe605",
   "metadata": {},
   "outputs": [
    {
     "name": "stdout",
     "output_type": "stream",
     "text": [
      "135 is a disarium number\n"
     ]
    }
   ],
   "source": [
    "checkdis(135)"
   ]
  },
  {
   "cell_type": "code",
   "execution_count": null,
   "id": "592bd6ec",
   "metadata": {},
   "outputs": [],
   "source": []
  }
 ],
 "metadata": {
  "kernelspec": {
   "display_name": "Python 3 (ipykernel)",
   "language": "python",
   "name": "python3"
  },
  "language_info": {
   "codemirror_mode": {
    "name": "ipython",
    "version": 3
   },
   "file_extension": ".py",
   "mimetype": "text/x-python",
   "name": "python",
   "nbconvert_exporter": "python",
   "pygments_lexer": "ipython3",
   "version": "3.9.12"
  }
 },
 "nbformat": 4,
 "nbformat_minor": 5
}
