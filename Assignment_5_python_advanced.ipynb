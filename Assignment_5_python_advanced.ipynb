{
 "cells": [
  {
   "cell_type": "markdown",
   "metadata": {},
   "source": [
    "**Q1. What is the meaning of multiple inheritance?**"
   ]
  },
  {
   "cell_type": "markdown",
   "metadata": {},
   "source": [
    "Multiple inheritance is the term used when a class derives from multiple base classes. The base case's features are all passed down to the derived class."
   ]
  },
  {
   "cell_type": "markdown",
   "metadata": {},
   "source": [
    "**Q2. What is the concept of delegation?**"
   ]
  },
  {
   "cell_type": "markdown",
   "metadata": {},
   "source": [
    "An object-oriented design technique known as delegation enables object composition to achieve the same code reuse as inheritance."
   ]
  },
  {
   "cell_type": "markdown",
   "metadata": {},
   "source": [
    "**Q3. What is the concept of composition?**"
   ]
  },
  {
   "cell_type": "markdown",
   "metadata": {},
   "source": [
    "A notion that models a relationship is composition. By merging objects of different types, it makes it possible to create complicated types. This implies that an object of the type Component can be contained in an object of the class Composite. A Composite has a Component as a result of this relationship."
   ]
  },
  {
   "cell_type": "markdown",
   "metadata": {},
   "source": [
    "**Q4. What are bound methods and how do we use them?**"
   ]
  },
  {
   "cell_type": "markdown",
   "metadata": {},
   "source": [
    "A bound method is the one which is dependent on the instance of the class as the first argument."
   ]
  },
  {
   "cell_type": "code",
   "execution_count": 1,
   "metadata": {},
   "outputs": [
    {
     "name": "stdout",
     "output_type": "stream",
     "text": [
      "<bound method A.func of <__main__.A object at 0x00000212BB023730>>\n"
     ]
    }
   ],
   "source": [
    "class A:\n",
    "  \n",
    "    def func(self, arg):\n",
    "        self.arg = arg\n",
    "        print(\"Value of arg = \", arg)\n",
    "  \n",
    "  \n",
    "a = A()  \n",
    "  \n",
    "# bound method\n",
    "print(a.func)"
   ]
  },
  {
   "cell_type": "markdown",
   "metadata": {},
   "source": [
    "**Q5. What is the purpose of pseudoprivate attributes?**"
   ]
  },
  {
   "cell_type": "markdown",
   "metadata": {},
   "source": [
    "This is sometimes incorrectly referred to as private attributes, but all it does is localise a name to the class that produced it. It does not prohibit access by code from other classes. Therefore, rather than limiting access to names generally, this feature is primarily designed to prevent namespace clashes in certain situations.\n",
    "\n",
    "Pseudo-private names are a sophisticated feature that is entirely optional. You won't likely find them to be particularly helpful until you begin developing extensive class hierarchies in multi-programmer projects. Even if you don't use this feature in your own code, you should be somewhat familiar with it because you might see it in someone else's."
   ]
  },
  {
   "cell_type": "code",
   "execution_count": null,
   "metadata": {},
   "outputs": [],
   "source": []
  }
 ],
 "metadata": {
  "kernelspec": {
   "display_name": "Python 3.8.13 (conda)",
   "language": "python",
   "name": "python3"
  },
  "language_info": {
   "codemirror_mode": {
    "name": "ipython",
    "version": 3
   },
   "file_extension": ".py",
   "mimetype": "text/x-python",
   "name": "python",
   "nbconvert_exporter": "python",
   "pygments_lexer": "ipython3",
   "version": "3.8.13"
  },
  "orig_nbformat": 4,
  "vscode": {
   "interpreter": {
    "hash": "7cfc36fadd55beeb26439835d5f4c65754dcc76a2cb0c5a65cc4768f9e877243"
   }
  }
 },
 "nbformat": 4,
 "nbformat_minor": 2
}
