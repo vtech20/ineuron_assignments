{
 "cells": [
  {
   "cell_type": "markdown",
   "metadata": {},
   "source": [
    "**Q1. In Python 3.X, what are the names and functions of string object types?**"
   ]
  },
  {
   "cell_type": "markdown",
   "metadata": {},
   "source": [
    "\n",
    "capitalize() - Converts the first character to upper case\n",
    "\n",
    "casefold()- Converts string into lower case\n",
    "\n",
    "center() - Returns a centered string\n",
    "\n",
    "count() - Returns the number of times a specified value occurs in a string\n",
    "\n",
    "encode() - Returns an encoded version of the string\n",
    "\n",
    "endswith() - Returns true if the string ends with the specified value\n",
    "\n",
    "expandtabs() - Sets the tab size of the string\n",
    "\n",
    "find() - Searches the string for a specified value and returns the position of where it was found\n",
    "\n",
    "format() - Formats specified values in a string\n",
    "\n",
    "format_map() -\tFormats specified values in a string\n",
    "\n",
    "index() - Searches the string for a specified value and returns the position of where it was found\n",
    "\n",
    "isalnum() - Returns True if all characters in the string are alphanumeric\n",
    "\n",
    "isalpha() - Returns True if all characters in the string are in the alphabet\n",
    "\n",
    "isascii() - Returns True if all characters in the string are ascii characters\n",
    "\n",
    "isdecimal() - Returns True if all characters in the string are decimals\n",
    "\n",
    "isdigit() - Returns True if all characters in the string are digits\n",
    "\n",
    "isidentifier() - Returns True if the string is an identifier\n",
    "\n",
    "islower() - Returns True if all characters in the string are lower case\n",
    "\n",
    "isnumeric() - Returns True if all characters in the string are numeric\n",
    "\n",
    "isprintable() - Returns True if all characters in the string are printable\n",
    "\n",
    "isspace() - Returns True if all characters in the string are whitespaces\n",
    "\n",
    "istitle() - Returns True if the string follows the rules of a title\n",
    "\n",
    "isupper() - Returns True if all characters in the string are upper case\n",
    "\n",
    "join() - Converts the elements of an iterable into a string\n",
    "\n",
    "ljust() - Returns a left justified version of the string\n",
    "\n",
    "lower() - Converts a string into lower case\n",
    "\n",
    "lstrip() - Returns a left trim version of the string\n",
    "\n",
    "maketrans() - Returns a translation table to be used in translations\n",
    "\n",
    "partition() - Returns a tuple where the string is parted into three parts\n",
    "\n",
    "replace() - Returns a string where a specified value is replaced with a specified value\n",
    "\n",
    "rfind() - Searches the string for a specified value and returns the last position of where it was found\n",
    "\n",
    "rindex() - Searches the string for a specified value and returns the last position of where it was found\n",
    "\n",
    "rjust() - Returns a right justified version of the string\n",
    "\n",
    "rpartition() - Returns a tuple where the string is parted into three parts\n",
    "\n",
    "rsplit() - Splits the string at the specified separator, and returns a list\n",
    "\n",
    "rstrip() - Returns a right trim version of the string\n",
    "\n",
    "split() - Splits the string at the specified separator, and returns a list\n",
    "\n",
    "splitlines() - Splits the string at line breaks and returns a list\n",
    "\n",
    "startswith() - Returns true if the string starts with the specified value\n",
    "\n",
    "strip() - Returns a trimmed version of the string\n",
    "\n",
    "swapcase() - Swaps cases, lower case becomes upper case and vice versa\n",
    "\n",
    "title() - Converts the first character of each word to upper case\n",
    "\n",
    "translate() - Returns a translated string\n",
    "\n",
    "upper() - Converts a string into upper case\n",
    "\n",
    "zfill() - Fills the string with a specified number of 0 values at the beginning\n"
   ]
  },
  {
   "cell_type": "markdown",
   "metadata": {},
   "source": [
    "**Q2. How do the string forms in Python 3.X vary in terms of operations?**"
   ]
  },
  {
   "cell_type": "markdown",
   "metadata": {},
   "source": [
    "string forms or string formatting can be performed in four ways:\n",
    "\n",
    "\t1. formatting with % operator\n",
    "\n",
    "\t2. formatting with format() string method\n",
    "\n",
    "\t3. formatting with string literals, called f-strings\n",
    "\n",
    "\t4. formatting with string template class-based\n"
   ]
  },
  {
   "cell_type": "markdown",
   "metadata": {},
   "source": [
    "**Q3. In 3.X, how do you put non-ASCII Unicode characters in a string?**"
   ]
  },
  {
   "cell_type": "markdown",
   "metadata": {},
   "source": [
    "the inbuilt library unidecode. This library helps Transliterating non-ASCII characters in Python. It provides an unidecode() method that takes Unicode data and tries to represent it in ASCII.  This method automatically determines scripting language and transliterates it accordingly. It accepts unicode string values and returns a transliteration in string format."
   ]
  },
  {
   "cell_type": "markdown",
   "metadata": {},
   "source": [
    "**Q4. In Python 3.X, what are the key differences between text-mode and binary-mode files?**"
   ]
  },
  {
   "cell_type": "markdown",
   "metadata": {},
   "source": [
    "When we try to read or write files in our program, usually there are two modes to use. Text mode, usually by default, and binary mode. Obviously, in text mode, the program writes data to file as text characters, and in binary mode, the program writes data to files as 0/1 bits"
   ]
  },
  {
   "cell_type": "markdown",
   "metadata": {},
   "source": [
    "**Q5. How can you interpret a Unicode text file containing text encoded in a different encoding than your platform&#39;s default?**"
   ]
  },
  {
   "cell_type": "markdown",
   "metadata": {},
   "source": [
    "When you open a file in Python, whether for writing or for reading, it's considered a best practice to specify the character encoding that you're working with. Supposing the file is encoded in UTF-8, we can use:\n",
    "\n",
    ">>> import io\n",
    "\n",
    ">>> f = io.open(\"test\", mode=\"r\", encoding=\"utf-8\")"
   ]
  },
  {
   "cell_type": "markdown",
   "metadata": {},
   "source": [
    "**Q6. What is the best way to make a Unicode text file in a particular encoding format?**"
   ]
  },
  {
   "cell_type": "markdown",
   "metadata": {},
   "source": [
    "Unicode is an abstract encoding standard, not an encoding. That’s where UTF-8 and other encoding schemes come into play. The Unicode standard (a map of characters to code points) defines several different encodings from its single character set.\n",
    "UTF-8 as well as its lesser-used cousins, UTF-16 and UTF-32, are encoding formats for representing Unicode characters as binary data of one or more bytes per character. "
   ]
  },
  {
   "cell_type": "markdown",
   "metadata": {},
   "source": [
    "**Q7. What qualifies ASCII text as a form of Unicode text?**"
   ]
  },
  {
   "cell_type": "markdown",
   "metadata": {},
   "source": [
    "ASCII is simple character encode which contains 128 characters. Its a way of translating characters to integer and ultimately bits. Characters can be encoded to a unique sequence of bits. Each single character has a corresponding code point, which you can think of as just an integer."
   ]
  },
  {
   "cell_type": "markdown",
   "metadata": {},
   "source": [
    "**Q8. How much of an effect does the change in string types in Python 3.X have on your code?**"
   ]
  },
  {
   "cell_type": "markdown",
   "metadata": {},
   "source": [
    "string in python are array of bytes representing Unicode characters.\n",
    "\tPython 3.0 uses the concepts of text and (binary) data instead of Unicode strings and 8-bit strings. All text is Unicode; however, encoded Unicode is represented as binary data. The type used to hold text is str, the type used to hold data is bytes.\n"
   ]
  },
  {
   "cell_type": "markdown",
   "metadata": {},
   "source": []
  },
  {
   "cell_type": "markdown",
   "metadata": {},
   "source": []
  },
  {
   "cell_type": "markdown",
   "metadata": {},
   "source": []
  },
  {
   "cell_type": "markdown",
   "metadata": {},
   "source": []
  },
  {
   "cell_type": "code",
   "execution_count": null,
   "metadata": {},
   "outputs": [],
   "source": []
  }
 ],
 "metadata": {
  "language_info": {
   "name": "python"
  },
  "orig_nbformat": 4
 },
 "nbformat": 4,
 "nbformat_minor": 2
}
