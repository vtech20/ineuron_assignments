{
 "cells": [
  {
   "cell_type": "markdown",
   "id": "5dc86cfc",
   "metadata": {},
   "source": [
    "3. You have a dataset named stock_prices.csv that contains daily stock prices of a company. The dataset has columns date and closing_price. Write a Python script to read the dataset, convert the date column to a datetime object, and then perform a time series analysis by plotting the closing price over time with a rolling 30-day moving average."
   ]
  },
  {
   "cell_type": "code",
   "execution_count": 7,
   "id": "26c97435",
   "metadata": {},
   "outputs": [],
   "source": [
    "#Import the libraries\n",
    "import pandas as pd\n",
    "import numpy as np\n",
    "import requests\n",
    "import matplotlib.pyplot as plt\n",
    "import io"
   ]
  },
  {
   "cell_type": "code",
   "execution_count": 8,
   "id": "96e8d0e4",
   "metadata": {},
   "outputs": [],
   "source": [
    "#Download and load the dataset\n",
    "file_id = '1F_LOzrBtu4EAbmb2bx9SufprVDXk0Atm'\n",
    "url = f'https://drive.google.com/uc?id={file_id}'\n",
    "download = requests.get(url).content\n",
    "# Read the CSV file into a Pandas DataFrame\n",
    "df = pd.read_csv(io.StringIO(download.decode('utf-8')))"
   ]
  },
  {
   "cell_type": "code",
   "execution_count": 9,
   "id": "a0f84b33",
   "metadata": {},
   "outputs": [
    {
     "data": {
      "text/html": [
       "<div>\n",
       "<style scoped>\n",
       "    .dataframe tbody tr th:only-of-type {\n",
       "        vertical-align: middle;\n",
       "    }\n",
       "\n",
       "    .dataframe tbody tr th {\n",
       "        vertical-align: top;\n",
       "    }\n",
       "\n",
       "    .dataframe thead th {\n",
       "        text-align: right;\n",
       "    }\n",
       "</style>\n",
       "<table border=\"1\" class=\"dataframe\">\n",
       "  <thead>\n",
       "    <tr style=\"text-align: right;\">\n",
       "      <th></th>\n",
       "      <th>date</th>\n",
       "      <th>closing_price</th>\n",
       "    </tr>\n",
       "  </thead>\n",
       "  <tbody>\n",
       "    <tr>\n",
       "      <th>0</th>\n",
       "      <td>2023-07-01</td>\n",
       "      <td>150.0</td>\n",
       "    </tr>\n",
       "    <tr>\n",
       "      <th>1</th>\n",
       "      <td>2023-07-02</td>\n",
       "      <td>152.5</td>\n",
       "    </tr>\n",
       "    <tr>\n",
       "      <th>2</th>\n",
       "      <td>2023-07-03</td>\n",
       "      <td>155.2</td>\n",
       "    </tr>\n",
       "    <tr>\n",
       "      <th>3</th>\n",
       "      <td>2023-07-04</td>\n",
       "      <td>157.9</td>\n",
       "    </tr>\n",
       "    <tr>\n",
       "      <th>4</th>\n",
       "      <td>2023-07-05</td>\n",
       "      <td>159.8</td>\n",
       "    </tr>\n",
       "    <tr>\n",
       "      <th>5</th>\n",
       "      <td>2023-07-06</td>\n",
       "      <td>161.3</td>\n",
       "    </tr>\n",
       "    <tr>\n",
       "      <th>6</th>\n",
       "      <td>2023-07-07</td>\n",
       "      <td>163.1</td>\n",
       "    </tr>\n",
       "    <tr>\n",
       "      <th>7</th>\n",
       "      <td>2023-07-08</td>\n",
       "      <td>165.0</td>\n",
       "    </tr>\n",
       "    <tr>\n",
       "      <th>8</th>\n",
       "      <td>2023-07-09</td>\n",
       "      <td>168.2</td>\n",
       "    </tr>\n",
       "    <tr>\n",
       "      <th>9</th>\n",
       "      <td>2023-07-10</td>\n",
       "      <td>170.5</td>\n",
       "    </tr>\n",
       "  </tbody>\n",
       "</table>\n",
       "</div>"
      ],
      "text/plain": [
       "         date  closing_price\n",
       "0  2023-07-01          150.0\n",
       "1  2023-07-02          152.5\n",
       "2  2023-07-03          155.2\n",
       "3  2023-07-04          157.9\n",
       "4  2023-07-05          159.8\n",
       "5  2023-07-06          161.3\n",
       "6  2023-07-07          163.1\n",
       "7  2023-07-08          165.0\n",
       "8  2023-07-09          168.2\n",
       "9  2023-07-10          170.5"
      ]
     },
     "execution_count": 9,
     "metadata": {},
     "output_type": "execute_result"
    }
   ],
   "source": [
    "#View the data\n",
    "df.head(10)"
   ]
  },
  {
   "cell_type": "code",
   "execution_count": 10,
   "id": "b7b7d3e7",
   "metadata": {},
   "outputs": [
    {
     "data": {
      "text/plain": [
       "(21, 2)"
      ]
     },
     "execution_count": 10,
     "metadata": {},
     "output_type": "execute_result"
    }
   ],
   "source": [
    "#View the shape of the dataframe\n",
    "df.shape"
   ]
  },
  {
   "cell_type": "markdown",
   "id": "5f5948aa",
   "metadata": {},
   "source": [
    "There are 21 rows with 2 columns"
   ]
  },
  {
   "cell_type": "code",
   "execution_count": 11,
   "id": "a8417f28",
   "metadata": {},
   "outputs": [
    {
     "name": "stdout",
     "output_type": "stream",
     "text": [
      "<class 'pandas.core.frame.DataFrame'>\n",
      "RangeIndex: 21 entries, 0 to 20\n",
      "Data columns (total 2 columns):\n",
      " #   Column         Non-Null Count  Dtype  \n",
      "---  ------         --------------  -----  \n",
      " 0   date           21 non-null     object \n",
      " 1   closing_price  21 non-null     float64\n",
      "dtypes: float64(1), object(1)\n",
      "memory usage: 464.0+ bytes\n"
     ]
    }
   ],
   "source": [
    "#View the data types\n",
    "df.info()"
   ]
  },
  {
   "cell_type": "code",
   "execution_count": 12,
   "id": "67902b06",
   "metadata": {},
   "outputs": [],
   "source": [
    "# Convert the date column to a datetime object\n",
    "df['date'] = pd.to_datetime(df['date'])"
   ]
  },
  {
   "cell_type": "code",
   "execution_count": 13,
   "id": "8e94ee40",
   "metadata": {},
   "outputs": [
    {
     "name": "stdout",
     "output_type": "stream",
     "text": [
      "<class 'pandas.core.frame.DataFrame'>\n",
      "RangeIndex: 21 entries, 0 to 20\n",
      "Data columns (total 2 columns):\n",
      " #   Column         Non-Null Count  Dtype         \n",
      "---  ------         --------------  -----         \n",
      " 0   date           21 non-null     datetime64[ns]\n",
      " 1   closing_price  21 non-null     float64       \n",
      "dtypes: datetime64[ns](1), float64(1)\n",
      "memory usage: 464.0 bytes\n"
     ]
    }
   ],
   "source": [
    "#View the data types\n",
    "df.info()"
   ]
  },
  {
   "cell_type": "code",
   "execution_count": 14,
   "id": "bc40ef09",
   "metadata": {},
   "outputs": [
    {
     "name": "stdout",
     "output_type": "stream",
     "text": [
      "         date  closing_price\n",
      "0  2023-07-01          150.0\n",
      "1  2023-07-02          152.5\n",
      "2  2023-07-03          155.2\n",
      "3  2023-07-04          157.9\n",
      "4  2023-07-05          159.8\n",
      "5  2023-07-06          161.3\n",
      "6  2023-07-07          163.1\n",
      "7  2023-07-08          165.0\n",
      "8  2023-07-09          168.2\n",
      "9  2023-07-10          170.5\n",
      "10 2023-07-11          172.8\n",
      "11 2023-07-12          173.5\n",
      "12 2023-07-13          171.9\n",
      "13 2023-07-14          170.0\n",
      "14 2023-07-15          172.4\n",
      "15 2023-07-16          173.6\n",
      "16 2023-07-17          175.0\n",
      "17 2023-07-18          176.3\n",
      "18 2023-07-19          178.2\n",
      "19 2023-07-20          179.8\n",
      "20 2023-07-21          180.5\n"
     ]
    }
   ],
   "source": [
    "print(df)"
   ]
  },
  {
   "cell_type": "markdown",
   "id": "5b328a3a",
   "metadata": {},
   "source": [
    "We could see that the data is already sorted and good to calculate moving average but we dont have a data for 30 days and having only for 21 days."
   ]
  },
  {
   "cell_type": "code",
   "execution_count": 19,
   "id": "5ed9f4f2",
   "metadata": {},
   "outputs": [],
   "source": [
    "# Calculate the 30-day rolling mean\n",
    "df['rolling_mean_30'] = df['closing_price'].rolling(window=30).mean()"
   ]
  },
  {
   "cell_type": "code",
   "execution_count": 20,
   "id": "ec0c86a2",
   "metadata": {},
   "outputs": [
    {
     "name": "stdout",
     "output_type": "stream",
     "text": [
      "         date  closing_price  rolling_mean_30\n",
      "0  2023-07-01          150.0              NaN\n",
      "1  2023-07-02          152.5              NaN\n",
      "2  2023-07-03          155.2              NaN\n",
      "3  2023-07-04          157.9              NaN\n",
      "4  2023-07-05          159.8              NaN\n",
      "5  2023-07-06          161.3              NaN\n",
      "6  2023-07-07          163.1              NaN\n",
      "7  2023-07-08          165.0              NaN\n",
      "8  2023-07-09          168.2              NaN\n",
      "9  2023-07-10          170.5              NaN\n",
      "10 2023-07-11          172.8              NaN\n",
      "11 2023-07-12          173.5              NaN\n",
      "12 2023-07-13          171.9              NaN\n",
      "13 2023-07-14          170.0              NaN\n",
      "14 2023-07-15          172.4              NaN\n",
      "15 2023-07-16          173.6              NaN\n",
      "16 2023-07-17          175.0              NaN\n",
      "17 2023-07-18          176.3              NaN\n",
      "18 2023-07-19          178.2              NaN\n",
      "19 2023-07-20          179.8              NaN\n",
      "20 2023-07-21          180.5              NaN\n"
     ]
    }
   ],
   "source": [
    "print(df)"
   ]
  },
  {
   "cell_type": "code",
   "execution_count": 21,
   "id": "267617ce",
   "metadata": {},
   "outputs": [
    {
     "data": {
      "image/png": "[encoded data removed]",
      "text/plain": [
       "<Figure size 864x432 with 1 Axes>"
      ]
     },
     "metadata": {
      "needs_background": "light"
     },
     "output_type": "display_data"
    }
   ],
   "source": [
    "# Create a time series plot\n",
    "plt.figure(figsize=(12, 6))\n",
    "plt.plot(df['date'], df['closing_price'], label='Closing Price', alpha=0.5)\n",
    "plt.plot(df['date'], df['rolling_mean_30'], label='30-Day Rolling Mean', color='orange')\n",
    "plt.title('Stock Price Analysis')\n",
    "plt.xlabel('Date')\n",
    "plt.ylabel('Price')\n",
    "plt.legend()\n",
    "plt.grid(True)\n",
    "plt.show()"
   ]
  },
  {
   "cell_type": "markdown",
   "id": "7028312c",
   "metadata": {},
   "source": [
    "We can try calculating the rolling average for a week based data and see the difference"
   ]
  },
  {
   "cell_type": "code",
   "execution_count": 22,
   "id": "c69aa6ad",
   "metadata": {},
   "outputs": [],
   "source": [
    "# Calculate the 7-day rolling mean\n",
    "df['rolling_mean_7'] = df['closing_price'].rolling(window=7).mean()"
   ]
  },
  {
   "cell_type": "code",
   "execution_count": 23,
   "id": "beadba84",
   "metadata": {},
   "outputs": [
    {
     "data": {
      "image/png": "[encoded data removed]",
      "text/plain": [
       "<Figure size 864x432 with 1 Axes>"
      ]
     },
     "metadata": {
      "needs_background": "light"
     },
     "output_type": "display_data"
    }
   ],
   "source": [
    "# Create a time series plot\n",
    "plt.figure(figsize=(12, 6))\n",
    "plt.plot(df['date'], df['closing_price'], label='Closing Price', alpha=0.5)\n",
    "plt.plot(df['date'], df['rolling_mean_7'], label='7-Day Rolling Mean', color='orange')\n",
    "plt.title('Stock Price Analysis')\n",
    "plt.xlabel('Date')\n",
    "plt.ylabel('Price')\n",
    "plt.legend()\n",
    "plt.grid(True)\n",
    "plt.show()"
   ]
  },
  {
   "cell_type": "code",
   "execution_count": null,
   "id": "2e825687",
   "metadata": {},
   "outputs": [],
   "source": []
  }
 ],
 "metadata": {
  "kernelspec": {
   "display_name": "Python 3 (ipykernel)",
   "language": "python",
   "name": "python3"
  },
  "language_info": {
   "codemirror_mode": {
    "name": "ipython",
    "version": 3
   },
   "file_extension": ".py",
   "mimetype": "text/x-python",
   "name": "python",
   "nbconvert_exporter": "python",
   "pygments_lexer": "ipython3",
   "version": "3.9.12"
  }
 },
 "nbformat": 4,
 "nbformat_minor": 5
}
