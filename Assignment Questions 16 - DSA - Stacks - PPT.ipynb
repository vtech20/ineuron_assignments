{
 "cells": [
  {
   "cell_type": "markdown",
   "id": "f97a1d88",
   "metadata": {},
   "source": [
    "<aside>\n",
    "💡 **Question 1**\n",
    "\n",
    "Given an array, for each element find the value of the nearest element to the right which is having a frequency greater than that of the current element. If there does not exist an answer for a position, then make the value ‘-1’.\n",
    "\n",
    "**Examples:**\n",
    "\n",
    "</aside>\n",
    "\n",
    "Input: a[] = [1, 1, 2, 3, 4, 2, 1]\n",
    "Output : [-1, -1, 1, 2, 2, 1, -1]\n",
    "\n",
    "Explanation:\n",
    "Given array a[] = [1, 1, 2, 3, 4, 2, 1]\n",
    "Frequency of each element is: 3, 3, 2, 1, 1, 2, 3\n",
    "\n",
    "Lets calls Next Greater Frequency element as NGF\n",
    "1. For element a[0] = 1 which has a frequency = 3,\n",
    "   As it has frequency of 3 and no other next element\n",
    "   has frequency more than 3 so  '-1'\n",
    "2. For element a[1] = 1 it will be -1 same logic\n",
    "   like a[0]\n",
    "3. For element a[2] = 2 which has frequency = 2,\n",
    "   NGF element is 1 at position = 6  with frequency\n",
    "   of 3 > 2\n",
    "4. For element a[3] = 3 which has frequency = 1,\n",
    "   NGF element is 2 at position = 5 with frequency\n",
    "   of 2 > 1\n",
    "5. For element a[4] = 4 which has frequency = 1,\n",
    "   NGF element is 2 at position = 5 with frequency\n",
    "   of 2 > 1\n",
    "6. For element a[5] = 2 which has frequency = 2,\n",
    "   NGF element is 1 at position = 6 with frequency\n",
    "   of 3 > 2\n",
    "7. For element a[6] = 1 there is no element to its\n",
    "   right, hence -1"
   ]
  },
  {
   "cell_type": "code",
   "execution_count": 4,
   "id": "78a17189",
   "metadata": {},
   "outputs": [],
   "source": [
    "def find_nearest_element_with_greater_frequency(arr):\n",
    "    frequency = {}\n",
    "    stack = []\n",
    "    result = []\n",
    "\n",
    "    for i in range(len(arr)-1, -1, -1):\n",
    "        while stack and frequency.get(arr[i], 0) >= frequency.get(arr[stack[-1]], 0):\n",
    "            stack.pop()\n",
    "\n",
    "        if not stack:\n",
    "            result.append(-1)\n",
    "        else:\n",
    "            result.append(arr[stack[-1]])\n",
    "\n",
    "        stack.append(i)\n",
    "        frequency[arr[i]] = frequency.get(arr[i], 0) + 1\n",
    "\n",
    "    result.reverse()\n",
    "    return result"
   ]
  },
  {
   "cell_type": "code",
   "execution_count": 5,
   "id": "95ba04ac",
   "metadata": {},
   "outputs": [
    {
     "name": "stdout",
     "output_type": "stream",
     "text": [
      "[-1, 2, -1, 4, 2, 1, -1]\n"
     ]
    }
   ],
   "source": [
    "array = [1, 1, 2, 3, 4, 2, 1]\n",
    "nearest_elements = find_nearest_element_with_greater_frequency(array)\n",
    "print(nearest_elements)"
   ]
  },
  {
   "cell_type": "markdown",
   "id": "d9f05fb5",
   "metadata": {},
   "source": [
    "<aside>\n",
    "💡 **Question 2**\n",
    "\n",
    "Given a stack of integers, sort it in ascending order using another temporary stack.\n",
    "\n",
    "**Examples:**\n",
    "\n",
    "</aside>"
   ]
  },
  {
   "cell_type": "markdown",
   "id": "3de15db3",
   "metadata": {},
   "source": [
    "Input : [34, 3, 31, 98, 92, 23]\n",
    "Output : [3, 23, 31, 34, 92, 98]\n",
    "\n",
    "Input : [3, 5, 1, 4, 2, 8]\n",
    "Output : [1, 2, 3, 4, 5, 8]"
   ]
  },
  {
   "cell_type": "code",
   "execution_count": 6,
   "id": "b1ca7efe",
   "metadata": {},
   "outputs": [],
   "source": [
    "def sort_stack(stack):\n",
    "    temp_stack = []\n",
    "\n",
    "    while stack:\n",
    "        temp = stack.pop()\n",
    "\n",
    "        while temp_stack and temp_stack[-1] > temp:\n",
    "            stack.append(temp_stack.pop())\n",
    "\n",
    "        temp_stack.append(temp)\n",
    "\n",
    "    # Transfer elements from temporary stack to input stack\n",
    "    while temp_stack:\n",
    "        stack.append(temp_stack.pop())\n",
    "\n",
    "    return stack"
   ]
  },
  {
   "cell_type": "code",
   "execution_count": 7,
   "id": "40499ba0",
   "metadata": {},
   "outputs": [
    {
     "name": "stdout",
     "output_type": "stream",
     "text": [
      "[98, 92, 34, 31, 23, 3]\n"
     ]
    }
   ],
   "source": [
    "input_stack = [34, 3, 31, 98, 92, 23]\n",
    "sorted_stack = sort_stack(input_stack)\n",
    "print(sorted_stack)"
   ]
  },
  {
   "cell_type": "markdown",
   "id": "b8762a31",
   "metadata": {},
   "source": [
    "<aside>\n",
    "💡 **Question 3**\n",
    "\n",
    "Given a stack with **push()**, **pop()**, and **empty()** operations, The task is to delete the **middle** element ****of it without using any additional data structure.\n",
    "\n",
    "Input  : Stack[] = [1, 2, 3, 4, 5]\n",
    "\n",
    "Output : Stack[] = [1, 2, 4, 5]\n",
    "\n",
    "Input  : Stack[] = [1, 2, 3, 4, 5, 6]\n",
    "\n",
    "Output : Stack[] = [1, 2, 4, 5, 6]\n",
    "\n",
    "</aside>"
   ]
  },
  {
   "cell_type": "code",
   "execution_count": 14,
   "id": "52fb4870",
   "metadata": {},
   "outputs": [],
   "source": [
    "def delete_middle_element(stack):\n",
    "    if not stack:\n",
    "        return stack\n",
    "\n",
    "    size = len(stack)\n",
    "    middle_index = (size // 2) + 1\n",
    "\n",
    "    def delete_middle(stack, current_index):\n",
    "        if not stack or current_index == middle_index:\n",
    "            stack.pop()\n",
    "            return stack\n",
    "\n",
    "        temp = stack.pop()\n",
    "        stack = delete_middle(stack, current_index + 1)\n",
    "        stack.append(temp)\n",
    "        return stack\n",
    "\n",
    "    stack = delete_middle(stack, 1)\n",
    "    return stack"
   ]
  },
  {
   "cell_type": "code",
   "execution_count": 15,
   "id": "f0299d81",
   "metadata": {},
   "outputs": [
    {
     "name": "stdout",
     "output_type": "stream",
     "text": [
      "[1, 2, 4, 5]\n",
      "[1, 2, 4, 5, 6]\n"
     ]
    }
   ],
   "source": [
    "stack1 = [1, 2, 3, 4, 5]\n",
    "modified_stack1 = delete_middle_element(stack1)\n",
    "print(modified_stack1)\n",
    "\n",
    "stack2 = [1, 2, 3, 4, 5, 6]\n",
    "modified_stack2 = delete_middle_element(stack2)\n",
    "print(modified_stack2)"
   ]
  },
  {
   "cell_type": "markdown",
   "id": "78c1df13",
   "metadata": {},
   "source": [
    "<aside>\n",
    "💡 **Question 4**\n",
    "\n",
    "Given a Queue consisting of first **n** natural numbers (in random order). The task is to check whether the given Queue elements can be arranged in increasing order in another Queue using a stack. The operation allowed are:\n",
    "\n",
    "1. Push and pop elements from the stack\n",
    "2. Pop (Or Dequeue) from the given Queue.\n",
    "3. Push (Or Enqueue) in the another Queue.\n",
    "\n",
    "**Examples :**\n",
    "\n",
    "Input : Queue[] = { 5, 1, 2, 3, 4 } \n",
    "\n",
    "Output : Yes \n",
    "\n",
    "Pop the first element of the given Queue \n",
    "\n",
    "i.e 5. Push 5 into the stack. \n",
    "\n",
    "Now, pop all the elements of the given Queue and push them to second Queue. \n",
    "\n",
    "Now, pop element 5 in the stack and push it to the second Queue.   \n",
    "\n",
    "Input : Queue[] = { 5, 1, 2, 6, 3, 4 } \n",
    "\n",
    "Output : No \n",
    "\n",
    "Push 5 to stack. \n",
    "\n",
    "Pop 1, 2 from given Queue and push it to another Queue. \n",
    "\n",
    "Pop 6 from given Queue and push to stack. \n",
    "\n",
    "Pop 3, 4 from given Queue and push to second Queue. \n",
    "\n",
    "Now, from using any of above operation, we cannot push 5 into the second Queue because it is below the 6 in the stack.\n",
    "\n",
    "</aside>"
   ]
  },
  {
   "cell_type": "code",
   "execution_count": 20,
   "id": "6fa2e95d",
   "metadata": {},
   "outputs": [],
   "source": [
    "def check_queue_arrangement(queue):\n",
    "    stack = []\n",
    "    aux_queue = []\n",
    "\n",
    "    while queue:\n",
    "        current = queue.pop(0)\n",
    "\n",
    "        if aux_queue and current > aux_queue[0]:\n",
    "            aux_queue.append(current)\n",
    "        else:\n",
    "            while aux_queue:\n",
    "                queue.append(aux_queue.pop(0))\n",
    "            aux_queue.append(current)\n",
    "\n",
    "    while aux_queue:\n",
    "        queue.append(aux_queue.pop(0))\n",
    "\n",
    "    return \"Yes\" if queue == sorted(queue) else \"No\"\n"
   ]
  },
  {
   "cell_type": "code",
   "execution_count": 21,
   "id": "e6f48df1",
   "metadata": {},
   "outputs": [
    {
     "name": "stdout",
     "output_type": "stream",
     "text": [
      "Yes\n"
     ]
    }
   ],
   "source": [
    "queue1 = [5, 1, 2, 3, 4]\n",
    "result1 = check_queue_arrangement(queue1)\n",
    "print(result1)"
   ]
  },
  {
   "cell_type": "code",
   "execution_count": 22,
   "id": "5857b5f0",
   "metadata": {},
   "outputs": [
    {
     "name": "stdout",
     "output_type": "stream",
     "text": [
      "No\n"
     ]
    }
   ],
   "source": [
    "queue2 = [5, 1, 2, 6, 3, 4]\n",
    "result2 = check_queue_arrangement(queue2)\n",
    "print(result2)"
   ]
  },
  {
   "cell_type": "markdown",
   "id": "7a0705b9",
   "metadata": {},
   "source": [
    "<aside>\n",
    "💡 **Question 5**\n",
    "\n",
    "Given a number , write a program to reverse this number using stack.\n",
    "\n",
    "**Examples:**\n",
    "\n",
    "    \n",
    "Input : 365\n",
    "Output : 563\n",
    "\n",
    "Input : 6899\n",
    "Output : 9986\n",
    "</aside>"
   ]
  },
  {
   "cell_type": "code",
   "execution_count": 31,
   "id": "cbe16507",
   "metadata": {},
   "outputs": [],
   "source": [
    "def reverse_number(num):\n",
    "    num_str = str(num)\n",
    "    stack = []\n",
    "\n",
    "    for char in num_str:\n",
    "        stack.append(char)\n",
    "\n",
    "    reversed_str = \"\"\n",
    "\n",
    "    while stack:\n",
    "        reversed_str += stack.pop()\n",
    "\n",
    "    reversed_num = int(reversed_str)\n",
    "\n",
    "    return reversed_num\n"
   ]
  },
  {
   "cell_type": "code",
   "execution_count": 32,
   "id": "7df14f4f",
   "metadata": {},
   "outputs": [
    {
     "name": "stdout",
     "output_type": "stream",
     "text": [
      "563\n",
      "9986\n"
     ]
    }
   ],
   "source": [
    "num1 = 365\n",
    "reversed_num1 = reverse_number(num1)\n",
    "print(reversed_num1)\n",
    "\n",
    "num2 = 6899\n",
    "reversed_num2 = reverse_number(num2)\n",
    "print(reversed_num2)"
   ]
  },
  {
   "cell_type": "markdown",
   "id": "4ab58a0c",
   "metadata": {},
   "source": [
    "<aside>\n",
    "💡 **Question 6**\n",
    "\n",
    "Given an integer k and a **[queue](https://www.geeksforgeeks.org/queue-data-structure/)** of integers, The task is to reverse the order of the first **k** elements of the queue, leaving the other elements in the same relative order.\n",
    "\n",
    "Only following standard operations are allowed on queue.\n",
    "\n",
    "- **enqueue(x) :** Add an item x to rear of queue\n",
    "- **dequeue() :** Remove an item from front of queue\n",
    "- **size() :** Returns number of elements in queue.\n",
    "- **front() :** Finds front item.\n",
    "</aside>"
   ]
  },
  {
   "cell_type": "code",
   "execution_count": 37,
   "id": "c6fe1902",
   "metadata": {},
   "outputs": [],
   "source": [
    "from queue import Queue\n",
    "\n",
    "def reverse_k_elements(queue, k):\n",
    "    stack = []\n",
    "    n = queue.qsize()\n",
    "\n",
    "    # Dequeue the first k elements and push them onto the stack\n",
    "    for _ in range(k):\n",
    "        stack.append(queue.get())\n",
    "\n",
    "    # Enqueue the elements from the stack back into the queue\n",
    "    while stack:\n",
    "        queue.put(stack.pop())\n",
    "\n",
    "    # Move the remaining elements (n - k) to the rear of the queue\n",
    "    for _ in range(n - k):\n",
    "        queue.put(queue.get())\n",
    "\n",
    "    return queue"
   ]
  },
  {
   "cell_type": "code",
   "execution_count": 38,
   "id": "4584369a",
   "metadata": {},
   "outputs": [
    {
     "name": "stdout",
     "output_type": "stream",
     "text": [
      "3\n",
      "2\n",
      "1\n",
      "4\n",
      "5\n"
     ]
    }
   ],
   "source": [
    "q = Queue()\n",
    "q.put(1)\n",
    "q.put(2)\n",
    "q.put(3)\n",
    "q.put(4)\n",
    "q.put(5)\n",
    "\n",
    "k = 3\n",
    "reversed_queue = reverse_k_elements(q, k)\n",
    "\n",
    "while not reversed_queue.empty():\n",
    "    print(reversed_queue.get())\n"
   ]
  },
  {
   "cell_type": "markdown",
   "id": "797eb7cc",
   "metadata": {},
   "source": [
    "<aside>\n",
    "💡 **Question 7**\n",
    "\n",
    "Given a sequence of n strings, the task is to check if any two similar words come together and then destroy each other then print the number of words left in the sequence after this pairwise destruction.\n",
    "\n",
    "**Examples:**\n",
    "\n",
    "Input : ab aa aa bcd ab\n",
    "\n",
    "Output : 3\n",
    "\n",
    "*As aa, aa destroys each other so,*\n",
    "\n",
    "*ab bcd ab is the new sequence.*\n",
    "\n",
    "Input :  tom jerry jerry tom\n",
    "\n",
    "Output : 0\n",
    "\n",
    "*As first both jerry will destroy each other.*\n",
    "\n",
    "*Then sequence will be tom, tom they will also destroy*\n",
    "\n",
    "*each other. So, the final sequence doesn’t contain any*\n",
    "\n",
    "*word.*\n",
    "\n",
    "</aside>"
   ]
  },
  {
   "cell_type": "code",
   "execution_count": 41,
   "id": "9f75cfdf",
   "metadata": {},
   "outputs": [],
   "source": [
    "def count_words_left(sequence):\n",
    "    stack = []\n",
    "\n",
    "    for word in sequence:\n",
    "        if stack and word == stack[-1]:\n",
    "            stack.pop()\n",
    "        else:\n",
    "            stack.append(word)\n",
    "\n",
    "    return len(stack)"
   ]
  },
  {
   "cell_type": "code",
   "execution_count": 42,
   "id": "e2dee78b",
   "metadata": {},
   "outputs": [
    {
     "name": "stdout",
     "output_type": "stream",
     "text": [
      "3\n",
      "0\n"
     ]
    }
   ],
   "source": [
    "sequence1 = ['ab', 'aa', 'aa', 'bcd', 'ab']\n",
    "result1 = count_words_left(sequence1)\n",
    "print(result1)\n",
    "\n",
    "sequence2 = ['tom', 'jerry', 'jerry', 'tom']\n",
    "result2 = count_words_left(sequence2)\n",
    "print(result2)\n"
   ]
  },
  {
   "cell_type": "markdown",
   "id": "60add098",
   "metadata": {},
   "source": [
    "<aside>\n",
    "💡 **Question 8**\n",
    "\n",
    "Given an array of integers, the task is to find the maximum absolute difference between the nearest left and the right smaller element of every element in the array.\n",
    "\n",
    "**Note:** If there is no smaller element on right side or left side of any element then we take zero as the smaller element. For example for the leftmost element, the nearest smaller element on the left side is considered as 0. Similarly, for rightmost elements, the smaller element on the right side is considered as 0.\n",
    "\n",
    "</aside>"
   ]
  },
  {
   "cell_type": "code",
   "execution_count": 50,
   "id": "429cecca",
   "metadata": {},
   "outputs": [],
   "source": [
    "def nearest_smaller_elements(arr):\n",
    "    n = len(arr)\n",
    "    left_smaller = [0] * n\n",
    "    right_smaller = [0] * n\n",
    "\n",
    "    stack = []\n",
    "    for i in range(n):\n",
    "        while stack and arr[stack[-1]] > arr[i]:\n",
    "            popped_index = stack.pop()\n",
    "            left_smaller[popped_index] = i - 1 if stack else 0\n",
    "        stack.append(i)\n",
    "\n",
    "    stack.clear()\n",
    "    for i in range(n-1, -1, -1):\n",
    "        while stack and arr[stack[-1]] > arr[i]:\n",
    "            popped_index = stack.pop()\n",
    "            right_smaller[popped_index] = i + 1 if stack else n - 1\n",
    "        stack.append(i)\n",
    "\n",
    "    max_diff = 0\n",
    "    for i in range(n):\n",
    "        diff = abs(right_smaller[i] - left_smaller[i])\n",
    "        max_diff = max(max_diff, diff)\n",
    "\n",
    "    return max_diff"
   ]
  },
  {
   "cell_type": "code",
   "execution_count": 51,
   "id": "404f1c9c",
   "metadata": {},
   "outputs": [
    {
     "name": "stdout",
     "output_type": "stream",
     "text": [
      "2\n",
      "1\n"
     ]
    }
   ],
   "source": [
    "arr1 = [2, 1, 8]\n",
    "result1 = nearest_smaller_elements(arr1)\n",
    "print(result1)\n",
    "\n",
    "arr2 = [5, 2, 9, 7, 1]\n",
    "result2 = nearest_smaller_elements(arr2)\n",
    "print(result2)\n"
   ]
  },
  {
   "cell_type": "code",
   "execution_count": null,
   "id": "2d793fd3",
   "metadata": {},
   "outputs": [],
   "source": []
  }
 ],
 "metadata": {
  "kernelspec": {
   "display_name": "Python 3 (ipykernel)",
   "language": "python",
   "name": "python3"
  },
  "language_info": {
   "codemirror_mode": {
    "name": "ipython",
    "version": 3
   },
   "file_extension": ".py",
   "mimetype": "text/x-python",
   "name": "python",
   "nbconvert_exporter": "python",
   "pygments_lexer": "ipython3",
   "version": "3.9.12"
  }
 },
 "nbformat": 4,
 "nbformat_minor": 5
}
