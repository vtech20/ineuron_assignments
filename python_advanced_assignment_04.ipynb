{
 "cells": [
  {
   "cell_type": "markdown",
   "metadata": {},
   "source": [
    "**1. Which two operator overloading methods can you use in your classes to support iteration?**"
   ]
  },
  {
   "cell_type": "markdown",
   "metadata": {},
   "source": [
    "The operator overloading methods in Python that provide iteration are \\_\\_iter_ and \\_\\_next_, which are referred to as the iterator protocol.\n",
    "In our particular class, the iterator object is returned by the call to \\_\\_iter__ at the beginning of the loop.\n",
    "\n",
    "Every time the loop advances, the function \\_\\_next__ is called, and it returns the new value. When there is no value to return, Stopiteration is also triggered."
   ]
  },
  {
   "cell_type": "markdown",
   "metadata": {},
   "source": [
    "**2. In what contexts do the two operator overloading methods manage printing?**"
   ]
  },
  {
   "cell_type": "markdown",
   "metadata": {},
   "source": [
    "Two operator overloading techniques that control printing are \\_\\_str__ and \\_\\_repr__.\n",
    "\n",
    "The main distinction between these two operators is that \\_\\_repr__ aims to be unambiguous while \\_\\_str__ aims to be readable.\n",
    "Internally, if we print any object references, the \\_\\_str\\_\\_ method is automatically invoked.\n",
    "Readability is \\_\\_str__ primary 's goal. It prints an object's helpful informal string representation, which is useful for publishing the object. Converting the result string back to the original object might not be possible.\n",
    "Since \\_\\_repr_\\_ is used to print an object's official textual representation, it contains all data and development."
   ]
  },
  {
   "cell_type": "markdown",
   "metadata": {},
   "source": [
    "**3. In a class, how do you intercept slice operations?**"
   ]
  },
  {
   "cell_type": "markdown",
   "metadata": {},
   "source": [
    "In a class use of slice() in \\_\\_getitem__ method is used for intercept slice operation. This slice method is provided with start integer number, stop integer number and step integer number."
   ]
  },
  {
   "cell_type": "markdown",
   "metadata": {},
   "source": [
    "**4. In a class, how do you capture in-place addition?**"
   ]
  },
  {
   "cell_type": "markdown",
   "metadata": {},
   "source": [
    "Normal addition is a+b. While the inplace addition procedure is a+=b. A will hold the value of addition in this in-place addition. For this in-place procedure, a class's \\_\\_iadd__ method is employed."
   ]
  },
  {
   "cell_type": "markdown",
   "metadata": {},
   "source": [
    "**5. When is it appropriate to use operator overloading?**"
   ]
  },
  {
   "cell_type": "markdown",
   "metadata": {},
   "source": [
    "Operator overloading is used when we want to use an operator other than its normal operation to have different meaning according to the context required in user defined function."
   ]
  },
  {
   "cell_type": "code",
   "execution_count": null,
   "metadata": {},
   "outputs": [],
   "source": []
  }
 ],
 "metadata": {
  "language_info": {
   "name": "python"
  },
  "orig_nbformat": 4
 },
 "nbformat": 4,
 "nbformat_minor": 2
}
