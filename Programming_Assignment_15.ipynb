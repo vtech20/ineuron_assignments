{
 "cells": [
  {
   "cell_type": "markdown",
   "id": "594db860",
   "metadata": {},
   "source": [
    "**Question 1:\n",
    "Please write a program using generator to print the numbers which can be divisible by 5 and 7 between 0 and n in comma separated form while n is input by console.**\n",
    "\n",
    "Example:\n",
    "\n",
    "If the following n is given as input to the program:\n",
    "\n",
    "100\n",
    "\n",
    "Then, the output of the program should be:\n",
    "\n",
    "0,35,70"
   ]
  },
  {
   "cell_type": "code",
   "execution_count": 1,
   "id": "5998ef78",
   "metadata": {},
   "outputs": [
    {
     "name": "stdout",
     "output_type": "stream",
     "text": [
      "0 35 70 "
     ]
    }
   ],
   "source": [
    "def NumGen(n):\n",
    "     \n",
    "    # iterate from 0 to N\n",
    "    for j in range(0, n+1):\n",
    " \n",
    "        # Short-circuit operator is used\n",
    "        if j % 5 == 0 and j % 7 == 0:\n",
    "            yield j\n",
    " \n",
    "# Driver code\n",
    "if __name__ == \"__main__\":\n",
    "       \n",
    "    # input goes here\n",
    "    N = 50\n",
    " \n",
    "    # Iterating over generator function\n",
    "    for j in NumGen(100):\n",
    "        print(j, end = \" \")"
   ]
  },
  {
   "cell_type": "markdown",
   "id": "aae3be83",
   "metadata": {},
   "source": [
    "**Question 2:\n",
    "Please write a program using generator to print the even numbers between 0 and n in comma separated form while n is input by console.**\n",
    "\n",
    "Example:\n",
    "\n",
    "If the following n is given as input to the program:\n",
    "\n",
    "10\n",
    "\n",
    "Then, the output of the program should be:\n",
    "\n",
    "0,2,4,6,8,10"
   ]
  },
  {
   "cell_type": "code",
   "execution_count": 7,
   "id": "95da29cd",
   "metadata": {},
   "outputs": [
    {
     "name": "stdout",
     "output_type": "stream",
     "text": [
      "0,2,4,6,8,10,"
     ]
    }
   ],
   "source": [
    "def gen1(n):\n",
    "    for i in range(n+1):\n",
    "        if i%2 ==0:\n",
    "            yield i     \n",
    "n= 10\n",
    "g1 = gen1(n)\n",
    "for x in g1:\n",
    "    print(x, end =\",\")"
   ]
  },
  {
   "cell_type": "markdown",
   "id": "e091b7d3",
   "metadata": {},
   "source": [
    "**Question 3:\n",
    "The Fibonacci Sequence is computed based on the following formula:**\n",
    "\n",
    "f(n)=0 if n=0\n",
    "\n",
    "f(n)=1 if n=1\n",
    "\n",
    "f(n)=f(n-1)+f(n-2) if n&gt;1\n",
    "\n",
    "Please write a program using list comprehension to print the Fibonacci Sequence in comma separated form with a given n input by console.\n",
    "\n",
    "Example:\n",
    "\n",
    "If the following n is given as input to the program:\n",
    "\n",
    "7\n",
    "\n",
    "Then, the output of the program should be:\n",
    "\n",
    "0,1,1,2,3,5,8,13"
   ]
  },
  {
   "cell_type": "code",
   "execution_count": 15,
   "id": "15ba188b",
   "metadata": {},
   "outputs": [],
   "source": [
    "def fibnocii(n):\n",
    "    series=[]\n",
    "    series.append(1)\n",
    "    series.append(1)\n",
    "    temp = [series[k-1]+series[k-2] for k in range(2,n)]\n",
    "    series += temp\n",
    "    return  series"
   ]
  },
  {
   "cell_type": "code",
   "execution_count": 16,
   "id": "4d5bad7c",
   "metadata": {},
   "outputs": [
    {
     "name": "stdout",
     "output_type": "stream",
     "text": [
      "0,1,1,2,3,5,8,13,None\n"
     ]
    }
   ],
   "source": [
    "print(fibno(7))"
   ]
  },
  {
   "cell_type": "markdown",
   "id": "e166e25b",
   "metadata": {},
   "source": [
    "**Question 4:\n",
    "Assuming that we have some email addresses in the &quot;username@companyname.com&quot; format,\n",
    "please write program to print the user name of a given email address. Both user names and\n",
    "company names are composed of letters only.**\n",
    "\n",
    "Example:\n",
    "\n",
    "If the following email address is given as input to the program:\n",
    "\n",
    "john@google.com\n",
    "\n",
    "Then, the output of the program should be:\n",
    "\n",
    "john"
   ]
  },
  {
   "cell_type": "code",
   "execution_count": 17,
   "id": "2e46ca46",
   "metadata": {},
   "outputs": [
    {
     "data": {
      "text/plain": [
       "'john'"
      ]
     },
     "execution_count": 17,
     "metadata": {},
     "output_type": "execute_result"
    }
   ],
   "source": [
    "import re\n",
    "email = \"john@google.com\"\n",
    "name = re.search(r\"^[A-za-z]+\", email)\n",
    "name.group()"
   ]
  },
  {
   "cell_type": "markdown",
   "id": "74fc954f",
   "metadata": {},
   "source": [
    "**Question 5: Define a class named Shape and its subclass Square. The Square class has an init function which takes a length as argument. Both classes have a area function which can print the area of the shape where Shape's area is 0 by default.**"
   ]
  },
  {
   "cell_type": "code",
   "execution_count": 18,
   "id": "8a4ef9a3",
   "metadata": {},
   "outputs": [],
   "source": [
    "class shape:\n",
    "    def __init__(self):\n",
    "        self._area = 0\n",
    "    def area(self):\n",
    "        print(self._area)\n",
    "    \n",
    "class square(shape):\n",
    "    def __init__(self,length):\n",
    "        self.length = length\n",
    "        super().__init__()\n",
    "    def area(self):\n",
    "        self._area =self.length**2\n",
    "        return self._area"
   ]
  },
  {
   "cell_type": "code",
   "execution_count": 19,
   "id": "4b1d4773",
   "metadata": {},
   "outputs": [
    {
     "data": {
      "text/plain": [
       "100"
      ]
     },
     "execution_count": 19,
     "metadata": {},
     "output_type": "execute_result"
    }
   ],
   "source": [
    "a=square(10)\n",
    "a.area()"
   ]
  },
  {
   "cell_type": "code",
   "execution_count": null,
   "id": "986b2fc9",
   "metadata": {},
   "outputs": [],
   "source": []
  }
 ],
 "metadata": {
  "kernelspec": {
   "display_name": "Python 3 (ipykernel)",
   "language": "python",
   "name": "python3"
  },
  "language_info": {
   "codemirror_mode": {
    "name": "ipython",
    "version": 3
   },
   "file_extension": ".py",
   "mimetype": "text/x-python",
   "name": "python",
   "nbconvert_exporter": "python",
   "pygments_lexer": "ipython3",
   "version": "3.9.12"
  }
 },
 "nbformat": 4,
 "nbformat_minor": 5
}
