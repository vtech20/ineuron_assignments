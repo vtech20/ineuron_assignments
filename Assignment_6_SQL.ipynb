{
  "nbformat": 4,
  "nbformat_minor": 0,
  "metadata": {
    "colab": {
      "name": "Assignment_6_SQL.ipynb",
      "provenance": [],
      "collapsed_sections": []
    },
    "kernelspec": {
      "name": "python3",
      "display_name": "Python 3"
    },
    "language_info": {
      "name": "python"
    }
  },
  "cells": [
    {
      "cell_type": "markdown",
      "source": [
        "**1. Write an SQL query to print details of the Workers who have joined in Feb’2014.**"
      ],
      "metadata": {
        "id": "gSQYPShwN_yQ"
      }
    },
    {
      "cell_type": "markdown",
      "source": [
        "Select * from Worker where year(JOINING_DATE) = 2014 and month(JOINING_DATE) = 2;"
      ],
      "metadata": {
        "id": "Sd2BtamLN_Le"
      }
    },
    {
      "cell_type": "markdown",
      "source": [
        "**2. Write an SQL query to fetch duplicate records having matching data in some fields of\n",
        "a table.**"
      ],
      "metadata": {
        "id": "e-eqZYVWSjOC"
      }
    },
    {
      "cell_type": "markdown",
      "source": [
        "SELECT WORKER_TITLE, AFFECTED_FROM, COUNT(\\*) FROM Title\n",
        "GROUP BY WORKER_TITLE, AFFECTED_FROM\n",
        "HAVING COUNT(\\*) > 1;"
      ],
      "metadata": {
        "id": "D8rVouGuSs4S"
      }
    },
    {
      "cell_type": "markdown",
      "source": [
        "**3. How to remove duplicate rows from Employees table.**"
      ],
      "metadata": {
        "id": "CgIXhQLLYt6D"
      }
    },
    {
      "cell_type": "markdown",
      "source": [
        "delete x from (\n",
        "  select *, rn=row_number() over (partition by EmployeeName order by empId)\n",
        "  from Employee \n",
        ") x\n",
        "where rn > 1;"
      ],
      "metadata": {
        "id": "wbIKRPk6ZTIL"
      }
    },
    {
      "cell_type": "code",
      "execution_count": null,
      "metadata": {
        "id": "FU40gBTuNUaI"
      },
      "outputs": [],
      "source": [
        ""
      ]
    }
  ]
}