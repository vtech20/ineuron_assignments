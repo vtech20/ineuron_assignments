{
 "cells": [
  {
   "cell_type": "markdown",
   "id": "c3ae285e",
   "metadata": {},
   "source": [
    "7. Answer the following questions  using dataset provided below\n",
    "\n",
    "    1. What is the % of sessions with an intention to book a scooter?\n",
    "    2. What is the % of sessions with a successful booking? \n",
    "    3. What determines, according to you, an intention to book?\n",
    "    4. What are factors, according to you, determining a successful booking? \n",
    "    5. Do you have any hypotheses after exploring this data? If yes, please add them.  \n",
    "\n",
    "https://drive.google.com/file/d/1MM1vzR0nuAfFH8tIXzs7PJMulZ9Nod22/view?usp=sharing"
   ]
  },
  {
   "cell_type": "code",
   "execution_count": 1,
   "id": "e3c58c4c",
   "metadata": {},
   "outputs": [],
   "source": [
    "#Import the libraries\n",
    "import pandas as pd\n",
    "import numpy as np\n",
    "import requests\n",
    "import matplotlib.pyplot as plt\n",
    "import io"
   ]
  },
  {
   "cell_type": "code",
   "execution_count": 4,
   "id": "384e6518",
   "metadata": {},
   "outputs": [],
   "source": [
    "#Download and load the dataset\n",
    "file_id = '1MM1vzR0nuAfFH8tIXzs7PJMulZ9Nod22'\n",
    "url = f'https://drive.google.com/uc?id={file_id}'\n",
    "download = requests.get(url).content\n",
    "# Read the CSV file into a Pandas DataFrame\n",
    "df = pd.read_csv(io.StringIO(download.decode('utf-8')),sep = \";\")"
   ]
  },
  {
   "cell_type": "code",
   "execution_count": 5,
   "id": "63825cef",
   "metadata": {},
   "outputs": [
    {
     "data": {
      "text/html": [
       "<div>\n",
       "<style scoped>\n",
       "    .dataframe tbody tr th:only-of-type {\n",
       "        vertical-align: middle;\n",
       "    }\n",
       "\n",
       "    .dataframe tbody tr th {\n",
       "        vertical-align: top;\n",
       "    }\n",
       "\n",
       "    .dataframe thead th {\n",
       "        text-align: right;\n",
       "    }\n",
       "</style>\n",
       "<table border=\"1\" class=\"dataframe\">\n",
       "  <thead>\n",
       "    <tr style=\"text-align: right;\">\n",
       "      <th></th>\n",
       "      <th>anonymous_id</th>\n",
       "      <th>business_zoned</th>\n",
       "      <th>context_app_version</th>\n",
       "      <th>context_device_id</th>\n",
       "      <th>context_os_name</th>\n",
       "      <th>event_name</th>\n",
       "      <th>received_at</th>\n",
       "      <th>created_at</th>\n",
       "    </tr>\n",
       "  </thead>\n",
       "  <tbody>\n",
       "    <tr>\n",
       "      <th>0</th>\n",
       "      <td>9DDC5BCD-0477-4E83-A32A-51013DA0A4E7</td>\n",
       "      <td>Hamburg</td>\n",
       "      <td>3.1.13</td>\n",
       "      <td>7A718FF6-584F-40E2-939D-224231295B1E</td>\n",
       "      <td>iOS</td>\n",
       "      <td>Out-Of-Business Zone View Shown</td>\n",
       "      <td>2020-09-01 23:59:44</td>\n",
       "      <td>2020-09-01 23:59:18</td>\n",
       "    </tr>\n",
       "    <tr>\n",
       "      <th>1</th>\n",
       "      <td>5592E78E-CE87-4258-B8D7-DD834A687A1E</td>\n",
       "      <td>Hamburg</td>\n",
       "      <td>3.1.13</td>\n",
       "      <td>11D0CB16-DA38-4565-9C3B-066E7877856C</td>\n",
       "      <td>iOS</td>\n",
       "      <td>Application Opened</td>\n",
       "      <td>2020-09-01 23:59:41</td>\n",
       "      <td>2020-09-01 23:59:35</td>\n",
       "    </tr>\n",
       "    <tr>\n",
       "      <th>2</th>\n",
       "      <td>5592E78E-CE87-4258-B8D7-DD834A687A1E</td>\n",
       "      <td>Hamburg</td>\n",
       "      <td>3.1.13</td>\n",
       "      <td>11D0CB16-DA38-4565-9C3B-066E7877856C</td>\n",
       "      <td>iOS</td>\n",
       "      <td>Ride Done - Successful</td>\n",
       "      <td>2020-09-01 23:59:41</td>\n",
       "      <td>2020-09-01 23:59:37</td>\n",
       "    </tr>\n",
       "    <tr>\n",
       "      <th>3</th>\n",
       "      <td>5592E78E-CE87-4258-B8D7-DD834A687A1E</td>\n",
       "      <td>Hamburg</td>\n",
       "      <td>3.1.13</td>\n",
       "      <td>11D0CB16-DA38-4565-9C3B-066E7877856C</td>\n",
       "      <td>iOS</td>\n",
       "      <td>Application Opened</td>\n",
       "      <td>2020-09-01 23:59:36</td>\n",
       "      <td>2020-09-01 23:37:46</td>\n",
       "    </tr>\n",
       "    <tr>\n",
       "      <th>4</th>\n",
       "      <td>5592E78E-CE87-4258-B8D7-DD834A687A1E</td>\n",
       "      <td>Hamburg</td>\n",
       "      <td>3.1.13</td>\n",
       "      <td>11D0CB16-DA38-4565-9C3B-066E7877856C</td>\n",
       "      <td>iOS</td>\n",
       "      <td>Ride Done - Unsuccessful</td>\n",
       "      <td>2020-09-01 23:59:36</td>\n",
       "      <td>2020-09-01 23:37:52</td>\n",
       "    </tr>\n",
       "    <tr>\n",
       "      <th>5</th>\n",
       "      <td>5592E78E-CE87-4258-B8D7-DD834A687A1E</td>\n",
       "      <td>Hamburg</td>\n",
       "      <td>3.1.13</td>\n",
       "      <td>11D0CB16-DA38-4565-9C3B-066E7877856C</td>\n",
       "      <td>iOS</td>\n",
       "      <td>Application Opened</td>\n",
       "      <td>2020-09-01 23:59:36</td>\n",
       "      <td>2020-09-01 23:57:45</td>\n",
       "    </tr>\n",
       "    <tr>\n",
       "      <th>6</th>\n",
       "      <td>9DDC5BCD-0477-4E83-A32A-51013DA0A4E7</td>\n",
       "      <td>Hamburg</td>\n",
       "      <td>3.1.13</td>\n",
       "      <td>7A718FF6-584F-40E2-939D-224231295B1E</td>\n",
       "      <td>iOS</td>\n",
       "      <td>Application Opened</td>\n",
       "      <td>2020-09-01 23:59:14</td>\n",
       "      <td>2020-09-01 23:58:59</td>\n",
       "    </tr>\n",
       "    <tr>\n",
       "      <th>7</th>\n",
       "      <td>9DDC5BCD-0477-4E83-A32A-51013DA0A4E7</td>\n",
       "      <td>Hamburg</td>\n",
       "      <td>3.1.13</td>\n",
       "      <td>7A718FF6-584F-40E2-939D-224231295B1E</td>\n",
       "      <td>iOS</td>\n",
       "      <td>Reduced Speed Snackbar Shown - Out Of Business...</td>\n",
       "      <td>2020-09-01 23:59:14</td>\n",
       "      <td>2020-09-01 23:59:03</td>\n",
       "    </tr>\n",
       "    <tr>\n",
       "      <th>8</th>\n",
       "      <td>9DDC5BCD-0477-4E83-A32A-51013DA0A4E7</td>\n",
       "      <td>Hamburg</td>\n",
       "      <td>3.1.13</td>\n",
       "      <td>7A718FF6-584F-40E2-939D-224231295B1E</td>\n",
       "      <td>iOS</td>\n",
       "      <td>Out-Of-Business Zone View Shown</td>\n",
       "      <td>2020-09-01 23:59:14</td>\n",
       "      <td>2020-09-01 23:59:03</td>\n",
       "    </tr>\n",
       "    <tr>\n",
       "      <th>9</th>\n",
       "      <td>9DDC5BCD-0477-4E83-A32A-51013DA0A4E7</td>\n",
       "      <td>Hamburg</td>\n",
       "      <td>3.1.13</td>\n",
       "      <td>7A718FF6-584F-40E2-939D-224231295B1E</td>\n",
       "      <td>iOS</td>\n",
       "      <td>Application Opened</td>\n",
       "      <td>2020-09-01 23:58:58</td>\n",
       "      <td>2020-09-01 23:58:58</td>\n",
       "    </tr>\n",
       "  </tbody>\n",
       "</table>\n",
       "</div>"
      ],
      "text/plain": [
       "                           anonymous_id business_zoned context_app_version  \\\n",
       "0  9DDC5BCD-0477-4E83-A32A-51013DA0A4E7        Hamburg              3.1.13   \n",
       "1  5592E78E-CE87-4258-B8D7-DD834A687A1E        Hamburg              3.1.13   \n",
       "2  5592E78E-CE87-4258-B8D7-DD834A687A1E        Hamburg              3.1.13   \n",
       "3  5592E78E-CE87-4258-B8D7-DD834A687A1E        Hamburg              3.1.13   \n",
       "4  5592E78E-CE87-4258-B8D7-DD834A687A1E        Hamburg              3.1.13   \n",
       "5  5592E78E-CE87-4258-B8D7-DD834A687A1E        Hamburg              3.1.13   \n",
       "6  9DDC5BCD-0477-4E83-A32A-51013DA0A4E7        Hamburg              3.1.13   \n",
       "7  9DDC5BCD-0477-4E83-A32A-51013DA0A4E7        Hamburg              3.1.13   \n",
       "8  9DDC5BCD-0477-4E83-A32A-51013DA0A4E7        Hamburg              3.1.13   \n",
       "9  9DDC5BCD-0477-4E83-A32A-51013DA0A4E7        Hamburg              3.1.13   \n",
       "\n",
       "                      context_device_id context_os_name  \\\n",
       "0  7A718FF6-584F-40E2-939D-224231295B1E             iOS   \n",
       "1  11D0CB16-DA38-4565-9C3B-066E7877856C             iOS   \n",
       "2  11D0CB16-DA38-4565-9C3B-066E7877856C             iOS   \n",
       "3  11D0CB16-DA38-4565-9C3B-066E7877856C             iOS   \n",
       "4  11D0CB16-DA38-4565-9C3B-066E7877856C             iOS   \n",
       "5  11D0CB16-DA38-4565-9C3B-066E7877856C             iOS   \n",
       "6  7A718FF6-584F-40E2-939D-224231295B1E             iOS   \n",
       "7  7A718FF6-584F-40E2-939D-224231295B1E             iOS   \n",
       "8  7A718FF6-584F-40E2-939D-224231295B1E             iOS   \n",
       "9  7A718FF6-584F-40E2-939D-224231295B1E             iOS   \n",
       "\n",
       "                                          event_name          received_at  \\\n",
       "0                    Out-Of-Business Zone View Shown  2020-09-01 23:59:44   \n",
       "1                                 Application Opened  2020-09-01 23:59:41   \n",
       "2                             Ride Done - Successful  2020-09-01 23:59:41   \n",
       "3                                 Application Opened  2020-09-01 23:59:36   \n",
       "4                           Ride Done - Unsuccessful  2020-09-01 23:59:36   \n",
       "5                                 Application Opened  2020-09-01 23:59:36   \n",
       "6                                 Application Opened  2020-09-01 23:59:14   \n",
       "7  Reduced Speed Snackbar Shown - Out Of Business...  2020-09-01 23:59:14   \n",
       "8                    Out-Of-Business Zone View Shown  2020-09-01 23:59:14   \n",
       "9                                 Application Opened  2020-09-01 23:58:58   \n",
       "\n",
       "            created_at  \n",
       "0  2020-09-01 23:59:18  \n",
       "1  2020-09-01 23:59:35  \n",
       "2  2020-09-01 23:59:37  \n",
       "3  2020-09-01 23:37:46  \n",
       "4  2020-09-01 23:37:52  \n",
       "5  2020-09-01 23:57:45  \n",
       "6  2020-09-01 23:58:59  \n",
       "7  2020-09-01 23:59:03  \n",
       "8  2020-09-01 23:59:03  \n",
       "9  2020-09-01 23:58:58  "
      ]
     },
     "execution_count": 5,
     "metadata": {},
     "output_type": "execute_result"
    }
   ],
   "source": [
    "#View the data\n",
    "df.head(10)"
   ]
  },
  {
   "cell_type": "code",
   "execution_count": 6,
   "id": "4e1fa6ae",
   "metadata": {},
   "outputs": [
    {
     "data": {
      "text/plain": [
       "(102422, 8)"
      ]
     },
     "execution_count": 6,
     "metadata": {},
     "output_type": "execute_result"
    }
   ],
   "source": [
    "#View the shape of the dataframe\n",
    "df.shape"
   ]
  },
  {
   "cell_type": "code",
   "execution_count": 7,
   "id": "a914ef41",
   "metadata": {},
   "outputs": [
    {
     "data": {
      "text/plain": [
       "array(['Out-Of-Business Zone View Shown', 'Application Opened',\n",
       "       'Ride Done - Successful', 'Ride Done - Unsuccessful',\n",
       "       'Reduced Speed Snackbar Shown - Out Of Business Zone',\n",
       "       'Vehicle Selected - User', 'Vehicle Selected - Auto',\n",
       "       'Qr Scanner Tapped', 'Qr Scanner - Scanned Succeeded',\n",
       "       'Ride Started - Pre-Ride', 'Ride Started - Successful',\n",
       "       'Application Updated', 'Scooter Selected - User',\n",
       "       'Scooter Selected - Auto',\n",
       "       'Qr Scanner - Scan Failed - Vehicle Not Available',\n",
       "       'Paypal Added Successfully', 'List Of Payment Shown',\n",
       "       'Payment Method Chosen', 'Personal Details Added Succeeded',\n",
       "       'Payment Method Screen Opened', 'Phone Number Entered',\n",
       "       'Terms And Privacy Policy Accepted', 'Qr Scanner - Enter Number',\n",
       "       'Ride Started - Unsuccessful', 'Add Payment Method',\n",
       "       'Sidebar Opened', 'Redeem Code', 'Play Sound From Vehicle',\n",
       "       'Map Legend Clicked', 'Rating Screen Closed - Maybe Later',\n",
       "       'Payment Details Screen Opened', 'Play Sound From Scooter',\n",
       "       'Qr Scanner - Cancel', 'Payment Opened', 'Qr Scanner - Flashlight',\n",
       "       'Signup Completed', 'Credit Card Details Accepted', 'Safety',\n",
       "       'Help - Booking', 'No-Parking View Shown', 'Signup Started',\n",
       "       'Rating Screen Closed - Not Interested', 'Help - Sidebar',\n",
       "       'Credit Card Details Rejected', 'Layover - Tier Not Available Yet',\n",
       "       'Account Setup Opened', 'Paypal Dialogue Shown',\n",
       "       'Paypal Dialogue - Okay Pressed', 'Ride Done - Not Charged',\n",
       "       'Qr Scanner - Scan Failed - Scooter Not Available',\n",
       "       'Ride Cancelled', 'Paypal Cancelled',\n",
       "       'Qr Scanner - Scan Failed - Not Our Scooter',\n",
       "       'Paypal Dialogue - Cancel Pressed', 'Paypal Error Shown',\n",
       "       'Location Services Dialogue Opened', 'Location Services Enabled',\n",
       "       'Signup Complete', 'Customer Blocked - Phone Validation',\n",
       "       'Phone Number Blocked - Phone Validation',\n",
       "       'Qr Scanner - Scan Failed - Not Our Vehicle'], dtype=object)"
      ]
     },
     "execution_count": 7,
     "metadata": {},
     "output_type": "execute_result"
    }
   ],
   "source": [
    "#find the unique values of Event_name\n",
    "df['event_name'].unique()"
   ]
  },
  {
   "cell_type": "code",
   "execution_count": 8,
   "id": "a215ba28",
   "metadata": {},
   "outputs": [
    {
     "data": {
      "text/plain": [
       "['Account Setup Opened',\n",
       " 'Add Payment Method',\n",
       " 'Application Opened',\n",
       " 'Application Updated',\n",
       " 'Credit Card Details Accepted',\n",
       " 'Credit Card Details Rejected',\n",
       " 'Customer Blocked - Phone Validation',\n",
       " 'Help - Booking',\n",
       " 'Help - Sidebar',\n",
       " 'Layover - Tier Not Available Yet',\n",
       " 'List Of Payment Shown',\n",
       " 'Location Services Dialogue Opened',\n",
       " 'Location Services Enabled',\n",
       " 'Map Legend Clicked',\n",
       " 'No-Parking View Shown',\n",
       " 'Out-Of-Business Zone View Shown',\n",
       " 'Payment Details Screen Opened',\n",
       " 'Payment Method Chosen',\n",
       " 'Payment Method Screen Opened',\n",
       " 'Payment Opened',\n",
       " 'Paypal Added Successfully',\n",
       " 'Paypal Cancelled',\n",
       " 'Paypal Dialogue - Cancel Pressed',\n",
       " 'Paypal Dialogue - Okay Pressed',\n",
       " 'Paypal Dialogue Shown',\n",
       " 'Paypal Error Shown',\n",
       " 'Personal Details Added Succeeded',\n",
       " 'Phone Number Blocked - Phone Validation',\n",
       " 'Phone Number Entered',\n",
       " 'Play Sound From Scooter',\n",
       " 'Play Sound From Vehicle',\n",
       " 'Qr Scanner - Cancel',\n",
       " 'Qr Scanner - Enter Number',\n",
       " 'Qr Scanner - Flashlight',\n",
       " 'Qr Scanner - Scan Failed - Not Our Scooter',\n",
       " 'Qr Scanner - Scan Failed - Not Our Vehicle',\n",
       " 'Qr Scanner - Scan Failed - Scooter Not Available',\n",
       " 'Qr Scanner - Scan Failed - Vehicle Not Available',\n",
       " 'Qr Scanner - Scanned Succeeded',\n",
       " 'Qr Scanner Tapped',\n",
       " 'Rating Screen Closed - Maybe Later',\n",
       " 'Rating Screen Closed - Not Interested',\n",
       " 'Redeem Code',\n",
       " 'Reduced Speed Snackbar Shown - Out Of Business Zone',\n",
       " 'Ride Cancelled',\n",
       " 'Ride Done - Not Charged',\n",
       " 'Ride Done - Successful',\n",
       " 'Ride Done - Unsuccessful',\n",
       " 'Ride Started - Pre-Ride',\n",
       " 'Ride Started - Successful',\n",
       " 'Ride Started - Unsuccessful',\n",
       " 'Safety',\n",
       " 'Scooter Selected - Auto',\n",
       " 'Scooter Selected - User',\n",
       " 'Sidebar Opened',\n",
       " 'Signup Complete',\n",
       " 'Signup Completed',\n",
       " 'Signup Started',\n",
       " 'Terms And Privacy Policy Accepted',\n",
       " 'Vehicle Selected - Auto',\n",
       " 'Vehicle Selected - User']"
      ]
     },
     "execution_count": 8,
     "metadata": {},
     "output_type": "execute_result"
    }
   ],
   "source": [
    "sorted(df['event_name'].unique())"
   ]
  },
  {
   "cell_type": "code",
   "execution_count": 9,
   "id": "ec820f47",
   "metadata": {},
   "outputs": [
    {
     "name": "stdout",
     "output_type": "stream",
     "text": [
      "<class 'pandas.core.frame.DataFrame'>\n",
      "RangeIndex: 102422 entries, 0 to 102421\n",
      "Data columns (total 8 columns):\n",
      " #   Column               Non-Null Count   Dtype \n",
      "---  ------               --------------   ----- \n",
      " 0   anonymous_id         102422 non-null  object\n",
      " 1   business_zoned       102422 non-null  object\n",
      " 2   context_app_version  102422 non-null  object\n",
      " 3   context_device_id    102422 non-null  object\n",
      " 4   context_os_name      102422 non-null  object\n",
      " 5   event_name           102422 non-null  object\n",
      " 6   received_at          102422 non-null  object\n",
      " 7   created_at           102422 non-null  object\n",
      "dtypes: object(8)\n",
      "memory usage: 6.3+ MB\n"
     ]
    }
   ],
   "source": [
    "#Check the Null values\n",
    "df.info()"
   ]
  },
  {
   "cell_type": "markdown",
   "id": "7a9fc8d7",
   "metadata": {},
   "source": [
    "There are no null values in the dataset"
   ]
  },
  {
   "cell_type": "markdown",
   "id": "7462b51a",
   "metadata": {},
   "source": [
    "What is the % of sessions with an intention to book a scooter?"
   ]
  },
  {
   "cell_type": "code",
   "execution_count": 14,
   "id": "1ed884a4",
   "metadata": {},
   "outputs": [
    {
     "data": {
      "text/plain": [
       "15.36193395950089"
      ]
     },
     "execution_count": 14,
     "metadata": {},
     "output_type": "execute_result"
    }
   ],
   "source": [
    "(df[(df['event_name'] == 'Scooter Selected - Auto') | (df['event_name'] == 'Scooter Selected - User')]['event_name'].count()/len(df))*100"
   ]
  },
  {
   "cell_type": "markdown",
   "id": "7d8438ab",
   "metadata": {},
   "source": [
    "15.36 % session having intention to buy scooter"
   ]
  },
  {
   "cell_type": "markdown",
   "id": "b0b18aee",
   "metadata": {},
   "source": [
    "What is the % of sessions with a successful booking?"
   ]
  },
  {
   "cell_type": "code",
   "execution_count": 17,
   "id": "770ed819",
   "metadata": {},
   "outputs": [
    {
     "data": {
      "text/plain": [
       "10.620765070004492"
      ]
     },
     "execution_count": 17,
     "metadata": {},
     "output_type": "execute_result"
    }
   ],
   "source": [
    "(df[df['event_name'].isin(['Ride Started - Successful','Play Sound From Scooter','Ride Done - Successful','Play Sound From Vehicle'])]['event_name'].count()/len(df))*100"
   ]
  },
  {
   "cell_type": "markdown",
   "id": "c5af4ae4",
   "metadata": {},
   "source": [
    "10.6% of sessions with a successful booking"
   ]
  },
  {
   "cell_type": "markdown",
   "id": "3be41b55",
   "metadata": {},
   "source": [
    "What determines, according to you, an intention to book?"
   ]
  },
  {
   "cell_type": "markdown",
   "id": "d0ce10df",
   "metadata": {},
   "source": [
    "Events like below have intention to book.\n",
    "\n",
    " 1. 'Scooter Selected - Auto',\n",
    " 2. 'Scooter Selected - User',\n",
    " 3.  'Vehicle Selected - Auto',\n",
    " 4. 'Vehicle Selected - User'\n",
    " 5.  'Payment Details Screen Opened',\n",
    " 6. 'Payment Method Chosen',\n",
    " 7. 'Payment Method Screen Opened',\n",
    " 8. 'Payment Opened',\n",
    " 9. 'Paypal Added Successfully',"
   ]
  },
  {
   "cell_type": "markdown",
   "id": "817c3226",
   "metadata": {},
   "source": [
    "What are factors, according to you, determining a successful booking?"
   ]
  },
  {
   "cell_type": "markdown",
   "id": "c4929ffe",
   "metadata": {},
   "source": [
    "A successful booking typically involves a series of events such as selecting a scooter, entering payment information, and starting a ride. These events should occur in a sequence that indicates a user's intention to book a scooter and their successful completion of that booking."
   ]
  },
  {
   "cell_type": "markdown",
   "id": "a7705819",
   "metadata": {},
   "source": [
    "Do you have any hypotheses after exploring this data? If yes, please add them.\n",
    "\n",
    "After exploring the data, it's clear that this dataset contains various events related to a vehicle rental service. However, the dataset lacks explicit labels or context for events related to booking and successful bookings. Therefore, it's challenging to form hypotheses about user behavior or intentions based solely on this dataset."
   ]
  },
  {
   "cell_type": "code",
   "execution_count": null,
   "id": "6b71d26d",
   "metadata": {},
   "outputs": [],
   "source": []
  }
 ],
 "metadata": {
  "kernelspec": {
   "display_name": "Python 3 (ipykernel)",
   "language": "python",
   "name": "python3"
  },
  "language_info": {
   "codemirror_mode": {
    "name": "ipython",
    "version": 3
   },
   "file_extension": ".py",
   "mimetype": "text/x-python",
   "name": "python",
   "nbconvert_exporter": "python",
   "pygments_lexer": "ipython3",
   "version": "3.9.12"
  }
 },
 "nbformat": 4,
 "nbformat_minor": 5
}
