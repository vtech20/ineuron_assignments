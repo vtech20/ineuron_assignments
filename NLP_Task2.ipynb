{
  "nbformat": 4,
  "nbformat_minor": 0,
  "metadata": {
    "colab": {
      "provenance": []
    },
    "kernelspec": {
      "name": "python3",
      "display_name": "Python 3"
    },
    "language_info": {
      "name": "python"
    }
  },
  "cells": [
    {
      "cell_type": "code",
      "source": [
        "!pip install PyPDF2"
      ],
      "metadata": {
        "colab": {
          "base_uri": "https://localhost:8080/"
        },
        "id": "JPsY-ikAWGRa",
        "outputId": "2ef05b5e-0d5e-4abc-833e-3469f13c68db"
      },
      "execution_count": 2,
      "outputs": [
        {
          "output_type": "stream",
          "name": "stdout",
          "text": [
            "Looking in indexes: https://pypi.org/simple, https://us-python.pkg.dev/colab-wheels/public/simple/\n",
            "Collecting PyPDF2\n",
            "  Downloading pypdf2-3.0.1-py3-none-any.whl (232 kB)\n",
            "\u001b[2K     \u001b[90m━━━━━━━━━━━━━━━━━━━━━━━━━━━━━━━━━━━━━━━\u001b[0m \u001b[32m232.6/232.6 kB\u001b[0m \u001b[31m5.8 MB/s\u001b[0m eta \u001b[36m0:00:00\u001b[0m\n",
            "\u001b[?25hInstalling collected packages: PyPDF2\n",
            "Successfully installed PyPDF2-3.0.1\n"
          ]
        }
      ]
    },
    {
      "cell_type": "code",
      "execution_count": 7,
      "metadata": {
        "colab": {
          "base_uri": "https://localhost:8080/"
        },
        "id": "JEj5Zrr7USA5",
        "outputId": "51fb2e75-80e5-495a-bcd2-2bc622a480cf"
      },
      "outputs": [
        {
          "output_type": "stream",
          "name": "stderr",
          "text": [
            "[nltk_data] Downloading package stopwords to /root/nltk_data...\n",
            "[nltk_data]   Unzipping corpora/stopwords.zip.\n"
          ]
        },
        {
          "output_type": "stream",
          "name": "stdout",
          "text": [
            "The most repeated word in the PDF (after removing stopwords) is: learning\n"
          ]
        }
      ],
      "source": [
        "import requests\n",
        "import PyPDF2\n",
        "from collections import Counter\n",
        "import csv\n",
        "import nltk\n",
        "from nltk.corpus import stopwords\n",
        "\n",
        "# Download stopwords if not already downloaded\n",
        "nltk.download(\"stopwords\")\n",
        "\n",
        "# Function to download the PDF file from the web\n",
        "def download_pdf(url, file_path):\n",
        "    response = requests.get(url)\n",
        "    with open(file_path, \"wb\") as file:\n",
        "        file.write(response.content)\n",
        "\n",
        "# Function to extract text from PDF\n",
        "def extract_text_from_pdf(file_path):\n",
        "    text = \"\"\n",
        "    with open(file_path, \"rb\") as file:\n",
        "        reader = PyPDF2.PdfReader(file)\n",
        "        for page in reader.pages:\n",
        "            text += page.extract_text()\n",
        "    return text\n",
        "\n",
        "# Function to find the most repeated word\n",
        "def find_most_repeated_word(text):\n",
        "    # Remove special characters and split text into words\n",
        "    words = text.lower().replace(\"\\n\", \" \").split()\n",
        "    # Remove stopwords\n",
        "    stop_words = set(stopwords.words(\"english\"))\n",
        "    words = [word for word in words if word not in stop_words]\n",
        "    # Count word occurrences\n",
        "    word_counts = Counter(words)\n",
        "    # Find the most common word and its count\n",
        "    most_common_word, count = word_counts.most_common(1)[0]\n",
        "    return most_common_word\n",
        "\n",
        "# URL of the PDF file\n",
        "pdf_url = \"https://hai.stanford.edu/sites/default/files/2020-09/AI-Definitions-HAI.pdf\"\n",
        "\n",
        "# File path to save the downloaded PDF file\n",
        "pdf_file_path = \"file.pdf\"\n",
        "\n",
        "# Download the PDF file\n",
        "download_pdf(pdf_url, pdf_file_path)\n",
        "\n",
        "# Extract text from PDF\n",
        "text = extract_text_from_pdf(pdf_file_path)\n",
        "\n",
        "# Find the most repeated word\n",
        "most_repeated_word = find_most_repeated_word(text)\n",
        "\n",
        "# Print the most repeated word\n",
        "print(\"The most repeated word in the PDF (after removing stopwords) is:\", most_repeated_word)\n",
        "\n",
        "# Store the extracted text in a CSV file\n",
        "csv_file = \"file.csv\"\n",
        "with open(csv_file, \"w\", newline=\"\", encoding=\"utf-8\") as file:\n",
        "    writer = csv.writer(file)\n",
        "    writer.writerow([\"Text\"])\n",
        "    writer.writerow([text])"
      ]
    },
    {
      "cell_type": "code",
      "source": [],
      "metadata": {
        "id": "1fqbeZhiV_Cz"
      },
      "execution_count": null,
      "outputs": []
    }
  ]
}