{
  "nbformat": 4,
  "nbformat_minor": 0,
  "metadata": {
    "colab": {
      "name": "assignment_15.ipynb",
      "provenance": [],
      "collapsed_sections": []
    },
    "kernelspec": {
      "name": "python3",
      "display_name": "Python 3"
    },
    "language_info": {
      "name": "python"
    }
  },
  "cells": [
    {
      "cell_type": "markdown",
      "source": [
        "**1.How many seconds are in an hour? Use the interactive interpreter as a calculator and multiply the\n",
        "number of seconds in a minute (60) by the number of minutes in an hour (also 60).**"
      ],
      "metadata": {
        "id": "SdLyRtF5gj0X"
      }
    },
    {
      "cell_type": "code",
      "execution_count": 9,
      "metadata": {
        "id": "mheBCJMEnywg",
        "colab": {
          "base_uri": "https://localhost:8080/"
        },
        "outputId": "9d0bcbf0-cbeb-4286-b183-402d801caa50"
      },
      "outputs": [
        {
          "output_type": "stream",
          "name": "stdout",
          "text": [
            "3600 seconds in an hour\n"
          ]
        }
      ],
      "source": [
        "seconds_in_a_minute = 60\n",
        "minutes_per_hour = 60\n",
        "print(seconds_in_a_minute * minutes_per_hour, \"seconds in an hour\")"
      ]
    },
    {
      "cell_type": "markdown",
      "source": [
        "**2. Assign the result from the previous task (seconds in an hour) to a variable called\n",
        "seconds_per_hour.**"
      ],
      "metadata": {
        "id": "4TlEfeR0g0hd"
      }
    },
    {
      "cell_type": "code",
      "source": [
        "seconds_per_hour = seconds_in_a_minute * minutes_per_hour"
      ],
      "metadata": {
        "id": "jYfF5bMNgsQQ"
      },
      "execution_count": 7,
      "outputs": []
    },
    {
      "cell_type": "code",
      "source": [
        "seconds_per_hour"
      ],
      "metadata": {
        "colab": {
          "base_uri": "https://localhost:8080/"
        },
        "id": "SiYw7pEcg80m",
        "outputId": "ea9e5ee9-f2e0-4c23-d477-3668b2422aff"
      },
      "execution_count": 8,
      "outputs": [
        {
          "output_type": "execute_result",
          "data": {
            "text/plain": [
              "3600"
            ]
          },
          "metadata": {},
          "execution_count": 8
        }
      ]
    },
    {
      "cell_type": "markdown",
      "source": [
        "**3. How many seconds do you think there are in a day? Make use of the variables seconds per hour\n",
        "and minutes per hour.**"
      ],
      "metadata": {
        "id": "86nUNuYcg-ym"
      }
    },
    {
      "cell_type": "code",
      "source": [
        "print(24 * minutes_per_hour * seconds_in_a_minute, \"seconds in a day\")"
      ],
      "metadata": {
        "colab": {
          "base_uri": "https://localhost:8080/"
        },
        "id": "sslEcjVPhIpe",
        "outputId": "d5a263b3-291c-40ec-ab47-dfb6e87fa962"
      },
      "execution_count": 11,
      "outputs": [
        {
          "output_type": "stream",
          "name": "stdout",
          "text": [
            "86400 seconds in a day\n"
          ]
        }
      ]
    },
    {
      "cell_type": "markdown",
      "source": [
        "**4. Calculate seconds per day again, but this time save the result in a variable called seconds_per_day**"
      ],
      "metadata": {
        "id": "eXHxxvariMhq"
      }
    },
    {
      "cell_type": "code",
      "source": [
        "seconds_per_day = 24 * minutes_per_hour * seconds_in_a_minute"
      ],
      "metadata": {
        "id": "nSJS1bUFiFGp"
      },
      "execution_count": 12,
      "outputs": []
    },
    {
      "cell_type": "markdown",
      "source": [
        "**5. Divide seconds_per_day by seconds_per_hour. Use floating-point (/) division.**"
      ],
      "metadata": {
        "id": "6hrmcb5wiXKh"
      }
    },
    {
      "cell_type": "code",
      "source": [
        "seconds_per_day/seconds_per_hour"
      ],
      "metadata": {
        "colab": {
          "base_uri": "https://localhost:8080/"
        },
        "id": "RVW66ZlbiTl2",
        "outputId": "397b1090-aba2-4b60-940f-d002d0b2e610"
      },
      "execution_count": 13,
      "outputs": [
        {
          "output_type": "execute_result",
          "data": {
            "text/plain": [
              "24.0"
            ]
          },
          "metadata": {},
          "execution_count": 13
        }
      ]
    },
    {
      "cell_type": "markdown",
      "source": [
        "**6. Divide seconds_per_day by seconds_per_hour, using integer (//) division. Did this number agree\n",
        "with the floating-point value from the previous question, aside from the final .0?**"
      ],
      "metadata": {
        "id": "kg5-kbY8iovx"
      }
    },
    {
      "cell_type": "code",
      "source": [
        "seconds_per_day//seconds_per_hour"
      ],
      "metadata": {
        "colab": {
          "base_uri": "https://localhost:8080/"
        },
        "id": "yN4QyzsAibi9",
        "outputId": "7b1c57ab-abcf-4e92-ca26-c52e4ff8bd18"
      },
      "execution_count": 14,
      "outputs": [
        {
          "output_type": "execute_result",
          "data": {
            "text/plain": [
              "24"
            ]
          },
          "metadata": {},
          "execution_count": 14
        }
      ]
    },
    {
      "cell_type": "markdown",
      "source": [
        "yes, this number agree with the floating point value from the previous question without .0"
      ],
      "metadata": {
        "id": "xJ75Q-EeitLp"
      }
    },
    {
      "cell_type": "markdown",
      "source": [
        "**7. Write a generator, genPrimes, that returns the sequence of prime numbers on successive calls to\n",
        "its next() method: 2, 3, 5, 7, 11, ...**"
      ],
      "metadata": {
        "id": "ec0JATROi4Fq"
      }
    },
    {
      "cell_type": "code",
      "source": [
        "def genPrimes():\n",
        "    primes = []   # primes generated so far\n",
        "    last = 1      # last number tried\n",
        "    while True:\n",
        "        last += 1\n",
        "        for p in primes:\n",
        "            if last % p == 0:\n",
        "                break\n",
        "        else:\n",
        "            primes.append(last)\n",
        "            yield last\n",
        "\n"
      ],
      "metadata": {
        "id": "C1dFFjybiruQ"
      },
      "execution_count": 25,
      "outputs": []
    },
    {
      "cell_type": "code",
      "source": [
        "p = genPrimes()"
      ],
      "metadata": {
        "id": "qH1tknknkONa"
      },
      "execution_count": 26,
      "outputs": []
    },
    {
      "cell_type": "code",
      "source": [
        "for i in range(10):\n",
        "  print(next(p))"
      ],
      "metadata": {
        "colab": {
          "base_uri": "https://localhost:8080/"
        },
        "id": "U5G5ELTokSdh",
        "outputId": "042791c9-eb59-437d-8630-2d3ca3e363fb"
      },
      "execution_count": 27,
      "outputs": [
        {
          "output_type": "stream",
          "name": "stdout",
          "text": [
            "2\n",
            "3\n",
            "5\n",
            "7\n",
            "11\n",
            "13\n",
            "17\n",
            "19\n",
            "23\n",
            "29\n"
          ]
        }
      ]
    },
    {
      "cell_type": "code",
      "source": [
        ""
      ],
      "metadata": {
        "id": "fHqcwZ8KkUIZ"
      },
      "execution_count": null,
      "outputs": []
    }
  ]
}