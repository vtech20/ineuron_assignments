{
 "cells": [
  {
   "cell_type": "markdown",
   "id": "6c7a3b15",
   "metadata": {},
   "source": [
    "**Q1. What is the difference between __getattr__ and __getattribute__?**"
   ]
  },
  {
   "cell_type": "markdown",
   "id": "3ab0899d",
   "metadata": {},
   "source": [
    "A key difference between __getattr__ and __getattribute__ is that __getattr__ is only invoked if the attribute wasn't found the usual ways. It's good for implementing a fallback for missing attributes, and is probably the one of two you want."
   ]
  },
  {
   "cell_type": "markdown",
   "id": "55737baa",
   "metadata": {},
   "source": [
    "**Q2. What is the difference between properties and descriptors?**"
   ]
  },
  {
   "cell_type": "markdown",
   "id": "b4892bc2",
   "metadata": {},
   "source": [
    "Descriptors are a low-level mechanism that lets you hook into an object's attributes being accessed. Properties are a high-level application of this; that is, properties are implemented using descriptors."
   ]
  },
  {
   "cell_type": "markdown",
   "id": "4cccca2b",
   "metadata": {},
   "source": [
    "**Q3. What are the key differences in functionality between __getattr__ and __getattribute__, as well as\n",
    "properties and descriptors?**"
   ]
  },
  {
   "cell_type": "markdown",
   "id": "39d7ffcb",
   "metadata": {},
   "source": [
    "When a class attribute is a descriptor, its special binding behaviour is triggered upon attribute lookup. Normally, using a.b to get, set or delete an attribute looks up the object named b in the class dictionary for a, but if b is a descriptor, the respective descriptor method gets called. Understanding descriptors is a key to a deep understanding of Python because they are the basis for many features including functions, methods, properties, class methods, static methods, and reference to super classes.\n",
    "\n",
    "A descriptor is what we call any object that defines __get__(), __set__(), or __delete__().\n",
    "\n",
    "\n",
    "Python internally uses property. It logs a message to the console when it’s accessed. Calling property() is a succinct way of building a data descriptor that triggers function calls upon access to an attribute"
   ]
  },
  {
   "cell_type": "code",
   "execution_count": null,
   "id": "42be358a",
   "metadata": {},
   "outputs": [],
   "source": []
  }
 ],
 "metadata": {
  "kernelspec": {
   "display_name": "Python 3 (ipykernel)",
   "language": "python",
   "name": "python3"
  },
  "language_info": {
   "codemirror_mode": {
    "name": "ipython",
    "version": 3
   },
   "file_extension": ".py",
   "mimetype": "text/x-python",
   "name": "python",
   "nbconvert_exporter": "python",
   "pygments_lexer": "ipython3",
   "version": "3.9.12"
  }
 },
 "nbformat": 4,
 "nbformat_minor": 5
}
