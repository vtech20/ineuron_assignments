{
 "cells": [
  {
   "cell_type": "markdown",
   "id": "fe9bd0c7",
   "metadata": {},
   "source": [
    "5. You have a dataset named customer_data.csv that contains information about customers. The dataset has columns customer_id, age, gender, email, and purchases. Write a Python script to read the dataset, perform data cleaning by removing duplicates and handling missing values, and then calculate the average number of purchases for each gender."
   ]
  },
  {
   "cell_type": "code",
   "execution_count": 1,
   "id": "e711b8a7",
   "metadata": {},
   "outputs": [],
   "source": [
    "#Import the libraries\n",
    "import pandas as pd\n",
    "import numpy as np\n",
    "import requests\n",
    "import matplotlib.pyplot as plt\n",
    "import io"
   ]
  },
  {
   "cell_type": "code",
   "execution_count": 2,
   "id": "b6e10edc",
   "metadata": {},
   "outputs": [],
   "source": [
    "#Download and load the dataset\n",
    "file_id = '17YBlvt8l0S0WQWEhpW7DsuXATe3plgFB'\n",
    "url = f'https://drive.google.com/uc?id={file_id}'\n",
    "download = requests.get(url).content\n",
    "# Read the CSV file into a Pandas DataFrame\n",
    "df = pd.read_csv(io.StringIO(download.decode('utf-8')))"
   ]
  },
  {
   "cell_type": "code",
   "execution_count": 3,
   "id": "8126896c",
   "metadata": {},
   "outputs": [
    {
     "data": {
      "text/html": [
       "<div>\n",
       "<style scoped>\n",
       "    .dataframe tbody tr th:only-of-type {\n",
       "        vertical-align: middle;\n",
       "    }\n",
       "\n",
       "    .dataframe tbody tr th {\n",
       "        vertical-align: top;\n",
       "    }\n",
       "\n",
       "    .dataframe thead th {\n",
       "        text-align: right;\n",
       "    }\n",
       "</style>\n",
       "<table border=\"1\" class=\"dataframe\">\n",
       "  <thead>\n",
       "    <tr style=\"text-align: right;\">\n",
       "      <th></th>\n",
       "      <th>customer_id</th>\n",
       "      <th>age</th>\n",
       "      <th>gender</th>\n",
       "      <th>email</th>\n",
       "      <th>purchases</th>\n",
       "    </tr>\n",
       "  </thead>\n",
       "  <tbody>\n",
       "    <tr>\n",
       "      <th>0</th>\n",
       "      <td>1001</td>\n",
       "      <td>35</td>\n",
       "      <td>M</td>\n",
       "      <td>abc@example.com</td>\n",
       "      <td>10.0</td>\n",
       "    </tr>\n",
       "    <tr>\n",
       "      <th>1</th>\n",
       "      <td>1002</td>\n",
       "      <td>28</td>\n",
       "      <td>F</td>\n",
       "      <td>def@example.com</td>\n",
       "      <td>5.0</td>\n",
       "    </tr>\n",
       "    <tr>\n",
       "      <th>2</th>\n",
       "      <td>1003</td>\n",
       "      <td>40</td>\n",
       "      <td>F</td>\n",
       "      <td>ghi@example.com</td>\n",
       "      <td>NaN</td>\n",
       "    </tr>\n",
       "    <tr>\n",
       "      <th>3</th>\n",
       "      <td>1004</td>\n",
       "      <td>45</td>\n",
       "      <td>M</td>\n",
       "      <td>jkl@example.com</td>\n",
       "      <td>8.0</td>\n",
       "    </tr>\n",
       "    <tr>\n",
       "      <th>4</th>\n",
       "      <td>1005</td>\n",
       "      <td>33</td>\n",
       "      <td>M</td>\n",
       "      <td>mno@example.com</td>\n",
       "      <td>15.0</td>\n",
       "    </tr>\n",
       "    <tr>\n",
       "      <th>5</th>\n",
       "      <td>1006</td>\n",
       "      <td>27</td>\n",
       "      <td>F</td>\n",
       "      <td>pqr@example.com</td>\n",
       "      <td>NaN</td>\n",
       "    </tr>\n",
       "    <tr>\n",
       "      <th>6</th>\n",
       "      <td>1007</td>\n",
       "      <td>50</td>\n",
       "      <td>M</td>\n",
       "      <td>stu@example.com</td>\n",
       "      <td>12.0</td>\n",
       "    </tr>\n",
       "    <tr>\n",
       "      <th>7</th>\n",
       "      <td>1008</td>\n",
       "      <td>29</td>\n",
       "      <td>F</td>\n",
       "      <td>vwx@example.com</td>\n",
       "      <td>7.0</td>\n",
       "    </tr>\n",
       "    <tr>\n",
       "      <th>8</th>\n",
       "      <td>1009</td>\n",
       "      <td>38</td>\n",
       "      <td>F</td>\n",
       "      <td>yza@example.com</td>\n",
       "      <td>9.0</td>\n",
       "    </tr>\n",
       "  </tbody>\n",
       "</table>\n",
       "</div>"
      ],
      "text/plain": [
       "   customer_id  age gender            email  purchases\n",
       "0         1001   35      M  abc@example.com       10.0\n",
       "1         1002   28      F  def@example.com        5.0\n",
       "2         1003   40      F  ghi@example.com        NaN\n",
       "3         1004   45      M  jkl@example.com        8.0\n",
       "4         1005   33      M  mno@example.com       15.0\n",
       "5         1006   27      F  pqr@example.com        NaN\n",
       "6         1007   50      M  stu@example.com       12.0\n",
       "7         1008   29      F  vwx@example.com        7.0\n",
       "8         1009   38      F  yza@example.com        9.0"
      ]
     },
     "execution_count": 3,
     "metadata": {},
     "output_type": "execute_result"
    }
   ],
   "source": [
    "#View the data\n",
    "df.head(10)"
   ]
  },
  {
   "cell_type": "code",
   "execution_count": 4,
   "id": "1b41664e",
   "metadata": {},
   "outputs": [
    {
     "data": {
      "text/plain": [
       "(9, 5)"
      ]
     },
     "execution_count": 4,
     "metadata": {},
     "output_type": "execute_result"
    }
   ],
   "source": [
    "#View the shape of the dataframe\n",
    "df.shape"
   ]
  },
  {
   "cell_type": "code",
   "execution_count": 6,
   "id": "143216f6",
   "metadata": {},
   "outputs": [
    {
     "name": "stdout",
     "output_type": "stream",
     "text": [
      "<class 'pandas.core.frame.DataFrame'>\n",
      "RangeIndex: 9 entries, 0 to 8\n",
      "Data columns (total 5 columns):\n",
      " #   Column       Non-Null Count  Dtype  \n",
      "---  ------       --------------  -----  \n",
      " 0   customer_id  9 non-null      int64  \n",
      " 1   age          9 non-null      int64  \n",
      " 2   gender       9 non-null      object \n",
      " 3   email        9 non-null      object \n",
      " 4   purchases    7 non-null      float64\n",
      "dtypes: float64(1), int64(2), object(2)\n",
      "memory usage: 488.0+ bytes\n"
     ]
    }
   ],
   "source": [
    "#Check the NULL values\n",
    "df.info()"
   ]
  },
  {
   "cell_type": "markdown",
   "id": "3b52bb7b",
   "metadata": {},
   "source": [
    "There are 2 NULL values in the purchases.Lets see the summary of the data"
   ]
  },
  {
   "cell_type": "code",
   "execution_count": 7,
   "id": "c6330057",
   "metadata": {},
   "outputs": [
    {
     "data": {
      "text/html": [
       "<div>\n",
       "<style scoped>\n",
       "    .dataframe tbody tr th:only-of-type {\n",
       "        vertical-align: middle;\n",
       "    }\n",
       "\n",
       "    .dataframe tbody tr th {\n",
       "        vertical-align: top;\n",
       "    }\n",
       "\n",
       "    .dataframe thead th {\n",
       "        text-align: right;\n",
       "    }\n",
       "</style>\n",
       "<table border=\"1\" class=\"dataframe\">\n",
       "  <thead>\n",
       "    <tr style=\"text-align: right;\">\n",
       "      <th></th>\n",
       "      <th>customer_id</th>\n",
       "      <th>age</th>\n",
       "      <th>purchases</th>\n",
       "    </tr>\n",
       "  </thead>\n",
       "  <tbody>\n",
       "    <tr>\n",
       "      <th>count</th>\n",
       "      <td>9.000000</td>\n",
       "      <td>9.000000</td>\n",
       "      <td>7.000000</td>\n",
       "    </tr>\n",
       "    <tr>\n",
       "      <th>mean</th>\n",
       "      <td>1005.000000</td>\n",
       "      <td>36.111111</td>\n",
       "      <td>9.428571</td>\n",
       "    </tr>\n",
       "    <tr>\n",
       "      <th>std</th>\n",
       "      <td>2.738613</td>\n",
       "      <td>7.912718</td>\n",
       "      <td>3.309438</td>\n",
       "    </tr>\n",
       "    <tr>\n",
       "      <th>min</th>\n",
       "      <td>1001.000000</td>\n",
       "      <td>27.000000</td>\n",
       "      <td>5.000000</td>\n",
       "    </tr>\n",
       "    <tr>\n",
       "      <th>25%</th>\n",
       "      <td>1003.000000</td>\n",
       "      <td>29.000000</td>\n",
       "      <td>7.500000</td>\n",
       "    </tr>\n",
       "    <tr>\n",
       "      <th>50%</th>\n",
       "      <td>1005.000000</td>\n",
       "      <td>35.000000</td>\n",
       "      <td>9.000000</td>\n",
       "    </tr>\n",
       "    <tr>\n",
       "      <th>75%</th>\n",
       "      <td>1007.000000</td>\n",
       "      <td>40.000000</td>\n",
       "      <td>11.000000</td>\n",
       "    </tr>\n",
       "    <tr>\n",
       "      <th>max</th>\n",
       "      <td>1009.000000</td>\n",
       "      <td>50.000000</td>\n",
       "      <td>15.000000</td>\n",
       "    </tr>\n",
       "  </tbody>\n",
       "</table>\n",
       "</div>"
      ],
      "text/plain": [
       "       customer_id        age  purchases\n",
       "count     9.000000   9.000000   7.000000\n",
       "mean   1005.000000  36.111111   9.428571\n",
       "std       2.738613   7.912718   3.309438\n",
       "min    1001.000000  27.000000   5.000000\n",
       "25%    1003.000000  29.000000   7.500000\n",
       "50%    1005.000000  35.000000   9.000000\n",
       "75%    1007.000000  40.000000  11.000000\n",
       "max    1009.000000  50.000000  15.000000"
      ]
     },
     "execution_count": 7,
     "metadata": {},
     "output_type": "execute_result"
    }
   ],
   "source": [
    "df.describe()"
   ]
  },
  {
   "cell_type": "markdown",
   "id": "7e688e51",
   "metadata": {},
   "source": [
    "The range of the purchases is from 5 to 11 and the mean of the purchases is 9.4 and the median is 9 so I can use mean to fill the missing values."
   ]
  },
  {
   "cell_type": "code",
   "execution_count": 8,
   "id": "a7923613",
   "metadata": {},
   "outputs": [],
   "source": [
    "#Finding the mean of the column purchases\n",
    "mean_value=df['purchases'].mean()"
   ]
  },
  {
   "cell_type": "code",
   "execution_count": 9,
   "id": "d7aa0a8b",
   "metadata": {},
   "outputs": [],
   "source": [
    "# Replace NaNs in column purchases with the\n",
    "# mean of values in the same column\n",
    "df['purchases'].fillna(value=mean_value, inplace=True)"
   ]
  },
  {
   "cell_type": "code",
   "execution_count": 10,
   "id": "05163e02",
   "metadata": {},
   "outputs": [
    {
     "name": "stdout",
     "output_type": "stream",
     "text": [
      "<class 'pandas.core.frame.DataFrame'>\n",
      "RangeIndex: 9 entries, 0 to 8\n",
      "Data columns (total 5 columns):\n",
      " #   Column       Non-Null Count  Dtype  \n",
      "---  ------       --------------  -----  \n",
      " 0   customer_id  9 non-null      int64  \n",
      " 1   age          9 non-null      int64  \n",
      " 2   gender       9 non-null      object \n",
      " 3   email        9 non-null      object \n",
      " 4   purchases    9 non-null      float64\n",
      "dtypes: float64(1), int64(2), object(2)\n",
      "memory usage: 488.0+ bytes\n"
     ]
    }
   ],
   "source": [
    "#Check the NULL values\n",
    "df.info()"
   ]
  },
  {
   "cell_type": "code",
   "execution_count": 11,
   "id": "083a5694",
   "metadata": {},
   "outputs": [
    {
     "data": {
      "text/plain": [
       "gender\n",
       "F     7.971429\n",
       "M    11.250000\n",
       "Name: purchases, dtype: float64"
      ]
     },
     "execution_count": 11,
     "metadata": {},
     "output_type": "execute_result"
    }
   ],
   "source": [
    "df.groupby('gender')['purchases'].mean()"
   ]
  },
  {
   "cell_type": "markdown",
   "id": "4d708bd9",
   "metadata": {},
   "source": [
    "We could see the average purchases of gender Female is 7.97 and for gender Male is 11.25. Male is purchased more than Female"
   ]
  },
  {
   "cell_type": "code",
   "execution_count": null,
   "id": "2e89b01b",
   "metadata": {},
   "outputs": [],
   "source": []
  }
 ],
 "metadata": {
  "kernelspec": {
   "display_name": "Python 3 (ipykernel)",
   "language": "python",
   "name": "python3"
  },
  "language_info": {
   "codemirror_mode": {
    "name": "ipython",
    "version": 3
   },
   "file_extension": ".py",
   "mimetype": "text/x-python",
   "name": "python",
   "nbconvert_exporter": "python",
   "pygments_lexer": "ipython3",
   "version": "3.9.12"
  }
 },
 "nbformat": 4,
 "nbformat_minor": 5
}
