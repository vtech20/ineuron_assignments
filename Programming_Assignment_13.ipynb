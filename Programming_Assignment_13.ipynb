{
 "cells": [
  {
   "cell_type": "markdown",
   "id": "10833489",
   "metadata": {},
   "source": [
    "Question 1:\n",
    "\n",
    "Write a program that calculates and prints the value according to the given formula:\n",
    "\n",
    "Q = Square root of [(2 * C * D)/H]\n",
    "\n",
    "Following are the fixed values of C and H:\n",
    "\n",
    "C is 50. H is 30.\n",
    "\n",
    "D is the variable whose values should be input to your program in a comma-separated\n",
    "sequence.\n",
    "\n",
    "Example\n",
    "\n",
    "Let us assume the following comma separated input sequence is given to the program:\n",
    "\n",
    "100,150,180\n",
    "\n",
    "The output of the program should be:\n",
    "\n",
    "18,22,24"
   ]
  },
  {
   "cell_type": "code",
   "execution_count": 11,
   "id": "dc915079",
   "metadata": {},
   "outputs": [
    {
     "name": "stdout",
     "output_type": "stream",
     "text": [
      "Enter comma separated input sequence : 100,150,180\n",
      "The output is :  18,22,24\n"
     ]
    }
   ],
   "source": [
    "import math\n",
    "def calc_sqrt(a):\n",
    "    lst1 = a.split(\",\")\n",
    "    lst1 = [int(i) for i in lst1]\n",
    "    out1 = []\n",
    "    C = 50\n",
    "    H = 30\n",
    "    for D in lst1:\n",
    "        Q = math.sqrt((2*C*D)/H)\n",
    "        out1.append(str(int(Q)))\n",
    "    out_string = \",\".join(out1)\n",
    "    print(\"The output is : \",out_string)\n",
    "\n",
    "\n",
    "iv = input(\"Enter comma separated input sequence : \")\n",
    "calc_sqrt(iv)"
   ]
  },
  {
   "cell_type": "markdown",
   "id": "001841eb",
   "metadata": {},
   "source": [
    "Question 2:\n",
    "\n",
    "Write a program which takes 2 digits, X,Y as input and generates a 2-dimensional array. The\n",
    "element value in the i-th row and j-th column of the array should be i*j.\n",
    "\n",
    "Note: i=0,1.., X-1; j=0,1,¡Y-1.\n",
    "\n",
    "Example\n",
    "\n",
    "Suppose the following inputs are given to the program:\n",
    "\n",
    "3,5\n",
    "\n",
    "Then, the output of the program should be:\n",
    "\n",
    "[[0, 0, 0, 0, 0], [0, 1, 2, 3, 4], [0, 2, 4, 6, 8]]"
   ]
  },
  {
   "cell_type": "code",
   "execution_count": 32,
   "id": "efc34519",
   "metadata": {},
   "outputs": [
    {
     "name": "stdout",
     "output_type": "stream",
     "text": [
      "Enter the rows and columns (comma seperated) to create matrix : 3,5\n",
      "[[0 0 0 0 0]\n",
      " [0 1 2 3 4]\n",
      " [0 2 4 6 8]]\n"
     ]
    }
   ],
   "source": [
    "import numpy as np\n",
    "\n",
    "def generate_matrix(a):\n",
    "    rows,cols = map(int,a.split(\",\"))\n",
    "    arr1 = np.zeros(shape=(rows,cols),dtype=int)\n",
    "    for i in range(rows):\n",
    "        for j in range(cols):\n",
    "            arr1[i][j] = i*j\n",
    "    \n",
    "    print(arr1)\n",
    "\n",
    "rows_cols = input(\"Enter the rows and columns (comma seperated) to create matrix : \")\n",
    "generate_matrix(rows_cols)        "
   ]
  },
  {
   "cell_type": "markdown",
   "id": "6e237218",
   "metadata": {},
   "source": [
    "Question 3:\n",
    "\n",
    "Write a program that accepts a comma separated sequence of words as input and prints the\n",
    "words in a comma-separated sequence after sorting them alphabetically.\n",
    "\n",
    "Suppose the following input is supplied to the program:\n",
    "\n",
    "without,hello,bag,world\n",
    "\n",
    "Then, the output should be:\n",
    "\n",
    "bag,hello,without,world"
   ]
  },
  {
   "cell_type": "code",
   "execution_count": 35,
   "id": "1df65416",
   "metadata": {},
   "outputs": [
    {
     "name": "stdout",
     "output_type": "stream",
     "text": [
      "Enter a comma separated sequence of words as input : without,hello,bag,world\n",
      "The sorted string is :  bag,hello,without,world\n"
     ]
    }
   ],
   "source": [
    "def sort_words(a):\n",
    "    lst1 = a.split(\",\")\n",
    "    lst1.sort()\n",
    "    sorted_Str = ','.join(lst1)\n",
    "    print(\"The sorted string is : \",sorted_Str)\n",
    "    \n",
    "\n",
    "inp_Str = input(\"Enter a comma separated sequence of words as input : \")\n",
    "sort_words(inp_Str)"
   ]
  },
  {
   "cell_type": "markdown",
   "id": "927652dc",
   "metadata": {},
   "source": [
    "Question 4:\n",
    "\n",
    "Write a program that accepts a sequence of whitespace separated words as input and prints\n",
    "the words after removing all duplicate words and sorting them alphanumerically.\n",
    "\n",
    "Suppose the following input is supplied to the program:\n",
    "\n",
    "hello world and practice makes perfect and hello world again\n",
    "\n",
    "Then, the output should be:\n",
    "\n",
    "again and hello makes perfect practice world"
   ]
  },
  {
   "cell_type": "code",
   "execution_count": 41,
   "id": "25c24db5",
   "metadata": {},
   "outputs": [
    {
     "name": "stdout",
     "output_type": "stream",
     "text": [
      "Enter a space separated sequence of words as input : hello world and practice makes perfect and hello world again\n",
      "The sorted string after removing duplicates is :  again and hello makes perfect practice world\n"
     ]
    }
   ],
   "source": [
    "def remove_duplicate_words(a):\n",
    "    lst1 = a.split(\" \")\n",
    "    s = set(lst1)\n",
    "    s = sorted(s)\n",
    "    sorted_Str = ' '.join(s)\n",
    "    print(\"The sorted string after removing duplicates is : \",sorted_Str)\n",
    "\n",
    "inp_Str = input(\"Enter a space separated sequence of words as input : \")\n",
    "remove_duplicate_words(inp_Str)"
   ]
  },
  {
   "cell_type": "markdown",
   "id": "c38f209d",
   "metadata": {},
   "source": [
    "Question 5:\n",
    "\n",
    "Write a program that accepts a sentence and calculate the number of letters and digits.\n",
    "\n",
    "Suppose the following input is supplied to the program:\n",
    "\n",
    "hello world! 123\n",
    "\n",
    "Then, the output should be:\n",
    "\n",
    "LETTERS 10\n",
    "\n",
    "DIGITS 3"
   ]
  },
  {
   "cell_type": "code",
   "execution_count": 43,
   "id": "57822545",
   "metadata": {},
   "outputs": [
    {
     "name": "stdout",
     "output_type": "stream",
     "text": [
      "Enter a string : hello world! 123\n",
      "LETTERS  10\n",
      "DIGITS  3\n"
     ]
    }
   ],
   "source": [
    "import re\n",
    "def count_digits_alpha(str1):\n",
    "    total_digits = len(re.findall('[0-9]',str1))\n",
    "    total_alpha = len(re.findall('[A-z]',str1))\n",
    "    print(\"LETTERS \",total_alpha)\n",
    "    print(\"DIGITS \",total_digits)\n",
    "\n",
    "inp_Str = input(\"Enter a string : \")\n",
    "count_digits_alpha(inp_Str)"
   ]
  },
  {
   "cell_type": "markdown",
   "id": "a4248071",
   "metadata": {},
   "source": [
    "Question 6:\n",
    "A website requires the users to input username and password to register. Write a program to\n",
    "check the validity of password input by users.\n",
    "\n",
    "Following are the criteria for checking the password:\n",
    "\n",
    "1. At least 1 letter between [a-z]\n",
    "2. At least 1 number between [0-9]\n",
    "1. At least 1 letter between [A-Z]\n",
    "3. At least 1 character from [$#@]\n",
    "4. Minimum length of transaction password: 6\n",
    "5. Maximum length of transaction password: 12\n",
    "\n",
    "Your program should accept a sequence of comma separated passwords and will check them\n",
    "according to the above criteria. \n",
    "\n",
    "Passwords that match the criteria are to be printed, each\n",
    "separated by a comma.\n",
    "\n",
    "Example\n",
    "\n",
    "If the following passwords are given as input to the program:\n",
    "\n",
    "ABd1234@1,a F1#,2w3E*,2We3345\n",
    "\n",
    "Then, the output of the program should be:\n",
    "\n",
    "ABd1234@1"
   ]
  },
  {
   "cell_type": "code",
   "execution_count": 44,
   "id": "f8d3b703",
   "metadata": {},
   "outputs": [
    {
     "name": "stdout",
     "output_type": "stream",
     "text": [
      "Enter the passwords with comma seperated : ABd1234@1,a F1#,2w3E*,2We3345\n",
      "ABd1234@1\n"
     ]
    }
   ],
   "source": [
    "def validate_pass(str1):\n",
    "    lst1 = str1.split(\",\")\n",
    "    value = []\n",
    "    for i in lst1:\n",
    "        if len(i)< 6 and len(i) > 12:\n",
    "            continue\n",
    "        else:\n",
    "            pass\n",
    "        if not re.search(\"[a-z]\",i):\n",
    "            continue\n",
    "        elif not re.search(\"[0-9]\",i):\n",
    "            continue\n",
    "        elif not re.search(\"[A-Z]\",i):\n",
    "            continue\n",
    "        elif not re.search(\"[$#@]\",i):\n",
    "            continue\n",
    "        elif re.search(\"\\s\",i):\n",
    "            continue\n",
    "        else:\n",
    "            pass\n",
    "        value.append(i)\n",
    "    print(\",\".join(value))\n",
    "    \n",
    "\n",
    "inp_Str = input(\"Enter the passwords with comma seperated : \")\n",
    "validate_pass(inp_Str)"
   ]
  },
  {
   "cell_type": "code",
   "execution_count": null,
   "id": "f302e06c",
   "metadata": {},
   "outputs": [],
   "source": []
  }
 ],
 "metadata": {
  "kernelspec": {
   "display_name": "Python 3 (ipykernel)",
   "language": "python",
   "name": "python3"
  },
  "language_info": {
   "codemirror_mode": {
    "name": "ipython",
    "version": 3
   },
   "file_extension": ".py",
   "mimetype": "text/x-python",
   "name": "python",
   "nbconvert_exporter": "python",
   "pygments_lexer": "ipython3",
   "version": "3.9.12"
  }
 },
 "nbformat": 4,
 "nbformat_minor": 5
}
