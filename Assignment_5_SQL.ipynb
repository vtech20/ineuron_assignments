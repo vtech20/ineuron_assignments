{
  "nbformat": 4,
  "nbformat_minor": 0,
  "metadata": {
    "colab": {
      "name": "Assignment_5_SQL.ipynb",
      "provenance": [],
      "collapsed_sections": []
    },
    "kernelspec": {
      "name": "python3",
      "display_name": "Python 3"
    },
    "language_info": {
      "name": "python"
    }
  },
  "cells": [
    {
      "cell_type": "markdown",
      "source": [
        "**Q-1. Write an SQL query to print details of workers excluding first names, “Vipul” and\n",
        "“Satish” from Worker table.**"
      ],
      "metadata": {
        "id": "KRQrvaKpZEIW"
      }
    },
    {
      "cell_type": "markdown",
      "source": [
        "Select * from Worker where FIRST_NAME not in ('Vipul','Satish');"
      ],
      "metadata": {
        "id": "MgGfTrP-ZIkQ"
      }
    },
    {
      "cell_type": "markdown",
      "source": [
        "**Q-2. Write an SQL query to print details of the Workers whose FIRST_NAME ends with\n",
        "‘h’ and contains six alphabets.**"
      ],
      "metadata": {
        "id": "mbCMO9s0ZLS9"
      }
    },
    {
      "cell_type": "markdown",
      "source": [
        "Select * from Worker where FIRST_NAME like '_____h';"
      ],
      "metadata": {
        "id": "fjNyrdP7ZU4N"
      }
    },
    {
      "cell_type": "markdown",
      "source": [
        "**Q-3. Write a query to validate Email of Employee.**"
      ],
      "metadata": {
        "id": "8Mn7rJshZdnt"
      }
    },
    {
      "cell_type": "markdown",
      "source": [
        "select * from Worker where Email like '%@%';"
      ],
      "metadata": {
        "id": "J3gmu7mrZ0ig"
      }
    },
    {
      "cell_type": "code",
      "execution_count": null,
      "metadata": {
        "id": "1zr4crHOY81O"
      },
      "outputs": [],
      "source": [
        ""
      ]
    }
  ]
}