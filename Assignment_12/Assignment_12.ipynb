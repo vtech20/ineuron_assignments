{
  "nbformat": 4,
  "nbformat_minor": 0,
  "metadata": {
    "colab": {
      "name": "Assignment_12.ipynb",
      "provenance": [],
      "collapsed_sections": []
    },
    "kernelspec": {
      "name": "python3",
      "display_name": "Python 3"
    },
    "language_info": {
      "name": "python"
    }
  },
  "cells": [
    {
      "cell_type": "markdown",
      "source": [
        "**1. In what modes should the PdfFileReader() and PdfFileWriter() File objects will be opened?**"
      ],
      "metadata": {
        "id": "PSGvTGxX7BAi"
      }
    },
    {
      "cell_type": "markdown",
      "source": [
        "These files will be opened in binary mode., read binary (rb) for PdfFileREader() and write binary (wb) PdfFileWriter()"
      ],
      "metadata": {
        "id": "_OhLd1Ls7HFH"
      }
    },
    {
      "cell_type": "code",
      "execution_count": 1,
      "metadata": {
        "colab": {
          "base_uri": "https://localhost:8080/"
        },
        "id": "VwHNI9zA5SDv",
        "outputId": "a42a99f3-40f6-47fa-dd85-6de1fb7e328d"
      },
      "outputs": [
        {
          "output_type": "stream",
          "name": "stdout",
          "text": [
            "Looking in indexes: https://pypi.org/simple, https://us-python.pkg.dev/colab-wheels/public/simple/\n",
            "Collecting PyPDF2\n",
            "  Downloading PyPDF2-2.9.0-py3-none-any.whl (207 kB)\n",
            "\u001b[K     |████████████████████████████████| 207 kB 5.7 MB/s \n",
            "\u001b[?25hRequirement already satisfied: typing-extensions in /usr/local/lib/python3.7/dist-packages (from PyPDF2) (4.1.1)\n",
            "Installing collected packages: PyPDF2\n",
            "Successfully installed PyPDF2-2.9.0\n"
          ]
        }
      ],
      "source": [
        "!pip install PyPDF2"
      ]
    },
    {
      "cell_type": "markdown",
      "source": [
        "**2. From a PdfFileReader object, how do you get a Page object for page 5?**"
      ],
      "metadata": {
        "id": "HQpp5d5r7Q2D"
      }
    },
    {
      "cell_type": "markdown",
      "source": [
        "Calling getPage(4) will return a Page object for page 5 since page 0 is the first page"
      ],
      "metadata": {
        "id": "enqaS4YD7Qto"
      }
    },
    {
      "cell_type": "markdown",
      "source": [
        "**3. What PdfFileReader variable stores the number of pages in the PDF document?**"
      ],
      "metadata": {
        "id": "yxcsjTiK7gPS"
      }
    },
    {
      "cell_type": "code",
      "source": [
        "import PyPDF2 as pdf\n",
        "pdfFileObj = open(\"/content/Machine-Learning-Journey-eBook.pdf\",'rb')\n",
        "pdfReader = pdf.PdfFileReader(pdfFileObj)\n",
        "pdfReader.numPages"
      ],
      "metadata": {
        "colab": {
          "base_uri": "https://localhost:8080/"
        },
        "id": "m4su2p_77LzU",
        "outputId": "d32896d8-2661-43e7-a4e7-c174080bdd00"
      },
      "execution_count": 2,
      "outputs": [
        {
          "output_type": "stream",
          "name": "stderr",
          "text": [
            "Xref table not zero-indexed. ID numbers for objects will be corrected.\n"
          ]
        },
        {
          "output_type": "execute_result",
          "data": {
            "text/plain": [
              "22"
            ]
          },
          "metadata": {},
          "execution_count": 2
        }
      ]
    },
    {
      "cell_type": "markdown",
      "source": [
        "**4. If a PdfFileReader object’s PDF is encrypted with the password swordfish, what must you do\n",
        "before you can obtain Page objects from it?**"
      ],
      "metadata": {
        "id": "XEV_g0ZN8flN"
      }
    },
    {
      "cell_type": "markdown",
      "source": [
        "\n",
        "Before we obtain the page object, the pdf has to be decrypted by calling .decrypt('swordfish')\n"
      ],
      "metadata": {
        "id": "kQgN99bJ8fgP"
      }
    },
    {
      "cell_type": "markdown",
      "source": [
        "**5. What methods do you use to rotate a page?**"
      ],
      "metadata": {
        "id": "f-xbG0jl84K_"
      }
    },
    {
      "cell_type": "markdown",
      "source": [
        "The rotateClockwise() and rotateCounterClockwise() methods. The degrees to rotate is passed as an integer argument"
      ],
      "metadata": {
        "id": "97gI_kBX84IW"
      }
    },
    {
      "cell_type": "markdown",
      "source": [
        "**6. What is the difference between a Run object and a Paragraph object?**"
      ],
      "metadata": {
        "id": "-LuJZ6IT9CY2"
      }
    },
    {
      "cell_type": "markdown",
      "source": [
        "* Paragraph Object : A document contains multiple paragraphs. A paragraph begins on a new line and contains multiple runs. The Document object contains a list of Paragraph objects for the paragraphs in the document. (A new paragraph begins whenever the user presses ENTER or RETURN while typing in a Word document.)\n",
        "\n",
        "* Run Objects : Runs are contiguous groups of characters within a paragraph with the same style"
      ],
      "metadata": {
        "id": "Sf2SbsaR9D6d"
      }
    },
    {
      "cell_type": "markdown",
      "source": [
        "**7. How do you obtain a list of Paragraph objects for a Document object that’s stored in a variable\n",
        "named doc?**"
      ],
      "metadata": {
        "id": "0sPLW7yn9O-N"
      }
    },
    {
      "cell_type": "code",
      "source": [
        "!pip install python-docx"
      ],
      "metadata": {
        "colab": {
          "base_uri": "https://localhost:8080/"
        },
        "id": "swf6dYEX9kPF",
        "outputId": "bda00af6-cf98-4b26-f328-bb022472683f"
      },
      "execution_count": 4,
      "outputs": [
        {
          "output_type": "stream",
          "name": "stdout",
          "text": [
            "Looking in indexes: https://pypi.org/simple, https://us-python.pkg.dev/colab-wheels/public/simple/\n",
            "Collecting python-docx\n",
            "  Downloading python-docx-0.8.11.tar.gz (5.6 MB)\n",
            "\u001b[K     |████████████████████████████████| 5.6 MB 8.0 MB/s \n",
            "\u001b[?25hRequirement already satisfied: lxml>=2.3.2 in /usr/local/lib/python3.7/dist-packages (from python-docx) (4.9.1)\n",
            "Building wheels for collected packages: python-docx\n",
            "  Building wheel for python-docx (setup.py) ... \u001b[?25l\u001b[?25hdone\n",
            "  Created wheel for python-docx: filename=python_docx-0.8.11-py3-none-any.whl size=184507 sha256=83d6bb15aa03052603d3cee774b09d5738f8953e7f8c2441b2a63191367993d2\n",
            "  Stored in directory: /root/.cache/pip/wheels/f6/6f/b9/d798122a8b55b74ad30b5f52b01482169b445fbb84a11797a6\n",
            "Successfully built python-docx\n",
            "Installing collected packages: python-docx\n",
            "Successfully installed python-docx-0.8.11\n"
          ]
        }
      ]
    },
    {
      "cell_type": "code",
      "source": [
        "import docx\n",
        "doc = docx.Document('/content/datascience_problem_statement.docx')\n",
        "doc.paragraphs\n",
        "#By using doc.paragraphs"
      ],
      "metadata": {
        "colab": {
          "base_uri": "https://localhost:8080/"
        },
        "id": "sH5eoI1U8dPN",
        "outputId": "e4956fe6-59f1-4d87-d17f-7203a55d1e96"
      },
      "execution_count": 5,
      "outputs": [
        {
          "output_type": "execute_result",
          "data": {
            "text/plain": [
              "[<docx.text.paragraph.Paragraph at 0x7f754a993210>,\n",
              " <docx.text.paragraph.Paragraph at 0x7f754a9931d0>,\n",
              " <docx.text.paragraph.Paragraph at 0x7f754a993810>,\n",
              " <docx.text.paragraph.Paragraph at 0x7f754a993110>,\n",
              " <docx.text.paragraph.Paragraph at 0x7f754a9935d0>,\n",
              " <docx.text.paragraph.Paragraph at 0x7f754a9932d0>,\n",
              " <docx.text.paragraph.Paragraph at 0x7f754a993150>,\n",
              " <docx.text.paragraph.Paragraph at 0x7f754a993310>,\n",
              " <docx.text.paragraph.Paragraph at 0x7f754a993390>,\n",
              " <docx.text.paragraph.Paragraph at 0x7f754a993290>,\n",
              " <docx.text.paragraph.Paragraph at 0x7f754a993410>,\n",
              " <docx.text.paragraph.Paragraph at 0x7f754a993450>,\n",
              " <docx.text.paragraph.Paragraph at 0x7f754a9934d0>,\n",
              " <docx.text.paragraph.Paragraph at 0x7f754a993510>,\n",
              " <docx.text.paragraph.Paragraph at 0x7f754a993590>,\n",
              " <docx.text.paragraph.Paragraph at 0x7f754a993610>,\n",
              " <docx.text.paragraph.Paragraph at 0x7f754a993690>,\n",
              " <docx.text.paragraph.Paragraph at 0x7f754a9936d0>,\n",
              " <docx.text.paragraph.Paragraph at 0x7f754a993750>,\n",
              " <docx.text.paragraph.Paragraph at 0x7f754a993890>,\n",
              " <docx.text.paragraph.Paragraph at 0x7f754a9937d0>,\n",
              " <docx.text.paragraph.Paragraph at 0x7f754a993990>,\n",
              " <docx.text.paragraph.Paragraph at 0x7f754a993950>,\n",
              " <docx.text.paragraph.Paragraph at 0x7f754a993850>,\n",
              " <docx.text.paragraph.Paragraph at 0x7f754a993a10>,\n",
              " <docx.text.paragraph.Paragraph at 0x7f754a993a90>,\n",
              " <docx.text.paragraph.Paragraph at 0x7f754a993a50>]"
            ]
          },
          "metadata": {},
          "execution_count": 5
        }
      ]
    },
    {
      "cell_type": "markdown",
      "source": [
        "**8. What type of object has bold, underline, italic, strike, and outline variables?**"
      ],
      "metadata": {
        "id": "Vf66NWCS9yH8"
      }
    },
    {
      "cell_type": "markdown",
      "source": [
        "A Run object has bold, underline,italic,strike and outline variables"
      ],
      "metadata": {
        "id": "vT9ykVAU91ls"
      }
    },
    {
      "cell_type": "markdown",
      "source": [
        "**9. What is the difference between False, True, and None for the bold variable?**"
      ],
      "metadata": {
        "id": "6rol9-Dm96uF"
      }
    },
    {
      "cell_type": "markdown",
      "source": [
        "Runs can be further styled using text attributes. Each attribute can be set to one of three values:\n",
        "True (the attribute is always enabled, no matter what other styles are applied to the run),\n",
        "False (the attribute is always disabled),\n",
        "None (defaults to whatever the run’s style is set to)\n",
        "\n",
        "True always makes the Run object bolded and False makes it always not bolded, no matter what the style’s bold setting is. None will make the Run object just use the style’s bold setting"
      ],
      "metadata": {
        "id": "nj3R9U3h9_pc"
      }
    },
    {
      "cell_type": "markdown",
      "source": [
        "**10. How do you create a Document object for a new Word document?**"
      ],
      "metadata": {
        "id": "csliY2A--FhO"
      }
    },
    {
      "cell_type": "markdown",
      "source": [
        "By Calling the docx.Document() function."
      ],
      "metadata": {
        "id": "Iur3jr7F-KAU"
      }
    },
    {
      "cell_type": "markdown",
      "source": [
        "**11. How do you add a paragraph with the text &#39;Hello, there!&#39; to a Document object stored in a\n",
        "variable named doc?**"
      ],
      "metadata": {
        "id": "AjqrZQpD-N6F"
      }
    },
    {
      "cell_type": "code",
      "source": [
        "import docx\n",
        "doc = docx.Document()\n",
        "\n",
        "doc.add_paragraph('Hello there!')\n",
        "doc.save('hellothere.docx')"
      ],
      "metadata": {
        "id": "DeeZRjPP9h9g"
      },
      "execution_count": 6,
      "outputs": []
    },
    {
      "cell_type": "markdown",
      "source": [
        "**12. What integers represent the levels of headings available in Word documents?**"
      ],
      "metadata": {
        "id": "Ji3LE3UZ-Xss"
      }
    },
    {
      "cell_type": "markdown",
      "source": [
        "* integer from 0 to 4\n",
        "* The arguments to add_heading() are a string of the heading text and an integer from 0 to 4. The integer 0 makes the heading the Title style, which is used for the top of the document. Integers 1 to 4 are for various heading levels, with 1 being the main heading and 4 the lowest subheading"
      ],
      "metadata": {
        "id": "W7w7eOxo-d5c"
      }
    },
    {
      "cell_type": "code",
      "source": [
        ""
      ],
      "metadata": {
        "id": "bt7RBsYG-UM4"
      },
      "execution_count": null,
      "outputs": []
    }
  ]
}