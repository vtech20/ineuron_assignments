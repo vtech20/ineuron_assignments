{
 "cells": [
  {
   "cell_type": "markdown",
   "metadata": {},
   "source": [
    "**Q1. What are the two latest user-defined exception constraints in Python 3.X?**"
   ]
  },
  {
   "cell_type": "markdown",
   "metadata": {},
   "source": [
    "In python 2 exceptions are enclosed in notations. In version 3 exceptions are enclosed in parenthesis"
   ]
  },
  {
   "cell_type": "markdown",
   "metadata": {},
   "source": [
    "**Q2. How are class-based exceptions that have been raised matched to handlers?**"
   ]
  },
  {
   "cell_type": "markdown",
   "metadata": {},
   "source": [
    "the raise statement takes an exception named exception_name as input and throws the exception that the python interpreter handles"
   ]
  },
  {
   "cell_type": "markdown",
   "metadata": {},
   "source": [
    "**Q3. Describe two methods for attaching context information to exception artefacts.**"
   ]
  },
  {
   "cell_type": "markdown",
   "metadata": {},
   "source": [
    "When raising exception (rather than using a bare raise to re-raise the exception currently being handled, the implicit exception context can be supplemented with an explicit cause by using ‘from’ with ‘raise’.\n",
    "\te.g. raise new_exe from original_exc\n",
    "creating a customer exception handler by inheriting the Exception class.\n",
    "\te.g. customerexceptions(Exception)\n",
    "\n",
    "general syntax try:\n",
    "\t\texcept <Exception class name>:\n",
    "\t\t\tstatement\n"
   ]
  },
  {
   "cell_type": "markdown",
   "metadata": {},
   "source": [
    "**Q4. Describe two methods for specifying the text of an exception object&#39;s error message.**"
   ]
  },
  {
   "cell_type": "markdown",
   "metadata": {},
   "source": [
    "using raise exception and using print statement we can display object's error message.\n",
    "\n",
    "raise Exception(‘number contains charaters other than digit’)\n",
    "\n",
    "print(‘Exception occured while executing ‘: + repr(e))"
   ]
  },
  {
   "cell_type": "markdown",
   "metadata": {},
   "source": [
    "**Q5. Why do you no longer use string-based exceptions?**"
   ]
  },
  {
   "cell_type": "markdown",
   "metadata": {},
   "source": [
    "The search for an exception handler (checking each except clause) is accomplished via object identity and not object value. That means that if you are using string exceptions, the string object used in the except clause must be the same as the string exception that is raised"
   ]
  },
  {
   "cell_type": "markdown",
   "metadata": {},
   "source": []
  },
  {
   "cell_type": "code",
   "execution_count": null,
   "metadata": {},
   "outputs": [],
   "source": []
  }
 ],
 "metadata": {
  "language_info": {
   "name": "python"
  },
  "orig_nbformat": 4
 },
 "nbformat": 4,
 "nbformat_minor": 2
}
