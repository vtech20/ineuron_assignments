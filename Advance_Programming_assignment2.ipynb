{
 "cells": [
  {
   "cell_type": "markdown",
   "id": "a40b8e40",
   "metadata": {},
   "source": [
    "**1. Write a function that takes a positive integer num and calculates how many dots exist in a pentagonal shape around the center dot on the Nth iteration. In the image below you can see the first iteration is only a single dot. On the second, there are 6 dots. On the third, there are 16 dots, and on the fourth there are 31 dots. Return the number of dots that exist in the whole pentagon on the Nth iteration. Examples pentagonal(1) ➞ 1 pentagonal(2) ➞ 6 pentagonal(3) ➞ 16 pentagonal(8) ➞ 141**"
   ]
  },
  {
   "cell_type": "code",
   "execution_count": 15,
   "id": "a4f10486",
   "metadata": {},
   "outputs": [
    {
     "data": {
      "text/plain": [
       "7"
      ]
     },
     "execution_count": 15,
     "metadata": {},
     "output_type": "execute_result"
    }
   ],
   "source": [
    "# Centered pentagonal for n-th term is given by : Cp_{n}=(5n^2-5n+2)/2\n",
    "\n",
    "import math\n",
    "def pentagonalShape(n):\n",
    "    return int((1/4)*(math.sqrt(5*(5+2*math.sqrt(5)))*(n**2))//1)+1\n",
    "pentagonalShape(2)"
   ]
  },
  {
   "cell_type": "markdown",
   "id": "7e122f1f",
   "metadata": {},
   "source": [
    "**2. Make a function that encrypts a given input with these steps:**\n",
    "\n",
    "Input: &quot;apple&quot;\n",
    "\n",
    "Step 1: Reverse the input: &quot;elppa&quot;\n",
    "\n",
    "Step 2: Replace all vowels using the following chart:\n",
    "\n",
    "a =&gt; 0\n",
    "e =&gt; 1\n",
    "i =&gt; 2\n",
    "o =&gt; 2\n",
    "u =&gt; 3\n",
    "\n",
    "# &quot;1lpp0&quot;\n",
    "\n",
    "Step 3: Add &quot;aca&quot; to the end of the word: &quot;1lpp0aca&quot;\n",
    "\n",
    "Output: &quot;1lpp0aca&quot;\n",
    "\n",
    "Examples\n",
    "\n",
    "encrypt(&quot;banana&quot;) ➞ &quot;0n0n0baca&quot;\n",
    "\n",
    "encrypt(&quot;karaca&quot;) ➞ &quot;0c0r0kaca&quot;\n",
    "\n",
    "encrypt(&quot;burak&quot;) ➞ &quot;k0r3baca&quot;\n",
    "\n",
    "encrypt(&quot;alpaca&quot;) ➞ &quot;0c0pl0aca&quot;"
   ]
  },
  {
   "cell_type": "code",
   "execution_count": 16,
   "id": "c417ab0a",
   "metadata": {},
   "outputs": [
    {
     "data": {
      "text/plain": [
       "'1lpp0aca'"
      ]
     },
     "execution_count": 16,
     "metadata": {},
     "output_type": "execute_result"
    }
   ],
   "source": [
    "def encrypt(s):\n",
    "    s= s[::-1]\n",
    "    v = {'a' : '0', 'e' :'1', 'i' : '2', 'o' : '2', 'u' : '3'}\n",
    "    new_s = \" \"\n",
    "    for i in v:\n",
    "        s= s.replace(i,v[i])\n",
    "    s+='aca'\n",
    "    return s            \n",
    "encrypt(\"apple\")"
   ]
  },
  {
   "cell_type": "code",
   "execution_count": 17,
   "id": "ce6e71eb",
   "metadata": {},
   "outputs": [
    {
     "data": {
      "text/plain": [
       "'0n0n0baca'"
      ]
     },
     "execution_count": 17,
     "metadata": {},
     "output_type": "execute_result"
    }
   ],
   "source": [
    "encrypt(\"banana\")"
   ]
  },
  {
   "cell_type": "code",
   "execution_count": 18,
   "id": "f01537bc",
   "metadata": {},
   "outputs": [
    {
     "data": {
      "text/plain": [
       "'0c0r0kaca'"
      ]
     },
     "execution_count": 18,
     "metadata": {},
     "output_type": "execute_result"
    }
   ],
   "source": [
    "encrypt(\"karaca\")"
   ]
  },
  {
   "cell_type": "code",
   "execution_count": 19,
   "id": "41106df4",
   "metadata": {},
   "outputs": [
    {
     "data": {
      "text/plain": [
       "'k0r3baca'"
      ]
     },
     "execution_count": 19,
     "metadata": {},
     "output_type": "execute_result"
    }
   ],
   "source": [
    "encrypt(\"burak\")"
   ]
  },
  {
   "cell_type": "code",
   "execution_count": 20,
   "id": "12e7827a",
   "metadata": {},
   "outputs": [
    {
     "data": {
      "text/plain": [
       "'0c0pl0aca'"
      ]
     },
     "execution_count": 20,
     "metadata": {},
     "output_type": "execute_result"
    }
   ],
   "source": [
    "encrypt(\"alpaca\")"
   ]
  },
  {
   "cell_type": "markdown",
   "id": "d9ef60ac",
   "metadata": {},
   "source": [
    "**3. Given the month and year as numbers, return whether that month contains\n",
    "a Friday 13th.(i.e You can check Python&#39;s datetime module)**\n",
    "\n",
    "Examples\n",
    "\n",
    "has_friday_13(3, 2020) ➞ True\n",
    "\n",
    "has_friday_13(10, 2017) ➞ True\n",
    "\n",
    "has_friday_13(1, 1985) ➞ False"
   ]
  },
  {
   "cell_type": "code",
   "execution_count": 24,
   "id": "a85acfe4",
   "metadata": {},
   "outputs": [
    {
     "data": {
      "text/plain": [
       "True"
      ]
     },
     "execution_count": 24,
     "metadata": {},
     "output_type": "execute_result"
    }
   ],
   "source": [
    "import datetime\n",
    "from datetime import datetime\n",
    "import calendar\n",
    "\n",
    "def has_friday_13(month,year):\n",
    "    date = f'{month} 13 {year}'\n",
    "    day_is = datetime.strptime(date, '%m %d %Y').weekday()\n",
    "    return (calendar.day_name[day_is]) == \"Friday\"\n",
    "has_friday_13(1, 2023)"
   ]
  },
  {
   "cell_type": "code",
   "execution_count": 25,
   "id": "f1e9ee03",
   "metadata": {},
   "outputs": [
    {
     "data": {
      "text/plain": [
       "False"
      ]
     },
     "execution_count": 25,
     "metadata": {},
     "output_type": "execute_result"
    }
   ],
   "source": [
    "has_friday_13(3, 2023)"
   ]
  },
  {
   "cell_type": "markdown",
   "id": "5c44a9d1",
   "metadata": {},
   "source": [
    "**4. Write a regular expression that will help us count how many bad cookies\n",
    "are produced every day. You must use RegEx negative lookbehind.**\n",
    "\n",
    "Example\n",
    "\n",
    "lst = [&quot;bad cookie&quot;, &quot;good cookie&quot;, &quot;bad cookie&quot;, &quot;good cookie&quot;, &quot;good cookie&quot;]\n",
    "\n",
    "pattern = &quot;yourregularexpressionhere&quot;\n",
    "\n",
    "len(re.findall(pattern, &quot;, &quot;.join(lst))) ➞ 2"
   ]
  },
  {
   "cell_type": "code",
   "execution_count": 26,
   "id": "706d1f76",
   "metadata": {},
   "outputs": [
    {
     "data": {
      "text/plain": [
       "2"
      ]
     },
     "execution_count": 26,
     "metadata": {},
     "output_type": "execute_result"
    }
   ],
   "source": [
    "\"\"\"(?!...)\n",
    "Matches if ... doesn’t match next. This is a negative lookahead assertion. \n",
    "For example, Isaac (?!Asimov) will match 'Isaac ' only if it’s not followed by 'Asimov'.\"\"\"\n",
    "\n",
    "import re\n",
    "lst =[\"bad cookie\", \"good cookie\", \"bad cookie\", \"good cookie\", \"good cookie\"]\n",
    "pattern = re.compile(r'bad(?<!cookie)',re.X)\n",
    "\n",
    "len(re.findall(pattern,\",\".join(lst)))"
   ]
  },
  {
   "cell_type": "markdown",
   "id": "3e3f19c5",
   "metadata": {},
   "source": [
    "**Given a list of words in the singular form, return a set of those words in the plural form if they appear more than once in the list. Examples pluralize([\"cow\", \"pig\", \"cow\", \"cow\"]) ➞ { \"cows\", \"pig\" } pluralize([\"table\", \"table\", \"table\"]) ➞ { \"tables\" }**"
   ]
  },
  {
   "cell_type": "code",
   "execution_count": 27,
   "id": "e90748c1",
   "metadata": {},
   "outputs": [],
   "source": [
    "def pluralize(l):\n",
    "    plural_list = []\n",
    "    for i in set(l):\n",
    "        if l.count(i) >1 and i not in plural_list:\n",
    "            plural_list.append(i+\"s\")\n",
    "        else:\n",
    "            plural_list.append(i)\n",
    "    return plural_list"
   ]
  },
  {
   "cell_type": "code",
   "execution_count": 28,
   "id": "eb482aeb",
   "metadata": {},
   "outputs": [
    {
     "data": {
      "text/plain": [
       "['cows', 'pig']"
      ]
     },
     "execution_count": 28,
     "metadata": {},
     "output_type": "execute_result"
    }
   ],
   "source": [
    "pluralize([\"cow\", \"pig\", \"cow\", \"cow\"])"
   ]
  },
  {
   "cell_type": "code",
   "execution_count": 29,
   "id": "699e1da0",
   "metadata": {},
   "outputs": [
    {
     "data": {
      "text/plain": [
       "['tables', 'bananas']"
      ]
     },
     "execution_count": 29,
     "metadata": {},
     "output_type": "execute_result"
    }
   ],
   "source": [
    "pluralize([\"table\", \"table\", \"table\", \"banana\",\"banana\"])"
   ]
  },
  {
   "cell_type": "code",
   "execution_count": null,
   "id": "1cc2c031",
   "metadata": {},
   "outputs": [],
   "source": []
  }
 ],
 "metadata": {
  "kernelspec": {
   "display_name": "Python 3 (ipykernel)",
   "language": "python",
   "name": "python3"
  },
  "language_info": {
   "codemirror_mode": {
    "name": "ipython",
    "version": 3
   },
   "file_extension": ".py",
   "mimetype": "text/x-python",
   "name": "python",
   "nbconvert_exporter": "python",
   "pygments_lexer": "ipython3",
   "version": "3.9.12"
  }
 },
 "nbformat": 4,
 "nbformat_minor": 5
}
