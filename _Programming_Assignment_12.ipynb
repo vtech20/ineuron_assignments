{
 "cells": [
  {
   "cell_type": "markdown",
   "id": "0944684b",
   "metadata": {},
   "source": [
    "**1. Write a Python program to Extract Unique values dictionary values?**"
   ]
  },
  {
   "cell_type": "code",
   "execution_count": 1,
   "id": "e274ceb3",
   "metadata": {},
   "outputs": [
    {
     "name": "stdout",
     "output_type": "stream",
     "text": [
      "{333, 144, 566, 444, 123, 156}\n"
     ]
    }
   ],
   "source": [
    "def extract_unique_dict_values(dict1):\n",
    "    return set(dict1.values())\n",
    "\n",
    "\n",
    "d = {'a':123,'b':123,'c':333,'d':566,'e':144,'f':156,'g':566,'h':444}\n",
    "print(extract_unique_dict_values(d))"
   ]
  },
  {
   "cell_type": "markdown",
   "id": "5539fba3",
   "metadata": {},
   "source": [
    "**2. Write a Python program to find the sum of all items in a dictionary?**"
   ]
  },
  {
   "cell_type": "code",
   "execution_count": 2,
   "id": "d52b8368",
   "metadata": {},
   "outputs": [
    {
     "name": "stdout",
     "output_type": "stream",
     "text": [
      "2455\n"
     ]
    }
   ],
   "source": [
    "def sum_dict_values(dict1):\n",
    "    return sum(dict1.values())\n",
    "\n",
    "d = {'a':123,'b':123,'c':333,'d':566,'e':144,'f':156,'g':566,'h':444}\n",
    "print(sum_dict_values(d))"
   ]
  },
  {
   "cell_type": "markdown",
   "id": "9786f78e",
   "metadata": {},
   "source": [
    "**3. Write a Python program to Merging two Dictionaries?**"
   ]
  },
  {
   "cell_type": "code",
   "execution_count": 7,
   "id": "1393a7d2",
   "metadata": {},
   "outputs": [
    {
     "name": "stdout",
     "output_type": "stream",
     "text": [
      "{'e': 144, 'f': 156, 'g': 566, 'h': 444, 'a': 123, 'b': 123, 'c': 333, 'd': 566}\n"
     ]
    }
   ],
   "source": [
    "def merge_dict(dict1,dict2):\n",
    "    dict2.update(dict1)\n",
    "    return dict2\n",
    "\n",
    "d = {'a':123,'b':123,'c':333,'d':566}\n",
    "d1 = {'e':144,'f':156,'g':566,'h':444}\n",
    "print(merge_dict(d,d1))"
   ]
  },
  {
   "cell_type": "markdown",
   "id": "d35b6189",
   "metadata": {},
   "source": [
    "**4. Write a Python program to convert key-values list to flat dictionary?**"
   ]
  },
  {
   "cell_type": "code",
   "execution_count": 11,
   "id": "a4bc46f2",
   "metadata": {},
   "outputs": [
    {
     "name": "stdout",
     "output_type": "stream",
     "text": [
      "The original dictionary is : {'month': [1, 2, 3], 'name': ['Jan', 'Feb', 'March']}\n",
      "The converted dictionary is {1: 'Jan', 2: 'Feb', 3: 'March'}\n"
     ]
    }
   ],
   "source": [
    "def flat_dictionary(dict1):\n",
    "    print(\"The original dictionary is : \" + str(dict1))\n",
    "    a,b =dict1.values()\n",
    "    months = {}\n",
    "    for i in range(len(a)):\n",
    "        months[a[i]] = b[i]\n",
    "    return \"The converted dictionary is \" + str(months)\n",
    "\n",
    "\n",
    "test_dict = {'month' : [1, 2, 3],\n",
    "             'name' : ['Jan', 'Feb', 'March']}\n",
    "\n",
    "print(flat_dictionary(test_dict))"
   ]
  },
  {
   "cell_type": "markdown",
   "id": "122668f5",
   "metadata": {},
   "source": [
    "**5. Write a Python program to insertion at the beginning in OrderedDict?**"
   ]
  },
  {
   "cell_type": "code",
   "execution_count": 12,
   "id": "42bbbfe8",
   "metadata": {},
   "outputs": [
    {
     "name": "stdout",
     "output_type": "stream",
     "text": [
      "The original dictionary is : OrderedDict([('a', 1), ('b', 2), ('c', 3), ('d', 4)])\n",
      "The dictionary after insertion is : OrderedDict([('d', 4), ('a', 1), ('b', 2), ('c', 3)])\n"
     ]
    },
    {
     "data": {
      "text/plain": [
       "OrderedDict([('d', 4), ('a', 1), ('b', 2), ('c', 3)])"
      ]
     },
     "execution_count": 12,
     "metadata": {},
     "output_type": "execute_result"
    }
   ],
   "source": [
    "from collections import OrderedDict\n",
    "\n",
    "def insert_ordered_dict(dict1,key):\n",
    "    print(\"The original dictionary is : \" + str(dict1))\n",
    "    dict1.move_to_end(key,last=False)\n",
    "    print(\"The dictionary after insertion is : \" + str(dict1))\n",
    "    return dict1\n",
    "    \n",
    "    \n",
    "    \n",
    "od = OrderedDict()\n",
    "od['a'] =1\n",
    "od['b'] =2\n",
    "od['c'] =3\n",
    "od['d'] =4\n",
    "\n",
    "\n",
    "insert_ordered_dict(od,\"d\")   "
   ]
  },
  {
   "cell_type": "markdown",
   "id": "9013ebfd",
   "metadata": {},
   "source": [
    "**6. Write a Python program to check order of character in string using OrderedDict()?**"
   ]
  },
  {
   "cell_type": "code",
   "execution_count": 14,
   "id": "d9e02185",
   "metadata": {},
   "outputs": [
    {
     "name": "stdout",
     "output_type": "stream",
     "text": [
      "OrderedDict([('T', None), ('e', None), ('c', None), ('h', None), ('i', None), ('r', None), ('o', None), ('k', None)])\n",
      "T\n",
      "e\n",
      "c\n",
      "h\n",
      "i\n",
      "r\n",
      "o\n",
      "7\n",
      "True\n"
     ]
    }
   ],
   "source": [
    "from collections import OrderedDict\n",
    "\n",
    "def checkOrder(input,pattern):\n",
    "    dict = OrderedDict.fromkeys(input)\n",
    "    print(dict)\n",
    "    ptrlen = 0\n",
    "    for key,value in dict.items():\n",
    "        if key== pattern[ptrlen]:\n",
    "            print(pattern[ptrlen])\n",
    "            ptrlen =ptrlen+1\n",
    "            \n",
    "        if (ptrlen == len(pattern)):\n",
    "            print(len(pattern))\n",
    "            return True\n",
    "    return False\n",
    "input = \"Techirock\"\n",
    "pattern = \"Techiro\"\n",
    "print(checkOrder(input,pattern))"
   ]
  },
  {
   "cell_type": "markdown",
   "id": "502e7dec",
   "metadata": {},
   "source": [
    "**7. Write a Python program to sort Python Dictionaries by Key or Value?**"
   ]
  },
  {
   "cell_type": "code",
   "execution_count": 15,
   "id": "1656d05c",
   "metadata": {},
   "outputs": [
    {
     "name": "stdout",
     "output_type": "stream",
     "text": [
      "Sorted by Key [('rajnish', '09'), ('ravi', '10'), ('sanjeev', '15'), ('suraj', '32'), ('yash', '02')]\n"
     ]
    }
   ],
   "source": [
    "def sortValuesOrKeys(by):\n",
    "    dic = {'ravi': '10', 'rajnish': '09',\n",
    "        'sanjeev': '15', 'yash': '02', 'suraj': '32'}\n",
    "    sortby = by\n",
    "    if sortby== 'bykey':\n",
    "        print(\"Sorted by Key\", sorted(dic.items()))\n",
    "    else:\n",
    "        print(sorted(dic.items(), key= lambda dicval: (dicval[1],dicval[0])))\n",
    "\n",
    "sortValuesOrKeys('bykey')"
   ]
  },
  {
   "cell_type": "code",
   "execution_count": null,
   "id": "5db8691d",
   "metadata": {},
   "outputs": [],
   "source": []
  },
  {
   "cell_type": "code",
   "execution_count": null,
   "id": "4a5fff35",
   "metadata": {},
   "outputs": [],
   "source": []
  },
  {
   "cell_type": "code",
   "execution_count": null,
   "id": "1b3e90a1",
   "metadata": {},
   "outputs": [],
   "source": []
  }
 ],
 "metadata": {
  "kernelspec": {
   "display_name": "Python 3 (ipykernel)",
   "language": "python",
   "name": "python3"
  },
  "language_info": {
   "codemirror_mode": {
    "name": "ipython",
    "version": 3
   },
   "file_extension": ".py",
   "mimetype": "text/x-python",
   "name": "python",
   "nbconvert_exporter": "python",
   "pygments_lexer": "ipython3",
   "version": "3.9.12"
  }
 },
 "nbformat": 4,
 "nbformat_minor": 5
}
