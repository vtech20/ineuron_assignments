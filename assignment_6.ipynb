{
  "nbformat": 4,
  "nbformat_minor": 0,
  "metadata": {
    "colab": {
      "name": "assignment_6.ipynb",
      "provenance": [],
      "collapsed_sections": []
    },
    "kernelspec": {
      "name": "python3",
      "display_name": "Python 3"
    },
    "language_info": {
      "name": "python"
    }
  },
  "cells": [
    {
      "cell_type": "markdown",
      "source": [
        "**1. What are escape characters, and how do you use them?**"
      ],
      "metadata": {
        "id": "gERTae2llhMA"
      }
    },
    {
      "cell_type": "markdown",
      "source": [
        "Escape characters allows you to enter special characters in a string. It begins with \\ backslash and follwed by any character like:\n",
        "* t - for tab\n",
        "* n - for new line\n",
        "* r - carriage return\n",
        "* b - backspace\n",
        "* f - form feed"
      ],
      "metadata": {
        "id": "XMJtQTq6ly6a"
      }
    },
    {
      "cell_type": "markdown",
      "source": [
        "**2. What do the escape characters n and t stand for?**"
      ],
      "metadata": {
        "id": "YREau6ehmfPO"
      }
    },
    {
      "cell_type": "markdown",
      "source": [
        "* t - for tab\n",
        "* n - for new line"
      ],
      "metadata": {
        "id": "fQbAkg48mlj-"
      }
    },
    {
      "cell_type": "markdown",
      "source": [
        "**3. What is the way to include backslash characters in a string?**"
      ],
      "metadata": {
        "id": "WfBHdRtVmsvf"
      }
    },
    {
      "cell_type": "markdown",
      "source": [
        "The backslash will be included in the string using below:\n",
        "\n",
        "double backslash \"\\\\\""
      ],
      "metadata": {
        "id": "DNDtWZyLmvJ_"
      }
    },
    {
      "cell_type": "markdown",
      "source": [
        "**4. The string &quot;Howl&#39;s Moving Castle&quot; is a correct value. Why isn&#39;t the single quote character in the\n",
        "word Howl&#39;s not escaped a problem?**"
      ],
      "metadata": {
        "id": "__REPc_RnZdB"
      }
    },
    {
      "cell_type": "code",
      "execution_count": 1,
      "metadata": {
        "id": "h9q1D_WtlM5I"
      },
      "outputs": [],
      "source": [
        "s = \"Howl's moving castle\""
      ]
    },
    {
      "cell_type": "markdown",
      "source": [
        "Because it is enclosed within double quotes. So it will be considered without any issues"
      ],
      "metadata": {
        "id": "snnHUH0mn4cu"
      }
    },
    {
      "cell_type": "markdown",
      "source": [
        "**5. How do you write a string of newlines if you don&#39;t want to use the n character?**"
      ],
      "metadata": {
        "id": "8wVJUDqtoKNP"
      }
    },
    {
      "cell_type": "code",
      "source": [
        "s = \"\"\"Hello -\n",
        "How are you\"\"\""
      ],
      "metadata": {
        "id": "OWDWvaBKn0Qm"
      },
      "execution_count": 4,
      "outputs": []
    },
    {
      "cell_type": "code",
      "source": [
        "s"
      ],
      "metadata": {
        "colab": {
          "base_uri": "https://localhost:8080/",
          "height": 35
        },
        "id": "YgIZ5CYjoYrL",
        "outputId": "5d03aac6-f125-47c4-92ed-01c7005d53d7"
      },
      "execution_count": 5,
      "outputs": [
        {
          "output_type": "execute_result",
          "data": {
            "text/plain": [
              "'Hello -\\nHow are you'"
            ],
            "application/vnd.google.colaboratory.intrinsic+json": {
              "type": "string"
            }
          },
          "metadata": {},
          "execution_count": 5
        }
      ]
    },
    {
      "cell_type": "code",
      "source": [
        "print(\"Hello \", end = '\\n'), print(\"How are you\")"
      ],
      "metadata": {
        "colab": {
          "base_uri": "https://localhost:8080/"
        },
        "id": "Kla7mFQ9oiRJ",
        "outputId": "4961c6ad-a41c-4e05-8587-0eee10724684"
      },
      "execution_count": 8,
      "outputs": [
        {
          "output_type": "stream",
          "name": "stdout",
          "text": [
            "Hello \n",
            "How are you\n"
          ]
        },
        {
          "output_type": "execute_result",
          "data": {
            "text/plain": [
              "(None, None)"
            ]
          },
          "metadata": {},
          "execution_count": 8
        }
      ]
    },
    {
      "cell_type": "markdown",
      "source": [
        "**6. What are the values of the given expressions?**\n",
        "\n",
        "&#39;Hello, world!&#39;[1]\n",
        "\n",
        "&#39;Hello, world!&#39;[0:5]\n",
        "\n",
        "&#39;Hello, world!&#39;[:5]\n",
        "\n",
        "&#39;Hello, world!&#39;[3:]"
      ],
      "metadata": {
        "id": "fbALWBnTqzri"
      }
    },
    {
      "cell_type": "markdown",
      "source": [
        "\"Hello, world!\"[1] - prints 'e'"
      ],
      "metadata": {
        "id": "hjlHTY-srOSS"
      }
    },
    {
      "cell_type": "code",
      "source": [
        "\"Hello, world!\"[1]"
      ],
      "metadata": {
        "colab": {
          "base_uri": "https://localhost:8080/",
          "height": 35
        },
        "id": "mh4gJ1A6qs5b",
        "outputId": "279becbb-1235-43f7-fec5-b3f45b58fbd8"
      },
      "execution_count": 9,
      "outputs": [
        {
          "output_type": "execute_result",
          "data": {
            "text/plain": [
              "'e'"
            ],
            "application/vnd.google.colaboratory.intrinsic+json": {
              "type": "string"
            }
          },
          "metadata": {},
          "execution_count": 9
        }
      ]
    },
    {
      "cell_type": "markdown",
      "source": [
        "\"Hello, world!\"[0:5] - prints 'Hello'"
      ],
      "metadata": {
        "id": "oMdc2fP6rb5E"
      }
    },
    {
      "cell_type": "code",
      "source": [
        "\"Hello, world!\"[0:5]"
      ],
      "metadata": {
        "colab": {
          "base_uri": "https://localhost:8080/",
          "height": 35
        },
        "id": "RUO8lv65rS7w",
        "outputId": "d83ceab3-1028-4bd4-dc50-6b71f3b7a2c4"
      },
      "execution_count": 10,
      "outputs": [
        {
          "output_type": "execute_result",
          "data": {
            "text/plain": [
              "'Hello'"
            ],
            "application/vnd.google.colaboratory.intrinsic+json": {
              "type": "string"
            }
          },
          "metadata": {},
          "execution_count": 10
        }
      ]
    },
    {
      "cell_type": "markdown",
      "source": [
        "\"Hello, world!\"[:5] - prints 'Hello'"
      ],
      "metadata": {
        "id": "kBZuvH47roiJ"
      }
    },
    {
      "cell_type": "code",
      "source": [
        "\"Hello, world!\"[:5]"
      ],
      "metadata": {
        "colab": {
          "base_uri": "https://localhost:8080/",
          "height": 35
        },
        "id": "00nI97UjriQL",
        "outputId": "aa3e488e-7223-4362-d7e3-13730f6635e0"
      },
      "execution_count": 11,
      "outputs": [
        {
          "output_type": "execute_result",
          "data": {
            "text/plain": [
              "'Hello'"
            ],
            "application/vnd.google.colaboratory.intrinsic+json": {
              "type": "string"
            }
          },
          "metadata": {},
          "execution_count": 11
        }
      ]
    },
    {
      "cell_type": "code",
      "source": [
        "\"Hello, world!\"[3:]"
      ],
      "metadata": {
        "colab": {
          "base_uri": "https://localhost:8080/",
          "height": 35
        },
        "id": "lrgOLQ8jrwTN",
        "outputId": "53c770a6-c102-4393-b113-7c1616ad4e6b"
      },
      "execution_count": 13,
      "outputs": [
        {
          "output_type": "execute_result",
          "data": {
            "text/plain": [
              "'lo, world!'"
            ],
            "application/vnd.google.colaboratory.intrinsic+json": {
              "type": "string"
            }
          },
          "metadata": {},
          "execution_count": 13
        }
      ]
    },
    {
      "cell_type": "markdown",
      "source": [
        "**7. What are the values of the following expressions?**\n",
        "\n",
        "&#39;Hello&#39;.upper()\n",
        "\n",
        "&#39;Hello&#39;.upper().isupper()\n",
        "\n",
        "&#39;Hello&#39;.upper().lower()"
      ],
      "metadata": {
        "id": "TBoNENBJsSIX"
      }
    },
    {
      "cell_type": "markdown",
      "source": [
        "'Hello'.upper() - prints \"HELLO\""
      ],
      "metadata": {
        "id": "L08mSQy6smVc"
      }
    },
    {
      "cell_type": "code",
      "source": [
        "'Hello'.upper()"
      ],
      "metadata": {
        "colab": {
          "base_uri": "https://localhost:8080/",
          "height": 35
        },
        "id": "Gxo1Mw0jr-OV",
        "outputId": "59fe2f7f-a33c-432d-c95a-89d3c1e5a6f3"
      },
      "execution_count": 14,
      "outputs": [
        {
          "output_type": "execute_result",
          "data": {
            "text/plain": [
              "'HELLO'"
            ],
            "application/vnd.google.colaboratory.intrinsic+json": {
              "type": "string"
            }
          },
          "metadata": {},
          "execution_count": 14
        }
      ]
    },
    {
      "cell_type": "markdown",
      "source": [
        "'Hello'.upper().isupper() - Prints \"True\""
      ],
      "metadata": {
        "id": "hxE6EaSJsrTG"
      }
    },
    {
      "cell_type": "code",
      "source": [
        "'Hello'.upper().isupper()"
      ],
      "metadata": {
        "colab": {
          "base_uri": "https://localhost:8080/"
        },
        "id": "Ls21_DyWsZxg",
        "outputId": "ea9f1a73-c4f7-4c62-e0dd-5c9f83b5663b"
      },
      "execution_count": 15,
      "outputs": [
        {
          "output_type": "execute_result",
          "data": {
            "text/plain": [
              "True"
            ]
          },
          "metadata": {},
          "execution_count": 15
        }
      ]
    },
    {
      "cell_type": "markdown",
      "source": [
        "'Hello'.upper().lower() - prints \"hello\""
      ],
      "metadata": {
        "id": "2zNrb9RMswQA"
      }
    },
    {
      "cell_type": "code",
      "source": [
        "'Hello'.upper().lower()"
      ],
      "metadata": {
        "colab": {
          "base_uri": "https://localhost:8080/",
          "height": 35
        },
        "id": "wJl8tOuksfQz",
        "outputId": "6e73c000-f86c-4e9f-82d9-d68459e05ef2"
      },
      "execution_count": 16,
      "outputs": [
        {
          "output_type": "execute_result",
          "data": {
            "text/plain": [
              "'hello'"
            ],
            "application/vnd.google.colaboratory.intrinsic+json": {
              "type": "string"
            }
          },
          "metadata": {},
          "execution_count": 16
        }
      ]
    },
    {
      "cell_type": "markdown",
      "source": [
        "**8. What are the values of the following expressions?**\n",
        "\n",
        "&#39;Remember, remember, the fifth of July.&#39;.split()\n",
        "\n",
        "&#39;-&#39;.join(&#39;There can only one.&#39;.split())"
      ],
      "metadata": {
        "id": "HxwLdVoQtNOQ"
      }
    },
    {
      "cell_type": "markdown",
      "source": [
        "&#39;Remember, remember, the fifth of July.&#39;.split() - The values will be ['Remember','remember,','the','fifth','of','July.']"
      ],
      "metadata": {
        "id": "BWQ822K9tbUS"
      }
    },
    {
      "cell_type": "code",
      "source": [
        "'Remember, remember, the fifth of July.'.split()"
      ],
      "metadata": {
        "colab": {
          "base_uri": "https://localhost:8080/"
        },
        "id": "3Rqa8Iovsk2r",
        "outputId": "2a0c1e8e-e5a2-4259-8bea-f11d8cb46940"
      },
      "execution_count": 17,
      "outputs": [
        {
          "output_type": "execute_result",
          "data": {
            "text/plain": [
              "['Remember,', 'remember,', 'the', 'fifth', 'of', 'July.']"
            ]
          },
          "metadata": {},
          "execution_count": 17
        }
      ]
    },
    {
      "cell_type": "markdown",
      "source": [
        "&#39;-&#39;.join(&#39;There can only one.&#39;.split()) - The value will be \"There-can-only-one.\""
      ],
      "metadata": {
        "id": "onEUjTZyt8Qa"
      }
    },
    {
      "cell_type": "code",
      "source": [
        "'-'.join('There can only one.'.split())"
      ],
      "metadata": {
        "colab": {
          "base_uri": "https://localhost:8080/",
          "height": 35
        },
        "id": "EPGjKPlgtyl2",
        "outputId": "f6223816-13d8-41b3-dec7-16238ed201af"
      },
      "execution_count": 18,
      "outputs": [
        {
          "output_type": "execute_result",
          "data": {
            "text/plain": [
              "'There-can-only-one.'"
            ],
            "application/vnd.google.colaboratory.intrinsic+json": {
              "type": "string"
            }
          },
          "metadata": {},
          "execution_count": 18
        }
      ]
    },
    {
      "cell_type": "markdown",
      "source": [
        "**9. What are the methods for right-justifying, left-justifying, and centering a string?**"
      ],
      "metadata": {
        "id": "J0yoSsWGuRE5"
      }
    },
    {
      "cell_type": "code",
      "source": [
        "s1 = \"Hello World\"\n",
        "print(s1.center(40))"
      ],
      "metadata": {
        "colab": {
          "base_uri": "https://localhost:8080/"
        },
        "id": "3yx2tW8UuM1a",
        "outputId": "bf390597-25f8-4ab6-bfdd-ae7adce002c3"
      },
      "execution_count": 19,
      "outputs": [
        {
          "output_type": "stream",
          "name": "stdout",
          "text": [
            "              Hello World               \n"
          ]
        }
      ]
    },
    {
      "cell_type": "code",
      "source": [
        "s1 = \"Hello World\"\n",
        "print(s1.ljust(40))"
      ],
      "metadata": {
        "colab": {
          "base_uri": "https://localhost:8080/"
        },
        "id": "I9TeydOkuyxd",
        "outputId": "5a4bbf0e-f9bb-42fa-b4f6-9484c8eb8b93"
      },
      "execution_count": 20,
      "outputs": [
        {
          "output_type": "stream",
          "name": "stdout",
          "text": [
            "Hello World                             \n"
          ]
        }
      ]
    },
    {
      "cell_type": "code",
      "source": [
        "s1 = \"Hello World\"\n",
        "print(s1.rjust(40))"
      ],
      "metadata": {
        "colab": {
          "base_uri": "https://localhost:8080/"
        },
        "id": "AHnXdvjHu7Qv",
        "outputId": "d030a213-9244-4583-e0e3-fbcf7a0b537a"
      },
      "execution_count": 21,
      "outputs": [
        {
          "output_type": "stream",
          "name": "stdout",
          "text": [
            "                             Hello World\n"
          ]
        }
      ]
    },
    {
      "cell_type": "markdown",
      "source": [
        "**10. What is the best way to remove whitespace characters from the start or end?**"
      ],
      "metadata": {
        "id": "cqPPqFOivDGS"
      }
    },
    {
      "cell_type": "code",
      "source": [
        "vv = \"   hello world it is a new beggining hey!  \"\n",
        "vv.strip()"
      ],
      "metadata": {
        "colab": {
          "base_uri": "https://localhost:8080/",
          "height": 35
        },
        "id": "bU-lBWo5u9x4",
        "outputId": "52ec5e58-8a6c-48d7-dcd3-b55e276ab2a1"
      },
      "execution_count": 23,
      "outputs": [
        {
          "output_type": "execute_result",
          "data": {
            "text/plain": [
              "'hello world it is a new beggining hey!'"
            ],
            "application/vnd.google.colaboratory.intrinsic+json": {
              "type": "string"
            }
          },
          "metadata": {},
          "execution_count": 23
        }
      ]
    },
    {
      "cell_type": "code",
      "source": [
        ""
      ],
      "metadata": {
        "id": "3Til6I_fxyzc"
      },
      "execution_count": null,
      "outputs": []
    }
  ]
}