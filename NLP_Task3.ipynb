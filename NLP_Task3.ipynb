{
  "nbformat": 4,
  "nbformat_minor": 0,
  "metadata": {
    "colab": {
      "provenance": []
    },
    "kernelspec": {
      "name": "python3",
      "display_name": "Python 3"
    },
    "language_info": {
      "name": "python"
    }
  },
  "cells": [
    {
      "cell_type": "code",
      "execution_count": 8,
      "metadata": {
        "id": "qmE8zD6Fj9y8"
      },
      "outputs": [],
      "source": [
        "import spacy\n",
        "import pandas as pd"
      ]
    },
    {
      "cell_type": "code",
      "source": [
        "nlp = spacy.load(\"en_core_web_sm\")"
      ],
      "metadata": {
        "id": "rQTMENs7kpF-"
      },
      "execution_count": 9,
      "outputs": []
    },
    {
      "cell_type": "code",
      "source": [
        "df = pd.read_csv('/content/file.csv')\n",
        "df.head()"
      ],
      "metadata": {
        "colab": {
          "base_uri": "https://localhost:8080/",
          "height": 80
        },
        "id": "eWPs7ENct9_1",
        "outputId": "eed4bcc1-d775-41ff-f9e4-26f5cbce18d3"
      },
      "execution_count": 10,
      "outputs": [
        {
          "output_type": "execute_result",
          "data": {
            "text/plain": [
              "                                                Text\n",
              "0   \\n \\nMERGER AND ACQUISTION  \\nCA. Ushma Shah ..."
            ],
            "text/html": [
              "\n",
              "  <div id=\"df-3e528ce4-1286-4f74-88ca-423cb451b99a\">\n",
              "    <div class=\"colab-df-container\">\n",
              "      <div>\n",
              "<style scoped>\n",
              "    .dataframe tbody tr th:only-of-type {\n",
              "        vertical-align: middle;\n",
              "    }\n",
              "\n",
              "    .dataframe tbody tr th {\n",
              "        vertical-align: top;\n",
              "    }\n",
              "\n",
              "    .dataframe thead th {\n",
              "        text-align: right;\n",
              "    }\n",
              "</style>\n",
              "<table border=\"1\" class=\"dataframe\">\n",
              "  <thead>\n",
              "    <tr style=\"text-align: right;\">\n",
              "      <th></th>\n",
              "      <th>Text</th>\n",
              "    </tr>\n",
              "  </thead>\n",
              "  <tbody>\n",
              "    <tr>\n",
              "      <th>0</th>\n",
              "      <td>\\n \\nMERGER AND ACQUISTION  \\nCA. Ushma Shah ...</td>\n",
              "    </tr>\n",
              "  </tbody>\n",
              "</table>\n",
              "</div>\n",
              "      <button class=\"colab-df-convert\" onclick=\"convertToInteractive('df-3e528ce4-1286-4f74-88ca-423cb451b99a')\"\n",
              "              title=\"Convert this dataframe to an interactive table.\"\n",
              "              style=\"display:none;\">\n",
              "        \n",
              "  <svg xmlns=\"http://www.w3.org/2000/svg\" height=\"24px\"viewBox=\"0 0 24 24\"\n",
              "       width=\"24px\">\n",
              "    <path d=\"M0 0h24v24H0V0z\" fill=\"none\"/>\n",
              "    <path d=\"M18.56 5.44l.94 2.06.94-2.06 2.06-.94-2.06-.94-.94-2.06-.94 2.06-2.06.94zm-11 1L8.5 8.5l.94-2.06 2.06-.94-2.06-.94L8.5 2.5l-.94 2.06-2.06.94zm10 10l.94 2.06.94-2.06 2.06-.94-2.06-.94-.94-2.06-.94 2.06-2.06.94z\"/><path d=\"M17.41 7.96l-1.37-1.37c-.4-.4-.92-.59-1.43-.59-.52 0-1.04.2-1.43.59L10.3 9.45l-7.72 7.72c-.78.78-.78 2.05 0 2.83L4 21.41c.39.39.9.59 1.41.59.51 0 1.02-.2 1.41-.59l7.78-7.78 2.81-2.81c.8-.78.8-2.07 0-2.86zM5.41 20L4 18.59l7.72-7.72 1.47 1.35L5.41 20z\"/>\n",
              "  </svg>\n",
              "      </button>\n",
              "      \n",
              "  <style>\n",
              "    .colab-df-container {\n",
              "      display:flex;\n",
              "      flex-wrap:wrap;\n",
              "      gap: 12px;\n",
              "    }\n",
              "\n",
              "    .colab-df-convert {\n",
              "      background-color: #E8F0FE;\n",
              "      border: none;\n",
              "      border-radius: 50%;\n",
              "      cursor: pointer;\n",
              "      display: none;\n",
              "      fill: #1967D2;\n",
              "      height: 32px;\n",
              "      padding: 0 0 0 0;\n",
              "      width: 32px;\n",
              "    }\n",
              "\n",
              "    .colab-df-convert:hover {\n",
              "      background-color: #E2EBFA;\n",
              "      box-shadow: 0px 1px 2px rgba(60, 64, 67, 0.3), 0px 1px 3px 1px rgba(60, 64, 67, 0.15);\n",
              "      fill: #174EA6;\n",
              "    }\n",
              "\n",
              "    [theme=dark] .colab-df-convert {\n",
              "      background-color: #3B4455;\n",
              "      fill: #D2E3FC;\n",
              "    }\n",
              "\n",
              "    [theme=dark] .colab-df-convert:hover {\n",
              "      background-color: #434B5C;\n",
              "      box-shadow: 0px 1px 3px 1px rgba(0, 0, 0, 0.15);\n",
              "      filter: drop-shadow(0px 1px 2px rgba(0, 0, 0, 0.3));\n",
              "      fill: #FFFFFF;\n",
              "    }\n",
              "  </style>\n",
              "\n",
              "      <script>\n",
              "        const buttonEl =\n",
              "          document.querySelector('#df-3e528ce4-1286-4f74-88ca-423cb451b99a button.colab-df-convert');\n",
              "        buttonEl.style.display =\n",
              "          google.colab.kernel.accessAllowed ? 'block' : 'none';\n",
              "\n",
              "        async function convertToInteractive(key) {\n",
              "          const element = document.querySelector('#df-3e528ce4-1286-4f74-88ca-423cb451b99a');\n",
              "          const dataTable =\n",
              "            await google.colab.kernel.invokeFunction('convertToInteractive',\n",
              "                                                     [key], {});\n",
              "          if (!dataTable) return;\n",
              "\n",
              "          const docLinkHtml = 'Like what you see? Visit the ' +\n",
              "            '<a target=\"_blank\" href=https://colab.research.google.com/notebooks/data_table.ipynb>data table notebook</a>'\n",
              "            + ' to learn more about interactive tables.';\n",
              "          element.innerHTML = '';\n",
              "          dataTable['output_type'] = 'display_data';\n",
              "          await google.colab.output.renderOutput(dataTable, element);\n",
              "          const docLink = document.createElement('div');\n",
              "          docLink.innerHTML = docLinkHtml;\n",
              "          element.appendChild(docLink);\n",
              "        }\n",
              "      </script>\n",
              "    </div>\n",
              "  </div>\n",
              "  "
            ]
          },
          "metadata": {},
          "execution_count": 10
        }
      ]
    },
    {
      "cell_type": "code",
      "source": [
        "df['Text']= df['Text'].str.replace(\"\\n\",\"\")"
      ],
      "metadata": {
        "id": "SInryvUx1e_M"
      },
      "execution_count": 11,
      "outputs": []
    },
    {
      "cell_type": "code",
      "source": [
        "doc = nlp(df['Text'][0])"
      ],
      "metadata": {
        "id": "etAivFzIly_L"
      },
      "execution_count": 15,
      "outputs": []
    },
    {
      "cell_type": "code",
      "source": [
        "#The Keywords are\n",
        "doc.ents"
      ],
      "metadata": {
        "colab": {
          "base_uri": "https://localhost:8080/"
        },
        "id": "w8isfIbYl2Dd",
        "outputId": "d223c88a-13be-41dd-934f-11aa80cf20a8"
      },
      "execution_count": 16,
      "outputs": [
        {
          "output_type": "execute_result",
          "data": {
            "text/plain": [
              "(CA,\n",
              " TMRW,\n",
              " 8,\n",
              " TMRW,\n",
              " Aditya Birla Group’s,\n",
              " eight,\n",
              " Berrylush,\n",
              " Bewakoof,\n",
              " Juneberry,\n",
              " Natilene,\n",
              " Nauti Nati,\n",
              " Nobero,\n",
              " Veirdo,\n",
              " Westbridge Capital,\n",
              " edtech,\n",
              " PhysicsWallah Pvt. Ltd.,\n",
              " iNeuron Intelligence Pvt. Ltd,\n",
              " Rs 250,\n",
              " S Chand & Co.,\n",
              " iNeuron,\n",
              " 605,\n",
              " about 12,\n",
              " mar keting,\n",
              " Tata Communications Arm To Acquire,\n",
              " US,\n",
              " CDN,\n",
              " 59,\n",
              " Mn  Tata Communications,\n",
              " Tata Communications Limited,\n",
              " Membership Investment Purchase Agreement,\n",
              " 100%,\n",
              " Switch Enterprises,\n",
              " LLC,\n",
              " the United States of America,\n",
              " Switch Enterprises,\n",
              " LLC,\n",
              " Canada,\n",
              " the United  States of America,\n",
              " the United Kingdom,\n",
              " Switch,\n",
              " linear,\n",
              " Switch,\n",
              " $58.8 million,\n",
              " 486.3,\n",
              " Hindustan F oods,\n",
              " Limited Acquires Dettol Maker’s,\n",
              " Baddi Unit  ,\n",
              " Hindustan Foods Limited,\n",
              " HFL,\n",
              " Reckitt Benckiser Health India Pvt. Ltd’s,\n",
              " Baddi,\n",
              " Himacha l Pradesh,\n",
              " 156,\n",
              " HFL,\n",
              " TPG Acquires Poonawalla Fincorp’s,\n",
              " Poonawalla Housing Finance Ltd,\n",
              " Perseus SG Pte,\n",
              " TPG,\n",
              " 3,900,\n",
              " Poonawalla Fincorp,\n",
              " V-Guard,\n",
              " 660,\n",
              " V -Guard Industries,\n",
              " 100 per cent,\n",
              " Sunflame Enterprises Private Ltd,\n",
              " 660,\n",
              " India,\n",
              " HUL,\n",
              " Fireside,\n",
              " Roha -Backed Nutritionlab,\n",
              " Hindustan Unilever Limited,\n",
              " 19.8%,\n",
              " Health and Wellbeing,\n",
              " Vitamins,\n",
              " Nutri,\n",
              " Private Limited,\n",
              " INR 70,\n",
              " Melts (Oral Thin Strips,\n",
              " Slow,\n",
              " Marine Collagen,\n",
              " Beauty, Everyday Health, Gut Health and Sleep)"
            ]
          },
          "metadata": {},
          "execution_count": 16
        }
      ]
    },
    {
      "cell_type": "code",
      "source": [],
      "metadata": {
        "id": "QA7zSYTCl36w"
      },
      "execution_count": null,
      "outputs": []
    }
  ]
}