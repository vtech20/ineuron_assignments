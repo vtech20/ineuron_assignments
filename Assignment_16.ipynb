{
  "nbformat": 4,
  "nbformat_minor": 0,
  "metadata": {
    "colab": {
      "name": "Assignment_16.ipynb",
      "provenance": [],
      "collapsed_sections": []
    },
    "kernelspec": {
      "name": "python3",
      "display_name": "Python 3"
    },
    "language_info": {
      "name": "python"
    }
  },
  "cells": [
    {
      "cell_type": "markdown",
      "source": [
        "**1. Create a list called years_list, starting with the year of your birth, and each year thereafter until\n",
        "the year of your fifth birthday. For example, if you were born in 1980. the list would be years_list =\n",
        "[1980, 1981, 1982, 1983, 1984, 1985].**"
      ],
      "metadata": {
        "id": "WU_vOEAqPjmm"
      }
    },
    {
      "cell_type": "code",
      "execution_count": 6,
      "metadata": {
        "id": "F4UIAuSEPbBL"
      },
      "outputs": [],
      "source": [
        "years_list = [year for year in range(1987,1993)]"
      ]
    },
    {
      "cell_type": "code",
      "source": [
        "years_list"
      ],
      "metadata": {
        "colab": {
          "base_uri": "https://localhost:8080/"
        },
        "id": "Dg4LX21zP62z",
        "outputId": "da2da781-3831-4f0d-9b44-35f06dac68ae"
      },
      "execution_count": 7,
      "outputs": [
        {
          "output_type": "execute_result",
          "data": {
            "text/plain": [
              "[1987, 1988, 1989, 1990, 1991, 1992]"
            ]
          },
          "metadata": {},
          "execution_count": 7
        }
      ]
    },
    {
      "cell_type": "markdown",
      "source": [
        "**2. In which year in years_list was your third birthday? Remember, you were 0 years of age for your\n",
        "first year.**"
      ],
      "metadata": {
        "id": "muFI_dWwQQWK"
      }
    },
    {
      "cell_type": "code",
      "source": [
        "years_list[3]"
      ],
      "metadata": {
        "colab": {
          "base_uri": "https://localhost:8080/"
        },
        "id": "C5GBdNIUP9Qj",
        "outputId": "956a9687-2984-4213-cd93-1ff73717ec24"
      },
      "execution_count": 8,
      "outputs": [
        {
          "output_type": "execute_result",
          "data": {
            "text/plain": [
              "1990"
            ]
          },
          "metadata": {},
          "execution_count": 8
        }
      ]
    },
    {
      "cell_type": "markdown",
      "source": [
        "**3.In the years list, which year were you the oldest?**"
      ],
      "metadata": {
        "id": "lfTVcq1lQkeg"
      }
    },
    {
      "cell_type": "code",
      "source": [
        "years_list[-1]"
      ],
      "metadata": {
        "colab": {
          "base_uri": "https://localhost:8080/"
        },
        "id": "sbjvuFfGQbUJ",
        "outputId": "07359525-b969-4de7-c9a0-4a6dea90eb35"
      },
      "execution_count": 9,
      "outputs": [
        {
          "output_type": "execute_result",
          "data": {
            "text/plain": [
              "1992"
            ]
          },
          "metadata": {},
          "execution_count": 9
        }
      ]
    },
    {
      "cell_type": "markdown",
      "source": [
        "**4. Make a list called things with these three strings as elements: &quot;mozzarella&quot;, &quot;cinderella&quot;,\n",
        "&quot;salmonella&quot;.**"
      ],
      "metadata": {
        "id": "11bddL7JQtjj"
      }
    },
    {
      "cell_type": "code",
      "source": [
        "lst1 = [\"mozzarella\", \"cinderella\",\"salmonella\"]"
      ],
      "metadata": {
        "id": "SxcVWXejQqaO"
      },
      "execution_count": 10,
      "outputs": []
    },
    {
      "cell_type": "markdown",
      "source": [
        "**5. Capitalize the element in things that refers to a person and then print the list. Did it change the\n",
        "element in the list?**"
      ],
      "metadata": {
        "id": "zhMBG2DNRQBs"
      }
    },
    {
      "cell_type": "code",
      "source": [
        "lst2 = [word.capitalize() if word == \"cinderella\" else word for word in lst1 ]"
      ],
      "metadata": {
        "id": "4UMV5G-ERNLE"
      },
      "execution_count": 26,
      "outputs": []
    },
    {
      "cell_type": "code",
      "source": [
        "lst2"
      ],
      "metadata": {
        "colab": {
          "base_uri": "https://localhost:8080/"
        },
        "id": "1Dk7xTIMRpUK",
        "outputId": "dc568a92-0aac-48e7-8b4e-1a2fa1a232ae"
      },
      "execution_count": 27,
      "outputs": [
        {
          "output_type": "execute_result",
          "data": {
            "text/plain": [
              "['mozzarella', 'Cinderella', 'salmonella']"
            ]
          },
          "metadata": {},
          "execution_count": 27
        }
      ]
    },
    {
      "cell_type": "markdown",
      "source": [
        "**6. Make a surprise list with the elements &quot;Groucho,&quot; &quot;Chico,&quot; and &quot;Harpo.&quot;**"
      ],
      "metadata": {
        "id": "UnaQhW-fXfpY"
      }
    },
    {
      "cell_type": "code",
      "source": [
        "surprise = [\"Groucho\",\"Chico\",\"Harpo\"]"
      ],
      "metadata": {
        "id": "AI2sf7VlWDbA"
      },
      "execution_count": 28,
      "outputs": []
    },
    {
      "cell_type": "markdown",
      "source": [
        "**7. Lowercase the last element of the surprise list, reverse it, and then capitalize it.**"
      ],
      "metadata": {
        "id": "0vi4iLftYEJL"
      }
    },
    {
      "cell_type": "code",
      "source": [
        "surprise[-1].lower()[::-1].capitalize()"
      ],
      "metadata": {
        "colab": {
          "base_uri": "https://localhost:8080/",
          "height": 35
        },
        "id": "Z0MXRUUeX1Dm",
        "outputId": "2ab2e566-cd4f-43d4-99be-4ea77b44e953"
      },
      "execution_count": 29,
      "outputs": [
        {
          "output_type": "execute_result",
          "data": {
            "text/plain": [
              "'Oprah'"
            ],
            "application/vnd.google.colaboratory.intrinsic+json": {
              "type": "string"
            }
          },
          "metadata": {},
          "execution_count": 29
        }
      ]
    },
    {
      "cell_type": "markdown",
      "source": [
        "**8. Make an English-to-French dictionary called e2f and print it. Here are your starter words: dog is\n",
        "chien, cat is chat, and walrus is morse.**"
      ],
      "metadata": {
        "id": "wpgw6BMcfZTj"
      }
    },
    {
      "cell_type": "code",
      "source": [
        "e2f = {'dog':'chien','cat':'chat','walrus':'morse'}"
      ],
      "metadata": {
        "id": "_VxDaa7bZQqf"
      },
      "execution_count": 30,
      "outputs": []
    },
    {
      "cell_type": "markdown",
      "source": [
        "**9. Write the French word for walrus in your three-word dictionary e2f.**"
      ],
      "metadata": {
        "id": "8nS_DDHmf6aA"
      }
    },
    {
      "cell_type": "code",
      "source": [
        "e2f['walrus']"
      ],
      "metadata": {
        "colab": {
          "base_uri": "https://localhost:8080/",
          "height": 35
        },
        "id": "zUWZL01Wf2Mg",
        "outputId": "b4a705a0-a175-4f9c-8744-9d0a9db3c708"
      },
      "execution_count": 31,
      "outputs": [
        {
          "output_type": "execute_result",
          "data": {
            "text/plain": [
              "'morse'"
            ],
            "application/vnd.google.colaboratory.intrinsic+json": {
              "type": "string"
            }
          },
          "metadata": {},
          "execution_count": 31
        }
      ]
    },
    {
      "cell_type": "markdown",
      "source": [
        "**10. Make a French-to-English dictionary called f2e from e2f. Use the items method.**"
      ],
      "metadata": {
        "id": "QgD546dYgDbW"
      }
    },
    {
      "cell_type": "code",
      "source": [
        "f2e = {}\n",
        "for keys,values in e2f.items():\n",
        "  f2e[values] = keys\n",
        "\n",
        "print(f2e)"
      ],
      "metadata": {
        "colab": {
          "base_uri": "https://localhost:8080/"
        },
        "id": "BsPDLNQSf_HS",
        "outputId": "356f7bd0-ba99-4db7-cdea-c76cc3e3de59"
      },
      "execution_count": 32,
      "outputs": [
        {
          "output_type": "stream",
          "name": "stdout",
          "text": [
            "{'chien': 'dog', 'chat': 'cat', 'morse': 'walrus'}\n"
          ]
        }
      ]
    },
    {
      "cell_type": "markdown",
      "source": [
        "**11. Print the English version of the French word chien using f2e.**"
      ],
      "metadata": {
        "id": "Dj0vZhEmgZsG"
      }
    },
    {
      "cell_type": "code",
      "source": [
        "f2e['chien']"
      ],
      "metadata": {
        "colab": {
          "base_uri": "https://localhost:8080/",
          "height": 35
        },
        "id": "o9khTR4hgbaA",
        "outputId": "ce913708-e3e8-4de9-ca69-1d540f84c175"
      },
      "execution_count": 33,
      "outputs": [
        {
          "output_type": "execute_result",
          "data": {
            "text/plain": [
              "'dog'"
            ],
            "application/vnd.google.colaboratory.intrinsic+json": {
              "type": "string"
            }
          },
          "metadata": {},
          "execution_count": 33
        }
      ]
    },
    {
      "cell_type": "markdown",
      "source": [
        "**12. Make and print a set of English words from the keys in e2f.**"
      ],
      "metadata": {
        "id": "T6MFfaLHgnDM"
      }
    },
    {
      "cell_type": "code",
      "source": [
        "print(e2f.keys())"
      ],
      "metadata": {
        "colab": {
          "base_uri": "https://localhost:8080/"
        },
        "id": "_bUugxT0gVW9",
        "outputId": "118d68d7-356f-4d7f-d880-566b7dc9f404"
      },
      "execution_count": 34,
      "outputs": [
        {
          "output_type": "stream",
          "name": "stdout",
          "text": [
            "dict_keys(['dog', 'cat', 'walrus'])\n"
          ]
        }
      ]
    },
    {
      "cell_type": "markdown",
      "source": [
        "**13. Make a multilevel dictionary called life. Use these strings for the topmost keys: &#39;animals&#39;, &#39;plants&#39;,\n",
        "and &#39;other&#39;. Make the &#39;animals&#39; key refer to another dictionary with the keys &#39;cats&#39;, &#39;octopi&#39;, and\n",
        "&#39;emus&#39;. Make the &#39;cats&#39; key refer to a list of strings with the values &#39;Henri&#39;, &#39;Grumpy&#39;, and &#39;Lucy&#39;.\n",
        "Make all the other keys refer to empty dictionaries.**"
      ],
      "metadata": {
        "id": "dL9Fmh4VhAWB"
      }
    },
    {
      "cell_type": "code",
      "source": [
        "life ={'animals':{'cat':['Henri', 'Grumpy', 'Lucy'], 'octopi':'', 'emus':''},\n",
        "       'plants' :'',\n",
        "       'other' :'' }\n",
        "life"
      ],
      "metadata": {
        "colab": {
          "base_uri": "https://localhost:8080/"
        },
        "id": "egefcAiGg4Ej",
        "outputId": "250091c5-b363-4143-f082-92526ded326d"
      },
      "execution_count": 35,
      "outputs": [
        {
          "output_type": "execute_result",
          "data": {
            "text/plain": [
              "{'animals': {'cat': ['Henri', 'Grumpy', 'Lucy'], 'emus': '', 'octopi': ''},\n",
              " 'other': '',\n",
              " 'plants': ''}"
            ]
          },
          "metadata": {},
          "execution_count": 35
        }
      ]
    },
    {
      "cell_type": "markdown",
      "source": [
        "**14. Print the top-level keys of life.**"
      ],
      "metadata": {
        "id": "zD8rmzGxhKpg"
      }
    },
    {
      "cell_type": "code",
      "source": [
        "life.keys()"
      ],
      "metadata": {
        "colab": {
          "base_uri": "https://localhost:8080/"
        },
        "id": "JlqO7gZFhFoZ",
        "outputId": "0548e6f6-83eb-454a-92be-b41dc4db5523"
      },
      "execution_count": 36,
      "outputs": [
        {
          "output_type": "execute_result",
          "data": {
            "text/plain": [
              "dict_keys(['animals', 'plants', 'other'])"
            ]
          },
          "metadata": {},
          "execution_count": 36
        }
      ]
    },
    {
      "cell_type": "markdown",
      "source": [
        "**15. Print the keys for life[&#39;animals&#39;].**"
      ],
      "metadata": {
        "id": "mjEZepHDhZkb"
      }
    },
    {
      "cell_type": "code",
      "source": [
        "life['animals'].keys()"
      ],
      "metadata": {
        "colab": {
          "base_uri": "https://localhost:8080/"
        },
        "id": "9kVct9l-hVON",
        "outputId": "1dd507bf-3c74-42ff-c601-e283b805dc2c"
      },
      "execution_count": 38,
      "outputs": [
        {
          "output_type": "execute_result",
          "data": {
            "text/plain": [
              "dict_keys(['cat', 'octopi', 'emus'])"
            ]
          },
          "metadata": {},
          "execution_count": 38
        }
      ]
    },
    {
      "cell_type": "markdown",
      "source": [
        "**16. Print the values for life[&#39;animals&#39;][&#39;cats&#39;]**"
      ],
      "metadata": {
        "id": "qI8nXcT0himA"
      }
    },
    {
      "cell_type": "code",
      "source": [
        "life['animals']['cat']"
      ],
      "metadata": {
        "colab": {
          "base_uri": "https://localhost:8080/"
        },
        "id": "f8gTgSmeheQ8",
        "outputId": "c6c21b5d-e6ee-4d9f-b41d-406041a20525"
      },
      "execution_count": 41,
      "outputs": [
        {
          "output_type": "execute_result",
          "data": {
            "text/plain": [
              "['Henri', 'Grumpy', 'Lucy']"
            ]
          },
          "metadata": {},
          "execution_count": 41
        }
      ]
    },
    {
      "cell_type": "code",
      "source": [
        ""
      ],
      "metadata": {
        "id": "dg6fjaozhoFn"
      },
      "execution_count": null,
      "outputs": []
    }
  ]
}