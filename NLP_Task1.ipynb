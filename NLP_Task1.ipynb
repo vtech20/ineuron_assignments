{
  "cells": [
    {
      "cell_type": "code",
      "execution_count": 14,
      "metadata": {
        "colab": {
          "base_uri": "https://localhost:8080/"
        },
        "id": "7cgJqfppVPFU",
        "outputId": "cb880993-20ca-4553-dbb7-3bc3f6793d4a"
      },
      "outputs": [
        {
          "name": "stderr",
          "output_type": "stream",
          "text": [
            "/usr/local/lib/python3.10/dist-packages/ipykernel/ipkernel.py:283: DeprecationWarning: `should_run_async` will not call `transform_cell` automatically in the future. Please pass the result to `transformed_cell` argument and any exception that happen during thetransform in `preprocessing_exc_tuple` in IPython 7.17 and above.\n",
            "  and should_run_async(code)\n"
          ]
        }
      ],
      "source": [
        "from googleapiclient.discovery import build\n",
        "import pandas as pd"
      ]
    },
    {
      "cell_type": "code",
      "execution_count": 15,
      "metadata": {
        "colab": {
          "base_uri": "https://localhost:8080/"
        },
        "id": "wM2AetRjVP_H",
        "outputId": "e99f56ba-5d7b-431a-f3dd-0bedb374c498"
      },
      "outputs": [
        {
          "name": "stderr",
          "output_type": "stream",
          "text": [
            "/usr/local/lib/python3.10/dist-packages/ipykernel/ipkernel.py:283: DeprecationWarning: `should_run_async` will not call `transform_cell` automatically in the future. Please pass the result to `transformed_cell` argument and any exception that happen during thetransform in `preprocessing_exc_tuple` in IPython 7.17 and above.\n",
            "  and should_run_async(code)\n"
          ]
        }
      ],
      "source": [
        "api_key = '<API_KEY>' \n",
        "youtube = build('youtube', 'v3', developerKey=api_key)"
      ]
    },
    {
      "cell_type": "code",
      "execution_count": 16,
      "metadata": {
        "colab": {
          "base_uri": "https://localhost:8080/"
        },
        "id": "cOX6Qe1LVnVK",
        "outputId": "8b606919-4da3-4970-a4ba-fc542f9a1cf7"
      },
      "outputs": [
        {
          "name": "stderr",
          "output_type": "stream",
          "text": [
            "/usr/local/lib/python3.10/dist-packages/ipykernel/ipkernel.py:283: DeprecationWarning: `should_run_async` will not call `transform_cell` automatically in the future. Please pass the result to `transformed_cell` argument and any exception that happen during thetransform in `preprocessing_exc_tuple` in IPython 7.17 and above.\n",
            "  and should_run_async(code)\n"
          ]
        }
      ],
      "source": [
        "video_id = '3XiJrn_8F9Q'  \n",
        "comments = []\n",
        "next_page_token = None\n",
        "\n",
        "while True:\n",
        "    response = youtube.commentThreads().list(\n",
        "        part='snippet',\n",
        "        videoId=video_id,\n",
        "        maxResults=100,\n",
        "        pageToken=next_page_token\n",
        "    ).execute()\n",
        "\n",
        "    for item in response['items']:\n",
        "        comment = item['snippet']['topLevelComment']['snippet']['textDisplay']\n",
        "        comments.append(comment)\n",
        "\n",
        "    next_page_token = response.get('nextPageToken')\n",
        "\n",
        "    if not next_page_token:\n",
        "        break\n"
      ]
    },
    {
      "cell_type": "code",
      "execution_count": 17,
      "metadata": {
        "colab": {
          "base_uri": "https://localhost:8080/"
        },
        "id": "DTbi3wbWV1aM",
        "outputId": "0be54756-e93d-4259-afca-76436bc19b02"
      },
      "outputs": [
        {
          "name": "stderr",
          "output_type": "stream",
          "text": [
            "/usr/local/lib/python3.10/dist-packages/ipykernel/ipkernel.py:283: DeprecationWarning: `should_run_async` will not call `transform_cell` automatically in the future. Please pass the result to `transformed_cell` argument and any exception that happen during thetransform in `preprocessing_exc_tuple` in IPython 7.17 and above.\n",
            "  and should_run_async(code)\n"
          ]
        }
      ],
      "source": [
        "df = pd.DataFrame({'Comment': comments})"
      ]
    },
    {
      "cell_type": "code",
      "execution_count": 18,
      "metadata": {
        "colab": {
          "base_uri": "https://localhost:8080/",
          "height": 261
        },
        "id": "a1SQiZjsV22U",
        "outputId": "bbbe3402-7ea6-4043-e9d1-f270df9394a0"
      },
      "outputs": [
        {
          "name": "stderr",
          "output_type": "stream",
          "text": [
            "/usr/local/lib/python3.10/dist-packages/ipykernel/ipkernel.py:283: DeprecationWarning: `should_run_async` will not call `transform_cell` automatically in the future. Please pass the result to `transformed_cell` argument and any exception that happen during thetransform in `preprocessing_exc_tuple` in IPython 7.17 and above.\n",
            "  and should_run_async(code)\n"
          ]
        },
        {
          "data": {
            "text/html": [
              "\n",
              "  <div id=\"df-5a5acc41-24bb-40cb-b736-9d969856fc59\">\n",
              "    <div class=\"colab-df-container\">\n",
              "      <div>\n",
              "<style scoped>\n",
              "    .dataframe tbody tr th:only-of-type {\n",
              "        vertical-align: middle;\n",
              "    }\n",
              "\n",
              "    .dataframe tbody tr th {\n",
              "        vertical-align: top;\n",
              "    }\n",
              "\n",
              "    .dataframe thead th {\n",
              "        text-align: right;\n",
              "    }\n",
              "</style>\n",
              "<table border=\"1\" class=\"dataframe\">\n",
              "  <thead>\n",
              "    <tr style=\"text-align: right;\">\n",
              "      <th></th>\n",
              "      <th>Comment</th>\n",
              "    </tr>\n",
              "  </thead>\n",
              "  <tbody>\n",
              "    <tr>\n",
              "      <th>0</th>\n",
              "      <td>You&amp;#39;re so passionate about teaching and it...</td>\n",
              "    </tr>\n",
              "    <tr>\n",
              "      <th>1</th>\n",
              "      <td>Change train_batch_size to lower value like 6 ...</td>\n",
              "    </tr>\n",
              "    <tr>\n",
              "      <th>2</th>\n",
              "      <td>Can u tell me how to install cdqa In colab</td>\n",
              "    </tr>\n",
              "    <tr>\n",
              "      <th>3</th>\n",
              "      <td>Great tutorial. Could anybody share the link t...</td>\n",
              "    </tr>\n",
              "    <tr>\n",
              "      <th>4</th>\n",
              "      <td>Context, can answer, index at which answer is ...</td>\n",
              "    </tr>\n",
              "  </tbody>\n",
              "</table>\n",
              "</div>\n",
              "      <button class=\"colab-df-convert\" onclick=\"convertToInteractive('df-5a5acc41-24bb-40cb-b736-9d969856fc59')\"\n",
              "              title=\"Convert this dataframe to an interactive table.\"\n",
              "              style=\"display:none;\">\n",
              "        \n",
              "  <svg xmlns=\"http://www.w3.org/2000/svg\" height=\"24px\"viewBox=\"0 0 24 24\"\n",
              "       width=\"24px\">\n",
              "    <path d=\"M0 0h24v24H0V0z\" fill=\"none\"/>\n",
              "    <path d=\"M18.56 5.44l.94 2.06.94-2.06 2.06-.94-2.06-.94-.94-2.06-.94 2.06-2.06.94zm-11 1L8.5 8.5l.94-2.06 2.06-.94-2.06-.94L8.5 2.5l-.94 2.06-2.06.94zm10 10l.94 2.06.94-2.06 2.06-.94-2.06-.94-.94-2.06-.94 2.06-2.06.94z\"/><path d=\"M17.41 7.96l-1.37-1.37c-.4-.4-.92-.59-1.43-.59-.52 0-1.04.2-1.43.59L10.3 9.45l-7.72 7.72c-.78.78-.78 2.05 0 2.83L4 21.41c.39.39.9.59 1.41.59.51 0 1.02-.2 1.41-.59l7.78-7.78 2.81-2.81c.8-.78.8-2.07 0-2.86zM5.41 20L4 18.59l7.72-7.72 1.47 1.35L5.41 20z\"/>\n",
              "  </svg>\n",
              "      </button>\n",
              "      \n",
              "  <style>\n",
              "    .colab-df-container {\n",
              "      display:flex;\n",
              "      flex-wrap:wrap;\n",
              "      gap: 12px;\n",
              "    }\n",
              "\n",
              "    .colab-df-convert {\n",
              "      background-color: #E8F0FE;\n",
              "      border: none;\n",
              "      border-radius: 50%;\n",
              "      cursor: pointer;\n",
              "      display: none;\n",
              "      fill: #1967D2;\n",
              "      height: 32px;\n",
              "      padding: 0 0 0 0;\n",
              "      width: 32px;\n",
              "    }\n",
              "\n",
              "    .colab-df-convert:hover {\n",
              "      background-color: #E2EBFA;\n",
              "      box-shadow: 0px 1px 2px rgba(60, 64, 67, 0.3), 0px 1px 3px 1px rgba(60, 64, 67, 0.15);\n",
              "      fill: #174EA6;\n",
              "    }\n",
              "\n",
              "    [theme=dark] .colab-df-convert {\n",
              "      background-color: #3B4455;\n",
              "      fill: #D2E3FC;\n",
              "    }\n",
              "\n",
              "    [theme=dark] .colab-df-convert:hover {\n",
              "      background-color: #434B5C;\n",
              "      box-shadow: 0px 1px 3px 1px rgba(0, 0, 0, 0.15);\n",
              "      filter: drop-shadow(0px 1px 2px rgba(0, 0, 0, 0.3));\n",
              "      fill: #FFFFFF;\n",
              "    }\n",
              "  </style>\n",
              "\n",
              "      <script>\n",
              "        const buttonEl =\n",
              "          document.querySelector('#df-5a5acc41-24bb-40cb-b736-9d969856fc59 button.colab-df-convert');\n",
              "        buttonEl.style.display =\n",
              "          google.colab.kernel.accessAllowed ? 'block' : 'none';\n",
              "\n",
              "        async function convertToInteractive(key) {\n",
              "          const element = document.querySelector('#df-5a5acc41-24bb-40cb-b736-9d969856fc59');\n",
              "          const dataTable =\n",
              "            await google.colab.kernel.invokeFunction('convertToInteractive',\n",
              "                                                     [key], {});\n",
              "          if (!dataTable) return;\n",
              "\n",
              "          const docLinkHtml = 'Like what you see? Visit the ' +\n",
              "            '<a target=\"_blank\" href=https://colab.research.google.com/notebooks/data_table.ipynb>data table notebook</a>'\n",
              "            + ' to learn more about interactive tables.';\n",
              "          element.innerHTML = '';\n",
              "          dataTable['output_type'] = 'display_data';\n",
              "          await google.colab.output.renderOutput(dataTable, element);\n",
              "          const docLink = document.createElement('div');\n",
              "          docLink.innerHTML = docLinkHtml;\n",
              "          element.appendChild(docLink);\n",
              "        }\n",
              "      </script>\n",
              "    </div>\n",
              "  </div>\n",
              "  "
            ],
            "text/plain": [
              "                                             Comment\n",
              "0  You&#39;re so passionate about teaching and it...\n",
              "1  Change train_batch_size to lower value like 6 ...\n",
              "2         Can u tell me how to install cdqa In colab\n",
              "3  Great tutorial. Could anybody share the link t...\n",
              "4  Context, can answer, index at which answer is ..."
            ]
          },
          "execution_count": 18,
          "metadata": {},
          "output_type": "execute_result"
        }
      ],
      "source": [
        "df.head()"
      ]
    },
    {
      "cell_type": "code",
      "execution_count": 19,
      "metadata": {
        "colab": {
          "base_uri": "https://localhost:8080/"
        },
        "id": "xZBFr4fgV4MW",
        "outputId": "d6267020-8514-477d-bc24-d093e147375b"
      },
      "outputs": [
        {
          "name": "stderr",
          "output_type": "stream",
          "text": [
            "/usr/local/lib/python3.10/dist-packages/ipykernel/ipkernel.py:283: DeprecationWarning: `should_run_async` will not call `transform_cell` automatically in the future. Please pass the result to `transformed_cell` argument and any exception that happen during thetransform in `preprocessing_exc_tuple` in IPython 7.17 and above.\n",
            "  and should_run_async(code)\n"
          ]
        },
        {
          "data": {
            "text/plain": [
              "Comment    0\n",
              "dtype: int64"
            ]
          },
          "execution_count": 19,
          "metadata": {},
          "output_type": "execute_result"
        }
      ],
      "source": [
        "#checking the NULL values\n",
        "df.isnull().sum()"
      ]
    },
    {
      "cell_type": "code",
      "execution_count": 20,
      "metadata": {
        "colab": {
          "base_uri": "https://localhost:8080/"
        },
        "id": "8CRrsgfKtj2B",
        "outputId": "0df4a693-d3af-45e0-a4ee-a2a9777a3fc9"
      },
      "outputs": [
        {
          "name": "stderr",
          "output_type": "stream",
          "text": [
            "/usr/local/lib/python3.10/dist-packages/ipykernel/ipkernel.py:283: DeprecationWarning: `should_run_async` will not call `transform_cell` automatically in the future. Please pass the result to `transformed_cell` argument and any exception that happen during thetransform in `preprocessing_exc_tuple` in IPython 7.17 and above.\n",
            "  and should_run_async(code)\n",
            "<>:6: DeprecationWarning: invalid escape sequence '\\.'\n",
            "<>:6: DeprecationWarning: invalid escape sequence '\\.'\n",
            "<ipython-input-20-d594476b6f3b>:6: DeprecationWarning: invalid escape sequence '\\.'\n",
            "  df['Comment_processed'] = df['Comment'].map(lambda x: re.sub('[,\\.!?]', '', x))\n"
          ]
        }
      ],
      "source": [
        "#Text Preprocessing\n",
        "\n",
        "import re\n",
        "\n",
        "# Remove punctuation\n",
        "df['Comment_processed'] = df['Comment'].map(lambda x: re.sub('[,\\.!?]', '', x))\n",
        "\n",
        "#Remove html tags\n",
        "\n",
        "df['Comment_processed'] = df['Comment_processed'].map(lambda x: re.sub('<[^>]+>', '', x))\n",
        "\n",
        "# Lowercase\n",
        "df['Comment_processed'] = df['Comment_processed'].map(lambda x: x.lower())"
      ]
    },
    {
      "cell_type": "code",
      "execution_count": 21,
      "metadata": {
        "colab": {
          "base_uri": "https://localhost:8080/",
          "height": 261
        },
        "id": "SV_sV1x60t_X",
        "outputId": "62bcec26-aa30-41fe-d7ac-368ea2d30ed7"
      },
      "outputs": [
        {
          "name": "stderr",
          "output_type": "stream",
          "text": [
            "/usr/local/lib/python3.10/dist-packages/ipykernel/ipkernel.py:283: DeprecationWarning: `should_run_async` will not call `transform_cell` automatically in the future. Please pass the result to `transformed_cell` argument and any exception that happen during thetransform in `preprocessing_exc_tuple` in IPython 7.17 and above.\n",
            "  and should_run_async(code)\n"
          ]
        },
        {
          "data": {
            "text/html": [
              "\n",
              "  <div id=\"df-56223397-9aae-4cc4-9052-e6af8b033813\">\n",
              "    <div class=\"colab-df-container\">\n",
              "      <div>\n",
              "<style scoped>\n",
              "    .dataframe tbody tr th:only-of-type {\n",
              "        vertical-align: middle;\n",
              "    }\n",
              "\n",
              "    .dataframe tbody tr th {\n",
              "        vertical-align: top;\n",
              "    }\n",
              "\n",
              "    .dataframe thead th {\n",
              "        text-align: right;\n",
              "    }\n",
              "</style>\n",
              "<table border=\"1\" class=\"dataframe\">\n",
              "  <thead>\n",
              "    <tr style=\"text-align: right;\">\n",
              "      <th></th>\n",
              "      <th>Comment</th>\n",
              "      <th>Comment_processed</th>\n",
              "    </tr>\n",
              "  </thead>\n",
              "  <tbody>\n",
              "    <tr>\n",
              "      <th>0</th>\n",
              "      <td>You&amp;#39;re so passionate about teaching and it...</td>\n",
              "      <td>you&amp;#39;re so passionate about teaching and it...</td>\n",
              "    </tr>\n",
              "    <tr>\n",
              "      <th>1</th>\n",
              "      <td>Change train_batch_size to lower value like 6 ...</td>\n",
              "      <td>change train_batch_size to lower value like 6 ...</td>\n",
              "    </tr>\n",
              "    <tr>\n",
              "      <th>2</th>\n",
              "      <td>Can u tell me how to install cdqa In colab</td>\n",
              "      <td>can u tell me how to install cdqa in colab</td>\n",
              "    </tr>\n",
              "    <tr>\n",
              "      <th>3</th>\n",
              "      <td>Great tutorial. Could anybody share the link t...</td>\n",
              "      <td>great tutorial could anybody share the link to...</td>\n",
              "    </tr>\n",
              "    <tr>\n",
              "      <th>4</th>\n",
              "      <td>Context, can answer, index at which answer is ...</td>\n",
              "      <td>context can answer index at which answer is av...</td>\n",
              "    </tr>\n",
              "  </tbody>\n",
              "</table>\n",
              "</div>\n",
              "      <button class=\"colab-df-convert\" onclick=\"convertToInteractive('df-56223397-9aae-4cc4-9052-e6af8b033813')\"\n",
              "              title=\"Convert this dataframe to an interactive table.\"\n",
              "              style=\"display:none;\">\n",
              "        \n",
              "  <svg xmlns=\"http://www.w3.org/2000/svg\" height=\"24px\"viewBox=\"0 0 24 24\"\n",
              "       width=\"24px\">\n",
              "    <path d=\"M0 0h24v24H0V0z\" fill=\"none\"/>\n",
              "    <path d=\"M18.56 5.44l.94 2.06.94-2.06 2.06-.94-2.06-.94-.94-2.06-.94 2.06-2.06.94zm-11 1L8.5 8.5l.94-2.06 2.06-.94-2.06-.94L8.5 2.5l-.94 2.06-2.06.94zm10 10l.94 2.06.94-2.06 2.06-.94-2.06-.94-.94-2.06-.94 2.06-2.06.94z\"/><path d=\"M17.41 7.96l-1.37-1.37c-.4-.4-.92-.59-1.43-.59-.52 0-1.04.2-1.43.59L10.3 9.45l-7.72 7.72c-.78.78-.78 2.05 0 2.83L4 21.41c.39.39.9.59 1.41.59.51 0 1.02-.2 1.41-.59l7.78-7.78 2.81-2.81c.8-.78.8-2.07 0-2.86zM5.41 20L4 18.59l7.72-7.72 1.47 1.35L5.41 20z\"/>\n",
              "  </svg>\n",
              "      </button>\n",
              "      \n",
              "  <style>\n",
              "    .colab-df-container {\n",
              "      display:flex;\n",
              "      flex-wrap:wrap;\n",
              "      gap: 12px;\n",
              "    }\n",
              "\n",
              "    .colab-df-convert {\n",
              "      background-color: #E8F0FE;\n",
              "      border: none;\n",
              "      border-radius: 50%;\n",
              "      cursor: pointer;\n",
              "      display: none;\n",
              "      fill: #1967D2;\n",
              "      height: 32px;\n",
              "      padding: 0 0 0 0;\n",
              "      width: 32px;\n",
              "    }\n",
              "\n",
              "    .colab-df-convert:hover {\n",
              "      background-color: #E2EBFA;\n",
              "      box-shadow: 0px 1px 2px rgba(60, 64, 67, 0.3), 0px 1px 3px 1px rgba(60, 64, 67, 0.15);\n",
              "      fill: #174EA6;\n",
              "    }\n",
              "\n",
              "    [theme=dark] .colab-df-convert {\n",
              "      background-color: #3B4455;\n",
              "      fill: #D2E3FC;\n",
              "    }\n",
              "\n",
              "    [theme=dark] .colab-df-convert:hover {\n",
              "      background-color: #434B5C;\n",
              "      box-shadow: 0px 1px 3px 1px rgba(0, 0, 0, 0.15);\n",
              "      filter: drop-shadow(0px 1px 2px rgba(0, 0, 0, 0.3));\n",
              "      fill: #FFFFFF;\n",
              "    }\n",
              "  </style>\n",
              "\n",
              "      <script>\n",
              "        const buttonEl =\n",
              "          document.querySelector('#df-56223397-9aae-4cc4-9052-e6af8b033813 button.colab-df-convert');\n",
              "        buttonEl.style.display =\n",
              "          google.colab.kernel.accessAllowed ? 'block' : 'none';\n",
              "\n",
              "        async function convertToInteractive(key) {\n",
              "          const element = document.querySelector('#df-56223397-9aae-4cc4-9052-e6af8b033813');\n",
              "          const dataTable =\n",
              "            await google.colab.kernel.invokeFunction('convertToInteractive',\n",
              "                                                     [key], {});\n",
              "          if (!dataTable) return;\n",
              "\n",
              "          const docLinkHtml = 'Like what you see? Visit the ' +\n",
              "            '<a target=\"_blank\" href=https://colab.research.google.com/notebooks/data_table.ipynb>data table notebook</a>'\n",
              "            + ' to learn more about interactive tables.';\n",
              "          element.innerHTML = '';\n",
              "          dataTable['output_type'] = 'display_data';\n",
              "          await google.colab.output.renderOutput(dataTable, element);\n",
              "          const docLink = document.createElement('div');\n",
              "          docLink.innerHTML = docLinkHtml;\n",
              "          element.appendChild(docLink);\n",
              "        }\n",
              "      </script>\n",
              "    </div>\n",
              "  </div>\n",
              "  "
            ],
            "text/plain": [
              "                                             Comment   \n",
              "0  You&#39;re so passionate about teaching and it...  \\\n",
              "1  Change train_batch_size to lower value like 6 ...   \n",
              "2         Can u tell me how to install cdqa In colab   \n",
              "3  Great tutorial. Could anybody share the link t...   \n",
              "4  Context, can answer, index at which answer is ...   \n",
              "\n",
              "                                   Comment_processed  \n",
              "0  you&#39;re so passionate about teaching and it...  \n",
              "1  change train_batch_size to lower value like 6 ...  \n",
              "2         can u tell me how to install cdqa in colab  \n",
              "3  great tutorial could anybody share the link to...  \n",
              "4  context can answer index at which answer is av...  "
            ]
          },
          "execution_count": 21,
          "metadata": {},
          "output_type": "execute_result"
        }
      ],
      "source": [
        "df.head()"
      ]
    },
    {
      "cell_type": "code",
      "execution_count": 22,
      "metadata": {
        "colab": {
          "base_uri": "https://localhost:8080/",
          "height": 306
        },
        "id": "2gvuIRmwusjI",
        "outputId": "75c6238a-3100-4556-ed2a-27c5b366b07a"
      },
      "outputs": [
        {
          "name": "stderr",
          "output_type": "stream",
          "text": [
            "/usr/local/lib/python3.10/dist-packages/ipykernel/ipkernel.py:283: DeprecationWarning: `should_run_async` will not call `transform_cell` automatically in the future. Please pass the result to `transformed_cell` argument and any exception that happen during thetransform in `preprocessing_exc_tuple` in IPython 7.17 and above.\n",
            "  and should_run_async(code)\n",
            "/usr/local/lib/python3.10/dist-packages/wordcloud/wordcloud.py:106: MatplotlibDeprecationWarning: The get_cmap function was deprecated in Matplotlib 3.7 and will be removed two minor releases later. Use ``matplotlib.colormaps[name]`` or ``matplotlib.colormaps.get_cmap(obj)`` instead.\n",
            "  self.colormap = plt.cm.get_cmap(colormap)\n"
          ]
        },
        {
          "data": {
            "image/png": "[encoded data removed]",
            "text/plain": [
              "<PIL.Image.Image image mode=RGB size=400x200 at 0x7FACBFC87460>"
            ]
          },
          "execution_count": 22,
          "metadata": {},
          "output_type": "execute_result"
        }
      ],
      "source": [
        "#Exploratory Data Analysis\n",
        "\n",
        "# Import the wordcloud library\n",
        "from wordcloud import WordCloud\n",
        "# Join the different processed comments together.\n",
        "long_string = ','.join(list(df['Comment_processed'].values))\n",
        "# Create a WordCloud object\n",
        "wordcloud = WordCloud(background_color=\"white\", max_words=5000, contour_width=3, contour_color='steelblue')\n",
        "# Generate a word cloud\n",
        "wordcloud.generate(long_string)\n",
        "# Visualize the word cloud\n",
        "wordcloud.to_image()"
      ]
    },
    {
      "cell_type": "code",
      "execution_count": 28,
      "metadata": {
        "colab": {
          "base_uri": "https://localhost:8080/"
        },
        "id": "nTi1nts2u6k8",
        "outputId": "aab3cab8-c0da-44bc-a51f-10606194a7cd"
      },
      "outputs": [
        {
          "name": "stdout",
          "output_type": "stream",
          "text": [
            "['passionate', 'teaching', 'shows', 'tutorials', 'effort', 'put', 'helping', 'others', 'best', 'ml', 'channel', 'know', 'far', 'youtube']\n"
          ]
        },
        {
          "name": "stderr",
          "output_type": "stream",
          "text": [
            "/usr/local/lib/python3.10/dist-packages/ipykernel/ipkernel.py:283: DeprecationWarning: `should_run_async` will not call `transform_cell` automatically in the future. Please pass the result to `transformed_cell` argument and any exception that happen during thetransform in `preprocessing_exc_tuple` in IPython 7.17 and above.\n",
            "  and should_run_async(code)\n",
            "[nltk_data] Downloading package stopwords to /root/nltk_data...\n",
            "[nltk_data]   Package stopwords is already up-to-date!\n"
          ]
        }
      ],
      "source": [
        "#Prepare data for LDA\n",
        "\n",
        "import gensim\n",
        "from gensim.utils import simple_preprocess\n",
        "import nltk\n",
        "\n",
        "#Download Stopwords\n",
        "nltk.download('stopwords')\n",
        "from nltk.corpus import stopwords\n",
        "stop_words = stopwords.words('english')\n",
        "\n",
        "#Add some generic words to stopwords for removal\n",
        "stop_words.extend(['from', 're', 'edu', 'use','thank','br','please','answer', 'sir', 'video','thanks'])\n",
        "\n",
        "#Word Tokenization and punctuation removal\n",
        "def sent_to_words(sentences):\n",
        "    for sentence in sentences:\n",
        "        # deacc=True removes punctuations\n",
        "        yield(gensim.utils.simple_preprocess(str(sentence), deacc=True))\n",
        "\n",
        "#Remove Stopwords function definition\n",
        "def remove_stopwords(texts):\n",
        "    return [[word for word in simple_preprocess(str(doc)) \n",
        "             if word not in stop_words] for doc in texts]\n",
        "\n",
        "#get the list of values             \n",
        "data = df.Comment_processed.values.tolist()\n",
        "\n",
        "#pass the list of sentences to function\n",
        "data_words = list(sent_to_words(data))\n",
        "\n",
        "# remove stop words\n",
        "data_words = remove_stopwords(data_words)\n",
        "print(data_words[:1][0][:30])"
      ]
    },
    {
      "cell_type": "code",
      "execution_count": 29,
      "metadata": {
        "colab": {
          "base_uri": "https://localhost:8080/"
        },
        "id": "LtKTPREgwge1",
        "outputId": "a0832b9f-a2c5-4130-973e-b854ee7d1f5b"
      },
      "outputs": [
        {
          "name": "stdout",
          "output_type": "stream",
          "text": [
            "[(0, 1), (1, 1), (2, 1), (3, 1), (4, 1), (5, 1), (6, 1), (7, 1), (8, 1), (9, 1), (10, 1), (11, 1), (12, 1), (13, 1)]\n"
          ]
        },
        {
          "name": "stderr",
          "output_type": "stream",
          "text": [
            "/usr/local/lib/python3.10/dist-packages/ipykernel/ipkernel.py:283: DeprecationWarning: `should_run_async` will not call `transform_cell` automatically in the future. Please pass the result to `transformed_cell` argument and any exception that happen during thetransform in `preprocessing_exc_tuple` in IPython 7.17 and above.\n",
            "  and should_run_async(code)\n"
          ]
        }
      ],
      "source": [
        " import gensim.corpora as corpora\n",
        "# Create Dictionary\n",
        "id2word = corpora.Dictionary(data_words)\n",
        "# Create Corpus\n",
        "texts = data_words\n",
        "# Term Document Frequency\n",
        "corpus = [id2word.doc2bow(text) for text in texts]\n",
        "# View\n",
        "print(corpus[:1][0][:30])"
      ]
    },
    {
      "cell_type": "code",
      "execution_count": 30,
      "metadata": {
        "colab": {
          "base_uri": "https://localhost:8080/"
        },
        "id": "DvNzhe1IwnNh",
        "outputId": "ae084706-4a2e-4c4b-e599-f0898732ebda"
      },
      "outputs": [
        {
          "name": "stderr",
          "output_type": "stream",
          "text": [
            "/usr/local/lib/python3.10/dist-packages/ipykernel/ipkernel.py:283: DeprecationWarning: `should_run_async` will not call `transform_cell` automatically in the future. Please pass the result to `transformed_cell` argument and any exception that happen during thetransform in `preprocessing_exc_tuple` in IPython 7.17 and above.\n",
            "  and should_run_async(code)\n",
            "WARNING:gensim.models.ldamulticore:too few updates, training might not converge; consider increasing the number of passes or iterations to improve accuracy\n"
          ]
        },
        {
          "name": "stdout",
          "output_type": "stream",
          "text": [
            "[(0,\n",
            "  '0.034*\"directly\" + 0.034*\"context\" + 0.034*\"means\" + 0.034*\"videos\" + '\n",
            "  '0.020*\"help\" + 0.020*\"transformers\" + 0.020*\"data\" + 0.018*\"great\" + '\n",
            "  '0.018*\"question\" + 0.018*\"flag\"'),\n",
            " (1,\n",
            "  '0.053*\"krish\" + 0.043*\"model\" + 0.030*\"test\" + 0.024*\"train\" + '\n",
            "  '0.023*\"eval_data\" + 0.022*\"gt\" + 0.018*\"question\" + 0.017*\"one\" + '\n",
            "  '0.017*\"great\" + 0.015*\"dataset\"'),\n",
            " (2,\n",
            "  '0.036*\"tutorial\" + 0.030*\"format\" + 0.029*\"great\" + 0.029*\"data\" + '\n",
            "  '0.019*\"excel\" + 0.019*\"work\" + 0.019*\"news\" + 0.019*\"detection\" + '\n",
            "  '0.019*\"fake\" + 0.019*\"annotation\"'),\n",
            " (3,\n",
            "  '0.048*\"make\" + 0.032*\"quot\" + 0.032*\"text\" + 0.024*\"question\" + '\n",
            "  '0.023*\"krish\" + 0.017*\"really\" + 0.017*\"pdf\" + 0.017*\"file\" + '\n",
            "  '0.017*\"created\" + 0.017*\"automatically\"'),\n",
            " (4,\n",
            "  '0.031*\"krish\" + 0.022*\"annotation\" + 0.022*\"helpful\" + 0.022*\"work\" + '\n",
            "  '0.022*\"really\" + 0.022*\"keep\" + 0.022*\"make\" + 0.022*\"good\" + '\n",
            "  '0.022*\"normalisation\" + 0.022*\"batch\"'),\n",
            " (5,\n",
            "  '0.026*\"tutorial\" + 0.026*\"dataset\" + 0.026*\"create\" + 0.026*\"fast\" + '\n",
            "  '0.026*\"source\" + 0.026*\"format\" + 0.026*\"file\" + 0.026*\"link\" + '\n",
            "  '0.026*\"share\" + 0.026*\"great\"'),\n",
            " (6,\n",
            "  '0.038*\"krish\" + 0.038*\"end\" + 0.038*\"topic\" + 0.020*\"videos\" + '\n",
            "  '0.020*\"great\" + 0.020*\"nlp\" + 0.020*\"faq\" + 0.020*\"looking\" + 0.020*\"make\" '\n",
            "  '+ 0.020*\"ai\"'),\n",
            " (7,\n",
            "  '0.024*\"data\" + 0.018*\"model\" + 0.016*\"feeding\" + 0.016*\"project\" + '\n",
            "  '0.016*\"effort\" + 0.016*\"ml\" + 0.011*\"informative\" + 0.011*\"training\" + '\n",
            "  '0.010*\"dataset\" + 0.010*\"videos\"'),\n",
            " (8,\n",
            "  '0.049*\"transformer\" + 0.033*\"simple\" + 0.033*\"playlist\" + 0.033*\"want\" + '\n",
            "  '0.017*\"krish\" + 0.017*\"videos\" + 0.017*\"know\" + 0.017*\"guys\" + '\n",
            "  '0.017*\"things\" + 0.017*\"anyone\"'),\n",
            " (9,\n",
            "  '0.025*\"format\" + 0.025*\"tensorflow\" + 0.025*\"task\" + 0.025*\"pytorch\" + '\n",
            "  '0.025*\"customdataset\" + 0.025*\"creat\" + 0.024*\"line\" + 0.015*\"try\" + '\n",
            "  '0.015*\"model\" + 0.014*\"throwing\"')]\n"
          ]
        }
      ],
      "source": [
        "from pprint import pprint\n",
        "# number of topics\n",
        "num_topics = 10\n",
        "# Build LDA model\n",
        "lda_model = gensim.models.LdaMulticore(corpus=corpus,\n",
        "                                       id2word=id2word,\n",
        "                                       num_topics=num_topics)\n",
        "# Print the Keyword in the 10 topics\n",
        "pprint(lda_model.print_topics())\n",
        "doc_lda = lda_model[corpus]"
      ]
    },
    {
      "cell_type": "code",
      "execution_count": 31,
      "metadata": {
        "colab": {
          "base_uri": "https://localhost:8080/"
        },
        "id": "SYBPN9BVw9hn",
        "outputId": "1f5b05b1-371e-491d-ac15-0721296acdd7"
      },
      "outputs": [
        {
          "name": "stderr",
          "output_type": "stream",
          "text": [
            "/usr/local/lib/python3.10/dist-packages/ipykernel/ipkernel.py:283: DeprecationWarning: `should_run_async` will not call `transform_cell` automatically in the future. Please pass the result to `transformed_cell` argument and any exception that happen during thetransform in `preprocessing_exc_tuple` in IPython 7.17 and above.\n",
            "  and should_run_async(code)\n"
          ]
        },
        {
          "name": "stdout",
          "output_type": "stream",
          "text": [
            "Looking in indexes: https://pypi.org/simple, https://us-python.pkg.dev/colab-wheels/public/simple/\n",
            "Requirement already satisfied: pyLDAvis in /usr/local/lib/python3.10/dist-packages (3.4.1)\n",
            "Requirement already satisfied: numpy>=1.24.2 in /usr/local/lib/python3.10/dist-packages (from pyLDAvis) (1.24.3)\n",
            "Requirement already satisfied: scipy in /usr/local/lib/python3.10/dist-packages (from pyLDAvis) (1.10.1)\n",
            "Requirement already satisfied: pandas>=2.0.0 in /usr/local/lib/python3.10/dist-packages (from pyLDAvis) (2.0.1)\n",
            "Requirement already satisfied: joblib>=1.2.0 in /usr/local/lib/python3.10/dist-packages (from pyLDAvis) (1.2.0)\n",
            "Requirement already satisfied: jinja2 in /usr/local/lib/python3.10/dist-packages (from pyLDAvis) (3.1.2)\n",
            "Requirement already satisfied: numexpr in /usr/local/lib/python3.10/dist-packages (from pyLDAvis) (2.8.4)\n",
            "Requirement already satisfied: funcy in /usr/local/lib/python3.10/dist-packages (from pyLDAvis) (2.0)\n",
            "Requirement already satisfied: scikit-learn>=1.0.0 in /usr/local/lib/python3.10/dist-packages (from pyLDAvis) (1.2.2)\n",
            "Requirement already satisfied: gensim in /usr/local/lib/python3.10/dist-packages (from pyLDAvis) (4.3.1)\n",
            "Requirement already satisfied: setuptools in /usr/local/lib/python3.10/dist-packages (from pyLDAvis) (67.7.2)\n",
            "Requirement already satisfied: python-dateutil>=2.8.2 in /usr/local/lib/python3.10/dist-packages (from pandas>=2.0.0->pyLDAvis) (2.8.2)\n",
            "Requirement already satisfied: pytz>=2020.1 in /usr/local/lib/python3.10/dist-packages (from pandas>=2.0.0->pyLDAvis) (2022.7.1)\n",
            "Requirement already satisfied: tzdata>=2022.1 in /usr/local/lib/python3.10/dist-packages (from pandas>=2.0.0->pyLDAvis) (2023.3)\n",
            "Requirement already satisfied: threadpoolctl>=2.0.0 in /usr/local/lib/python3.10/dist-packages (from scikit-learn>=1.0.0->pyLDAvis) (3.1.0)\n",
            "Requirement already satisfied: smart-open>=1.8.1 in /usr/local/lib/python3.10/dist-packages (from gensim->pyLDAvis) (6.3.0)\n",
            "Requirement already satisfied: MarkupSafe>=2.0 in /usr/local/lib/python3.10/dist-packages (from jinja2->pyLDAvis) (2.1.2)\n",
            "Requirement already satisfied: six>=1.5 in /usr/local/lib/python3.10/dist-packages (from python-dateutil>=2.8.2->pandas>=2.0.0->pyLDAvis) (1.16.0)\n"
          ]
        }
      ],
      "source": [
        "!pip install pyLDAvis"
      ]
    },
    {
      "cell_type": "code",
      "execution_count": 32,
      "metadata": {
        "colab": {
          "base_uri": "https://localhost:8080/",
          "height": 916
        },
        "id": "Ykk7i9aWwvoL",
        "outputId": "ee1cdfbb-1969-4b6b-9a7c-31b3e18f0b3c"
      },
      "outputs": [
        {
          "name": "stderr",
          "output_type": "stream",
          "text": [
            "/usr/local/lib/python3.10/dist-packages/ipykernel/ipkernel.py:283: DeprecationWarning: `should_run_async` will not call `transform_cell` automatically in the future. Please pass the result to `transformed_cell` argument and any exception that happen during thetransform in `preprocessing_exc_tuple` in IPython 7.17 and above.\n",
            "  and should_run_async(code)\n"
          ]
        },
        {
          "data": {
            "text/html": [
              "\n",
              "<link rel=\"stylesheet\" type=\"text/css\" href=\"https://cdn.jsdelivr.net/gh/bmabey/pyLDAvis@3.4.0/pyLDAvis/js/ldavis.v1.0.0.css\">\n",
              "\n",
              "\n",
              "<div id=\"ldavis_el325851403796923770086840433858\" style=\"background-color:white;\"></div>\n",
              "<script type=\"text/javascript\">\n",
              "\n",
              "var ldavis_el325851403796923770086840433858_data = {\"mdsDat\": {\"x\": [-0.040770898893400416, 0.17061439051225025, 0.09851750642722212, -0.06308326886491432, -0.04715721482803703, -0.06161384599297681, -0.057603761943934365, -0.005060942376249848, -0.013091993098868878, 0.019250029058909143], \"y\": [0.19224043500785534, -0.007336587511307703, -0.00674484699639098, -0.06066480774240652, -0.03889280739380053, -0.05325780324280676, -0.013288251384807739, -0.008350565451610604, -0.0023251840609367093, -0.0013795812237876659], \"topics\": [1, 2, 3, 4, 5, 6, 7, 8, 9, 10], \"cluster\": [1, 1, 1, 1, 1, 1, 1, 1, 1, 1], \"Freq\": [22.43727668188211, 22.397415745103956, 9.384316735956087, 8.588850153063268, 7.973003953015668, 7.861942262011006, 7.447183472703289, 6.94679630671952, 4.286954261975465, 2.676260427569629]}, \"tinfo\": {\"Term\": [\"krish\", \"make\", \"transformer\", \"tutorial\", \"great\", \"format\", \"data\", \"end\", \"context\", \"topic\", \"videos\", \"work\", \"question\", \"want\", \"file\", \"dataset\", \"simple\", \"using\", \"really\", \"playlist\", \"directly\", \"means\", \"test\", \"text\", \"quot\", \"code\", \"helpful\", \"annotation\", \"create\", \"share\", \"feeding\", \"project\", \"ml\", \"spoon\", \"details\", \"already\", \"course\", \"enrolled\", \"joining\", \"stack\", \"nl\", \"trained\", \"recommendation\", \"kind\", \"classification\", \"put\", \"search\", \"intelligence\", \"science\", \"shows\", \"ineuron\", \"truely\", \"available\", \"big\", \"think\", \"length\", \"diverse\", \"optimal\", \"lookup\", \"youtube\", \"channel\", \"effort\", \"data\", \"model\", \"others\", \"informative\", \"training\", \"dataset\", \"videos\", \"krish\", \"end\", \"create\", \"helped\", \"using\", \"context\", \"topic\", \"tutorials\", \"helpful\", \"take\", \"eval_data\", \"one\", \"gt\", \"test\", \"nameerror\", \"lt\", \"thing\", \"reply\", \"advance\", \"subscription\", \"confused\", \"everything\", \"real\", \"got\", \"object\", \"eg\", \"point\", \"evaluate\", \"score\", \"implementation\", \"metric\", \"train_model\", \"advice\", \"deploying\", \"extract\", \"android\", \"lstm\", \"output\", \"alot\", \"bengaliqa\", \"model\", \"krish\", \"train\", \"question\", \"dataset\", \"great\", \"informative\", \"using\", \"make\", \"tutorial\", \"helpful\", \"hey\", \"custom\", \"text\", \"quot\", \"pdf\", \"automatically\", \"summarization\", \"answers\", \"variables\", \"krishcould\", \"hi\", \"numerical\", \"engineering\", \"feature\", \"install\", \"colab\", \"cdqa\", \"make\", \"hey\", \"file\", \"appreciate\", \"lectures\", \"generation\", \"created\", \"custom\", \"tell\", \"question\", \"really\", \"covering\", \"tutorials\", \"informative\", \"bert\", \"data\", \"krish\", \"effort\", \"transformer\", \"playlist\", \"guys\", \"anyone\", \"things\", \"implementing\", \"learning\", \"difference\", \"whole\", \"find\", \"bcoz\", \"learn\", \"many\", \"life\", \"able\", \"idea\", \"offence\", \"improve\", \"accuracy\", \"simple\", \"want\", \"amazing\", \"know\", \"give\", \"qa\", \"work\", \"transformers\", \"tell\", \"using\", \"videos\", \"krish\", \"news\", \"fake\", \"impressive\", \"annotation\", \"tutorial\", \"corpus\", \"huge\", \"manually\", \"btw\", \"annotate\", \"excel\", \"tool\", \"fantastic\", \"thankyou\", \"haystack\", \"format\", \"detection\", \"work\", \"someone\", \"illustrative\", \"line\", \"list\", \"set\", \"says\", \"looking\", \"error\", \"tools\", \"json\", \"checked\", \"throwing\", \"great\", \"data\", \"like\", \"train\", \"training\", \"test\", \"krish\", \"directly\", \"means\", \"flag\", \"false\", \"labelling\", \"true\", \"explanation\", \"essentially\", \"is_impossible\", \"obtained\", \"wrong\", \"guide\", \"answered\", \"answering\", \"tools\", \"set\", \"context\", \"help\", \"tasks\", \"transformers\", \"videos\", \"like\", \"created\", \"custom\", \"question\", \"make\", \"great\", \"data\", \"line\", \"well\", \"format\", \"tensorflow\", \"task\", \"pytorch\", \"customdataset\", \"creat\", \"line\", \"try\", \"throwing\", \"transformed\", \"range\", \"json\", \"checked\", \"well\", \"says\", \"soon\", \"error\", \"list\", \"illustrative\", \"format\", \"help\", \"csv\", \"index\", \"required\", \"simple\", \"transformers\", \"batch\", \"normalisation\", \"keep\", \"train\", \"someone\", \"data\", \"model\", \"krish\", \"gem\", \"faq\", \"nlp\", \"ai\", \"qna\", \"similar\", \"pipeline\", \"amazingi\", \"also\", \"based\", \"krishnaik\", \"conversational\", \"always\", \"end\", \"looking\", \"code\", \"topic\", \"tasks\", \"amazing\", \"covering\", \"saviour\", \"add\", \"context\", \"videos\", \"make\", \"great\", \"krish\", \"normalisation\", \"batch\", \"keep\", \"someone\", \"gem\", \"tutorial\", \"data\", \"dataset\", \"fast\", \"source\", \"link\", \"efficient\", \"way\", \"anybody\", \"could\", \"code\", \"csv\", \"share\", \"file\", \"create\", \"format\", \"tutorial\", \"dataset\", \"great\", \"batch\", \"normalisation\", \"keep\", \"someone\", \"haystack\", \"thankyou\", \"fantastic\", \"tool\", \"annotate\", \"btw\", \"manually\", \"huge\", \"corpus\", \"always\", \"krish\", \"gem\", \"make\", \"impressive\", \"data\", \"videos\", \"creat\", \"bengaliqa\", \"model\", \"transformers\", \"scientisthow\", \"topic\", \"tell\", \"question\", \"keep\", \"normalisation\", \"batch\", \"annotation\", \"good\", \"someone\", \"haystack\", \"thankyou\", \"fantastic\", \"tool\", \"annotate\", \"btw\", \"work\", \"manually\", \"huge\", \"corpus\", \"passage\", \"helpful\", \"finetune\", \"dense\", \"retriever\", \"tools\", \"really\", \"using\", \"looking\", \"set\", \"dpr\", \"excel\", \"make\", \"file\", \"krish\", \"data\", \"test\", \"train\", \"question\"], \"Freq\": [9.0, 4.0, 2.0, 2.0, 4.0, 2.0, 5.0, 2.0, 2.0, 3.0, 4.0, 1.0, 3.0, 2.0, 2.0, 3.0, 2.0, 2.0, 2.0, 1.0, 1.0, 1.0, 3.0, 1.0, 1.0, 1.0, 2.0, 1.0, 2.0, 1.0, 1.5681893137540084, 1.568185769734455, 1.5681710620533085, 0.8214336494870259, 0.8214329406831152, 0.8214300168669837, 0.8214305484699167, 0.8214294852640507, 0.8214297510655172, 0.821429308063073, 0.8214270930508522, 0.8214269158498745, 0.821428244857207, 0.8214258526440085, 0.8214320546782269, 0.8214299282664949, 0.8214239034332541, 0.8214231060288546, 0.8214246122371648, 0.8214272702518298, 0.8214236376317876, 0.8214232832298323, 0.82141965060979, 0.8214202708132119, 0.8214183216024575, 0.8214208024161449, 0.8214186760044129, 0.82141965060979, 0.8214172583965915, 0.8214200936122342, 0.8214210682176114, 1.5681839977246783, 2.314880211063653, 1.700564468906026, 0.9816491160420937, 1.0507044256402094, 1.0184564171186195, 0.9875685147011282, 0.9855731430920859, 0.9371589121767712, 0.8214407375261327, 0.8214363075016909, 0.8214361303007133, 0.8214325862811599, 0.8214318774772492, 0.8214317002762715, 0.8214311686733385, 0.8214305484699167, 0.821429839666006, 2.184262259347749, 1.6218268522283172, 2.114229309509266, 2.8499468322162107, 1.4287033263598201, 1.4029479038266446, 0.8495305959369595, 0.8495263506688475, 0.8495246702502199, 0.8495231667177636, 0.8495258200103336, 0.8495219285145643, 0.8495221054007357, 0.8495236973762776, 0.8495213094129647, 0.8495191867789087, 0.8495198058805083, 0.8495137033075976, 0.8495137917506832, 0.8495121997751413, 0.8495087504948003, 0.8495105193565137, 0.8495008790601762, 0.8494991986415487, 0.8495037976820032, 0.8494897352313826, 0.8494926538532095, 0.8494925654101239, 0.8494725772727637, 0.8494109324420558, 4.045417516472664, 5.046264945457013, 2.2350038264549927, 1.7099092669891425, 1.4499063179446041, 1.6217778547588593, 0.9263005209397386, 0.8615762788751615, 0.849545189046094, 0.8495421819811815, 0.8495243164778773, 0.8495213094129647, 0.8495202480959367, 1.2857069245049562, 1.285708110324518, 0.6734822180588128, 0.673468507020128, 0.6734684329064053, 0.6734625779223182, 0.6734643566516612, 0.6734604286243623, 0.6734626520360408, 0.6734604286243623, 0.6734596133734134, 0.6734591686910777, 0.6734564264833407, 0.6734436048093273, 0.6734315983862628, 1.8980014460778083, 0.6734672470868434, 0.6734755478237768, 0.38867211273061164, 0.3810693417798623, 0.36306671092979287, 0.6734732502983757, 0.6734593169185229, 0.6734384909624664, 0.9567830344827024, 0.6784090018837537, 0.40538898166379395, 0.3535567344979809, 0.42462282673090157, 0.30867061070049684, 0.6734676917691791, 0.9247999986229175, 0.36445045118798475, 1.7947091687199463, 1.2157672043390557, 0.636841316007936, 0.6368385349191571, 0.636839281064927, 0.6368328370787318, 0.6368318874386609, 0.6368298524956519, 0.6368286993612802, 0.6368298524956519, 0.6368270035754393, 0.6368267322497048, 0.6368205595892441, 0.6368145904230843, 0.6368122841543408, 0.6368084855940572, 0.636808146436889, 0.6368028555850656, 0.636794987138764, 1.215775479773959, 1.2157659833732501, 0.6368308699671564, 0.6368421978165734, 0.6368325657529973, 0.6368297168327847, 0.6368295133384838, 0.6368325657529973, 0.6368274783954747, 0.6368265965868375, 0.6368439614338478, 0.6368830323396211, 0.6307343381606201, 0.6307026653988104, 0.6306111103378337, 0.6306189183347808, 1.2040121454960975, 0.39458295023641804, 0.38839841846098677, 0.3731357364286095, 0.36901478268504045, 0.3644061439708632, 0.6307376124819205, 0.35303748002885, 0.35020006023503936, 0.34869088147028104, 0.3470684237820722, 0.9974382371040418, 0.6307302452589946, 0.6307352197086625, 0.30571758678872624, 0.32385443027796773, 0.4862391373671071, 0.30882847537883795, 0.3790673898513019, 0.2975576947533916, 0.3696673801072979, 0.2883792998904794, 0.34712733008162083, 0.2759514559755028, 0.2742442437397874, 0.2748001857159656, 0.9793346405695428, 0.9742502492671886, 0.3990183647602605, 0.5858463526147953, 0.3981589813543391, 0.3530791016899955, 0.35414272088702964, 1.1233689952609238, 1.1233537209745994, 0.5884291520786794, 0.5884279102667831, 0.5884280344479728, 0.5884258612771542, 0.5884253645523957, 0.5884230672003875, 0.5884226946568186, 0.5884201489424312, 0.5884174169562594, 0.5884172306844749, 0.5884161130537683, 0.588407482461089, 0.5884203973048104, 0.5884236260157408, 1.123354838605306, 0.6684538701188053, 0.5884283449009468, 0.6617725495731465, 1.1233185776979342, 0.588413194795812, 0.588426606364292, 0.5884280965385675, 0.588433312148532, 0.5883869304742052, 0.5884414460164528, 0.6523037338638648, 0.2154286274563671, 0.13852473793812822, 0.24030090897264195, 0.792918515497487, 0.7929080464293576, 0.7929011062605977, 0.7928806974592445, 0.7928448791306447, 0.7564352246264978, 0.4777510424381345, 0.43074180934297146, 0.42900947264251377, 0.4260731048846982, 0.421115236530594, 0.4193781946309771, 0.4159285778673713, 0.41310984008853696, 0.41040864406619976, 0.39689598845320634, 0.39731386895353743, 0.3505363669169676, 0.8010693908160492, 0.4134771396979061, 0.3742016072008481, 0.41300356140252736, 0.38543524078606817, 0.42989752016883315, 0.4201478769909465, 0.07209991346433896, 0.07209952381503358, 0.07209631839810635, 0.4114953686270185, 0.07209367172357926, 0.37091799574507966, 0.4719818801189963, 0.07216039732915641, 0.07212080748935551, 0.5795786525091173, 0.5795791462772351, 0.5795760190791559, 0.5795744280485542, 0.5795722883867105, 0.5795721237973379, 0.5795726724285799, 0.5795698744092459, 0.5795657596749312, 0.5795635651499633, 0.5795567072594389, 0.5795465027183384, 1.1064664313616381, 0.5795776649728818, 0.5795734953754429, 1.106450740508118, 0.5795684479680169, 0.5795717946185928, 0.5795565975331904, 0.579564881864944, 0.5795744280485542, 0.5795648270018199, 0.5795857847152628, 0.5795768420260188, 0.5795850714946482, 1.106470600959077, 0.052698849383276375, 0.052696877739750576, 0.05269465578322064, 0.052693380215583084, 0.05271247944069382, 0.05271234571182859, 0.05270646507070383, 0.052706389633908064, 0.46603788784525435, 0.466036635146792, 0.4660352470214689, 0.46603436674687376, 0.46603396046629136, 0.46602918666944837, 0.4660270198396757, 0.46602353259801027, 0.46603429903344334, 0.4660350100244625, 0.46603622886620966, 0.46604073180933103, 0.46603633043635523, 0.4660439143405597, 0.4660434403465469, 0.4660345698871649, 0.04237475156760976, 0.04237375702660081, 0.04237191183562251, 0.04237036289090218, 0.04237062951253437, 0.04237048562149477, 0.04237048138940538, 0.042370443300600774, 0.04237059565581917, 0.04237040521179618, 0.042370502549852376, 0.04237032057000818, 0.04237059565581917, 0.04237335497810783, 0.042419641339873346, 0.04238694844925996, 0.04238309724790615, 0.042381950351678806, 0.04238016864204149, 0.04237742201602103, 0.04237737969512703, 0.04237655020560467, 0.04237641054665448, 0.04237584767876431, 0.042375661466830715, 0.04237562337802612, 0.04237561914593672, 0.042375377916840935, 0.24527521060054303, 0.24526538232563655, 0.24526400848075716, 0.24533411684175663, 0.2452682991039959, 0.14869750871159185, 0.13261360023538546, 0.1319861441428891, 0.13139754672440465, 0.13029442326251042, 0.1258729782871423, 0.12408467611174193, 0.24528009303388365, 0.12247981393185382, 0.11654548040725458, 0.11413772214377096, 0.12081723969899347, 0.24528011416995874, 0.1115570073780086, 0.10438011570429372, 0.10279964455503371, 0.13259309824256982, 0.2452783598757281, 0.24179917169491422, 0.12382906698791107, 0.12017324462775666, 0.08449699773467384, 0.10283287046504008, 0.24527127929058043, 0.11479061550261126, 0.35288351302618454, 0.21563714933690442, 0.130278518366022, 0.12869904061229018, 0.1166615174593761], \"Total\": [9.0, 4.0, 2.0, 2.0, 4.0, 2.0, 5.0, 2.0, 2.0, 3.0, 4.0, 1.0, 3.0, 2.0, 2.0, 3.0, 2.0, 2.0, 2.0, 1.0, 1.0, 1.0, 3.0, 1.0, 1.0, 1.0, 2.0, 1.0, 2.0, 1.0, 2.0648550370197896, 2.0648591850520615, 2.0648436755877095, 1.3180957662956578, 1.3180952612533603, 1.3180926698949256, 1.3180942115176124, 1.3180929763950688, 1.3180934431078455, 1.3180929400081247, 1.3180901179394098, 1.318090193985534, 1.3180926054436748, 1.3180891060150675, 1.3180992827744127, 1.3180960258484096, 1.3180870636095772, 1.318086525243363, 1.3180894666761451, 1.3180939811498442, 1.3180882300782537, 1.3180878175527595, 1.318083234168386, 1.3180849808631268, 1.3180820336464467, 1.3180860423824279, 1.318082788944102, 1.3180846206154508, 1.3180817442871522, 1.3180872483595203, 1.31808898120818, 2.7578894700347885, 5.431705982629717, 7.110526793818248, 2.0849045321464392, 2.7598455385551106, 2.5149172272655993, 3.2806503943663015, 4.2604962483186615, 9.52672436562672, 2.371901774932042, 2.456475162730575, 2.0903622419933803, 2.9008966281425557, 2.914854010614577, 3.0660537566429107, 2.013980622150766, 2.313390576961584, 2.090375101001966, 2.8447600541918243, 2.1159534553571597, 2.830243926905743, 3.998693808719901, 2.075918402555828, 2.070597742427842, 1.3436444255168416, 1.3436409156263145, 1.3436399297246444, 1.343638284987801, 1.34364333910776, 1.3436373910779353, 1.3436383937249428, 1.3436409575074097, 1.3436374060190974, 1.3436362886525597, 1.343637358720024, 1.3436316010848697, 1.3436329132783422, 1.3436310459781315, 1.3436279931843376, 1.3436316418845773, 1.3436225073268193, 1.343620401595128, 1.343632820357615, 1.3436137324669468, 1.3436245596183516, 1.3436249150903128, 1.3436125121019888, 1.3435939137646613, 7.110526793818248, 9.52672436562672, 4.646050413825463, 3.728910374804205, 3.2806503943663015, 4.6108784216296455, 2.7598455385551106, 2.9008966281425557, 4.46526588379008, 2.9141326955076585, 2.313390576961584, 1.9558906807293932, 2.4908204199052433, 1.7958482913203335, 1.795851503420345, 1.183603595143596, 1.1835928316126056, 1.1835935980474916, 1.18358928484682, 1.1835928267274154, 1.1835887221091008, 1.1835932644969178, 1.183590907808366, 1.183589622194403, 1.1835902408191428, 1.1835951223720371, 1.1835908352911753, 1.1835840233754393, 4.46526588379008, 1.9558906807293932, 2.1517316873428878, 1.2580481116932598, 1.2600223467837928, 1.2647295139189172, 2.485924416297276, 2.4908204199052433, 2.534814105495822, 3.728910374804205, 2.9243580948344463, 1.7805667051567218, 2.013980622150766, 2.7598455385551106, 2.0257083049616926, 5.431705982629717, 9.52672436562672, 2.7578894700347885, 2.308181698940467, 1.7292355288567676, 1.1502900544367054, 1.1502882718428684, 1.1502904869876558, 1.1502831890025884, 1.1502850106823437, 1.1502818461708433, 1.1502829217203636, 1.15028581481752, 1.1502813341231957, 1.1502836961235816, 1.1502771529709286, 1.1502740228613373, 1.1502729066112403, 1.1502818576693905, 1.1502815228552508, 1.1502817662900657, 1.1502769499870416, 2.3716252695124793, 2.5015281113879304, 1.6771808759659077, 1.8970288309898684, 1.8970237701977724, 1.9154435053910686, 1.9466900842399688, 2.32455113985478, 2.534814105495822, 2.9008966281425557, 4.2604962483186615, 9.52672436562672, 1.1447500961341517, 1.1447320638633514, 1.1447209557780573, 1.3676579693009794, 2.9141326955076585, 1.0004214318656606, 0.9966426800472825, 0.987315295704986, 0.9847974933486227, 0.9819790380976685, 1.7186571928154835, 0.9750315823268157, 0.9732974484422747, 0.9723760858792498, 0.9713821452021922, 2.850924544307913, 1.917038774793178, 1.9466900842399688, 0.9461145028555837, 1.1959753698580469, 1.8465156545482626, 1.2070410456378282, 1.525875196570718, 1.2103526442531982, 1.5120956152778793, 1.2055541951946402, 1.5063546177547404, 1.2109683019241217, 1.2104081004706206, 1.213381284932501, 4.6108784216296455, 5.431705982629717, 2.2848078566095062, 4.646050413825463, 2.5149172272655993, 3.998693808719901, 9.52672436562672, 1.6412246250143698, 1.6412121968801339, 1.106277718873851, 1.1062772883974135, 1.1062779062117902, 1.1062751250579446, 1.1062751768693009, 1.1062733688563466, 1.1062735499057426, 1.1062709978004783, 1.1062688975777184, 1.1062708197533981, 1.1062690778051005, 1.106263981310234, 1.5063546177547404, 1.525875196570718, 2.914854010614577, 1.7437768222561227, 1.6331734243947031, 2.32455113985478, 4.2604962483186615, 2.2848078566095062, 2.485924416297276, 2.4908204199052433, 3.728910374804205, 4.46526588379008, 4.6108784216296455, 5.431705982629717, 1.8465156545482626, 1.208972282856767, 2.850924544307913, 1.292208002116511, 1.2922051312296534, 1.2921987565926456, 1.292196449252903, 1.2921772913473537, 1.8465156545482626, 1.2231056549970651, 1.213381284932501, 1.2127792821216117, 1.212034030975895, 1.2109683019241217, 1.2104081004706206, 1.208972282856767, 1.2103526442531982, 1.2078953498359049, 1.2055541951946402, 1.2070410456378282, 1.1959753698580469, 2.850924544307913, 1.7437768222561227, 1.6253140265582051, 1.9569187045026468, 1.9506076189168513, 2.3716252695124793, 2.32455113985478, 0.7943544258431051, 0.7943552777846619, 0.794338551206319, 4.646050413825463, 0.9461145028555837, 5.431705982629717, 7.110526793818248, 9.52672436562672, 1.3179746352614168, 1.0982391392744995, 1.0982401195388494, 1.0982368839744205, 1.0982372220352832, 1.0982341945994232, 1.0982352432975955, 1.0982363402611621, 1.0982345058285914, 1.0982327384557378, 1.0982319241839866, 1.0982265671186964, 1.0982275707272053, 2.371901774932042, 1.5120956152778793, 1.5219113669471382, 3.0660537566429107, 1.6331734243947031, 1.6771808759659077, 1.7805667051567218, 1.8449828337023606, 1.8705127119805731, 2.914854010614577, 4.2604962483186615, 4.46526588379008, 4.6108784216296455, 9.52672436562672, 0.7943552777846619, 0.7943544258431051, 0.794338551206319, 0.9461145028555837, 1.3179746352614168, 2.9141326955076585, 5.431705982629717, 3.2806503943663015, 0.9950218749032053, 0.9950203845746333, 0.995019808154204, 0.9950194773669209, 0.9950192978253166, 0.9950175054268402, 0.9950165207785773, 1.5219113669471382, 1.6253140265582051, 1.7617033026566622, 2.1517316873428878, 2.456475162730575, 2.850924544307913, 2.9141326955076585, 3.2806503943663015, 4.6108784216296455, 0.7943544258431051, 0.7943552777846619, 0.794338551206319, 0.9461145028555837, 0.9713821452021922, 0.9723760858792498, 0.9732974484422747, 0.9750315823268157, 0.9819790380976685, 0.9847974933486227, 0.987315295704986, 0.9966426800472825, 1.0004214318656606, 1.0982275707272053, 9.52672436562672, 1.3179746352614168, 4.46526588379008, 1.1447209557780573, 5.431705982629717, 4.2604962483186615, 1.2921772913473537, 1.3435939137646613, 7.110526793818248, 2.32455113985478, 1.3180553194286135, 3.0660537566429107, 2.534814105495822, 3.728910374804205, 0.794338551206319, 0.7943552777846619, 0.7943544258431051, 1.3676579693009794, 1.5410856545620413, 0.9461145028555837, 0.9713821452021922, 0.9723760858792498, 0.9732974484422747, 0.9750315823268157, 0.9819790380976685, 0.9847974933486227, 1.9466900842399688, 0.987315295704986, 0.9966426800472825, 1.0004214318656606, 1.1009329299873563, 2.313390576961584, 1.123747287486873, 1.141419364169164, 1.1453333598592004, 1.5063546177547404, 2.9243580948344463, 2.9008966281425557, 1.5120956152778793, 1.525875196570718, 1.1904185547299717, 1.7186571928154835, 4.46526588379008, 2.1517316873428878, 9.52672436562672, 5.431705982629717, 3.998693808719901, 4.646050413825463, 3.728910374804205], \"Category\": [\"Default\", \"Default\", \"Default\", \"Default\", \"Default\", \"Default\", \"Default\", \"Default\", \"Default\", \"Default\", \"Default\", \"Default\", \"Default\", \"Default\", \"Default\", \"Default\", \"Default\", \"Default\", \"Default\", \"Default\", \"Default\", \"Default\", \"Default\", \"Default\", \"Default\", \"Default\", \"Default\", \"Default\", \"Default\", \"Default\", \"Topic1\", \"Topic1\", \"Topic1\", \"Topic1\", \"Topic1\", \"Topic1\", \"Topic1\", \"Topic1\", \"Topic1\", \"Topic1\", \"Topic1\", \"Topic1\", \"Topic1\", \"Topic1\", \"Topic1\", \"Topic1\", \"Topic1\", \"Topic1\", \"Topic1\", \"Topic1\", \"Topic1\", \"Topic1\", \"Topic1\", \"Topic1\", \"Topic1\", \"Topic1\", \"Topic1\", \"Topic1\", \"Topic1\", \"Topic1\", \"Topic1\", \"Topic1\", \"Topic1\", \"Topic1\", \"Topic1\", \"Topic1\", \"Topic1\", \"Topic1\", \"Topic1\", \"Topic1\", \"Topic1\", \"Topic1\", \"Topic1\", \"Topic1\", \"Topic1\", \"Topic1\", \"Topic1\", \"Topic1\", \"Topic1\", \"Topic2\", \"Topic2\", \"Topic2\", \"Topic2\", \"Topic2\", \"Topic2\", \"Topic2\", \"Topic2\", \"Topic2\", \"Topic2\", \"Topic2\", \"Topic2\", \"Topic2\", \"Topic2\", \"Topic2\", \"Topic2\", \"Topic2\", \"Topic2\", \"Topic2\", \"Topic2\", \"Topic2\", \"Topic2\", \"Topic2\", \"Topic2\", \"Topic2\", \"Topic2\", \"Topic2\", \"Topic2\", \"Topic2\", \"Topic2\", \"Topic2\", \"Topic2\", \"Topic2\", \"Topic2\", \"Topic2\", \"Topic2\", \"Topic2\", \"Topic2\", \"Topic2\", \"Topic2\", \"Topic2\", \"Topic2\", \"Topic2\", \"Topic3\", \"Topic3\", \"Topic3\", \"Topic3\", \"Topic3\", \"Topic3\", \"Topic3\", \"Topic3\", \"Topic3\", \"Topic3\", \"Topic3\", \"Topic3\", \"Topic3\", \"Topic3\", \"Topic3\", \"Topic3\", \"Topic3\", \"Topic3\", \"Topic3\", \"Topic3\", \"Topic3\", \"Topic3\", \"Topic3\", \"Topic3\", \"Topic3\", \"Topic3\", \"Topic3\", \"Topic3\", \"Topic3\", \"Topic3\", \"Topic3\", \"Topic3\", \"Topic3\", \"Topic4\", \"Topic4\", \"Topic4\", \"Topic4\", \"Topic4\", \"Topic4\", \"Topic4\", \"Topic4\", \"Topic4\", \"Topic4\", \"Topic4\", \"Topic4\", \"Topic4\", \"Topic4\", \"Topic4\", \"Topic4\", \"Topic4\", \"Topic4\", \"Topic4\", \"Topic4\", \"Topic4\", \"Topic4\", \"Topic4\", \"Topic4\", \"Topic4\", \"Topic4\", \"Topic4\", \"Topic4\", \"Topic4\", \"Topic4\", \"Topic4\", \"Topic5\", \"Topic5\", \"Topic5\", \"Topic5\", \"Topic5\", \"Topic5\", \"Topic5\", \"Topic5\", \"Topic5\", \"Topic5\", \"Topic5\", \"Topic5\", \"Topic5\", \"Topic5\", \"Topic5\", \"Topic5\", \"Topic5\", \"Topic5\", \"Topic5\", \"Topic5\", \"Topic5\", \"Topic5\", \"Topic5\", \"Topic5\", \"Topic5\", \"Topic5\", \"Topic5\", \"Topic5\", \"Topic5\", \"Topic5\", \"Topic5\", \"Topic5\", \"Topic5\", \"Topic5\", \"Topic5\", \"Topic5\", \"Topic5\", \"Topic6\", \"Topic6\", \"Topic6\", \"Topic6\", \"Topic6\", \"Topic6\", \"Topic6\", \"Topic6\", \"Topic6\", \"Topic6\", \"Topic6\", \"Topic6\", \"Topic6\", \"Topic6\", \"Topic6\", \"Topic6\", \"Topic6\", \"Topic6\", \"Topic6\", \"Topic6\", \"Topic6\", \"Topic6\", \"Topic6\", \"Topic6\", \"Topic6\", \"Topic6\", \"Topic6\", \"Topic6\", \"Topic6\", \"Topic6\", \"Topic6\", \"Topic7\", \"Topic7\", \"Topic7\", \"Topic7\", \"Topic7\", \"Topic7\", \"Topic7\", \"Topic7\", \"Topic7\", \"Topic7\", \"Topic7\", \"Topic7\", \"Topic7\", \"Topic7\", \"Topic7\", \"Topic7\", \"Topic7\", \"Topic7\", \"Topic7\", \"Topic7\", \"Topic7\", \"Topic7\", \"Topic7\", \"Topic7\", \"Topic7\", \"Topic7\", \"Topic7\", \"Topic7\", \"Topic7\", \"Topic7\", \"Topic7\", \"Topic7\", \"Topic7\", \"Topic7\", \"Topic8\", \"Topic8\", \"Topic8\", \"Topic8\", \"Topic8\", \"Topic8\", \"Topic8\", \"Topic8\", \"Topic8\", \"Topic8\", \"Topic8\", \"Topic8\", \"Topic8\", \"Topic8\", \"Topic8\", \"Topic8\", \"Topic8\", \"Topic8\", \"Topic8\", \"Topic8\", \"Topic8\", \"Topic8\", \"Topic8\", \"Topic8\", \"Topic8\", \"Topic8\", \"Topic8\", \"Topic8\", \"Topic8\", \"Topic8\", \"Topic8\", \"Topic8\", \"Topic8\", \"Topic8\", \"Topic9\", \"Topic9\", \"Topic9\", \"Topic9\", \"Topic9\", \"Topic9\", \"Topic9\", \"Topic9\", \"Topic9\", \"Topic9\", \"Topic9\", \"Topic9\", \"Topic9\", \"Topic9\", \"Topic9\", \"Topic9\", \"Topic9\", \"Topic9\", \"Topic9\", \"Topic9\", \"Topic9\", \"Topic9\", \"Topic9\", \"Topic9\", \"Topic9\", \"Topic9\", \"Topic9\", \"Topic9\", \"Topic9\", \"Topic9\", \"Topic9\", \"Topic9\", \"Topic9\", \"Topic9\", \"Topic9\", \"Topic9\", \"Topic9\", \"Topic9\", \"Topic9\", \"Topic9\", \"Topic9\", \"Topic9\", \"Topic9\", \"Topic9\", \"Topic10\", \"Topic10\", \"Topic10\", \"Topic10\", \"Topic10\", \"Topic10\", \"Topic10\", \"Topic10\", \"Topic10\", \"Topic10\", \"Topic10\", \"Topic10\", \"Topic10\", \"Topic10\", \"Topic10\", \"Topic10\", \"Topic10\", \"Topic10\", \"Topic10\", \"Topic10\", \"Topic10\", \"Topic10\", \"Topic10\", \"Topic10\", \"Topic10\", \"Topic10\", \"Topic10\", \"Topic10\", \"Topic10\", \"Topic10\", \"Topic10\", \"Topic10\", \"Topic10\", \"Topic10\", \"Topic10\"], \"logprob\": [30.0, 29.0, 28.0, 27.0, 26.0, 25.0, 24.0, 23.0, 22.0, 21.0, 20.0, 19.0, 18.0, 17.0, 16.0, 15.0, 14.0, 13.0, 12.0, 11.0, 10.0, 9.0, 8.0, 7.0, 6.0, 5.0, 4.0, 3.0, 2.0, 1.0, -4.1054, -4.1054, -4.1054, -4.752, -4.752, -4.752, -4.752, -4.752, -4.752, -4.752, -4.752, -4.752, -4.752, -4.752, -4.752, -4.752, -4.752, -4.752, -4.752, -4.752, -4.752, -4.752, -4.752, -4.752, -4.752, -4.752, -4.752, -4.752, -4.752, -4.752, -4.752, -4.1054, -3.7159, -4.0243, -4.5738, -4.5058, -4.537, -4.5678, -4.5698, -4.6202, -4.752, -4.752, -4.752, -4.752, -4.752, -4.752, -4.752, -4.752, -4.752, -3.7722, -4.07, -3.8048, -3.5062, -4.1967, -4.2149, -4.7166, -4.7166, -4.7166, -4.7166, -4.7166, -4.7166, -4.7166, -4.7166, -4.7166, -4.7166, -4.7166, -4.7166, -4.7166, -4.7166, -4.7166, -4.7166, -4.7166, -4.7166, -4.7166, -4.7166, -4.7166, -4.7166, -4.7166, -4.7167, -3.1559, -2.9349, -3.7493, -4.0171, -4.182, -4.07, -4.6301, -4.7025, -4.7166, -4.7166, -4.7166, -4.7166, -4.7166, -3.4323, -3.4323, -4.0789, -4.0789, -4.0789, -4.0789, -4.0789, -4.0789, -4.0789, -4.0789, -4.0789, -4.0789, -4.0789, -4.079, -4.079, -3.0428, -4.0789, -4.0789, -4.6286, -4.6484, -4.6968, -4.0789, -4.0789, -4.079, -3.7278, -4.0716, -4.5865, -4.7233, -4.5402, -4.8591, -4.0789, -3.7618, -4.693, -3.0102, -3.3997, -4.0463, -4.0463, -4.0463, -4.0463, -4.0463, -4.0463, -4.0463, -4.0463, -4.0463, -4.0463, -4.0463, -4.0463, -4.0463, -4.0463, -4.0463, -4.0463, -4.0463, -3.3996, -3.3997, -4.0463, -4.0463, -4.0463, -4.0463, -4.0463, -4.0463, -4.0463, -4.0463, -4.0463, -4.0462, -3.9815, -3.9815, -3.9817, -3.9817, -3.335, -4.4506, -4.4663, -4.5064, -4.5175, -4.5301, -3.9815, -4.5618, -4.5699, -4.5742, -4.5789, -3.5232, -3.9815, -3.9815, -4.7057, -4.6481, -4.2417, -4.6956, -4.4907, -4.7328, -4.5158, -4.7641, -4.5787, -4.8082, -4.8144, -4.8123, -3.5415, -3.5467, -4.4394, -4.0553, -4.4415, -4.5617, -4.5587, -3.3903, -3.3903, -4.0369, -4.0369, -4.0369, -4.0369, -4.0369, -4.0369, -4.0369, -4.0369, -4.0369, -4.0369, -4.0369, -4.0369, -4.0369, -4.0369, -3.3903, -3.9094, -4.0369, -3.9194, -3.3903, -4.0369, -4.0369, -4.0369, -4.0369, -4.037, -4.0369, -3.9338, -5.0417, -5.4833, -4.9325, -3.6844, -3.6844, -3.6845, -3.6845, -3.6845, -3.7315, -4.1911, -4.2946, -4.2987, -4.3055, -4.3172, -4.3214, -4.3296, -4.3364, -4.343, -4.3765, -4.3754, -4.5007, -3.6742, -4.3356, -4.4354, -4.3367, -4.4058, -4.2966, -4.3195, -6.0821, -6.0821, -6.0822, -4.3404, -6.0822, -4.4442, -4.2032, -6.0813, -6.0818, -3.9283, -3.9283, -3.9283, -3.9283, -3.9283, -3.9283, -3.9283, -3.9283, -3.9283, -3.9283, -3.9283, -3.9284, -3.2817, -3.9283, -3.9283, -3.2817, -3.9283, -3.9283, -3.9283, -3.9283, -3.9283, -3.9283, -3.9283, -3.9283, -3.9283, -3.2817, -6.326, -6.326, -6.3261, -6.3261, -6.3257, -6.3257, -6.3259, -6.3259, -3.6636, -3.6636, -3.6636, -3.6636, -3.6636, -3.6636, -3.6637, -3.6637, -3.6636, -3.6636, -3.6636, -3.6636, -3.6636, -3.6636, -3.6636, -3.6636, -6.0613, -6.0614, -6.0614, -6.0614, -6.0614, -6.0614, -6.0614, -6.0614, -6.0614, -6.0614, -6.0614, -6.0614, -6.0614, -6.0614, -6.0603, -6.0611, -6.0611, -6.0612, -6.0612, -6.0613, -6.0613, -6.0613, -6.0613, -6.0613, -6.0613, -6.0613, -6.0613, -6.0613, -3.8344, -3.8344, -3.8344, -3.8341, -3.8344, -4.3348, -4.4493, -4.454, -4.4585, -4.4669, -4.5015, -4.5158, -3.8343, -4.5288, -4.5785, -4.5993, -4.5425, -3.8343, -4.6222, -4.6887, -4.704, -4.4495, -3.8343, -3.8486, -4.5178, -4.5478, -4.9, -4.7036, -3.8344, -4.5936, -3.4706, -3.9631, -4.4671, -4.4793, -4.5775], \"loglift\": [30.0, 29.0, 28.0, 27.0, 26.0, 25.0, 24.0, 23.0, 22.0, 21.0, 20.0, 19.0, 18.0, 17.0, 16.0, 15.0, 14.0, 13.0, 12.0, 11.0, 10.0, 9.0, 8.0, 7.0, 6.0, 5.0, 4.0, 3.0, 2.0, 1.0, 1.2193, 1.2193, 1.2193, 1.0216, 1.0216, 1.0216, 1.0216, 1.0216, 1.0216, 1.0216, 1.0216, 1.0216, 1.0216, 1.0215, 1.0215, 1.0215, 1.0215, 1.0215, 1.0215, 1.0215, 1.0215, 1.0215, 1.0215, 1.0215, 1.0215, 1.0215, 1.0215, 1.0215, 1.0215, 1.0215, 1.0215, 0.9299, 0.6416, 0.0638, 0.7412, 0.5287, 0.5905, 0.2939, 0.0305, -0.8246, 0.4341, 0.399, 0.5604, 0.2327, 0.2279, 0.1773, 0.5976, 0.459, 0.5604, 1.232, 1.2303, 1.2046, 1.1576, 1.1226, 1.107, 1.0378, 1.0378, 1.0378, 1.0378, 1.0378, 1.0378, 1.0378, 1.0378, 1.0378, 1.0378, 1.0378, 1.0378, 1.0378, 1.0378, 1.0378, 1.0378, 1.0377, 1.0377, 1.0377, 1.0377, 1.0377, 1.0377, 1.0377, 1.0377, 0.9322, 0.8608, 0.7645, 0.7165, 0.6797, 0.4513, 0.4045, 0.2822, -0.1632, 0.2636, 0.4944, 0.6623, 0.4205, 2.032, 2.032, 1.8023, 1.8023, 1.8023, 1.8023, 1.8023, 1.8023, 1.8023, 1.8023, 1.8023, 1.8023, 1.8022, 1.8022, 1.8022, 1.5106, 1.3, 1.2046, 1.1915, 1.1702, 1.1181, 1.0602, 1.0582, 1.0407, 1.0058, 0.9051, 0.8863, 0.6263, 0.4944, 0.4847, 0.2786, 0.0339, 0.3423, 2.2031, 2.1024, 1.8635, 1.8635, 1.8635, 1.8634, 1.8634, 1.8634, 1.8634, 1.8634, 1.8634, 1.8634, 1.8634, 1.8634, 1.8634, 1.8634, 1.8634, 1.8634, 1.8634, 1.7865, 1.7332, 1.4863, 1.3632, 1.3632, 1.3535, 1.3373, 1.1599, 1.0733, 0.9384, 0.5541, -0.2506, 1.9331, 1.933, 1.9329, 1.755, 1.6452, 1.5988, 1.5867, 1.5561, 1.5475, 1.5378, 1.5267, 1.5132, 1.5069, 1.5036, 1.4999, 1.4789, 1.4175, 1.4021, 1.3994, 1.2227, 1.1948, 1.166, 1.1365, 1.126, 1.1205, 1.0987, 1.0614, 1.0502, 1.0444, 1.044, 0.9798, 0.8108, 0.7841, 0.4584, 0.686, 0.1021, -0.763, 2.164, 2.164, 1.9118, 1.9118, 1.9118, 1.9118, 1.9118, 1.9118, 1.9118, 1.9118, 1.9118, 1.9118, 1.9118, 1.9118, 1.6031, 1.5903, 1.5896, 1.5843, 1.5223, 1.2868, 1.21, 1.1865, 1.1022, 1.1002, 0.6967, 0.5164, 0.4844, 0.4236, 0.3947, 0.3767, 0.0696, 2.1089, 2.1089, 2.1089, 2.1089, 2.1089, 1.7049, 1.6573, 1.5617, 1.5581, 1.5519, 1.5411, 1.5374, 1.5303, 1.5224, 1.5179, 1.4863, 1.4861, 1.3701, 1.3279, 1.1581, 1.1287, 1.0417, 0.9758, 0.8896, 0.8867, 0.1979, 0.1979, 0.1978, 0.1734, 0.0229, -0.0867, -0.1151, -2.2856, -0.3082, 2.0277, 2.0277, 2.0277, 2.0277, 2.0277, 2.0277, 2.0277, 2.0277, 2.0277, 2.0277, 2.0277, 2.0277, 1.9044, 1.7079, 1.7015, 1.6477, 1.6309, 1.6043, 1.5445, 1.5089, 1.4952, 1.0516, 0.6721, 0.6251, 0.593, 0.514, -0.046, -0.0461, -0.0461, -0.221, -0.5521, -1.3456, -1.9684, -1.4642, 2.3911, 2.3911, 2.3911, 2.3911, 2.3911, 2.3911, 2.3911, 1.9661, 1.9004, 1.8198, 1.6198, 1.4874, 1.3385, 1.3165, 1.1981, 0.8577, 0.2186, 0.2186, 0.2186, 0.0437, 0.0173, 0.0163, 0.0154, 0.0136, 0.0065, 0.0036, 0.0011, -0.0084, -0.0121, -0.1053, -2.2647, -0.2874, -1.5077, -0.1466, -1.7037, -1.4609, -0.2679, -0.3069, -1.9731, -0.8551, -0.2877, -1.132, -0.9417, -1.3277, 2.4456, 2.4456, 2.4456, 1.9025, 1.7829, 1.7703, 1.6295, 1.6237, 1.6183, 1.6081, 1.5665, 1.5493, 1.5493, 1.5337, 1.4746, 1.45, 1.4111, 1.3767, 1.3109, 1.2288, 1.2101, 1.1906, 1.1423, 1.1361, 1.1184, 1.0794, 0.9754, 0.8046, 0.719, 0.6898, 0.325, 0.3943, 0.1967, 0.0345, 0.1562]}, \"token.table\": {\"Topic\": [4, 4, 2, 8, 2, 2, 8, 2, 1, 8, 8, 4, 8, 8, 2, 5, 6, 6, 3, 4, 3, 1, 8, 4, 2, 1, 2, 1, 3, 1, 1, 8, 3, 2, 1, 6, 8, 8, 1, 8, 7, 1, 2, 2, 3, 6, 2, 3, 6, 7, 1, 3, 5, 6, 1, 2, 2, 2, 1, 2, 5, 4, 6, 1, 2, 1, 2, 1, 8, 3, 1, 6, 2, 2, 2, 2, 5, 6, 2, 5, 6, 8, 3, 1, 2, 3, 4, 2, 6, 5, 7, 1, 1, 4, 1, 2, 2, 5, 6, 8, 2, 6, 4, 6, 1, 2, 1, 2, 2, 3, 3, 4, 2, 4, 5, 4, 1, 1, 1, 2, 3, 1, 6, 1, 1, 1, 4, 1, 2, 3, 4, 8, 3, 8, 6, 4, 4, 1, 4, 1, 6, 7, 8, 1, 2, 2, 2, 3, 6, 8, 4, 6, 2, 1, 1, 2, 2, 5, 1, 8, 3, 2, 6, 4, 2, 1, 1, 2, 2, 2, 3, 8, 4, 2, 1, 1, 7, 2, 4, 8, 2, 3, 6, 3, 2, 1, 2, 3, 1, 2, 1, 2, 1, 8, 1, 1, 2, 1, 6, 2, 1, 8, 4, 1, 1, 2, 3, 1, 2, 7, 6, 8, 2, 3, 4, 7, 2, 3, 2, 4, 1, 6, 1, 8, 1, 2, 5, 2, 1, 1, 2, 4, 4, 6, 6, 1, 2, 5, 1, 1, 2, 4, 3, 1, 2, 4, 6, 8, 2, 4, 4, 4, 5, 6, 1], \"Freq\": [0.8693589097443393, 0.8693558538326491, 0.534612779477537, 0.534612779477537, 0.7442470098405997, 0.744256660294812, 0.9105503690434161, 0.7442621968707103, 0.758671998441291, 0.9105523407730886, 0.9105580907405533, 0.5962386134555038, 0.5962386134555038, 0.9105508198373754, 0.7442615208791789, 0.7311769626956568, 0.9039392134001031, 0.9039433777963399, 0.8448876758202656, 0.869347297089196, 0.8448851440216425, 0.7586774295258576, 0.9105538061141155, 0.8693525404046064, 0.7442724991199656, 0.4936544899137937, 0.4936544899137937, 0.7586764241446451, 0.8448914316603566, 0.7586741215933579, 0.7586681921980424, 0.6570684875072188, 0.8448865690599826, 0.7442451213757701, 0.3430703549331985, 0.3430703549331985, 0.3430703549331985, 0.9105589228492229, 0.7586711111102076, 0.5616189481157248, 0.7738876133299786, 0.4070873645180346, 0.4070873645180346, 0.4022648449985763, 0.4022648449985763, 0.4022648449985763, 0.401474145630315, 0.401474145630315, 0.401474145630315, 0.7738761397914076, 0.36820844250331014, 0.18410422125165507, 0.18410422125165507, 0.18410422125165507, 0.30481760620310244, 0.30481760620310244, 0.8761021859199816, 0.7442578266992772, 0.7586705069018399, 0.5216378579029453, 0.5216378579029453, 0.869352153412562, 0.6093011186639028, 0.7586776857932317, 0.8400406697515184, 0.7251922246089042, 0.7442490266490429, 0.42160261886420286, 0.42160261886420286, 0.84488743500976, 0.7586718220249984, 0.9039357071695481, 0.7030469923299684, 0.7442516231328469, 0.7442484160088373, 0.581849599897122, 0.581849599897122, 0.9039342298450066, 0.7442509477655098, 0.8735668647430948, 0.9039325045248195, 0.9105484991735073, 0.8448869934141371, 0.9685909975000497, 0.4647419591774807, 0.4647419591774807, 0.8693491540262442, 0.8898797898203438, 0.9039321527852539, 0.35076340480374196, 0.35076340480374196, 0.7587399432779316, 0.5271415233219486, 0.5271415233219486, 0.6488931987912044, 0.7442464405484494, 0.43375682833405316, 0.21687841416702658, 0.21687841416702658, 0.21687841416702658, 0.7066528722089921, 0.9039377900457618, 0.8693459498697464, 0.5734678814609923, 0.47838598493168094, 0.47838598493168094, 0.4322659606029017, 0.4322659606029017, 0.5112760185692375, 0.5112760185692375, 0.8448848350155546, 0.8693521447222686, 0.7442519306124128, 0.8693511385375465, 0.8735753416170392, 0.8693522137843144, 0.511007431069627, 0.7586745539337916, 0.36233911863181295, 0.36233911863181295, 0.8448835088099256, 0.7586755352159954, 0.9039355592341538, 0.7586715533931844, 0.7586740497562148, 0.5271401170419748, 0.5271401170419748, 0.10496787370148863, 0.5248393685074432, 0.10496787370148863, 0.10496787370148863, 0.10496787370148863, 0.8448880775224403, 0.9105544812340295, 0.9039319997126979, 0.8693507552701714, 0.8693497617662641, 0.7586758131453313, 0.8693580661001744, 0.4376735650252575, 0.4376735650252575, 0.5415605318789691, 0.6613338401991391, 0.7586782870897147, 0.7442555234953758, 0.4829523279724376, 0.22395082981065587, 0.44790165962131173, 0.22395082981065587, 0.22395082981065587, 0.8693557004215952, 0.6093057326169964, 0.7442536215921233, 0.9685963269983364, 0.2812731121045435, 0.562546224209087, 0.4817145022505801, 0.8735531041901842, 0.7586734673068599, 0.9105476864384627, 0.8448865172947991, 0.7442484077328424, 0.9039376445628878, 0.8693523977658799, 0.9452003752428536, 0.7586766314996315, 0.47963826860239284, 0.47963826860239284, 0.74425532659372, 0.9083205459314262, 0.8448774607504289, 0.9105517293338435, 0.5782902232300999, 0.7442484339320693, 0.9685890517273089, 0.7586700668157595, 0.773874757964375, 0.5220723018901223, 0.5220723018901223, 0.9105500887565736, 0.5363497104982081, 0.26817485524910406, 0.26817485524910406, 0.5568389135156324, 0.7442478606373545, 0.34195538561655253, 0.34195538561655253, 0.34195538561655253, 0.75867203553835, 0.7442464637465045, 0.512660768009964, 0.8731082452037661, 0.5420104630422397, 0.5420104630422397, 0.7586738421646914, 0.7586934973514672, 0.7442508962958423, 0.7586752253386838, 0.655361593298993, 0.5676324716494499, 0.7586712437057381, 0.9105525988149971, 0.42165177309211416, 0.7586702162092319, 0.7586718429687029, 0.7442479208673926, 0.8448845969170873, 0.4783830421251556, 0.4783830421251556, 0.7738709403269487, 0.6123048447047968, 0.6123048447047968, 0.39450624715708493, 0.39450624715708493, 0.39450624715708493, 0.7738692210248639, 0.7502449908662518, 0.5568399094919012, 0.7442445196133965, 0.8693456229641334, 0.7586781205366412, 0.6638543064252196, 0.32615214192947545, 0.32615214192947545, 0.21523657966006024, 0.4304731593201205, 0.21523657966006024, 0.744251600533462, 0.7586734235358213, 0.3976274006788178, 0.3976274006788178, 0.8664829120333408, 0.43019057866908117, 0.43019057866908117, 0.9039342721799172, 0.75867479137821, 0.34315527276488494, 0.34315527276488494, 0.4965291070835041, 0.34472100463652167, 0.34472100463652167, 0.34472100463652167, 0.8448851475088424, 0.23471444210158252, 0.23471444210158252, 0.23471444210158252, 0.23471444210158252, 0.23471444210158252, 0.3997556515346002, 0.3997556515346002, 0.8693513405418553, 0.5136924506349567, 0.5136924506349567, 0.9039393606650207, 0.7586751189988304], \"Term\": [\"able\", \"accuracy\", \"add\", \"add\", \"advance\", \"advice\", \"ai\", \"alot\", \"already\", \"also\", \"always\", \"amazing\", \"amazing\", \"amazingi\", \"android\", \"annotation\", \"answered\", \"answering\", \"answers\", \"anyone\", \"automatically\", \"available\", \"based\", \"bcoz\", \"bengaliqa\", \"bert\", \"bert\", \"big\", \"cdqa\", \"channel\", \"classification\", \"code\", \"colab\", \"confused\", \"context\", \"context\", \"context\", \"conversational\", \"course\", \"covering\", \"creat\", \"create\", \"create\", \"created\", \"created\", \"created\", \"custom\", \"custom\", \"custom\", \"customdataset\", \"data\", \"data\", \"data\", \"data\", \"dataset\", \"dataset\", \"dense\", \"deploying\", \"details\", \"detection\", \"detection\", \"difference\", \"directly\", \"diverse\", \"dpr\", \"effort\", \"eg\", \"end\", \"end\", \"engineering\", \"enrolled\", \"essentially\", \"eval_data\", \"evaluate\", \"everything\", \"excel\", \"excel\", \"explanation\", \"extract\", \"fake\", \"false\", \"faq\", \"feature\", \"feeding\", \"file\", \"file\", \"find\", \"finetune\", \"flag\", \"format\", \"format\", \"gem\", \"give\", \"give\", \"good\", \"got\", \"great\", \"great\", \"great\", \"great\", \"gt\", \"guide\", \"guys\", \"help\", \"helped\", \"helped\", \"helpful\", \"helpful\", \"hey\", \"hey\", \"hi\", \"idea\", \"implementation\", \"implementing\", \"impressive\", \"improve\", \"index\", \"ineuron\", \"informative\", \"informative\", \"install\", \"intelligence\", \"is_impossible\", \"joining\", \"kind\", \"know\", \"know\", \"krish\", \"krish\", \"krish\", \"krish\", \"krish\", \"krishcould\", \"krishnaik\", \"labelling\", \"learn\", \"learning\", \"length\", \"life\", \"like\", \"like\", \"line\", \"looking\", \"lookup\", \"lstm\", \"lt\", \"make\", \"make\", \"make\", \"make\", \"many\", \"means\", \"metric\", \"ml\", \"model\", \"model\", \"nameerror\", \"news\", \"nl\", \"nlp\", \"numerical\", \"object\", \"obtained\", \"offence\", \"one\", \"optimal\", \"others\", \"others\", \"output\", \"passage\", \"pdf\", \"pipeline\", \"playlist\", \"point\", \"project\", \"put\", \"pytorch\", \"qa\", \"qa\", \"qna\", \"question\", \"question\", \"question\", \"quot\", \"real\", \"really\", \"really\", \"really\", \"recommendation\", \"reply\", \"required\", \"retriever\", \"saviour\", \"saviour\", \"science\", \"scientisthow\", \"score\", \"search\", \"set\", \"share\", \"shows\", \"similar\", \"simple\", \"spoon\", \"stack\", \"subscription\", \"summarization\", \"take\", \"take\", \"task\", \"tasks\", \"tasks\", \"tell\", \"tell\", \"tell\", \"tensorflow\", \"test\", \"text\", \"thing\", \"things\", \"think\", \"tools\", \"topic\", \"topic\", \"train\", \"train\", \"train\", \"train_model\", \"trained\", \"training\", \"training\", \"transformer\", \"transformers\", \"transformers\", \"true\", \"truely\", \"tutorial\", \"tutorial\", \"tutorials\", \"using\", \"using\", \"using\", \"variables\", \"videos\", \"videos\", \"videos\", \"videos\", \"videos\", \"want\", \"want\", \"whole\", \"work\", \"work\", \"wrong\", \"youtube\"]}, \"R\": 30, \"lambda.step\": 0.01, \"plot.opts\": {\"xlab\": \"PC1\", \"ylab\": \"PC2\"}, \"topic.order\": [8, 2, 4, 9, 3, 1, 10, 7, 6, 5]};\n",
              "\n",
              "function LDAvis_load_lib(url, callback){\n",
              "  var s = document.createElement('script');\n",
              "  s.src = url;\n",
              "  s.async = true;\n",
              "  s.onreadystatechange = s.onload = callback;\n",
              "  s.onerror = function(){console.warn(\"failed to load library \" + url);};\n",
              "  document.getElementsByTagName(\"head\")[0].appendChild(s);\n",
              "}\n",
              "\n",
              "if(typeof(LDAvis) !== \"undefined\"){\n",
              "   // already loaded: just create the visualization\n",
              "   !function(LDAvis){\n",
              "       new LDAvis(\"#\" + \"ldavis_el325851403796923770086840433858\", ldavis_el325851403796923770086840433858_data);\n",
              "   }(LDAvis);\n",
              "}else if(typeof define === \"function\" && define.amd){\n",
              "   // require.js is available: use it to load d3/LDAvis\n",
              "   require.config({paths: {d3: \"https://d3js.org/d3.v5\"}});\n",
              "   require([\"d3\"], function(d3){\n",
              "      window.d3 = d3;\n",
              "      LDAvis_load_lib(\"https://cdn.jsdelivr.net/gh/bmabey/pyLDAvis@3.4.0/pyLDAvis/js/ldavis.v3.0.0.js\", function(){\n",
              "        new LDAvis(\"#\" + \"ldavis_el325851403796923770086840433858\", ldavis_el325851403796923770086840433858_data);\n",
              "      });\n",
              "    });\n",
              "}else{\n",
              "    // require.js not available: dynamically load d3 & LDAvis\n",
              "    LDAvis_load_lib(\"https://d3js.org/d3.v5.js\", function(){\n",
              "         LDAvis_load_lib(\"https://cdn.jsdelivr.net/gh/bmabey/pyLDAvis@3.4.0/pyLDAvis/js/ldavis.v3.0.0.js\", function(){\n",
              "                 new LDAvis(\"#\" + \"ldavis_el325851403796923770086840433858\", ldavis_el325851403796923770086840433858_data);\n",
              "            })\n",
              "         });\n",
              "}\n",
              "</script>"
            ],
            "text/plain": [
              "PreparedData(topic_coordinates=              x         y  topics  cluster       Freq\n",
              "topic                                                \n",
              "7     -0.040771  0.192240       1        1  22.437277\n",
              "1      0.170614 -0.007337       2        1  22.397416\n",
              "3      0.098518 -0.006745       3        1   9.384317\n",
              "8     -0.063083 -0.060665       4        1   8.588850\n",
              "2     -0.047157 -0.038893       5        1   7.973004\n",
              "0     -0.061614 -0.053258       6        1   7.861942\n",
              "9     -0.057604 -0.013288       7        1   7.447183\n",
              "6     -0.005061 -0.008351       8        1   6.946796\n",
              "5     -0.013092 -0.002325       9        1   4.286954\n",
              "4      0.019250 -0.001380      10        1   2.676260, topic_info=            Term      Freq     Total Category  logprob  loglift\n",
              "81         krish  9.000000  9.000000  Default  30.0000  30.0000\n",
              "138         make  4.000000  4.000000  Default  29.0000  29.0000\n",
              "77   transformer  2.000000  2.000000  Default  28.0000  28.0000\n",
              "37      tutorial  2.000000  2.000000  Default  27.0000  27.0000\n",
              "33         great  4.000000  4.000000  Default  26.0000  26.0000\n",
              "..           ...       ...       ...      ...      ...      ...\n",
              "81         krish  0.352884  9.526724  Topic10  -3.4706   0.3250\n",
              "17          data  0.215637  5.431706  Topic10  -3.9631   0.3943\n",
              "96          test  0.130279  3.998694  Topic10  -4.4671   0.1967\n",
              "98         train  0.128699  4.646050  Topic10  -4.4793   0.0345\n",
              "129     question  0.116662  3.728910  Topic10  -4.5775   0.1562\n",
              "\n",
              "[401 rows x 6 columns], token_table=      Topic      Freq      Term\n",
              "term                           \n",
              "99        4  0.869359      able\n",
              "131       4  0.869356  accuracy\n",
              "201       2  0.534613       add\n",
              "201       8  0.534613       add\n",
              "264       2  0.744247   advance\n",
              "...     ...       ...       ...\n",
              "263       4  0.869351     whole\n",
              "200       4  0.513692      work\n",
              "200       5  0.513692      work\n",
              "152       6  0.903939     wrong\n",
              "13        1  0.758675   youtube\n",
              "\n",
              "[255 rows x 3 columns], R=30, lambda_step=0.01, plot_opts={'xlab': 'PC1', 'ylab': 'PC2'}, topic_order=[8, 2, 4, 9, 3, 1, 10, 7, 6, 5])"
            ]
          },
          "execution_count": 32,
          "metadata": {},
          "output_type": "execute_result"
        }
      ],
      "source": [
        "import pyLDAvis.gensim\n",
        "import pickle \n",
        "import pyLDAvis\n",
        "import os\n",
        "# Visualize the topics\n",
        "pyLDAvis.enable_notebook()\n",
        "LDAvis_data_filepath = os.path.join('/content/sample_data/ldavis_prepared_'+str(num_topics))\n",
        "# # this is a bit time consuming - make the if statement True\n",
        "# # if you want to execute visualization prep yourself\n",
        "if 1 == 1:\n",
        "    LDAvis_prepared = pyLDAvis.gensim.prepare(lda_model, corpus, id2word)\n",
        "    with open(LDAvis_data_filepath, 'wb') as f:\n",
        "        pickle.dump(LDAvis_prepared, f)\n",
        "# load the pre-prepared pyLDAvis data from disk\n",
        "with open(LDAvis_data_filepath, 'rb') as f:\n",
        "    LDAvis_prepared = pickle.load(f)\n",
        "pyLDAvis.save_html(LDAvis_prepared, '/content/sample_data/ldavis_prepared_'+ str(num_topics) +'.html')\n",
        "LDAvis_prepared"
      ]
    },
    {
      "cell_type": "code",
      "execution_count": 33,
      "metadata": {
        "colab": {
          "base_uri": "https://localhost:8080/"
        },
        "id": "75-pus7aw4W2",
        "outputId": "66fb126e-6b79-41aa-e73b-892466da6b85"
      },
      "outputs": [
        {
          "name": "stderr",
          "output_type": "stream",
          "text": [
            "/usr/local/lib/python3.10/dist-packages/ipykernel/ipkernel.py:283: DeprecationWarning: `should_run_async` will not call `transform_cell` automatically in the future. Please pass the result to `transformed_cell` argument and any exception that happen during thetransform in `preprocessing_exc_tuple` in IPython 7.17 and above.\n",
            "  and should_run_async(code)\n"
          ]
        }
      ],
      "source": [
        " df.to_csv('youtube_comments.csv',index = False)"
      ]
    },
    {
      "cell_type": "code",
      "execution_count": null,
      "metadata": {
        "id": "iCnsjwYc2i21"
      },
      "outputs": [],
      "source": []
    }
  ],
  "metadata": {
    "colab": {
      "provenance": []
    },
    "kernelspec": {
      "display_name": "Python 3",
      "name": "python3"
    },
    "language_info": {
      "name": "python"
    }
  },
  "nbformat": 4,
  "nbformat_minor": 0
}
