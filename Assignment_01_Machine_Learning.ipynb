{
  "nbformat": 4,
  "nbformat_minor": 0,
  "metadata": {
    "colab": {
      "name": "Assignment_01_Machine_Learning.ipynb",
      "provenance": [],
      "collapsed_sections": []
    },
    "kernelspec": {
      "name": "python3",
      "display_name": "Python 3"
    },
    "language_info": {
      "name": "python"
    }
  },
  "cells": [
    {
      "cell_type": "markdown",
      "source": [
        "**1. What does one mean by the term \"machine learning\" ?**"
      ],
      "metadata": {
        "id": "JAaRpgTKBrtg"
      }
    },
    {
      "cell_type": "markdown",
      "source": [
        "Machine learning is a subset of Artifical Intelligence that gives computer the capability to learn without being explicitly programmed"
      ],
      "metadata": {
        "id": "UhTQI-DWBrqd"
      }
    },
    {
      "cell_type": "markdown",
      "source": [
        "**2.Can you think of 4 distinct types of issues where it shines ?**"
      ],
      "metadata": {
        "id": "zErHs_fgBrn2"
      }
    },
    {
      "cell_type": "markdown",
      "source": [
        "**Predict the customer’s behaviour**:\n",
        "\n",
        "Organisations can use machine learning models to predict the customer’s behaviour based on their past data. Companies look for what people are talking about in social media and then identify those who are searching for the given product or service.\n",
        "\n",
        "**Machine Learning in healthcare**:\n",
        "\n",
        "Machine learning helps in planning and providing care, ultimately leading to better outcomes, lower costs of care, and increased patient satisfaction. Computer-assisted diagnosis (CAD), an application of machine learning can also be used to review the mammography scans of women in predicting cancer\n",
        "\n",
        "**Fraud Detection**:\n",
        "\n",
        "Big companies involved in financial engagements and banks are using machine learning for fraud detection. This helps companies to keep consumers safe. Machine learning can also be valuable to companies that handle credit card transactions.\n",
        "\n",
        "**Product Recommendations**:\n",
        "\n",
        "Machine learning is widely used by various e-commerce and entertainment companies such as Amazon, Netflix, etc., for product recommendation to the user."
      ],
      "metadata": {
        "id": "bQ-QxErvCp8r"
      }
    },
    {
      "cell_type": "markdown",
      "source": [
        "**3.What is a labeled training set, and how does it work ?**"
      ],
      "metadata": {
        "id": "f9gJP4_uCp7r"
      }
    },
    {
      "cell_type": "markdown",
      "source": [
        "You split up the data containing known response variable values into two pieces. The training set is used to train the algorithm, and then you use the trained model on the test set to predict the response variable values that are already known."
      ],
      "metadata": {
        "id": "0C0yWS4nGKfm"
      }
    },
    {
      "cell_type": "markdown",
      "source": [
        "**4.What are the two most important tasks that are supervised ?**"
      ],
      "metadata": {
        "id": "EwCmRzHrGVXG"
      }
    },
    {
      "cell_type": "markdown",
      "source": [
        "The two most common supervised learning tasks are Regression and Classification."
      ],
      "metadata": {
        "id": "I_fM2lhkGU_t"
      }
    },
    {
      "cell_type": "markdown",
      "source": [
        "**5.Can you think of four examples of unsupervised tasks ?**"
      ],
      "metadata": {
        "id": "GyZodYw2GlX-"
      }
    },
    {
      "cell_type": "markdown",
      "source": [
        "Four common Unsupervised Tasks included Clustering, Visualization, Dimensionality Reduction, and Association Rule Learning."
      ],
      "metadata": {
        "id": "mRlSgS8lGlVk"
      }
    },
    {
      "cell_type": "markdown",
      "source": [
        "**6.State the machine learning model that would be best to make a robot walk through various unfamiliar terrains ?**"
      ],
      "metadata": {
        "id": "aH-Ay5w4HQYI"
      }
    },
    {
      "cell_type": "markdown",
      "source": [
        "We can use Reinforced Learning for this scenario, where the robot can learn from response of the terrain to optimize itself."
      ],
      "metadata": {
        "id": "vpZdIkGYHYqJ"
      }
    },
    {
      "cell_type": "markdown",
      "source": [
        "**7.Which algorithm will you use to divide your customers into different groups ?**"
      ],
      "metadata": {
        "id": "qI0MK2YYH1te"
      }
    },
    {
      "cell_type": "markdown",
      "source": [
        "If we have labeled data, then we can use any of the **Supervised algorithms**. if we don't have the labeled data then we can use the **Unsupervised technique** (Clustering Algorithms) like K-means, Hierarichal clustering, DBSCAN etc"
      ],
      "metadata": {
        "id": "RcPt5Jl6H4KY"
      }
    },
    {
      "cell_type": "markdown",
      "source": [
        "**8.Will you consider the problem of spam detection to be a supervised or unsupervised learning problem ?**"
      ],
      "metadata": {
        "id": "fJRn7N80Ipkp"
      }
    },
    {
      "cell_type": "markdown",
      "source": [
        "We will consider spam classification as Supervised algorithm as we know the labels. The labels are \"Spam\", \"Not Spam\""
      ],
      "metadata": {
        "id": "CPKFsrvgIrTS"
      }
    },
    {
      "cell_type": "markdown",
      "source": [
        "**9.What is the concept of an online learning system ?**"
      ],
      "metadata": {
        "id": "hy7KBSVBI8QY"
      }
    },
    {
      "cell_type": "markdown",
      "source": [
        "Online learning system is a learning system in which the machine learns continously, as data is given in small streams continuously."
      ],
      "metadata": {
        "id": "HafrHvPDJBLC"
      }
    },
    {
      "cell_type": "markdown",
      "source": [
        "**10. What is out-of-core learning, and how does it differ from core learning ?**"
      ],
      "metadata": {
        "id": "Oc5bTFm4JFM4"
      }
    },
    {
      "cell_type": "markdown",
      "source": [
        "Out-of-core learning system is a system that can handle data that cannot fit into your computer memory. It uses online learning system to feed data in small bits."
      ],
      "metadata": {
        "id": "iz3TC5vDJKrf"
      }
    },
    {
      "cell_type": "markdown",
      "source": [
        "**11.What kind of learning algorithm makes predictions using a similarity measure ?**"
      ],
      "metadata": {
        "id": "uhOzjVivJOEI"
      }
    },
    {
      "cell_type": "markdown",
      "source": [
        "Learning algorithm that relies on a similarity measure to make predictions is Instance Based Algorithm."
      ],
      "metadata": {
        "id": "0AKmj6T5JROg"
      }
    },
    {
      "cell_type": "markdown",
      "source": [
        "**12.What's the difference between a model parameter and a hyperparameter in a learning algorithm ?**"
      ],
      "metadata": {
        "id": "6P9AGnylJUXe"
      }
    },
    {
      "cell_type": "markdown",
      "source": [
        "Model parameter determines how a model will predict given a new instance. Model usually has more than one parameter (i.e. slope of a linear model). Hyperparameter is a parameter for the learning algorithm, not of a model."
      ],
      "metadata": {
        "id": "m2V2ZzuEJZiv"
      }
    },
    {
      "cell_type": "markdown",
      "source": [
        "**13.What are the criteria that model-based learning algorithms look for? What is the most popular method they use to achieve success? What method do they use to make predictions ?**"
      ],
      "metadata": {
        "id": "aob6VQ0cJtB7"
      }
    },
    {
      "cell_type": "markdown",
      "source": [
        "Model based learning algorithm search for the optimal value of parameters in a model that will give the best results for the new instances. We often use a cost function or similar to determine what the parameter value has to be in order to minimize the function. The model makes prediction by using the value of the new instance and the parameters in its function."
      ],
      "metadata": {
        "id": "MgL8OefxJtAe"
      }
    },
    {
      "cell_type": "markdown",
      "source": [
        "**14.Can you name four of the most important Machine Learning challenges ?**"
      ],
      "metadata": {
        "id": "gWMfU0roJzzE"
      }
    },
    {
      "cell_type": "markdown",
      "source": [
        "our main challenges in Machine Learning include the following:\n",
        "\n",
        "1. Overfitting the Data (using a model too complicated)\n",
        "2. Underfitting the data (using a simple model)\n",
        "3. Lacking in Data\n",
        "4. Non Representative Data."
      ],
      "metadata": {
        "id": "mbfBdcqwJ3t8"
      }
    },
    {
      "cell_type": "markdown",
      "source": [
        "**15.What happens if the model performs well on the training data but fails to generalize the results to new situations? Can you think of three different options ?**"
      ],
      "metadata": {
        "id": "_y9ygy65KISe"
      }
    },
    {
      "cell_type": "markdown",
      "source": [
        "If the model performs poorly to new instances, then it has overfitted on the training data. To solve this, we can do any of the following three:\n",
        "\n",
        "1. Get more data\n",
        "2. Implement a simpler model\n",
        "3. Eliminate outliers or noise from the existing data set."
      ],
      "metadata": {
        "id": "JE_B1RfOKLyN"
      }
    },
    {
      "cell_type": "markdown",
      "source": [
        "**16.What exactly is a test set, and why would you need one ?**"
      ],
      "metadata": {
        "id": "Eyzb0d8nKXis"
      }
    },
    {
      "cell_type": "markdown",
      "source": [
        "Test set is a set to test your model (fit using training data) to see how it performs.Test set is necessary to determine how good (or bad) a model performs."
      ],
      "metadata": {
        "id": "9bboEvh6KcEj"
      }
    },
    {
      "cell_type": "markdown",
      "source": [
        "**17.What is a validation set's purpose ?**"
      ],
      "metadata": {
        "id": "1nXoXaweKgLd"
      }
    },
    {
      "cell_type": "markdown",
      "source": [
        "Validation set is a set used to compare between different training models."
      ],
      "metadata": {
        "id": "jzDZx57hKkUW"
      }
    },
    {
      "cell_type": "markdown",
      "source": [
        "**18.What precisely is the train-dev kit, when will you need it, how do you put it to use ?**"
      ],
      "metadata": {
        "id": "tWKETsIzKkS9"
      }
    },
    {
      "cell_type": "markdown",
      "source": [
        "Cross-validation is a tool to compare models without needing a separate validation set. It is preferred over validation set because we can save from breaking of part of the training set to create a validation set, as having more data is valuable regardless."
      ],
      "metadata": {
        "id": "5dFbokRgKpPs"
      }
    },
    {
      "cell_type": "markdown",
      "source": [
        "**19.What could go wrong if you use the test set to tune hyperparameters ?**"
      ],
      "metadata": {
        "id": "Y4RldVQaKseM"
      }
    },
    {
      "cell_type": "markdown",
      "source": [
        "This will lead to data leakage problems. it may not perform well on the out-of-sample data because the model is tuned just for that specific set."
      ],
      "metadata": {
        "id": "wjWqABlWKzMr"
      }
    },
    {
      "cell_type": "code",
      "execution_count": null,
      "metadata": {
        "id": "dsmuABbNBjNk"
      },
      "outputs": [],
      "source": [
        ""
      ]
    }
  ]
}