{
 "cells": [
  {
   "cell_type": "markdown",
   "id": "aabc8134",
   "metadata": {},
   "source": [
    "**Q1. Is an assignment operator like += only for show? Is it possible that it would lead to faster results\n",
    "at the runtime?**"
   ]
  },
  {
   "cell_type": "markdown",
   "id": "cb5135ed",
   "metadata": {},
   "source": [
    "With += you can make operators perform real in-place operations on objects of your class so that an actual data object in the memory is modified. So its possible that it would lead to faster results at the runtime"
   ]
  },
  {
   "cell_type": "markdown",
   "id": "8dd9040e",
   "metadata": {},
   "source": [
    "**Q2. What is the smallest number of statements you&#39;d have to write in most programming languages to replace the Python expression a, b = a + b, a?**"
   ]
  },
  {
   "cell_type": "code",
   "execution_count": 2,
   "id": "2abbda14",
   "metadata": {},
   "outputs": [],
   "source": [
    "#a = a+b\n",
    "#b = a"
   ]
  },
  {
   "cell_type": "markdown",
   "id": "586088f2",
   "metadata": {},
   "source": [
    "**Q3. In Python, what is the most effective way to set a list of 100 integers to 0?**"
   ]
  },
  {
   "cell_type": "code",
   "execution_count": 5,
   "id": "1f0547b2",
   "metadata": {},
   "outputs": [],
   "source": [
    "lst = [i for i in range(100)]"
   ]
  },
  {
   "cell_type": "code",
   "execution_count": 7,
   "id": "8004c052",
   "metadata": {},
   "outputs": [
    {
     "data": {
      "text/plain": [
       "[0,\n",
       " 1,\n",
       " 2,\n",
       " 3,\n",
       " 4,\n",
       " 5,\n",
       " 6,\n",
       " 7,\n",
       " 8,\n",
       " 9,\n",
       " 10,\n",
       " 11,\n",
       " 12,\n",
       " 13,\n",
       " 14,\n",
       " 15,\n",
       " 16,\n",
       " 17,\n",
       " 18,\n",
       " 19,\n",
       " 20,\n",
       " 21,\n",
       " 22,\n",
       " 23,\n",
       " 24,\n",
       " 25,\n",
       " 26,\n",
       " 27,\n",
       " 28,\n",
       " 29,\n",
       " 30,\n",
       " 31,\n",
       " 32,\n",
       " 33,\n",
       " 34,\n",
       " 35,\n",
       " 36,\n",
       " 37,\n",
       " 38,\n",
       " 39,\n",
       " 40,\n",
       " 41,\n",
       " 42,\n",
       " 43,\n",
       " 44,\n",
       " 45,\n",
       " 46,\n",
       " 47,\n",
       " 48,\n",
       " 49,\n",
       " 50,\n",
       " 51,\n",
       " 52,\n",
       " 53,\n",
       " 54,\n",
       " 55,\n",
       " 56,\n",
       " 57,\n",
       " 58,\n",
       " 59,\n",
       " 60,\n",
       " 61,\n",
       " 62,\n",
       " 63,\n",
       " 64,\n",
       " 65,\n",
       " 66,\n",
       " 67,\n",
       " 68,\n",
       " 69,\n",
       " 70,\n",
       " 71,\n",
       " 72,\n",
       " 73,\n",
       " 74,\n",
       " 75,\n",
       " 76,\n",
       " 77,\n",
       " 78,\n",
       " 79,\n",
       " 80,\n",
       " 81,\n",
       " 82,\n",
       " 83,\n",
       " 84,\n",
       " 85,\n",
       " 86,\n",
       " 87,\n",
       " 88,\n",
       " 89,\n",
       " 90,\n",
       " 91,\n",
       " 92,\n",
       " 93,\n",
       " 94,\n",
       " 95,\n",
       " 96,\n",
       " 97,\n",
       " 98,\n",
       " 99]"
      ]
     },
     "execution_count": 7,
     "metadata": {},
     "output_type": "execute_result"
    }
   ],
   "source": [
    "lst"
   ]
  },
  {
   "cell_type": "code",
   "execution_count": 8,
   "id": "cc1c3800",
   "metadata": {},
   "outputs": [],
   "source": [
    "lst = [0]"
   ]
  },
  {
   "cell_type": "code",
   "execution_count": 9,
   "id": "4e7b51fa",
   "metadata": {},
   "outputs": [
    {
     "data": {
      "text/plain": [
       "[0]"
      ]
     },
     "execution_count": 9,
     "metadata": {},
     "output_type": "execute_result"
    }
   ],
   "source": [
    "lst"
   ]
  },
  {
   "cell_type": "markdown",
   "id": "d1efa8d9",
   "metadata": {},
   "source": [
    "**Q4. What is the most effective way to initialise a list of 99 integers that repeats the sequence 1, 2, 3?**"
   ]
  },
  {
   "cell_type": "code",
   "execution_count": 10,
   "id": "4aaa1050",
   "metadata": {},
   "outputs": [],
   "source": [
    "lst = [i for i in range(1,100)]"
   ]
  },
  {
   "cell_type": "code",
   "execution_count": 11,
   "id": "e85e1a45",
   "metadata": {},
   "outputs": [
    {
     "data": {
      "text/plain": [
       "[1,\n",
       " 2,\n",
       " 3,\n",
       " 4,\n",
       " 5,\n",
       " 6,\n",
       " 7,\n",
       " 8,\n",
       " 9,\n",
       " 10,\n",
       " 11,\n",
       " 12,\n",
       " 13,\n",
       " 14,\n",
       " 15,\n",
       " 16,\n",
       " 17,\n",
       " 18,\n",
       " 19,\n",
       " 20,\n",
       " 21,\n",
       " 22,\n",
       " 23,\n",
       " 24,\n",
       " 25,\n",
       " 26,\n",
       " 27,\n",
       " 28,\n",
       " 29,\n",
       " 30,\n",
       " 31,\n",
       " 32,\n",
       " 33,\n",
       " 34,\n",
       " 35,\n",
       " 36,\n",
       " 37,\n",
       " 38,\n",
       " 39,\n",
       " 40,\n",
       " 41,\n",
       " 42,\n",
       " 43,\n",
       " 44,\n",
       " 45,\n",
       " 46,\n",
       " 47,\n",
       " 48,\n",
       " 49,\n",
       " 50,\n",
       " 51,\n",
       " 52,\n",
       " 53,\n",
       " 54,\n",
       " 55,\n",
       " 56,\n",
       " 57,\n",
       " 58,\n",
       " 59,\n",
       " 60,\n",
       " 61,\n",
       " 62,\n",
       " 63,\n",
       " 64,\n",
       " 65,\n",
       " 66,\n",
       " 67,\n",
       " 68,\n",
       " 69,\n",
       " 70,\n",
       " 71,\n",
       " 72,\n",
       " 73,\n",
       " 74,\n",
       " 75,\n",
       " 76,\n",
       " 77,\n",
       " 78,\n",
       " 79,\n",
       " 80,\n",
       " 81,\n",
       " 82,\n",
       " 83,\n",
       " 84,\n",
       " 85,\n",
       " 86,\n",
       " 87,\n",
       " 88,\n",
       " 89,\n",
       " 90,\n",
       " 91,\n",
       " 92,\n",
       " 93,\n",
       " 94,\n",
       " 95,\n",
       " 96,\n",
       " 97,\n",
       " 98,\n",
       " 99]"
      ]
     },
     "execution_count": 11,
     "metadata": {},
     "output_type": "execute_result"
    }
   ],
   "source": [
    "lst"
   ]
  },
  {
   "cell_type": "markdown",
   "id": "06bb9a57",
   "metadata": {},
   "source": [
    "**Q5. If you&#39;re using IDLE to run a Python application, explain how to print a multidimensional list as efficiently?**"
   ]
  },
  {
   "cell_type": "code",
   "execution_count": 12,
   "id": "8848e31c",
   "metadata": {},
   "outputs": [
    {
     "name": "stdout",
     "output_type": "stream",
     "text": [
      "2 4 6 8 10 \n",
      "3 6 9 12 15 \n",
      "4 8 12 16 20 \n"
     ]
    }
   ],
   "source": [
    "a = [[2, 4, 6, 8, 10], [3, 6, 9, 12, 15], [4, 8, 12, 16, 20]]\n",
    "\n",
    "for i in range(len(a)):\n",
    "    for j in range(len(a[i])):\n",
    "        print(a[i][j], end=\" \")\n",
    "    print()\n"
   ]
  },
  {
   "cell_type": "markdown",
   "id": "f3e72561",
   "metadata": {},
   "source": [
    "**Q6. Is it possible to use list comprehension with a string? If so, how can you go about doing it?**"
   ]
  },
  {
   "cell_type": "code",
   "execution_count": 13,
   "id": "85adbe16",
   "metadata": {},
   "outputs": [
    {
     "name": "stdout",
     "output_type": "stream",
     "text": [
      "['I', 's', ' ', 'i', 't', ' ', 'p', 'o', 's', 's', 'i', 'b', 'l', 'e', ' ', 't', 'o', ' ', 'u', 's', 'e', ' ', 'l', 'i', 's', 't', ' ', 'c', 'o', 'm', 'p', 'r', 'e', 'h', 'e', 'n', 's', 'i', 'o', 'n', ' ', 'w', 'i', 't', 'h', ' ', 'a', ' ', 's', 't', 'r', 'i', 'n', 'g']\n"
     ]
    }
   ],
   "source": [
    "string1 = \"Is it possible to use list comprehension with a string\"\n",
    "\n",
    "string =[s for s in string1]\n",
    "\n",
    "print(string)"
   ]
  },
  {
   "cell_type": "markdown",
   "id": "1a39e817",
   "metadata": {},
   "source": [
    "**Q7. From the command line, how do you get support with a user-written Python programme? Is this\n",
    "possible from inside IDLE?**"
   ]
  },
  {
   "cell_type": "code",
   "execution_count": 14,
   "id": "2c117357",
   "metadata": {},
   "outputs": [
    {
     "name": "stdout",
     "output_type": "stream",
     "text": [
      "\n",
      "Welcome to Python 3.9's help utility!\n",
      "\n",
      "If this is your first time using Python, you should definitely check out\n",
      "the tutorial on the Internet at https://docs.python.org/3.9/tutorial/.\n",
      "\n",
      "Enter the name of any module, keyword, or topic to get help on writing\n",
      "Python programs and using Python modules.  To quit this help utility and\n",
      "return to the interpreter, just type \"quit\".\n",
      "\n",
      "To get a list of available modules, keywords, symbols, or topics, type\n",
      "\"modules\", \"keywords\", \"symbols\", or \"topics\".  Each module also comes\n",
      "with a one-line summary of what it does; to list the modules whose name\n",
      "or summary contain a given string such as \"spam\", type \"modules spam\".\n",
      "\n",
      "help> modules\n",
      "\n",
      "Please wait a moment while I gather a list of all available modules...\n",
      "\n"
     ]
    },
    {
     "name": "stderr",
     "output_type": "stream",
     "text": [
      "WARNING: AstropyDeprecationWarning: The private astropy._erfa module has been made into its own package, pyerfa, which is a dependency of astropy and can be imported directly using \"import erfa\" [astropy._erfa]\n",
      "C:\\Users\\vr19\\Anaconda3\\lib\\site-packages\\nltk\\twitter\\__init__.py:20: UserWarning: The twython library has not been installed. Some functionality from the twitter package will not be available.\n",
      "  warnings.warn(\n",
      "C:\\Users\\vr19\\Anaconda3\\lib\\site-packages\\_distutils_hack\\__init__.py:30: UserWarning: Setuptools is replacing distutils.\n",
      "  warnings.warn(\"Setuptools is replacing distutils.\")\n"
     ]
    },
    {
     "name": "stdout",
     "output_type": "stream",
     "text": [
      "Update LANGUAGE_CODES (inside config/base.py) if a new translation has been added to Spyder\n"
     ]
    },
    {
     "name": "stderr",
     "output_type": "stream",
     "text": [
      "2023-03-11 19:22:55.916 INFO    qdarkstyle: QSS file sucessfuly loaded.\n",
      "2023-03-11 19:22:55.918 INFO    qdarkstyle: Found application patches to be applied.\n",
      "2023-03-11 19:22:55.919 WARNING qdarkstyle: No QCoreApplication instance found. Application patches not applied. You have to call load_stylesheet function after instantiation of QApplication to take effect. \n",
      "C:\\Users\\vr19\\Anaconda3\\lib\\pkgutil.py:108: VisibleDeprecationWarning:\n",
      "\n",
      "zmq.eventloop.minitornado is deprecated in pyzmq 14.0 and will be removed.\n",
      "    Install tornado itself to use zmq with the tornado IOLoop.\n",
      "    \n",
      "\n"
     ]
    },
    {
     "name": "stdout",
     "output_type": "stream",
     "text": [
      "Cython              comtypes            mock                sniffio\n",
      "IPython             concurrent          modulefinder        snowballstemmer\n",
      "OpenSSL             conda               mpmath              socket\n",
      "PIL                 conda_build         msgpack             socketserver\n",
      "PyQt5               conda_content_trust msilib              socks\n",
      "TBB                 conda_env           msvcrt              sockshandler\n",
      "__future__          conda_pack          multidict           sortedcollections\n",
      "_abc                conda_package_handling multipledispatch    sortedcontainers\n",
      "_aix_support        conda_token         multiprocessing     soupsieve\n",
      "_argon2_cffi_bindings conda_verify        munkres             sparse_dot_topn\n",
      "_ast                configparser        mypy_extensions     sphinx\n",
      "_asyncio            constantly          nacl                spyder\n",
      "_bisect             contextlib          navigator_updater   spyder_kernels\n",
      "_black_version      contextvars         nbclassic           sqlalchemy\n",
      "_blake2             cookiecutter        nbclient            sqlite3\n",
      "_bootlocale         copy                nbconvert           sre_compile\n",
      "_bootsubprocess     copyreg             nbformat            sre_constants\n",
      "_bz2                crypt               nest_asyncio        sre_parse\n",
      "_cffi_backend       cryptography        netbios             ssl\n",
      "_codecs             cssselect           netrc               sspi\n",
      "_codecs_cn          csv                 networkx            sspicon\n",
      "_codecs_hk          ctypes              nltk                stack_data\n",
      "_codecs_iso2022     curl                nntplib             stat\n",
      "_codecs_jp          curses              nose                statistics\n",
      "_codecs_kr          cwp                 notebook            statsmodels\n",
      "_codecs_tw          cycler              nt                  streamlit\n",
      "_collections        cython              ntpath              streamlit_authenticator\n",
      "_collections_abc    cytoolz             ntsecuritycon       string\n",
      "_compat_pickle      daal4py             nturl2path          stringprep\n",
      "_compression        dask                numba               struct\n",
      "_contextvars        dataclasses         numbergen           subprocess\n",
      "_csv                datashader          numbers             sunau\n",
      "_ctypes             datashape           numexpr             symbol\n",
      "_ctypes_test        datetime            numpy               sympy\n",
      "_datetime           dateutil            numpydoc            symtable\n",
      "_decimal            dbi                 odbc                sys\n",
      "_distutils_hack     dbm                 olefile             sysconfig\n",
      "_elementtree        dde                 onedal              tables\n",
      "_functools          debugpy             opcode              tabnanny\n",
      "_hashlib            decimal             openpyxl            tabulate\n",
      "_heapq              decorator           operator            tarfile\n",
      "_imp                defusedxml          optparse            tbb\n",
      "_io                 diff_match_patch    os                  tblib\n",
      "_json               difflib             packaging           telnetlib\n",
      "_locale             dis                 pandas              tempfile\n",
      "_lsprof             distributed         pandocfilters       tenacity\n",
      "_lzma               distutils           panel               terminado\n",
      "_markupbase         doctest             param               test\n",
      "_md5                docutils            paramiko            test_app\n",
      "_msi                email               parsel              test_pycosat\n",
      "_multibytecodec     encodings           parser              testpath\n",
      "_multiprocessing    ensurepip           parso               text_unidecode\n",
      "_nsis               entrypoints         partd               textdistance\n",
      "_opcode             enum                past                textwrap\n",
      "_operator           erfa                pathlib             this\n",
      "_osx_support        errno               pathspec            threading\n",
      "_overlapped         et_xmlfile          patsy               threadpoolctl\n",
      "_peg_parser         executing           pdb                 three_merge\n",
      "_pickle             extra_streamlit_components pep8                tifffile\n",
      "_plotly_future_     fastjsonschema      perfmon             time\n",
      "_plotly_utils       faulthandler        pexpect             timeit\n",
      "_py_abc             filecmp             pickle              timer\n",
      "_pydecimal          fileinput           pickleshare         tinycss\n",
      "_pyio               filelock            pickletools         tkinter\n",
      "_pyrsistent_version find_replace        pip                 tldextract\n",
      "_pytest             flake8              pipes               tlz\n",
      "_queue              flask               pkg_resources       token\n",
      "_random             fnmatch             pkginfo             tokenize\n",
      "_sha1               fontTools           pkgutil             toml\n",
      "_sha256             formatter           platform            tomli\n",
      "_sha3               fractions           plistlib            toolz\n",
      "_sha512             frozenlist          plotly              tornado\n",
      "_signal             fsspec              pluggy              tqdm\n",
      "_sitebuiltins       ftplib              poplib              trace\n",
      "_socket             functools           posixpath           traceback\n",
      "_sqlite3            future              poyo                tracemalloc\n",
      "_sre                fuzzywuzzy          pprint              traitlets\n",
      "_ssl                gc                  profile             tty\n",
      "_stat               genericpath         prometheus_client   turtle\n",
      "_statistics         gensim              prompt_toolkit      turtledemo\n",
      "_string             getopt              protego             twisted\n",
      "_strptime           getpass             pstats              typed_ast\n",
      "_struct             gettext             psutil              types\n",
      "_symtable           git                 pty                 typing\n",
      "_system_path        gitdb               ptyprocess          typing_extensions\n",
      "_testbuffer         glob                pure_eval           tzdata\n",
      "_testcapi           glob2               pvectorc            tzlocal\n",
      "_testconsole        google_crc32c       py                  ujson\n",
      "_testimportmultiple graphlib            py_compile          unicodedata\n",
      "_testinternalcapi   greenlet            pyarrow             unidecode\n",
      "_testmultiphase     grpc                pyasn1              unittest\n",
      "_thread             gzip                pyasn1_modules      urllib\n",
      "_threading_local    h5py                pyclbr              urllib3\n",
      "_tkinter            hamcrest            pycodestyle         uu\n",
      "_tracemalloc        hashlib             pycosat             uuid\n",
      "_uuid               heapdict            pycparser           validators\n",
      "_warnings           heapq               pyct                venv\n",
      "_weakref            hmac                pycurl              w3lib\n",
      "_weakrefset         holoviews           pydeck              warnings\n",
      "_win32sysloader     html                pydispatch          watchdog\n",
      "_winapi             http                pydoc               wave\n",
      "_winxptheme         hvplot              pydoc_data          wcwidth\n",
      "_xxsubinterpreters  hyperlink           pydocstyle          weakref\n",
      "_yaml               idlelib             pyexpat             webbrowser\n",
      "_zoneinfo           idna                pyflakes            webencodings\n",
      "abc                 imagecodecs         pygments            websocket\n",
      "adodbapi            imageio             pylab               werkzeug\n",
      "afxres              imagesize           pylint              wheel\n",
      "aifc                imaplib             pyls_spyder         widgetsnbextension\n",
      "aiohttp             imghdr              pylsp               win2kras\n",
      "aiosignal           imp                 pylsp_black         win32api\n",
      "alabaster           importlib           pylsp_jsonrpc       win32clipboard\n",
      "altair              importlib_metadata  pympler             win32com\n",
      "anaconda_navigator  incremental         pyodbc              win32con\n",
      "anaconda_project    inflection          pyparsing           win32console\n",
      "antigravity         iniconfig           pyreadline          win32cred\n",
      "anyio               inspect             pyrsistent          win32crypt\n",
      "appdirs             intake              pytest              win32cryptcon\n",
      "argon2              intervaltree        pythoncom           win32ctypes\n",
      "argparse            io                  pytz                win32event\n",
      "array               ipaddress           pytz_deprecation_shim win32evtlog\n",
      "arrow               ipykernel           pyviz_comms         win32evtlogutil\n",
      "ast                 ipykernel_launcher  pywin               win32file\n",
      "astroid             ipython_genutils    pywin32_bootstrap   win32gui\n",
      "astropy             ipywidgets          pywin32_testutil    win32gui_struct\n",
      "asttokens           isapi               pywintypes          win32help\n",
      "async_timeout       isort               pywt                win32inet\n",
      "asynchat            isympy              pyximport           win32inetcon\n",
      "asyncio             itdt_validator      qdarkstyle          win32job\n",
      "asyncore            itemadapter         qstylizer           win32lz\n",
      "atexit              itemloaders         qtawesome           win32net\n",
      "atomicwrites        itertools           qtconsole           win32netcon\n",
      "attr                itsdangerous        qtpy                win32pdh\n",
      "attrs               jarowinkler         queue               win32pdhquery\n",
      "audioop             jdcal               queuelib            win32pdhutil\n",
      "automat             jedi                quopri              win32pipe\n",
      "autopep8            jinja2              random              win32print\n",
      "babel               jinja2_time         rapidfuzz           win32process\n",
      "backcall            jmespath            rasutil             win32profile\n",
      "backports           joblib              re                  win32ras\n",
      "base64              json                readline            win32rcparser\n",
      "bcrypt              json5               regcheck            win32security\n",
      "bdb                 jsonschema          regex               win32service\n",
      "binaryornot         jupyter             regutil             win32serviceutil\n",
      "binascii            jupyter_client      repo_cli            win32timezone\n",
      "binhex              jupyter_console     reprlib             win32trace\n",
      "binstar_client      jupyter_core        requests            win32traceutil\n",
      "bisect              jupyter_server      requests_file       win32transaction\n",
      "bitarray            jupyterlab          rich                win32ts\n",
      "bkcharts            jupyterlab_plotly   rlcompleter         win32ui\n",
      "black               jupyterlab_pygments rope                win32uiole\n",
      "blackd              jupyterlab_server   rsa                 win32verstamp\n",
      "bleach              jupyterlab_widgets  rtree               win32wnet\n",
      "blib2to3            jwt                 ruamel_yaml         win_inet_pton\n",
      "blinker             keyring             run                 win_unicode_console\n",
      "bokeh               keyword             runpy               wincertstore\n",
      "boto3               kiwisolver          s3transfer          winerror\n",
      "botocore            lazy_object_proxy   sched               winioctlcon\n",
      "bottleneck          lib2to3             scipy               winnt\n",
      "brotli              libarchive          scrapy              winperf\n",
      "bs4                 libfuturize         seaborn             winpty\n",
      "builtins            libpasteurize       secrets             winreg\n",
      "bz2                 lief                select              winsound\n",
      "cProfile            linecache           selectors           winxpgui\n",
      "cachetools          llvmlite            semver              winxptheme\n",
      "calendar            locale              send2trash          wrapt\n",
      "certifi             locket              service_identity    wsgiref\n",
      "cffi                logging             servicemanager      xarray\n",
      "cgi                 lxml                setuptools          xdrlib\n",
      "cgitb               lzma                shelve              xlrd\n",
      "chardet             mailbox             shlex               xlsxwriter\n",
      "charset_normalizer  mailcap             shutil              xlwings\n",
      "chunk               markdown            signal              xml\n",
      "click               markupsafe          sip                 xmlrpc\n",
      "cloudpickle         marshal             sipconfig           xxsubtype\n",
      "clyent              math                sipdistutils        yaml\n",
      "cmath               matplotlib          site                yapf\n",
      "cmd                 matplotlib_inline   six                 yapftests\n",
      "code                mccabe              skimage             yarl\n",
      "codecs              menuinst            sklearn             zict\n",
      "codeop              mimetypes           sklearnex           zipapp\n",
      "collections         mistune             slugify             zipfile\n",
      "colorama            mkl                 smart_open          zipimport\n",
      "colorcet            mkl_fft             smmap               zipp\n",
      "colorsys            mkl_random          smtpd               zlib\n",
      "commctrl            mmap                smtplib             zmq\n",
      "commonmark          mmapfile            snappy              zoneinfo\n",
      "compileall          mmsystem            sndhdr              zope\n",
      "\n",
      "Enter any module name to get more help.  Or, type \"modules spam\" to search\n",
      "for modules whose name or summary contain the string \"spam\".\n",
      "\n",
      "help> snappy\n",
      "Help on package snappy:\n",
      "\n",
      "NAME\n",
      "    snappy\n",
      "\n",
      "PACKAGE CONTENTS\n",
      "    __main__\n",
      "    _snappy\n",
      "    hadoop_snappy\n",
      "    snappy\n",
      "    snappy_cffi\n",
      "    snappy_cffi_builder\n",
      "    snappy_formats\n",
      "\n",
      "CLASSES\n",
      "    builtins.Exception(builtins.BaseException)\n",
      "        UncompressError\n",
      "    \n",
      "    class UncompressError(builtins.Exception)\n",
      "     |  Method resolution order:\n",
      "     |      UncompressError\n",
      "     |      builtins.Exception\n",
      "     |      builtins.BaseException\n",
      "     |      builtins.object\n",
      "     |  \n",
      "     |  Data descriptors defined here:\n",
      "     |  \n",
      "     |  __weakref__\n",
      "     |      list of weak references to the object (if defined)\n",
      "     |  \n",
      "     |  ----------------------------------------------------------------------\n",
      "     |  Methods inherited from builtins.Exception:\n",
      "     |  \n",
      "     |  __init__(self, /, *args, **kwargs)\n",
      "     |      Initialize self.  See help(type(self)) for accurate signature.\n",
      "     |  \n",
      "     |  ----------------------------------------------------------------------\n",
      "     |  Static methods inherited from builtins.Exception:\n",
      "     |  \n",
      "     |  __new__(*args, **kwargs) from builtins.type\n",
      "     |      Create and return a new object.  See help(type) for accurate signature.\n",
      "     |  \n",
      "     |  ----------------------------------------------------------------------\n",
      "     |  Methods inherited from builtins.BaseException:\n",
      "     |  \n",
      "     |  __delattr__(self, name, /)\n",
      "     |      Implement delattr(self, name).\n",
      "     |  \n",
      "     |  __getattribute__(self, name, /)\n",
      "     |      Return getattr(self, name).\n",
      "     |  \n",
      "     |  __reduce__(...)\n",
      "     |      Helper for pickle.\n",
      "     |  \n",
      "     |  __repr__(self, /)\n",
      "     |      Return repr(self).\n",
      "     |  \n",
      "     |  __setattr__(self, name, value, /)\n",
      "     |      Implement setattr(self, name, value).\n",
      "     |  \n",
      "     |  __setstate__(...)\n",
      "     |  \n",
      "     |  __str__(self, /)\n",
      "     |      Return str(self).\n",
      "     |  \n",
      "     |  with_traceback(...)\n",
      "     |      Exception.with_traceback(tb) --\n",
      "     |      set self.__traceback__ to tb and return self.\n",
      "     |  \n",
      "     |  ----------------------------------------------------------------------\n",
      "     |  Data descriptors inherited from builtins.BaseException:\n",
      "     |  \n",
      "     |  __cause__\n",
      "     |      exception cause\n",
      "     |  \n",
      "     |  __context__\n",
      "     |      exception context\n",
      "     |  \n",
      "     |  __dict__\n",
      "     |  \n",
      "     |  __suppress_context__\n",
      "     |  \n",
      "     |  __traceback__\n",
      "     |  \n",
      "     |  args\n",
      "\n",
      "FUNCTIONS\n",
      "    isValidCompressed(...)\n",
      "        Returns True if the compressed buffer is valid, False otherwise\n",
      "\n",
      "DATA\n",
      "    absolute_import = _Feature((2, 5, 0, 'alpha', 1), (3, 0, 0, 'alpha', 0...\n",
      "\n",
      "FILE\n",
      "    c:\\users\\vr19\\anaconda3\\lib\\site-packages\\snappy\\__init__.py\n",
      "\n",
      "\n",
      "\n",
      "You are now leaving help and returning to the Python interpreter.\n",
      "If you want to ask for help on a particular object directly from the\n",
      "interpreter, you can type \"help(object)\".  Executing \"help('string')\"\n",
      "has the same effect as typing a particular string at the help> prompt.\n"
     ]
    }
   ],
   "source": [
    "help()"
   ]
  },
  {
   "cell_type": "markdown",
   "id": "ba3c5eee",
   "metadata": {},
   "source": [
    "**Q8. Functions are said to be “first-class objects” in Python but not in most other languages, such as\n",
    "C++ or Java. What can you do in Python with a function (callable object) that you can&#39;t do in C or C++?**"
   ]
  },
  {
   "cell_type": "markdown",
   "id": "93c08692",
   "metadata": {},
   "source": [
    "Python functions do not have restrictions on the type of the argument and type of its return.\n",
    "\n",
    "A function is callable object in Python, i.e. can be called using the call operator or constructor."
   ]
  },
  {
   "cell_type": "markdown",
   "id": "9c3f4720",
   "metadata": {},
   "source": [
    "**Q9. How do you distinguish between a wrapper, a wrapped feature, and a decorator?**"
   ]
  },
  {
   "cell_type": "markdown",
   "id": "e2707ca6",
   "metadata": {},
   "source": [
    "Wrapper: Wrapper is inner function, which actually wraps another function in order to extend the behaviour of the wrapped function, without permanently modifying it.\n",
    "\n",
    "Decorators: A decorator is a function that takes another function as an argument and then called inside the wrapper function.\n"
   ]
  },
  {
   "cell_type": "markdown",
   "id": "4dfc458c",
   "metadata": {},
   "source": [
    "**Q10. If a function is a generator function, what does it return?**"
   ]
  },
  {
   "cell_type": "markdown",
   "id": "5f3fb04c",
   "metadata": {},
   "source": [
    "A generator function is a function with one or more yield statements in it. Unlike regular functions, generator functions return generator objects. Meaning, when you call a generator function, it doesn't run the function. Instead, it gives you back a generator object."
   ]
  },
  {
   "cell_type": "markdown",
   "id": "34fd75a3",
   "metadata": {},
   "source": [
    "**Q11. What is the one improvement that must be made to a function in order for it to become a\n",
    "generator function in the Python language?**"
   ]
  },
  {
   "cell_type": "markdown",
   "id": "50588c50",
   "metadata": {},
   "source": [
    "A generator function doesn’t have a return statement and uses the yield statement."
   ]
  },
  {
   "cell_type": "markdown",
   "id": "3f12b688",
   "metadata": {},
   "source": [
    "**Q12. Identify at least one benefit of generators.**"
   ]
  },
  {
   "cell_type": "markdown",
   "id": "84fce53e",
   "metadata": {},
   "source": [
    "Memory efficient:\n",
    "\n",
    "\tThe normal function return sequence of list which creates an entire sequence in memory before returning the result, but generator function calculates the value and pause their execution. It resumes for successive call.\n"
   ]
  },
  {
   "cell_type": "code",
   "execution_count": null,
   "id": "3cbbbc97",
   "metadata": {},
   "outputs": [],
   "source": []
  }
 ],
 "metadata": {
  "kernelspec": {
   "display_name": "Python 3 (ipykernel)",
   "language": "python",
   "name": "python3"
  },
  "language_info": {
   "codemirror_mode": {
    "name": "ipython",
    "version": 3
   },
   "file_extension": ".py",
   "mimetype": "text/x-python",
   "name": "python",
   "nbconvert_exporter": "python",
   "pygments_lexer": "ipython3",
   "version": "3.9.12"
  }
 },
 "nbformat": 4,
 "nbformat_minor": 5
}
