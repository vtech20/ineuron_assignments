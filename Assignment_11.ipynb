{
  "nbformat": 4,
  "nbformat_minor": 0,
  "metadata": {
    "colab": {
      "name": "Assignment_11.ipynb",
      "provenance": [],
      "collapsed_sections": []
    },
    "kernelspec": {
      "name": "python3",
      "display_name": "Python 3"
    },
    "language_info": {
      "name": "python"
    }
  },
  "cells": [
    {
      "cell_type": "markdown",
      "source": [
        "**1. Create an assert statement that throws an AssertionError if the variable spam is a negative integer.**"
      ],
      "metadata": {
        "id": "znrBANBy2E6t"
      }
    },
    {
      "cell_type": "code",
      "execution_count": 10,
      "metadata": {
        "id": "pVCg8Hx22DCC"
      },
      "outputs": [],
      "source": [
        "spam = 1\n",
        "assert spam >= 0\n"
      ]
    },
    {
      "cell_type": "code",
      "source": [
        "spam = -1\n",
        "assert spam >= 0, 'Spam value is negative'"
      ],
      "metadata": {
        "colab": {
          "base_uri": "https://localhost:8080/",
          "height": 183
        },
        "id": "q2xFdL7j2v8o",
        "outputId": "6dbb930c-67cb-4dc0-c8f3-7de8e27e3e0a"
      },
      "execution_count": 12,
      "outputs": [
        {
          "output_type": "error",
          "ename": "AssertionError",
          "evalue": "ignored",
          "traceback": [
            "\u001b[0;31m---------------------------------------------------------------------------\u001b[0m",
            "\u001b[0;31mAssertionError\u001b[0m                            Traceback (most recent call last)",
            "\u001b[0;32m<ipython-input-12-a5136caeebd0>\u001b[0m in \u001b[0;36m<module>\u001b[0;34m()\u001b[0m\n\u001b[1;32m      1\u001b[0m \u001b[0mspam\u001b[0m \u001b[0;34m=\u001b[0m \u001b[0;34m-\u001b[0m\u001b[0;36m1\u001b[0m\u001b[0;34m\u001b[0m\u001b[0;34m\u001b[0m\u001b[0m\n\u001b[0;32m----> 2\u001b[0;31m \u001b[0;32massert\u001b[0m \u001b[0mspam\u001b[0m \u001b[0;34m>=\u001b[0m \u001b[0;36m0\u001b[0m\u001b[0;34m,\u001b[0m \u001b[0;34m'Spam value is negative'\u001b[0m\u001b[0;34m\u001b[0m\u001b[0;34m\u001b[0m\u001b[0m\n\u001b[0m",
            "\u001b[0;31mAssertionError\u001b[0m: Spam value is negative"
          ]
        }
      ]
    },
    {
      "cell_type": "markdown",
      "source": [
        "**2. Write an assert statement that triggers an AssertionError if the variables eggs and bacon contain\n",
        "strings that are the same as each other, even if their cases are different (that is, &#39;hello&#39; and &#39;hello&#39; are\n",
        "considered the same, and &#39;goodbye&#39; and &#39;GOODbye&#39; are also considered the same).**"
      ],
      "metadata": {
        "id": "PS_qHBBi6jom"
      }
    },
    {
      "cell_type": "code",
      "source": [
        "eggs = input('Enter a word ')\n",
        "bacon = input('Enter another word ')\n",
        "\n",
        "assert eggs.lower() != bacon.lower(), 'eggs/bacon should not be the same!'"
      ],
      "metadata": {
        "colab": {
          "base_uri": "https://localhost:8080/"
        },
        "id": "QzzGmIxB3iV2",
        "outputId": "61a8f703-acc8-4fca-9e64-098cda16f10d"
      },
      "execution_count": 13,
      "outputs": [
        {
          "name": "stdout",
          "output_type": "stream",
          "text": [
            "Enter a word Good\n",
            "Enter another word Bad\n"
          ]
        }
      ]
    },
    {
      "cell_type": "code",
      "source": [
        "eggs = input('Enter a word ')\n",
        "bacon = input('Enter another word ')\n",
        "\n",
        "assert eggs.lower() != bacon.lower(), 'eggs/bacon should not be the same!'"
      ],
      "metadata": {
        "colab": {
          "base_uri": "https://localhost:8080/",
          "height": 235
        },
        "id": "nfDT6EucCDOD",
        "outputId": "e49cad63-6c24-476e-a7bc-86ffadaef79b"
      },
      "execution_count": 14,
      "outputs": [
        {
          "name": "stdout",
          "output_type": "stream",
          "text": [
            "Enter a word Good\n",
            "Enter another word good\n"
          ]
        },
        {
          "output_type": "error",
          "ename": "AssertionError",
          "evalue": "ignored",
          "traceback": [
            "\u001b[0;31m---------------------------------------------------------------------------\u001b[0m",
            "\u001b[0;31mAssertionError\u001b[0m                            Traceback (most recent call last)",
            "\u001b[0;32m<ipython-input-14-509e158636e6>\u001b[0m in \u001b[0;36m<module>\u001b[0;34m()\u001b[0m\n\u001b[1;32m      2\u001b[0m \u001b[0mbacon\u001b[0m \u001b[0;34m=\u001b[0m \u001b[0minput\u001b[0m\u001b[0;34m(\u001b[0m\u001b[0;34m'Enter another word '\u001b[0m\u001b[0;34m)\u001b[0m\u001b[0;34m\u001b[0m\u001b[0;34m\u001b[0m\u001b[0m\n\u001b[1;32m      3\u001b[0m \u001b[0;34m\u001b[0m\u001b[0m\n\u001b[0;32m----> 4\u001b[0;31m \u001b[0;32massert\u001b[0m \u001b[0meggs\u001b[0m\u001b[0;34m.\u001b[0m\u001b[0mlower\u001b[0m\u001b[0;34m(\u001b[0m\u001b[0;34m)\u001b[0m \u001b[0;34m!=\u001b[0m \u001b[0mbacon\u001b[0m\u001b[0;34m.\u001b[0m\u001b[0mlower\u001b[0m\u001b[0;34m(\u001b[0m\u001b[0;34m)\u001b[0m\u001b[0;34m,\u001b[0m \u001b[0;34m'eggs/bacon should not be the same!'\u001b[0m\u001b[0;34m\u001b[0m\u001b[0;34m\u001b[0m\u001b[0m\n\u001b[0m",
            "\u001b[0;31mAssertionError\u001b[0m: eggs/bacon should not be the same!"
          ]
        }
      ]
    },
    {
      "cell_type": "markdown",
      "source": [
        "**3. Create an assert statement that throws an AssertionError every time.**"
      ],
      "metadata": {
        "id": "z1wFOIEQCOdb"
      }
    },
    {
      "cell_type": "code",
      "source": [
        "assert False, 'Always triggers an AssertionError.'"
      ],
      "metadata": {
        "colab": {
          "base_uri": "https://localhost:8080/",
          "height": 166
        },
        "id": "176gCfGQCHY7",
        "outputId": "b917101e-8c93-4c45-fad6-d5a5f4f09062"
      },
      "execution_count": 20,
      "outputs": [
        {
          "output_type": "error",
          "ename": "AssertionError",
          "evalue": "ignored",
          "traceback": [
            "\u001b[0;31m---------------------------------------------------------------------------\u001b[0m",
            "\u001b[0;31mAssertionError\u001b[0m                            Traceback (most recent call last)",
            "\u001b[0;32m<ipython-input-20-0c4aeaac2aef>\u001b[0m in \u001b[0;36m<module>\u001b[0;34m()\u001b[0m\n\u001b[0;32m----> 1\u001b[0;31m \u001b[0;32massert\u001b[0m \u001b[0;32mFalse\u001b[0m\u001b[0;34m,\u001b[0m \u001b[0;34m'Always triggers an AssertionError.'\u001b[0m\u001b[0;34m\u001b[0m\u001b[0;34m\u001b[0m\u001b[0m\n\u001b[0m",
            "\u001b[0;31mAssertionError\u001b[0m: Always triggers an AssertionError."
          ]
        }
      ]
    },
    {
      "cell_type": "markdown",
      "source": [
        "**4. What are the two lines that must be present in your software in order to call logging.debug()?**"
      ],
      "metadata": {
        "id": "TKMyfiTiIupA"
      }
    },
    {
      "cell_type": "code",
      "source": [
        "import logging\n",
        "logging.basicConfig(\n",
        "    filename='programLog.txt',\n",
        "    level=logging.DEBUG,\n",
        "    format='%(asctime)s - %(levelname)s - %(message)s'\n",
        ")\n",
        "\n"
      ],
      "metadata": {
        "id": "cv_TW4w5JU49"
      },
      "execution_count": 22,
      "outputs": []
    },
    {
      "cell_type": "code",
      "source": [
        "logging.debug('This is a test message.')"
      ],
      "metadata": {
        "id": "nSZVn2YLJavS"
      },
      "execution_count": 23,
      "outputs": []
    },
    {
      "cell_type": "markdown",
      "source": [
        "**5. What are the two lines that your program must have in order to have logging.debug() send a\n",
        "logging message to a file named programLog.txt?**"
      ],
      "metadata": {
        "id": "dpt4Z3bYJPk1"
      }
    },
    {
      "cell_type": "code",
      "source": [
        "import logging\n",
        "logging.basicConfig(\n",
        "    filename='programLog.txt',\n",
        "    level=logging.DEBUG,\n",
        "    format='%(asctime)s - %(levelname)s - %(message)s'\n",
        ")"
      ],
      "metadata": {
        "id": "wYa0o8YvHH6d"
      },
      "execution_count": 21,
      "outputs": []
    },
    {
      "cell_type": "markdown",
      "source": [
        "**6. What are the five levels of logging?**"
      ],
      "metadata": {
        "id": "MvNcX3wtJjLG"
      }
    },
    {
      "cell_type": "markdown",
      "source": [
        "* logging.debug() - variable's state and small details\n",
        "* logging.info() - general events, confirm a program is working\n",
        "* logging.warning() - potiental problem to work on in the future\n",
        "* logging.error() - record an error that caused program to fail to do something\n",
        "* logging.critical() - fatal error that has caused"
      ],
      "metadata": {
        "id": "LfC3j3s2JqAc"
      }
    },
    {
      "cell_type": "markdown",
      "source": [
        "**7. What line of code would you add to your software to disable all logging messages?**"
      ],
      "metadata": {
        "id": "GNI1JLGrJ0t-"
      }
    },
    {
      "cell_type": "markdown",
      "source": [
        "logging.disable(logging.DEBUG)"
      ],
      "metadata": {
        "id": "ehfukBK2J6Fn"
      }
    },
    {
      "cell_type": "markdown",
      "source": [
        "**8.Why is using logging messages better than using print() to display the same message?**"
      ],
      "metadata": {
        "id": "whK3jZwkKD_a"
      }
    },
    {
      "cell_type": "markdown",
      "source": [
        "Logging defines what type of information you are inserting into your logs.\n",
        "You can get to know about what is happening in your code by viewing logs stored by logging. If print statements are written and we need to comment it when your application is production ready, whreas we can disable the logging in the settings."
      ],
      "metadata": {
        "id": "pS5ZjHElKVeO"
      }
    },
    {
      "cell_type": "markdown",
      "source": [
        "**9. What are the differences between the Step Over, Step In, and Step Out buttons in the debugger?**"
      ],
      "metadata": {
        "id": "0zi5U9FnLRhO"
      }
    },
    {
      "cell_type": "markdown",
      "source": [
        "* Step - one line execution at a time\n",
        "* Over - excecute the next line of code, but if it is a program, it will complete the entire function call.\n",
        "* out  - execute the lines of code unti it returns from the current function.\n"
      ],
      "metadata": {
        "id": "T79eTpyILejy"
      }
    },
    {
      "cell_type": "markdown",
      "source": [
        "**10.After you click Continue, when will the debugger stop ?**"
      ],
      "metadata": {
        "id": "ZYlshGChLpfC"
      }
    },
    {
      "cell_type": "markdown",
      "source": [
        "runs until the program terminate or reaches a breakpoint set."
      ],
      "metadata": {
        "id": "KVLZGl08Ly-l"
      }
    },
    {
      "cell_type": "markdown",
      "source": [
        "**11. What is the concept of a breakpoint?**"
      ],
      "metadata": {
        "id": "i4ksW9iVMKwe"
      }
    },
    {
      "cell_type": "markdown",
      "source": [
        "The Python breakpoint() built-in function is a tool that allows developers to set points in code at which a debugger is called"
      ],
      "metadata": {
        "id": "otAQF9aGMLds"
      }
    }
  ]
}