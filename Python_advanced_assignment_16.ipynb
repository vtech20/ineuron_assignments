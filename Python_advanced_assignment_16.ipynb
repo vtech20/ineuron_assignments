{
 "cells": [
  {
   "cell_type": "markdown",
   "id": "9c154620",
   "metadata": {},
   "source": [
    "Q1. What is the benefit of regular expressions?"
   ]
  },
  {
   "cell_type": "markdown",
   "id": "3d7f960d",
   "metadata": {},
   "source": [
    "Regular expressions are the key to powerful, flexible, and efficient text processing. Regular expressions themselves, with a general pattern notation almost like a mini programming language, allow you to describe and parse text."
   ]
  },
  {
   "cell_type": "markdown",
   "id": "add05a3d",
   "metadata": {},
   "source": [
    "Q2. Describe the difference between the effects of &quot;(ab)c+&quot; and &quot;a(bc)+.&quot; Which of these, if any, is the unqualified pattern &quot;abc+&quot;?"
   ]
  },
  {
   "cell_type": "markdown",
   "id": "45beef5f",
   "metadata": {},
   "source": [
    "abc+ and (ab)c+ are same. a(ab)+ is unqualified pattern"
   ]
  },
  {
   "cell_type": "markdown",
   "id": "4964899e",
   "metadata": {},
   "source": [
    "Q3. How much do you need to use the following sentence while using regular expressions?"
   ]
  },
  {
   "cell_type": "markdown",
   "id": "c10e1024",
   "metadata": {},
   "source": [
    "always need to use in a module to import re functionality"
   ]
  },
  {
   "cell_type": "markdown",
   "id": "3f8f8a32",
   "metadata": {},
   "source": [
    "Q4. Which characters have special significance in square brackets when expressing a range, and\n",
    "under what circumstances?"
   ]
  },
  {
   "cell_type": "markdown",
   "id": "e576020d",
   "metadata": {},
   "source": [
    "^ has a special significance. Specifies all the characters that are not in the set will be matched.\n",
    "\t\\  allow to match ][ as  literal [] loses special meaning\n",
    "\tSpecial characters lose their special meaning inside sets. For example, [(+*)] will match any of the literal characters '(', '+', '*', or ')'.\n"
   ]
  },
  {
   "cell_type": "markdown",
   "id": "9121ee74",
   "metadata": {},
   "source": [
    "Q5. How does compiling a regular-expression object benefit you?"
   ]
  },
  {
   "cell_type": "markdown",
   "id": "657e24fe",
   "metadata": {},
   "source": [
    "We can combine a regular expression pattern into pattern objects, which can be used for pattern matching. It also helps to search a pattern again without rewriting it."
   ]
  },
  {
   "cell_type": "markdown",
   "id": "77bd663f",
   "metadata": {},
   "source": [
    "Q6. What are some examples of how to use the match object returned by re.match and re.search?"
   ]
  },
  {
   "cell_type": "markdown",
   "id": "4d2c7bda",
   "metadata": {},
   "source": [
    "re.match(pattern, string, flags=0)\n",
    "\n",
    "\tex. \t\n",
    "    \n",
    "    import re\n",
    "\t\tre.match ('\\wo','dog')\n",
    "\t\t<re.Match object; span=(0, 2), match='do'>\n",
    "        \n",
    "m = re.match(r\"(\\w+) (\\w+)\", \"Isaac Newton, physicist\")\n",
    "\n",
    "m[0]\n",
    "\n",
    "'Isaac Newton’\n",
    "\n",
    "m[1]\n",
    "\n",
    "'Isaac'\n",
    "\n",
    "m[2]\n",
    "\n",
    "'Newton'\n"
   ]
  },
  {
   "cell_type": "markdown",
   "id": "20d411a3",
   "metadata": {},
   "source": [
    "Q7. What is the difference between using a vertical bar (|) as an alteration and using square brackets\n",
    "as a character set?\n"
   ]
  },
  {
   "cell_type": "markdown",
   "id": "88dc11b6",
   "metadata": {},
   "source": [
    ":  ‘|’ creates a regular expression that will match either the character on right or left of | (vertical bar). Its a non greedy operator. Using square bracket | will be literal that can be matched in the string."
   ]
  },
  {
   "cell_type": "markdown",
   "id": "9a060366",
   "metadata": {},
   "source": [
    "Q8. In regular-expression search patterns, why is it necessary to use the raw-string indicator (r)? In  \n",
    "replacement strings?\n"
   ]
  },
  {
   "cell_type": "markdown",
   "id": "6d2cf849",
   "metadata": {},
   "source": [
    "Regular Expressions usually contain a lot of backslashes(\\). When using Python's “re” module , regular expressions are represented as strings. So, like all strings with a lot of backslashes, they are more readable when written in raw literal form"
   ]
  },
  {
   "cell_type": "code",
   "execution_count": null,
   "id": "13b17ea2",
   "metadata": {},
   "outputs": [],
   "source": []
  }
 ],
 "metadata": {
  "kernelspec": {
   "display_name": "Python 3 (ipykernel)",
   "language": "python",
   "name": "python3"
  },
  "language_info": {
   "codemirror_mode": {
    "name": "ipython",
    "version": 3
   },
   "file_extension": ".py",
   "mimetype": "text/x-python",
   "name": "python",
   "nbconvert_exporter": "python",
   "pygments_lexer": "ipython3",
   "version": "3.9.12"
  }
 },
 "nbformat": 4,
 "nbformat_minor": 5
}
