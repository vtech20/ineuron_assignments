{
  "nbformat": 4,
  "nbformat_minor": 0,
  "metadata": {
    "colab": {
      "name": "Assignment_4_SQL.ipynb",
      "provenance": [],
      "collapsed_sections": []
    },
    "kernelspec": {
      "name": "python3",
      "display_name": "Python 3"
    },
    "language_info": {
      "name": "python"
    }
  },
  "cells": [
    {
      "cell_type": "markdown",
      "source": [
        "**Q-1. Write an SQL query to print the FIRST_NAME from Worker table after replacing ‘a’\n",
        "with ‘A’.**"
      ],
      "metadata": {
        "id": "Xr2w6muUG7Vn"
      }
    },
    {
      "cell_type": "markdown",
      "source": [
        "Select REPLACE(FIRST_NAME,'a','A') from Worker;"
      ],
      "metadata": {
        "id": "mJjiCk8NHlb_"
      }
    },
    {
      "cell_type": "markdown",
      "source": [
        "**Q-2. Write an SQL query to print all Worker details from the Worker table order by\n",
        "FIRST_NAME Ascending and DEPARTMENT Descending.**"
      ],
      "metadata": {
        "id": "YNy6GfSTHo2F"
      }
    },
    {
      "cell_type": "markdown",
      "source": [
        "Select * from Worker order by FIRST_NAME asc,DEPARTMENT desc;"
      ],
      "metadata": {
        "id": "ig3F35rSISPd"
      }
    },
    {
      "cell_type": "markdown",
      "source": [
        "**Q-3. Write an SQL query to fetch the names of workers who earn the highest salary.**"
      ],
      "metadata": {
        "id": "jGhemqmNHvU_"
      }
    },
    {
      "cell_type": "markdown",
      "source": [
        "SELECT t.DEPARTMENT,t.FIRST_NAME,t.Salary from(SELECT max(Salary) as TotalSalary,DEPARTMENT from Worker group by DEPARTMENT) as TempNew \n",
        "Inner Join Worker t on TempNew.DEPARTMENT=t.DEPARTMENT \n",
        " and TempNew.TotalSalary=t.Salary;"
      ],
      "metadata": {
        "id": "LEDMHhZfIXK8"
      }
    },
    {
      "cell_type": "code",
      "execution_count": null,
      "metadata": {
        "id": "p76cnW0GG24Y"
      },
      "outputs": [],
      "source": [
        ""
      ]
    }
  ]
}