{
 "cells": [
  {
   "cell_type": "markdown",
   "metadata": {},
   "source": [
    "**1. What is the purpose of Python&#39;s OOP?**"
   ]
  },
  {
   "cell_type": "markdown",
   "metadata": {},
   "source": [
    "Object Oriented programming is a method of maintaining a program by binding the properties and behaviours into individual objects. it aims to implement inheritance, polymorphism, encapsulation into the program using the properties and behaviours."
   ]
  },
  {
   "cell_type": "markdown",
   "metadata": {},
   "source": [
    "**2. Where does an inheritance search look for an attribute?**"
   ]
  },
  {
   "cell_type": "markdown",
   "metadata": {},
   "source": [
    "Inheritance search will look for an attribute in the attribute definition tree."
   ]
  },
  {
   "cell_type": "markdown",
   "metadata": {},
   "source": [
    "**3. How do you distinguish between a class object and an instance object?**"
   ]
  },
  {
   "cell_type": "markdown",
   "metadata": {},
   "source": [
    "class object is like a blueprint for intance object but instance object is a concrete item in out code. Instance object inherits the attributes of the class object. "
   ]
  },
  {
   "cell_type": "markdown",
   "metadata": {},
   "source": [
    "**4. What makes the first argument in a class’s method function special?**"
   ]
  },
  {
   "cell_type": "markdown",
   "metadata": {},
   "source": [
    "The first argument in a class's method must be the object itself. It is commonly written as \"self\" but there is no such rule that it should always be \"self\". The object should be represented by some variable name thats it."
   ]
  },
  {
   "cell_type": "markdown",
   "metadata": {},
   "source": [
    "**5. What is the purpose of the '\\_\\_init_\\_\\' method?**"
   ]
  },
  {
   "cell_type": "markdown",
   "metadata": {},
   "source": [
    "'\\_\\_init_\\_\\' is a constructor. it is used to intialize values to the data member of the class when an object of the class is created "
   ]
  },
  {
   "cell_type": "markdown",
   "metadata": {},
   "source": [
    "**6. What is the process for creating a class instance?**"
   ]
  },
  {
   "cell_type": "markdown",
   "metadata": {},
   "source": [
    "To create instances of a class, you call the class using class name and pass in whatever arguments its \\_\\_init_\\_ method accepts"
   ]
  },
  {
   "cell_type": "code",
   "execution_count": 1,
   "metadata": {},
   "outputs": [],
   "source": [
    "class employee:\n",
    "    def __init__(self, name):\n",
    "        self.name = name\n",
    "    \n",
    "    def print_name(self):\n",
    "        print(f\"The name of the employee is {self.name}\")"
   ]
  },
  {
   "cell_type": "code",
   "execution_count": 2,
   "metadata": {},
   "outputs": [
    {
     "name": "stdout",
     "output_type": "stream",
     "text": [
      "The name of the employee is Vignesh\n"
     ]
    }
   ],
   "source": [
    "e = employee(\"Vignesh\")\n",
    "e.print_name()"
   ]
  },
  {
   "cell_type": "markdown",
   "metadata": {},
   "source": [
    "**7. What is the process for creating a class?**"
   ]
  },
  {
   "cell_type": "markdown",
   "metadata": {},
   "source": [
    "We can create a class using the class keyword followed by name of the class then \":\". Then if we need to have an instance of it we have to create \"\\_\\_init_\\_\\\" constructor. if a class requires an instance method, then we have create the method with the first argument as object itself. Example as below\n",
    "\n"
   ]
  },
  {
   "cell_type": "code",
   "execution_count": 6,
   "metadata": {},
   "outputs": [],
   "source": [
    "class student:\n",
    "    def __init__(self, name, age):\n",
    "        self.name = name\n",
    "        self.age = age\n",
    "    \n",
    "    def print_name_age(self):\n",
    "        print(f\"The name of the student is {self.name}\")\n",
    "        print(f\"The age of the {self.name} is {self.age}\")"
   ]
  },
  {
   "cell_type": "code",
   "execution_count": 7,
   "metadata": {},
   "outputs": [
    {
     "name": "stdout",
     "output_type": "stream",
     "text": [
      "The name of the student is Vijay\n",
      "The age of the Vijay is 18\n"
     ]
    }
   ],
   "source": [
    "s = student(\"Vijay\",18)\n",
    "s.print_name_age()"
   ]
  },
  {
   "cell_type": "markdown",
   "metadata": {},
   "source": [
    "**8. How would you define the superclasses of a class?**"
   ]
  },
  {
   "cell_type": "markdown",
   "metadata": {},
   "source": [
    "The class from which a class inherits is called the parent or superclass. A class which inherits from a superclass is called a subclass"
   ]
  },
  {
   "cell_type": "code",
   "execution_count": 8,
   "metadata": {},
   "outputs": [],
   "source": [
    "class Robot:\n",
    "    def __init__(self, name):\n",
    "        self.name = name\n",
    "    def say_hi(self):\n",
    "        print(\"Hi, I am \" + self.name)\n",
    "class PhysicianRobot(Robot):\n",
    "    pass"
   ]
  },
  {
   "cell_type": "code",
   "execution_count": 9,
   "metadata": {},
   "outputs": [
    {
     "name": "stdout",
     "output_type": "stream",
     "text": [
      "Hi, I am Alex\n"
     ]
    }
   ],
   "source": [
    "pr = PhysicianRobot(\"Alex\")\n",
    "pr.say_hi()"
   ]
  },
  {
   "cell_type": "code",
   "execution_count": null,
   "metadata": {},
   "outputs": [],
   "source": []
  }
 ],
 "metadata": {
  "kernelspec": {
   "display_name": "Python 3.8.1 32-bit",
   "language": "python",
   "name": "python3"
  },
  "language_info": {
   "codemirror_mode": {
    "name": "ipython",
    "version": 3
   },
   "file_extension": ".py",
   "mimetype": "text/x-python",
   "name": "python",
   "nbconvert_exporter": "python",
   "pygments_lexer": "ipython3",
   "version": "3.8.1"
  },
  "orig_nbformat": 4,
  "vscode": {
   "interpreter": {
    "hash": "6d1e45cadc3597bb8b6600530fbdf8c3eefe919a24ef54d9d32b318795b772e0"
   }
  }
 },
 "nbformat": 4,
 "nbformat_minor": 2
}
