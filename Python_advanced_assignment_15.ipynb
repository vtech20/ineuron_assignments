{
 "cells": [
  {
   "cell_type": "markdown",
   "id": "4650dc5f",
   "metadata": {},
   "source": [
    "**1.What are the new features added in Python 3.8 version?**"
   ]
  },
  {
   "cell_type": "markdown",
   "id": "d79ae6a1",
   "metadata": {},
   "source": [
    "Assignment expressions := hat assigns values to variables as part of larger expression.\n",
    "\n",
    "Position only parameters - \n",
    "\n",
    "Avoid calling expression twice\n",
    "e.g. a and b are positional-only, while c and d can be positional or keyword, and e or f are required to be keywords.\n",
    "def f(a, b, /, c, d, *, e, f):\n",
    "    print(a, b, c, d, e, f)\n",
    "\n",
    "Parallel filesystem cache for compiled bytecode files\n",
    "\n",
    "f-strings support = for self-documenting expressions and debugging"
   ]
  },
  {
   "cell_type": "markdown",
   "id": "16262419",
   "metadata": {},
   "source": [
    "**2. What is monkey patching in Python?**"
   ]
  },
  {
   "cell_type": "markdown",
   "id": "1cc65793",
   "metadata": {},
   "source": [
    "In Python, the term monkey patch refers to dynamic (or run-time) modifications of a class or module. In Python, we can actually change the behavior of code at run-time.\n"
   ]
  },
  {
   "cell_type": "code",
   "execution_count": 1,
   "id": "818b247c",
   "metadata": {},
   "outputs": [
    {
     "ename": "ModuleNotFoundError",
     "evalue": "No module named 'monk'",
     "output_type": "error",
     "traceback": [
      "\u001b[1;31m---------------------------------------------------------------------------\u001b[0m",
      "\u001b[1;31mModuleNotFoundError\u001b[0m                       Traceback (most recent call last)",
      "Input \u001b[1;32mIn [1]\u001b[0m, in \u001b[0;36m<cell line: 8>\u001b[1;34m()\u001b[0m\n\u001b[0;32m      4\u001b[0m         \u001b[38;5;28mprint\u001b[39m (\u001b[38;5;124m\"\u001b[39m\u001b[38;5;124mfunc() is being called\u001b[39m\u001b[38;5;124m\"\u001b[39m)\n\u001b[0;32m      6\u001b[0m \u001b[38;5;66;03m#We use above module (monk) in below code and change behavior of func() at run-time by assigning different value.\u001b[39;00m\n\u001b[1;32m----> 8\u001b[0m \u001b[38;5;28;01mimport\u001b[39;00m \u001b[38;5;21;01mmonk\u001b[39;00m\n\u001b[0;32m      9\u001b[0m \u001b[38;5;28;01mdef\u001b[39;00m \u001b[38;5;21mmonkey_f\u001b[39m(\u001b[38;5;28mself\u001b[39m):\n\u001b[0;32m     10\u001b[0m      \u001b[38;5;28mprint\u001b[39m (\u001b[38;5;124m\"\u001b[39m\u001b[38;5;124mmonkey_f() is being called\u001b[39m\u001b[38;5;124m\"\u001b[39m)\n",
      "\u001b[1;31mModuleNotFoundError\u001b[0m: No module named 'monk'"
     ]
    }
   ],
   "source": [
    "# monk.py\n",
    "class A:\n",
    "     def func(self):\n",
    "        print (\"func() is being called\")\n",
    "\n",
    "#We use above module (monk) in below code and change behavior of func() at run-time by assigning different value.\n",
    "\n",
    "import monk\n",
    "def monkey_f(self):\n",
    "     print (\"monkey_f() is being called\")\n",
    "\n",
    "#replacing address of \"func\" with \"monkey_f\"\n",
    "monk.A.func = monkey_f\n",
    "obj = monk.A()\n",
    "  \n",
    "# calling function \"func\" whose address got replaced\n",
    "# with function \"monkey_f()\"\n",
    "obj.func()\n",
    "\n",
    "#Output :monkey_f() is being called"
   ]
  },
  {
   "cell_type": "markdown",
   "id": "acd78923",
   "metadata": {},
   "source": [
    "**3. What is the difference between a shallow copy and deep copy?**"
   ]
  },
  {
   "cell_type": "markdown",
   "id": "fc8c042c",
   "metadata": {},
   "source": [
    "Shallow copy is created by reference or assignment operator. The show copy create a new reference to the same namespace. Whereas deep copy copy create a new copy with new namespace wherein the changes in one doesn’t affect the other copy"
   ]
  },
  {
   "cell_type": "markdown",
   "id": "36a08639",
   "metadata": {},
   "source": [
    "**4. What is the maximum possible length of an identifier?**"
   ]
  },
  {
   "cell_type": "markdown",
   "id": "b083b0e3",
   "metadata": {},
   "source": [
    "An identifier can have a maximum length of 79 characters in Python. Python is one of the most popular programming languages"
   ]
  },
  {
   "cell_type": "markdown",
   "id": "e4a04c35",
   "metadata": {},
   "source": [
    "**5. What is generator comprehension?**"
   ]
  },
  {
   "cell_type": "markdown",
   "id": "a7454664",
   "metadata": {},
   "source": [
    "A generator comprehension is a single-line specification for defining a generator in Python"
   ]
  },
  {
   "cell_type": "code",
   "execution_count": null,
   "id": "4d30b83e",
   "metadata": {},
   "outputs": [],
   "source": []
  }
 ],
 "metadata": {
  "kernelspec": {
   "display_name": "Python 3 (ipykernel)",
   "language": "python",
   "name": "python3"
  },
  "language_info": {
   "codemirror_mode": {
    "name": "ipython",
    "version": 3
   },
   "file_extension": ".py",
   "mimetype": "text/x-python",
   "name": "python",
   "nbconvert_exporter": "python",
   "pygments_lexer": "ipython3",
   "version": "3.9.12"
  }
 },
 "nbformat": 4,
 "nbformat_minor": 5
}
