{
 "cells": [
  {
   "cell_type": "markdown",
   "id": "92cf9693",
   "metadata": {},
   "source": [
    "Question 1:\n",
    "\n",
    "Define a class with a generator which can iterate the numbers, which are divisible by\n",
    "7, between a given range 0 and n.\n"
   ]
  },
  {
   "cell_type": "code",
   "execution_count": 2,
   "id": "71bf8626",
   "metadata": {},
   "outputs": [
    {
     "name": "stdout",
     "output_type": "stream",
     "text": [
      "0\n",
      "7\n",
      "14\n",
      "21\n",
      "28\n",
      "35\n",
      "42\n",
      "49\n",
      "56\n",
      "63\n",
      "70\n",
      "77\n",
      "84\n",
      "91\n",
      "98\n"
     ]
    }
   ],
   "source": [
    "class iterator(object):\n",
    "    \"\"\"docstring for iterator\"\"\"\n",
    "    def __init__(self, n):\n",
    "        super(iterator, self).__init__()\n",
    "        self.n = n\n",
    "\n",
    "    def divBySeven(self):\n",
    "        for i in range(0, self.n):\n",
    "            if i % 7 == 0:\n",
    "                yield i\n",
    "\n",
    "for num in iterator(100).divBySeven():\n",
    "    print(num)"
   ]
  },
  {
   "cell_type": "markdown",
   "id": "4567c8ec",
   "metadata": {},
   "source": [
    "Question 2:\n",
    "\n",
    "Write a program to compute the frequency of the words from the input. \n",
    "\n",
    "The output should output after sorting the key alphanumerically.\n",
    "\n",
    "Suppose the following input is supplied to the program:\n",
    "\n",
    "New to Python or choosing between Python 2 and Python 3? Read Python 2 or Python 3.\n",
    "\n",
    "Then, the output should be:\n",
    "\n",
    "2:2\n",
    "3.:1\n",
    "3?:1\n",
    "New:1\n",
    "Python:5\n",
    "Read:1\n",
    "and:1\n",
    "between:1\n",
    "choosing:1\n",
    "or:2\n",
    "to:1"
   ]
  },
  {
   "cell_type": "code",
   "execution_count": 3,
   "id": "55fc5375",
   "metadata": {},
   "outputs": [
    {
     "name": "stdout",
     "output_type": "stream",
     "text": [
      "{'2': 2, '3.': 1, '3?': 1, 'New': 1, 'Python': 5, 'Read': 1, 'and': 1, 'between': 1, 'choosing': 1, 'or': 2, 'to': 1}\n"
     ]
    }
   ],
   "source": [
    "def frequency_words(str1):\n",
    "    lst1 = str1.split(\" \")\n",
    "    lst1.sort()\n",
    "    output_dict = {}\n",
    "    for i in lst1:\n",
    "        if i in output_dict:\n",
    "            output_dict[i] += 1\n",
    "        else:\n",
    "            output_dict[i] = 1\n",
    "    print(output_dict)\n",
    "\n",
    "frequency_words(\"New to Python or choosing between Python 2 and Python 3? Read Python 2 or Python 3.\")    "
   ]
  },
  {
   "cell_type": "markdown",
   "id": "b285c6e6",
   "metadata": {},
   "source": [
    "Question 3:\n",
    "\n",
    "Define a class Person and its two child classes: Male and Female. All classes have a\n",
    "method &quot;getGender&quot; which can print &quot;Male&quot; for Male class and &quot;Female&quot; for Female\n",
    "class."
   ]
  },
  {
   "cell_type": "code",
   "execution_count": 4,
   "id": "6451940c",
   "metadata": {},
   "outputs": [],
   "source": [
    "class person:\n",
    "    pass\n",
    "class Male(person):\n",
    "    def getGender(self):\n",
    "        print(\"Male\")\n",
    "\n",
    "class Female(person):\n",
    "    def getGender(self):\n",
    "        print(\"Female\")"
   ]
  },
  {
   "cell_type": "code",
   "execution_count": 5,
   "id": "ddc2213e",
   "metadata": {},
   "outputs": [],
   "source": [
    "p = person()"
   ]
  },
  {
   "cell_type": "code",
   "execution_count": 6,
   "id": "4bcf411f",
   "metadata": {},
   "outputs": [],
   "source": [
    "m = Male()"
   ]
  },
  {
   "cell_type": "code",
   "execution_count": 7,
   "id": "dfa9c103",
   "metadata": {},
   "outputs": [
    {
     "name": "stdout",
     "output_type": "stream",
     "text": [
      "Male\n"
     ]
    }
   ],
   "source": [
    "m.getGender()"
   ]
  },
  {
   "cell_type": "markdown",
   "id": "3fc5934d",
   "metadata": {},
   "source": [
    "Question 4:\n",
    "\n",
    "Please write a program to generate all sentences where subject is in [&quot;I&quot;, &quot;You&quot;] and\n",
    "\n",
    "verb is in [&quot;Play&quot;, &quot;Love&quot;] and the object is in [&quot;Hockey&quot;,&quot;Football&quot;]."
   ]
  },
  {
   "cell_type": "code",
   "execution_count": 8,
   "id": "d42827cc",
   "metadata": {},
   "outputs": [
    {
     "name": "stdout",
     "output_type": "stream",
     "text": [
      "I Play Hockey\n",
      "I Play Football\n",
      "I Love Hockey\n",
      "I Love Football\n",
      "You Play Hockey\n",
      "You Play Football\n",
      "You Love Hockey\n",
      "You Love Football\n"
     ]
    }
   ],
   "source": [
    "subject = [\"I\", \"You\"]\n",
    "verb = [\"Play\", \"Love\"]\n",
    "objects = [\"Hockey\",\"Football\"]\n",
    "\n",
    "for i in subject:\n",
    "    for j in verb:\n",
    "        for k in objects:\n",
    "            print(i,j,k, sep = \" \")\n"
   ]
  },
  {
   "cell_type": "markdown",
   "id": "f52f54da",
   "metadata": {},
   "source": [
    "Question 5:\n",
    "\n",
    "Please write a program to compress and decompress the string &quot;hello world!hello\n",
    "world!hello world!hello world!&quot;."
   ]
  },
  {
   "cell_type": "code",
   "execution_count": 9,
   "id": "d6854a6b",
   "metadata": {},
   "outputs": [
    {
     "name": "stdout",
     "output_type": "stream",
     "text": [
      "b'hello world!hello world!hello world!hello world!'\n"
     ]
    }
   ],
   "source": [
    "s = b'hello world!hello world!hello world!hello world!'\n",
    "\n",
    "import gzip\n",
    "t =gzip.compress(s)\n",
    "print(gzip.decompress(t))"
   ]
  },
  {
   "cell_type": "markdown",
   "id": "fb9bb252",
   "metadata": {},
   "source": [
    "Question 6:\n",
    "\n",
    "Please write a binary search function which searches an item in a sorted list. The\n",
    "function should return the index of element to be searched in the list."
   ]
  },
  {
   "cell_type": "code",
   "execution_count": 13,
   "id": "ad59bb31",
   "metadata": {},
   "outputs": [],
   "source": [
    "def findValue(numbers, number_to_find):\n",
    "    low = 0\n",
    "    high = len(numbers) - 1\n",
    "\n",
    "    while low <= high:\n",
    "        middle = low + (high - low) // 2\n",
    "\n",
    "        if numbers[middle] == number_to_find:\n",
    "            return middle\n",
    "        elif numbers[middle] < number_to_find:\n",
    "            low = middle + 1\n",
    "        else:\n",
    "            high = middle - 1\n",
    "    return -1"
   ]
  },
  {
   "cell_type": "code",
   "execution_count": 14,
   "id": "eb4add68",
   "metadata": {},
   "outputs": [
    {
     "name": "stdout",
     "output_type": "stream",
     "text": [
      "The number 22 was found at index position 3.\n"
     ]
    }
   ],
   "source": [
    "numbers = [7, 9, 14, 22, 34]\n",
    "number_to_find = 22\n",
    "\n",
    "final = findValue(numbers, number_to_find)\n",
    "\n",
    "if final == -1:\n",
    "    print(\"This item was not found in the list.\")\n",
    "else:\n",
    "    print(\"The number \" + str(number_to_find) + \" was found at index position \" + str(final) + \".\")"
   ]
  },
  {
   "cell_type": "code",
   "execution_count": null,
   "id": "4f392a74",
   "metadata": {},
   "outputs": [],
   "source": []
  }
 ],
 "metadata": {
  "kernelspec": {
   "display_name": "Python 3 (ipykernel)",
   "language": "python",
   "name": "python3"
  },
  "language_info": {
   "codemirror_mode": {
    "name": "ipython",
    "version": 3
   },
   "file_extension": ".py",
   "mimetype": "text/x-python",
   "name": "python",
   "nbconvert_exporter": "python",
   "pygments_lexer": "ipython3",
   "version": "3.9.12"
  }
 },
 "nbformat": 4,
 "nbformat_minor": 5
}
