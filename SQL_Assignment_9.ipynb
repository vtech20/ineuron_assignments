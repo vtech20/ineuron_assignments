{
 "cells": [
  {
   "cell_type": "markdown",
   "id": "91a0da24",
   "metadata": {},
   "source": [
    "**Q-17. Write an SQL query to show the top n (say 10) records of a table.**"
   ]
  },
  {
   "cell_type": "markdown",
   "id": "8044a9a4",
   "metadata": {},
   "source": [
    "SELECT * FROM <table> LIMIT 10;"
   ]
  },
  {
   "cell_type": "markdown",
   "id": "f21a22c8",
   "metadata": {},
   "source": [
    "**Q-18. Write an SQL query to determine the nth (say n=5) highest salary from a table.**"
   ]
  },
  {
   "cell_type": "markdown",
   "id": "0dc81c79",
   "metadata": {},
   "source": [
    "SELECT * FROM(\n",
    "SELECT emp_name, salary, ROW_NUMBER() \n",
    "over(ORDER BY salary DESC) AS ranking FROM employee) AS k\n",
    "WHERE ranking=5;"
   ]
  },
  {
   "cell_type": "markdown",
   "id": "f24b3384",
   "metadata": {},
   "source": []
  },
  {
   "cell_type": "markdown",
   "id": "ec31dea5",
   "metadata": {},
   "source": []
  }
 ],
 "metadata": {
  "kernelspec": {
   "display_name": "Python 3 (ipykernel)",
   "language": "python",
   "name": "python3"
  },
  "language_info": {
   "codemirror_mode": {
    "name": "ipython",
    "version": 3
   },
   "file_extension": ".py",
   "mimetype": "text/x-python",
   "name": "python",
   "nbconvert_exporter": "python",
   "pygments_lexer": "ipython3",
   "version": "3.9.12"
  }
 },
 "nbformat": 4,
 "nbformat_minor": 5
}
