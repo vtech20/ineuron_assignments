{
  "nbformat": 4,
  "nbformat_minor": 0,
  "metadata": {
    "colab": {
      "name": "ASSIGNMENT_3_SQL.ipynb",
      "provenance": [],
      "collapsed_sections": []
    },
    "kernelspec": {
      "name": "python3",
      "display_name": "Python 3"
    },
    "language_info": {
      "name": "python"
    }
  },
  "cells": [
    {
      "cell_type": "markdown",
      "source": [
        "**Q-1. Write an SQL query to print the FIRST_NAME from Worker table after removing\n",
        "white spaces from the right side.**"
      ],
      "metadata": {
        "id": "75PuDYgtbp1i"
      }
    },
    {
      "cell_type": "markdown",
      "source": [
        "SELECT RTRIM(FIRST_NAME) FROM WORKER"
      ],
      "metadata": {
        "id": "Ykil8KK9byJM"
      }
    },
    {
      "cell_type": "markdown",
      "source": [
        "**Q-2. Write an SQL query that fetches the unique values of DEPARTMENT from Worker\n",
        "table and prints its length.**"
      ],
      "metadata": {
        "id": "rjpCfykMcFdj"
      }
    },
    {
      "cell_type": "markdown",
      "source": [
        "SELECT DISTINCT LENGTH(DEPARTMENT) FROM WORKER"
      ],
      "metadata": {
        "id": "4tnGIctXcK1C"
      }
    },
    {
      "cell_type": "markdown",
      "source": [
        "**Q-3. Write an SQL query to fetch nth max salaries from a table.**"
      ],
      "metadata": {
        "id": "uKcCdBB6cVrS"
      }
    },
    {
      "cell_type": "markdown",
      "source": [
        "SELECT * FROM (SELECT SALARY, DENSE_RANK() OVER(ORDER BY SALARY DESC) R FROM WORKER) WHERE R=&N;"
      ],
      "metadata": {
        "id": "tWeI5zVocaba"
      }
    },
    {
      "cell_type": "code",
      "source": [
        ""
      ],
      "metadata": {
        "id": "dxzADKVJcVQQ"
      },
      "execution_count": null,
      "outputs": []
    },
    {
      "cell_type": "code",
      "execution_count": null,
      "metadata": {
        "id": "xMsbQQkE0H-8"
      },
      "outputs": [],
      "source": [
        ""
      ]
    }
  ]
}